{
 "cells": [
  {
   "cell_type": "code",
   "execution_count": 1,
   "metadata": {},
   "outputs": [],
   "source": [
    "from bertopic import BERTopic\n",
    "from sklearn.datasets import fetch_20newsgroups\n",
    "from sentence_transformers import SentenceTransformer\n",
    "from umap import UMAP\n",
    "from scipy.cluster import hierarchy as sch\n",
    "from hdbscan import HDBSCAN\n",
    "import numpy as np\n",
    "import pandas as pd\n",
    "\n",
    "from sklearn.metrics.pairwise import cosine_similarity\n",
    "from scipy.cluster import hierarchy\n",
    "from scipy.spatial.distance import squareform\n",
    "\n",
    "docs = fetch_20newsgroups(subset='all',\n",
    "                          remove=('headers', 'footers', 'quotes'))['data']"
   ]
  },
  {
   "attachments": {},
   "cell_type": "markdown",
   "metadata": {},
   "source": [
    "# 923 - 1 "
   ]
  },
  {
   "cell_type": "code",
   "execution_count": 2,
   "metadata": {},
   "outputs": [
    {
     "data": {
      "application/vnd.jupyter.widget-view+json": {
       "model_id": "49279dfe987a4d8598956c4023a956fa",
       "version_major": 2,
       "version_minor": 0
      },
      "text/plain": [
       "Batches:   0%|          | 0/589 [00:00<?, ?it/s]"
      ]
     },
     "metadata": {},
     "output_type": "display_data"
    },
    {
     "name": "stderr",
     "output_type": "stream",
     "text": [
      "100%|██████████| 234/234 [00:12<00:00, 18.93it/s]\n"
     ]
    },
    {
     "data": {
      "application/vnd.plotly.v1+json": {
       "config": {
        "plotlyServerURL": "https://plot.ly"
       },
       "data": [
        {
         "hoverinfo": "text",
         "marker": {
          "color": "rgb(61,153,112)"
         },
         "mode": "lines",
         "text": [
          "server_lib x11 fonts_x11 fonts_fonts_x11r5",
          "",
          "",
          "lib_ndet_loop_libxmu_lib xmu_xmu"
         ],
         "type": "scatter",
         "x": [
          15,
          15,
          25,
          25
         ],
         "xaxis": "x",
         "y": [
          0,
          0.9100054644531429,
          0.9100054644531429,
          0
         ],
         "yaxis": "y"
        },
        {
         "hoverinfo": "text",
         "marker": {
          "color": "rgb(61,153,112)"
         },
         "mode": "lines",
         "text": [
          "shared memory_memory_shared_graphic_display_server",
          "",
          "",
          "lib_ndet_loop_libxmu_error_lib xmu"
         ],
         "type": "scatter",
         "x": [
          5,
          5,
          20,
          20
         ],
         "xaxis": "x",
         "y": [
          0,
          0.9758888300787645,
          0.9758888300787645,
          0.9100054644531429
         ],
         "yaxis": "y"
        },
        {
         "hoverinfo": "text",
         "marker": {
          "color": "rgb(255,65,54)"
         },
         "mode": "lines",
         "text": [
          "xv_image_copyright_author_donation",
          "",
          "",
          "xio_visual_24_24 bit_ximage"
         ],
         "type": "scatter",
         "x": [
          35,
          35,
          45,
          45
         ],
         "xaxis": "x",
         "y": [
          0,
          0.936730860330665,
          0.936730860330665,
          0
         ],
         "yaxis": "y"
        },
        {
         "hoverinfo": "text",
         "marker": {
          "color": "rgb(0,116,217)"
         },
         "mode": "lines",
         "text": [
          "lib_ndet_loop_libxmu_error_lib xmu",
          "",
          "",
          "xv_24 bit_image_bit_24"
         ],
         "type": "scatter",
         "x": [
          12.5,
          12.5,
          40,
          40
         ],
         "xaxis": "x",
         "y": [
          0.9758888300787645,
          1.006841002733873,
          1.006841002733873,
          0.936730860330665
         ],
         "yaxis": "y"
        },
        {
         "hoverinfo": "text",
         "marker": {
          "color": "rgb(35,205,205)"
         },
         "mode": "lines",
         "text": [
          "colormap_color_dpy_colors_lut_index",
          "",
          "",
          "window_mydisplay_expose_window manager_main_win"
         ],
         "type": "scatter",
         "x": [
          55,
          55,
          65,
          65
         ],
         "xaxis": "x",
         "y": [
          0,
          0.8978030022455364,
          0.8978030022455364,
          0
         ],
         "yaxis": "y"
        },
        {
         "hoverinfo": "text",
         "marker": {
          "color": "rgb(35,205,205)"
         },
         "mode": "lines",
         "text": [
          "window_colormap_dpy_mydisplay_color",
          "",
          "",
          "widget_application_null_doit_value"
         ],
         "type": "scatter",
         "x": [
          60,
          60,
          75,
          75
         ],
         "xaxis": "x",
         "y": [
          0.8978030022455364,
          0.948504404942581,
          0.948504404942581,
          0
         ],
         "yaxis": "y"
        },
        {
         "hoverinfo": "text",
         "marker": {
          "color": "rgb(0,116,217)"
         },
         "mode": "lines",
         "text": [
          "lib_xv_error_ndet_loop_libxmu",
          "",
          "",
          "window_colormap_dpy_mydisplay_widget"
         ],
         "type": "scatter",
         "x": [
          26.25,
          26.25,
          67.5,
          67.5
         ],
         "xaxis": "x",
         "y": [
          1.006841002733873,
          1.0207747751587215,
          1.0207747751587215,
          0.948504404942581
         ],
         "yaxis": "y"
        },
        {
         "hoverinfo": "text",
         "marker": {
          "color": "rgb(133,20,75)"
         },
         "mode": "lines",
         "text": [
          "dos dos_dos dos dos_dos dos dos dos_dos_dos dos dos dos dos",
          "",
          "",
          "windows_os_window_motif_manager"
         ],
         "type": "scatter",
         "x": [
          85,
          85,
          95,
          95
         ],
         "xaxis": "x",
         "y": [
          0,
          0.8167754742534392,
          0.8167754742534392,
          0
         ],
         "yaxis": "y"
        },
        {
         "hoverinfo": "text",
         "marker": {
          "color": "rgb(133,20,75)"
         },
         "mode": "lines",
         "text": [
          "dos dos_dos_dos dos dos_dos dos dos dos_dos dos dos dos dos",
          "",
          "",
          "tar_plplot_imake_edu_available"
         ],
         "type": "scatter",
         "x": [
          90,
          90,
          105,
          105
         ],
         "xaxis": "x",
         "y": [
          0.8167754742534392,
          0.8653911870882202,
          0.8653911870882202,
          0
         ],
         "yaxis": "y"
        },
        {
         "hoverinfo": "text",
         "marker": {
          "color": "rgb(133,20,75)"
         },
         "mode": "lines",
         "text": [
          "dos dos_dos_dos dos dos_dos dos dos dos_dos dos dos dos dos",
          "",
          "",
          "motif_widgets_markus_list_bindings"
         ],
         "type": "scatter",
         "x": [
          97.5,
          97.5,
          115,
          115
         ],
         "xaxis": "x",
         "y": [
          0.8653911870882202,
          0.9307848504173624,
          0.9307848504173624,
          0
         ],
         "yaxis": "y"
        },
        {
         "hoverinfo": "text",
         "marker": {
          "color": "rgb(0,116,217)"
         },
         "mode": "lines",
         "text": [
          "window_lib_xv_error_ndet_loop",
          "",
          "",
          "dos dos_dos_dos dos dos_dos dos dos dos_dos dos dos dos dos"
         ],
         "type": "scatter",
         "x": [
          46.875,
          46.875,
          106.25,
          106.25
         ],
         "xaxis": "x",
         "y": [
          1.0207747751587215,
          1.0468274270395774,
          1.0468274270395774,
          0.9307848504173624
         ],
         "yaxis": "y"
        },
        {
         "hoverinfo": "text",
         "marker": {
          "color": "rgb(255,220,0)"
         },
         "mode": "lines",
         "text": [
          "windows_memory_emm386_swap_swap file",
          "",
          "",
          "dos_allocation_cross linked_allocation unit_linked allocation unit"
         ],
         "type": "scatter",
         "x": [
          145,
          145,
          155,
          155
         ],
         "xaxis": "x",
         "y": [
          0,
          0.9021512926711464,
          0.9021512926711464,
          0
         ],
         "yaxis": "y"
        },
        {
         "hoverinfo": "text",
         "marker": {
          "color": "rgb(255,220,0)"
         },
         "mode": "lines",
         "text": [
          "dos_command_windows_fullpath_file",
          "",
          "",
          "windows_dos_allocation_memory_cross linked"
         ],
         "type": "scatter",
         "x": [
          135,
          135,
          150,
          150
         ],
         "xaxis": "x",
         "y": [
          0,
          0.9344922085145698,
          0.9344922085145698,
          0.9021512926711464
         ],
         "yaxis": "y"
        },
        {
         "hoverinfo": "text",
         "marker": {
          "color": "rgb(255,220,0)"
         },
         "mode": "lines",
         "text": [
          "windows_dos_allocation_memory_cross linked",
          "",
          "",
          "ini_ini files_windows_program_program manager"
         ],
         "type": "scatter",
         "x": [
          142.5,
          142.5,
          165,
          165
         ],
         "xaxis": "x",
         "y": [
          0.9344922085145698,
          0.9427662508945448,
          0.9427662508945448,
          0
         ],
         "yaxis": "y"
        },
        {
         "hoverinfo": "text",
         "marker": {
          "color": "rgb(255,220,0)"
         },
         "mode": "lines",
         "text": [
          "mouse_driver_windows_mice_ball",
          "",
          "",
          "windows_dos_allocation_memory_file"
         ],
         "type": "scatter",
         "x": [
          125,
          125,
          153.75,
          153.75
         ],
         "xaxis": "x",
         "y": [
          0,
          0.9603169867890112,
          0.9603169867890112,
          0.9427662508945448
         ],
         "yaxis": "y"
        },
        {
         "hoverinfo": "text",
         "marker": {
          "color": "rgb(40,35,35)"
         },
         "mode": "lines",
         "text": [
          "keycode_key_keyboard_xterm map_map",
          "",
          "",
          "keyboard_rsi_typing_pc_exercises"
         ],
         "type": "scatter",
         "x": [
          175,
          175,
          185,
          185
         ],
         "xaxis": "x",
         "y": [
          0,
          0.9231683301712735,
          0.9231683301712735,
          0
         ],
         "yaxis": "y"
        },
        {
         "hoverinfo": "text",
         "marker": {
          "color": "rgb(61,153,112)"
         },
         "mode": "lines",
         "text": [
          "sound_speech_voice_celp_samples",
          "",
          "",
          "midi_sound_driver_play_channel"
         ],
         "type": "scatter",
         "x": [
          195,
          195,
          205,
          205
         ],
         "xaxis": "x",
         "y": [
          0,
          0.9202705201649215,
          0.9202705201649215,
          0
         ],
         "yaxis": "y"
        },
        {
         "hoverinfo": "text",
         "marker": {
          "color": "rgb(0,116,217)"
         },
         "mode": "lines",
         "text": [
          "keyboard_rsi_typing_key_keycode",
          "",
          "",
          "sound_midi_speech_play_channel"
         ],
         "type": "scatter",
         "x": [
          180,
          180,
          200,
          200
         ],
         "xaxis": "x",
         "y": [
          0.9231683301712735,
          1.0201376662084216,
          1.0201376662084216,
          0.9202705201649215
         ],
         "yaxis": "y"
        },
        {
         "hoverinfo": "text",
         "marker": {
          "color": "rgb(255,65,54)"
         },
         "mode": "lines",
         "text": [
          "w4wg_network_novell_netware_windows",
          "",
          "",
          "localtalk_network_port_printer_macs"
         ],
         "type": "scatter",
         "x": [
          215,
          215,
          225,
          225
         ],
         "xaxis": "x",
         "y": [
          0,
          0.9511057823100095,
          0.9511057823100095,
          0
         ],
         "yaxis": "y"
        },
        {
         "hoverinfo": "text",
         "marker": {
          "color": "rgb(255,65,54)"
         },
         "mode": "lines",
         "text": [
          "font_fonts_truetype_windows_tt",
          "",
          "",
          "printer_print_hp_deskjet_laser"
         ],
         "type": "scatter",
         "x": [
          235,
          235,
          245,
          245
         ],
         "xaxis": "x",
         "y": [
          0,
          0.8822120084926758,
          0.8822120084926758,
          0
         ],
         "yaxis": "y"
        },
        {
         "hoverinfo": "text",
         "marker": {
          "color": "rgb(255,65,54)"
         },
         "mode": "lines",
         "text": [
          "printer_fonts_print_font_hp",
          "",
          "",
          "postscript_ghostscript_ghostview_files_pageview"
         ],
         "type": "scatter",
         "x": [
          240,
          240,
          255,
          255
         ],
         "xaxis": "x",
         "y": [
          0.8822120084926758,
          0.9541485123330369,
          0.9541485123330369,
          0
         ],
         "yaxis": "y"
        },
        {
         "hoverinfo": "text",
         "marker": {
          "color": "rgb(255,65,54)"
         },
         "mode": "lines",
         "text": [
          "network_w4wg_novell_netware_windows",
          "",
          "",
          "printer_fonts_print_font_hp"
         ],
         "type": "scatter",
         "x": [
          220,
          220,
          247.5,
          247.5
         ],
         "xaxis": "x",
         "y": [
          0.9511057823100095,
          0.9921254717367527,
          0.9921254717367527,
          0.9541485123330369
         ],
         "yaxis": "y"
        },
        {
         "hoverinfo": "text",
         "marker": {
          "color": "rgb(0,116,217)"
         },
         "mode": "lines",
         "text": [
          "keyboard_sound_rsi_typing_pc",
          "",
          "",
          "printer_fonts_print_font_hp"
         ],
         "type": "scatter",
         "x": [
          190,
          190,
          233.75,
          233.75
         ],
         "xaxis": "x",
         "y": [
          1.0201376662084216,
          1.0260125676429745,
          1.0260125676429745,
          0.9921254717367527
         ],
         "yaxis": "y"
        },
        {
         "hoverinfo": "text",
         "marker": {
          "color": "rgb(35,205,205)"
         },
         "mode": "lines",
         "text": [
          "registration_regedit_exe_install_register",
          "",
          "",
          "copy_copy protection_protection_program_software"
         ],
         "type": "scatter",
         "x": [
          265,
          265,
          275,
          275
         ],
         "xaxis": "x",
         "y": [
          0,
          0.9474784495116572,
          0.9474784495116572,
          0
         ],
         "yaxis": "y"
        },
        {
         "hoverinfo": "text",
         "marker": {
          "color": "rgb(35,205,205)"
         },
         "mode": "lines",
         "text": [
          "sale_manuals_disks_shipping_dos",
          "",
          "",
          "borland_paradox_windows_engine_sql"
         ],
         "type": "scatter",
         "x": [
          285,
          285,
          295,
          295
         ],
         "xaxis": "x",
         "y": [
          0,
          0.931675963599569,
          0.931675963599569,
          0
         ],
         "yaxis": "y"
        },
        {
         "hoverinfo": "text",
         "marker": {
          "color": "rgb(35,205,205)"
         },
         "mode": "lines",
         "text": [
          "copy_copy protection_program_protection_software",
          "",
          "",
          "borland_paradox_windows_manuals_engine"
         ],
         "type": "scatter",
         "x": [
          270,
          270,
          290,
          290
         ],
         "xaxis": "x",
         "y": [
          0.9474784495116572,
          0.9855068791359164,
          0.9855068791359164,
          0.931675963599569
         ],
         "yaxis": "y"
        },
        {
         "hoverinfo": "text",
         "marker": {
          "color": "rgb(61,153,112)"
         },
         "mode": "lines",
         "text": [
          "involved_iowa_design development_50011_iowa state university",
          "",
          "",
          "hacker_computer_hackers_hacker ethic_ethic"
         ],
         "type": "scatter",
         "x": [
          305,
          305,
          315,
          315
         ],
         "xaxis": "x",
         "y": [
          0,
          0.9624740883944327,
          0.9624740883944327,
          0
         ],
         "yaxis": "y"
        },
        {
         "hoverinfo": "text",
         "marker": {
          "color": "rgb(61,153,112)"
         },
         "mode": "lines",
         "text": [
          "hacker_computer_hackers_engineering_programming",
          "",
          "",
          "software_process_level_shuttle_shuttle software"
         ],
         "type": "scatter",
         "x": [
          310,
          310,
          325,
          325
         ],
         "xaxis": "x",
         "y": [
          0.9624740883944327,
          0.9794386799422967,
          0.9794386799422967,
          0
         ],
         "yaxis": "y"
        },
        {
         "hoverinfo": "text",
         "marker": {
          "color": "rgb(0,116,217)"
         },
         "mode": "lines",
         "text": [
          "borland_copy_paradox_windows_software",
          "",
          "",
          "hacker_software_computer_engineering_programming"
         ],
         "type": "scatter",
         "x": [
          280,
          280,
          317.5,
          317.5
         ],
         "xaxis": "x",
         "y": [
          0.9855068791359164,
          1.007744177054089,
          1.007744177054089,
          0.9794386799422967
         ],
         "yaxis": "y"
        },
        {
         "hoverinfo": "text",
         "marker": {
          "color": "rgb(0,116,217)"
         },
         "mode": "lines",
         "text": [
          "printer_keyboard_fonts_print_windows",
          "",
          "",
          "software_borland_copy_windows_paradox"
         ],
         "type": "scatter",
         "x": [
          211.875,
          211.875,
          298.75,
          298.75
         ],
         "xaxis": "x",
         "y": [
          1.0260125676429745,
          1.0332546266404612,
          1.0332546266404612,
          1.007744177054089
         ],
         "yaxis": "y"
        },
        {
         "hoverinfo": "text",
         "marker": {
          "color": "rgb(0,116,217)"
         },
         "mode": "lines",
         "text": [
          "windows_mouse_dos_allocation_file",
          "",
          "",
          "printer_windows_keyboard_software_fonts"
         ],
         "type": "scatter",
         "x": [
          139.375,
          139.375,
          255.3125,
          255.3125
         ],
         "xaxis": "x",
         "y": [
          0.9603169867890112,
          1.047815168992056,
          1.047815168992056,
          1.0332546266404612
         ],
         "yaxis": "y"
        },
        {
         "hoverinfo": "text",
         "marker": {
          "color": "rgb(0,116,217)"
         },
         "mode": "lines",
         "text": [
          "dos dos_dos_window_dos dos dos_dos dos dos dos",
          "",
          "",
          "windows_printer_dos_keyboard_mouse"
         ],
         "type": "scatter",
         "x": [
          76.5625,
          76.5625,
          197.34375,
          197.34375
         ],
         "xaxis": "x",
         "y": [
          1.0468274270395774,
          1.1296064633732719,
          1.1296064633732719,
          1.047815168992056
         ],
         "yaxis": "y"
        },
        {
         "hoverinfo": "text",
         "marker": {
          "color": "rgb(255,65,54)"
         },
         "mode": "lines",
         "text": [
          "key_ripem_des_rsa_cryptography",
          "",
          "",
          "key_clipper_chip_encryption_keys"
         ],
         "type": "scatter",
         "x": [
          335,
          335,
          345,
          345
         ],
         "xaxis": "x",
         "y": [
          0,
          0.7211523250523859,
          0.7211523250523859,
          0
         ],
         "yaxis": "y"
        },
        {
         "hoverinfo": "text",
         "marker": {
          "color": "rgb(255,65,54)"
         },
         "mode": "lines",
         "text": [
          "key_encryption_clipper_chip_keys",
          "",
          "",
          "nist_ncsl_nist gov_ncsl nist_ncsl nist gov"
         ],
         "type": "scatter",
         "x": [
          340,
          340,
          355,
          355
         ],
         "xaxis": "x",
         "y": [
          0.7211523250523859,
          0.9149591749669408,
          0.9149591749669408,
          0
         ],
         "yaxis": "y"
        },
        {
         "hoverinfo": "text",
         "marker": {
          "color": "rgb(35,205,205)"
         },
         "mode": "lines",
         "text": [
          "image_graphics_edu_pub_data",
          "",
          "",
          "ftp_nasa_pub_data_images"
         ],
         "type": "scatter",
         "x": [
          375,
          375,
          385,
          385
         ],
         "xaxis": "x",
         "y": [
          0,
          0.768024285129757,
          0.768024285129757,
          0
         ],
         "yaxis": "y"
        },
        {
         "hoverinfo": "text",
         "marker": {
          "color": "rgb(35,205,205)"
         },
         "mode": "lines",
         "text": [
          "3d_3do_graphics_grafsys_list",
          "",
          "",
          "image_graphics_edu_ftp_pub"
         ],
         "type": "scatter",
         "x": [
          365,
          365,
          380,
          380
         ],
         "xaxis": "x",
         "y": [
          0,
          0.9369105679023867,
          0.9369105679023867,
          0.768024285129757
         ],
         "yaxis": "y"
        },
        {
         "hoverinfo": "text",
         "marker": {
          "color": "rgb(133,20,75)"
         },
         "mode": "lines",
         "text": [
          "gif_format_files_convert_bmp",
          "",
          "",
          "jpeg_gif_image_file_format"
         ],
         "type": "scatter",
         "x": [
          395,
          395,
          405,
          405
         ],
         "xaxis": "x",
         "y": [
          0,
          0.8332306324132837,
          0.8332306324132837,
          0
         ],
         "yaxis": "y"
        },
        {
         "hoverinfo": "text",
         "marker": {
          "color": "rgb(133,20,75)"
         },
         "mode": "lines",
         "text": [
          "jpeg_gif_image_format_file",
          "",
          "",
          "tiff_complexity_formats_spec_tiff files"
         ],
         "type": "scatter",
         "x": [
          400,
          400,
          415,
          415
         ],
         "xaxis": "x",
         "y": [
          0.8332306324132837,
          0.9536441956445798,
          0.9536441956445798,
          0
         ],
         "yaxis": "y"
        },
        {
         "hoverinfo": "text",
         "marker": {
          "color": "rgb(0,116,217)"
         },
         "mode": "lines",
         "text": [
          "graphics_image_edu_ftp_pub",
          "",
          "",
          "jpeg_gif_image_format_file"
         ],
         "type": "scatter",
         "x": [
          372.5,
          372.5,
          407.5,
          407.5
         ],
         "xaxis": "x",
         "y": [
          0.9369105679023867,
          1.003469374953481,
          1.003469374953481,
          0.9536441956445798
         ],
         "yaxis": "y"
        },
        {
         "hoverinfo": "text",
         "marker": {
          "color": "rgb(0,116,217)"
         },
         "mode": "lines",
         "text": [
          "key_encryption_clipper_chip_keys",
          "",
          "",
          "jpeg_image_graphics_images_gif"
         ],
         "type": "scatter",
         "x": [
          347.5,
          347.5,
          390,
          390
         ],
         "xaxis": "x",
         "y": [
          0.9149591749669408,
          1.1128583982626103,
          1.1128583982626103,
          1.003469374953481
         ],
         "yaxis": "y"
        },
        {
         "hoverinfo": "text",
         "marker": {
          "color": "rgb(0,116,217)"
         },
         "mode": "lines",
         "text": [
          "windows_dos_window_dos dos_dos dos dos",
          "",
          "",
          "key_jpeg_image_encryption_clipper"
         ],
         "type": "scatter",
         "x": [
          136.953125,
          136.953125,
          368.75,
          368.75
         ],
         "xaxis": "x",
         "y": [
          1.1296064633732719,
          1.2045879545724707,
          1.2045879545724707,
          1.1128583982626103
         ],
         "yaxis": "y"
        },
        {
         "hoverinfo": "text",
         "marker": {
          "color": "rgb(255,220,0)"
         },
         "mode": "lines",
         "text": [
          "00_50_1st_wolverine_comics",
          "",
          "",
          "00_dos_mpc_dos 20 00_dos 20"
         ],
         "type": "scatter",
         "x": [
          435,
          435,
          445,
          445
         ],
         "xaxis": "x",
         "y": [
          0,
          0.8563442871584285,
          0.8563442871584285,
          0
         ],
         "yaxis": "y"
        },
        {
         "hoverinfo": "text",
         "marker": {
          "color": "rgb(255,220,0)"
         },
         "mode": "lines",
         "text": [
          "00_books_book_list_chemistry",
          "",
          "",
          "00_50_1st_wolverine_comics"
         ],
         "type": "scatter",
         "x": [
          425,
          425,
          440,
          440
         ],
         "xaxis": "x",
         "y": [
          0,
          0.9066519701961376,
          0.9066519701961376,
          0.8563442871584285
         ],
         "yaxis": "y"
        },
        {
         "hoverinfo": "text",
         "marker": {
          "color": "rgb(255,220,0)"
         },
         "mode": "lines",
         "text": [
          "game_team_games_year_season",
          "",
          "",
          "games_joystick_sega_cd_game"
         ],
         "type": "scatter",
         "x": [
          465,
          465,
          475,
          475
         ],
         "xaxis": "x",
         "y": [
          0,
          0.8803017567673292,
          0.8803017567673292,
          0
         ],
         "yaxis": "y"
        },
        {
         "hoverinfo": "text",
         "marker": {
          "color": "rgb(255,220,0)"
         },
         "mode": "lines",
         "text": [
          "amp_asking_offer_speakers_condition",
          "",
          "",
          "game_team_games_year_season"
         ],
         "type": "scatter",
         "x": [
          455,
          455,
          470,
          470
         ],
         "xaxis": "x",
         "y": [
          0,
          0.8981897615649934,
          0.8981897615649934,
          0.8803017567673292
         ],
         "yaxis": "y"
        },
        {
         "hoverinfo": "text",
         "marker": {
          "color": "rgb(255,220,0)"
         },
         "mode": "lines",
         "text": [
          "game_team_games_year_season",
          "",
          "",
          "picture sleeve_sleeve_cd_picture_45"
         ],
         "type": "scatter",
         "x": [
          462.5,
          462.5,
          485,
          485
         ],
         "xaxis": "x",
         "y": [
          0.8981897615649934,
          0.9330204197332973,
          0.9330204197332973,
          0
         ],
         "yaxis": "y"
        },
        {
         "hoverinfo": "text",
         "marker": {
          "color": "rgb(255,220,0)"
         },
         "mode": "lines",
         "text": [
          "00_50_1st_wolverine_20",
          "",
          "",
          "game_team_games_year_season"
         ],
         "type": "scatter",
         "x": [
          432.5,
          432.5,
          473.75,
          473.75
         ],
         "xaxis": "x",
         "y": [
          0.9066519701961376,
          0.9896712825070654,
          0.9896712825070654,
          0.9330204197332973
         ],
         "yaxis": "y"
        },
        {
         "hoverinfo": "text",
         "marker": {
          "color": "rgb(40,35,35)"
         },
         "mode": "lines",
         "text": [
          "com4_modem_port_ports_com",
          "",
          "",
          "modem_modems_fax_serial_dtr"
         ],
         "type": "scatter",
         "x": [
          505,
          505,
          515,
          515
         ],
         "xaxis": "x",
         "y": [
          0,
          0.8756217636598878,
          0.8756217636598878,
          0
         ],
         "yaxis": "y"
        },
        {
         "hoverinfo": "text",
         "marker": {
          "color": "rgb(40,35,35)"
         },
         "mode": "lines",
         "text": [
          "irq_interrupt_port_interrupts_lpt1",
          "",
          "",
          "modem_modems_fax_port_serial"
         ],
         "type": "scatter",
         "x": [
          495,
          495,
          510,
          510
         ],
         "xaxis": "x",
         "y": [
          0,
          0.9115316723950355,
          0.9115316723950355,
          0.8756217636598878
         ],
         "yaxis": "y"
        },
        {
         "hoverinfo": "text",
         "marker": {
          "color": "rgb(61,153,112)"
         },
         "mode": "lines",
         "text": [
          "scsi_drive_drives_disk_ide",
          "",
          "",
          "drive_ram_meg_floppy_keyboard"
         ],
         "type": "scatter",
         "x": [
          535,
          535,
          545,
          545
         ],
         "xaxis": "x",
         "y": [
          0,
          0.8051435329920291,
          0.8051435329920291,
          0
         ],
         "yaxis": "y"
        },
        {
         "hoverinfo": "text",
         "marker": {
          "color": "rgb(61,153,112)"
         },
         "mode": "lines",
         "text": [
          "tape_drive_backup_tape drive_tapes",
          "",
          "",
          "drive_scsi_drives_disk_ide"
         ],
         "type": "scatter",
         "x": [
          525,
          525,
          540,
          540
         ],
         "xaxis": "x",
         "y": [
          0,
          0.9262369874073788,
          0.9262369874073788,
          0.8051435329920291
         ],
         "yaxis": "y"
        },
        {
         "hoverinfo": "text",
         "marker": {
          "color": "rgb(61,153,112)"
         },
         "mode": "lines",
         "text": [
          "drive_scsi_drives_disk_ide",
          "",
          "",
          "cd_toshiba_nec_drive_cd rom"
         ],
         "type": "scatter",
         "x": [
          532.5,
          532.5,
          555,
          555
         ],
         "xaxis": "x",
         "y": [
          0.9262369874073788,
          0.9366502835839339,
          0.9366502835839339,
          0
         ],
         "yaxis": "y"
        },
        {
         "hoverinfo": "text",
         "marker": {
          "color": "rgb(0,116,217)"
         },
         "mode": "lines",
         "text": [
          "modem_port_modems_fax_irq",
          "",
          "",
          "drive_scsi_drives_disk_ide"
         ],
         "type": "scatter",
         "x": [
          502.5,
          502.5,
          543.75,
          543.75
         ],
         "xaxis": "x",
         "y": [
          0.9115316723950355,
          1.080012017371101,
          1.080012017371101,
          0.9366502835839339
         ],
         "yaxis": "y"
        },
        {
         "hoverinfo": "text",
         "marker": {
          "color": "rgb(255,65,54)"
         },
         "mode": "lines",
         "text": [
          "monitor_problem_screen_apple_video",
          "",
          "",
          "monitor_vga_sync_monitors_inches"
         ],
         "type": "scatter",
         "x": [
          575,
          575,
          585,
          585
         ],
         "xaxis": "x",
         "y": [
          0,
          0.8562862446468181,
          0.8562862446468181,
          0
         ],
         "yaxis": "y"
        },
        {
         "hoverinfo": "text",
         "marker": {
          "color": "rgb(255,65,54)"
         },
         "mode": "lines",
         "text": [
          "monitor_vga_monitors_video_sync",
          "",
          "",
          "nanao_monitor_17_trinitron_viewsonic"
         ],
         "type": "scatter",
         "x": [
          580,
          580,
          595,
          595
         ],
         "xaxis": "x",
         "y": [
          0.8562862446468181,
          0.9106203419233061,
          0.9106203419233061,
          0
         ],
         "yaxis": "y"
        },
        {
         "hoverinfo": "text",
         "marker": {
          "color": "rgb(255,65,54)"
         },
         "mode": "lines",
         "text": [
          "monitor_turn_computer_power_electricity",
          "",
          "",
          "monitor_vga_monitors_screen_video"
         ],
         "type": "scatter",
         "x": [
          565,
          565,
          587.5,
          587.5
         ],
         "xaxis": "x",
         "y": [
          0,
          0.9681750534332736,
          0.9681750534332736,
          0.9106203419233061
         ],
         "yaxis": "y"
        },
        {
         "hoverinfo": "text",
         "marker": {
          "color": "rgb(35,205,205)"
         },
         "mode": "lines",
         "text": [
          "drivers_card_diamond_stealth_driver",
          "",
          "",
          "winbench_vlb_winmarks_graphite_winmark"
         ],
         "type": "scatter",
         "x": [
          625,
          625,
          635,
          635
         ],
         "xaxis": "x",
         "y": [
          0,
          0.9128961212699664,
          0.9128961212699664,
          0
         ],
         "yaxis": "y"
        },
        {
         "hoverinfo": "text",
         "marker": {
          "color": "rgb(35,205,205)"
         },
         "mode": "lines",
         "text": [
          "card_video_genoa_video card_performance",
          "",
          "",
          "drivers_card_diamond_stealth_vlb"
         ],
         "type": "scatter",
         "x": [
          615,
          615,
          630,
          630
         ],
         "xaxis": "x",
         "y": [
          0,
          0.9414009454045267,
          0.9414009454045267,
          0.9128961212699664
         ],
         "yaxis": "y"
        },
        {
         "hoverinfo": "text",
         "marker": {
          "color": "rgb(35,205,205)"
         },
         "mode": "lines",
         "text": [
          "mode_vesa_dram_modes_svga",
          "",
          "",
          "card_drivers_video_diamond_stealth"
         ],
         "type": "scatter",
         "x": [
          605,
          605,
          622.5,
          622.5
         ],
         "xaxis": "x",
         "y": [
          0,
          0.9678678398708609,
          0.9678678398708609,
          0.9414009454045267
         ],
         "yaxis": "y"
        },
        {
         "hoverinfo": "text",
         "marker": {
          "color": "rgb(35,205,205)"
         },
         "mode": "lines",
         "text": [
          "eisa_isa_bus_vlb_motherboard",
          "",
          "",
          "dip switches_card_switches_jumper_dip"
         ],
         "type": "scatter",
         "x": [
          645,
          645,
          655,
          655
         ],
         "xaxis": "x",
         "y": [
          0,
          0.9637659091861875,
          0.9637659091861875,
          0
         ],
         "yaxis": "y"
        },
        {
         "hoverinfo": "text",
         "marker": {
          "color": "rgb(35,205,205)"
         },
         "mode": "lines",
         "text": [
          "card_drivers_video_diamond_stealth",
          "",
          "",
          "eisa_isa_bus_vlb_card"
         ],
         "type": "scatter",
         "x": [
          613.75,
          613.75,
          650,
          650
         ],
         "xaxis": "x",
         "y": [
          0.9678678398708609,
          0.9877862613909997,
          0.9877862613909997,
          0.9637659091861875
         ],
         "yaxis": "y"
        },
        {
         "hoverinfo": "text",
         "marker": {
          "color": "rgb(61,153,112)"
         },
         "mode": "lines",
         "text": [
          "cpu_fan_heat_heat sink_sink",
          "",
          "",
          "mhz_clock_cpu_speed_25 mhz"
         ],
         "type": "scatter",
         "x": [
          665,
          665,
          675,
          675
         ],
         "xaxis": "x",
         "y": [
          0,
          0.8800515288720381,
          0.8800515288720381,
          0
         ],
         "yaxis": "y"
        },
        {
         "hoverinfo": "text",
         "marker": {
          "color": "rgb(61,153,112)"
         },
         "mode": "lines",
         "text": [
          "486dx2 50_486dx2_mhz_486_50",
          "",
          "",
          "bus_dx2_local bus_50mhz_50"
         ],
         "type": "scatter",
         "x": [
          685,
          685,
          695,
          695
         ],
         "xaxis": "x",
         "y": [
          0,
          0.8885381343569057,
          0.8885381343569057,
          0
         ],
         "yaxis": "y"
        },
        {
         "hoverinfo": "text",
         "marker": {
          "color": "rgb(61,153,112)"
         },
         "mode": "lines",
         "text": [
          "cpu_mhz_clock_fan_heat",
          "",
          "",
          "bus_486dx2_50_mhz_486"
         ],
         "type": "scatter",
         "x": [
          670,
          670,
          690,
          690
         ],
         "xaxis": "x",
         "y": [
          0.8800515288720381,
          0.9575156325659654,
          0.9575156325659654,
          0.8885381343569057
         ],
         "yaxis": "y"
        },
        {
         "hoverinfo": "text",
         "marker": {
          "color": "rgb(61,153,112)"
         },
         "mode": "lines",
         "text": [
          "mhz_cpu_clock_fan_heat",
          "",
          "",
          "motherboard_33_ram_case_board"
         ],
         "type": "scatter",
         "x": [
          680,
          680,
          705,
          705
         ],
         "xaxis": "x",
         "y": [
          0.9575156325659654,
          0.9733797241722785,
          0.9733797241722785,
          0
         ],
         "yaxis": "y"
        },
        {
         "hoverinfo": "text",
         "marker": {
          "color": "rgb(255,65,54)"
         },
         "mode": "lines",
         "text": [
          "simms_sipps_70ns_72 pin_simm",
          "",
          "",
          "simms_simm_vram_memory_dram"
         ],
         "type": "scatter",
         "x": [
          715,
          715,
          725,
          725
         ],
         "xaxis": "x",
         "y": [
          0,
          0.8594650824155244,
          0.8594650824155244,
          0
         ],
         "yaxis": "y"
        },
        {
         "hoverinfo": "text",
         "marker": {
          "color": "rgb(35,205,205)"
         },
         "mode": "lines",
         "text": [
          "pds_nubus_lc_lciii_slot",
          "",
          "",
          "fpu_2600_centris_apple_040"
         ],
         "type": "scatter",
         "x": [
          745,
          745,
          755,
          755
         ],
         "xaxis": "x",
         "y": [
          0,
          0.9219217745157295,
          0.9219217745157295,
          0
         ],
         "yaxis": "y"
        },
        {
         "hoverinfo": "text",
         "marker": {
          "color": "rgb(35,205,205)"
         },
         "mode": "lines",
         "text": [
          "ethernet_pin_card_connector_adapter",
          "",
          "",
          "pds_nubus_fpu_lc_lciii"
         ],
         "type": "scatter",
         "x": [
          735,
          735,
          750,
          750
         ],
         "xaxis": "x",
         "y": [
          0,
          0.9636397762143114,
          0.9636397762143114,
          0.9219217745157295
         ],
         "yaxis": "y"
        },
        {
         "hoverinfo": "text",
         "marker": {
          "color": "rgb(133,20,75)"
         },
         "mode": "lines",
         "text": [
          "powerbook_duo_apple_dock_machine",
          "",
          "",
          "duo_duo 230_portable_duo 210_210"
         ],
         "type": "scatter",
         "x": [
          765,
          765,
          775,
          775
         ],
         "xaxis": "x",
         "y": [
          0,
          0.9306404940930142,
          0.9306404940930142,
          0
         ],
         "yaxis": "y"
        },
        {
         "hoverinfo": "text",
         "marker": {
          "color": "rgb(0,116,217)"
         },
         "mode": "lines",
         "text": [
          "pds_nubus_fpu_lc_ethernet",
          "",
          "",
          "duo_powerbook_apple_duo 230_230"
         ],
         "type": "scatter",
         "x": [
          742.5,
          742.5,
          770,
          770
         ],
         "xaxis": "x",
         "y": [
          0.9636397762143114,
          1.0162097734663889,
          1.0162097734663889,
          0.9306404940930142
         ],
         "yaxis": "y"
        },
        {
         "hoverinfo": "text",
         "marker": {
          "color": "rgb(0,116,217)"
         },
         "mode": "lines",
         "text": [
          "simms_simm_vram_memory_meg",
          "",
          "",
          "apple_pds_fpu_nubus_lc"
         ],
         "type": "scatter",
         "x": [
          720,
          720,
          756.25,
          756.25
         ],
         "xaxis": "x",
         "y": [
          0.8594650824155244,
          1.0559960635060344,
          1.0559960635060344,
          1.0162097734663889
         ],
         "yaxis": "y"
        },
        {
         "hoverinfo": "text",
         "marker": {
          "color": "rgb(0,116,217)"
         },
         "mode": "lines",
         "text": [
          "mhz_cpu_clock_fan_heat",
          "",
          "",
          "simms_apple_pds_lc_fpu"
         ],
         "type": "scatter",
         "x": [
          692.5,
          692.5,
          738.125,
          738.125
         ],
         "xaxis": "x",
         "y": [
          0.9733797241722785,
          1.0804302452272487,
          1.0804302452272487,
          1.0559960635060344
         ],
         "yaxis": "y"
        },
        {
         "hoverinfo": "text",
         "marker": {
          "color": "rgb(0,116,217)"
         },
         "mode": "lines",
         "text": [
          "card_drivers_video_bus_vlb",
          "",
          "",
          "cpu_mhz_simms_chip_clock"
         ],
         "type": "scatter",
         "x": [
          631.875,
          631.875,
          715.3125,
          715.3125
         ],
         "xaxis": "x",
         "y": [
          0.9877862613909997,
          1.089952776513316,
          1.089952776513316,
          1.0804302452272487
         ],
         "yaxis": "y"
        },
        {
         "hoverinfo": "text",
         "marker": {
          "color": "rgb(0,116,217)"
         },
         "mode": "lines",
         "text": [
          "monitor_vga_monitors_screen_video",
          "",
          "",
          "cpu_mhz_card_simms_chip"
         ],
         "type": "scatter",
         "x": [
          576.25,
          576.25,
          673.59375,
          673.59375
         ],
         "xaxis": "x",
         "y": [
          0.9681750534332736,
          1.1112098837945261,
          1.1112098837945261,
          1.089952776513316
         ],
         "yaxis": "y"
        },
        {
         "hoverinfo": "text",
         "marker": {
          "color": "rgb(0,116,217)"
         },
         "mode": "lines",
         "text": [
          "drive_scsi_drives_disk_ide",
          "",
          "",
          "monitor_card_mhz_cpu_apple"
         ],
         "type": "scatter",
         "x": [
          523.125,
          523.125,
          624.921875,
          624.921875
         ],
         "xaxis": "x",
         "y": [
          1.080012017371101,
          1.1302517129630674,
          1.1302517129630674,
          1.1112098837945261
         ],
         "yaxis": "y"
        },
        {
         "hoverinfo": "text",
         "marker": {
          "color": "rgb(0,116,217)"
         },
         "mode": "lines",
         "text": [
          "game_00_team_games_10",
          "",
          "",
          "drive_scsi_drives_card_disk"
         ],
         "type": "scatter",
         "x": [
          453.125,
          453.125,
          574.0234375,
          574.0234375
         ],
         "xaxis": "x",
         "y": [
          0.9896712825070654,
          1.2249318668097735,
          1.2249318668097735,
          1.1302517129630674
         ],
         "yaxis": "y"
        },
        {
         "hoverinfo": "text",
         "marker": {
          "color": "rgb(0,116,217)"
         },
         "mode": "lines",
         "text": [
          "key_windows_use_image_dos",
          "",
          "",
          "00_game_team_drive_10"
         ],
         "type": "scatter",
         "x": [
          252.8515625,
          252.8515625,
          513.57421875,
          513.57421875
         ],
         "xaxis": "x",
         "y": [
          1.2045879545724707,
          1.3656422749777122,
          1.3656422749777122,
          1.2249318668097735
         ],
         "yaxis": "y"
        },
        {
         "hoverinfo": "text",
         "marker": {
          "color": "rgb(255,220,0)"
         },
         "mode": "lines",
         "text": [
          "msg_food_chinese_foods_glutamate",
          "",
          "",
          "crohn_inflammation_diet_patients_disease"
         ],
         "type": "scatter",
         "x": [
          795,
          795,
          805,
          805
         ],
         "xaxis": "x",
         "y": [
          0,
          0.9404833786888033,
          0.9404833786888033,
          0
         ],
         "yaxis": "y"
        },
        {
         "hoverinfo": "text",
         "marker": {
          "color": "rgb(255,220,0)"
         },
         "mode": "lines",
         "text": [
          "meat_carcinogenic_food_smoke_heat shock",
          "",
          "",
          "msg_food_chinese_foods_glutamate"
         ],
         "type": "scatter",
         "x": [
          785,
          785,
          800,
          800
         ],
         "xaxis": "x",
         "y": [
          0,
          0.9647624238880584,
          0.9647624238880584,
          0.9404833786888033
         ],
         "yaxis": "y"
        },
        {
         "hoverinfo": "text",
         "marker": {
          "color": "rgb(40,35,35)"
         },
         "mode": "lines",
         "text": [
          "candida_yeast_infections_vaginal_systemic",
          "",
          "",
          "disease_polio_patients_alzheimer_pain"
         ],
         "type": "scatter",
         "x": [
          825,
          825,
          835,
          835
         ],
         "xaxis": "x",
         "y": [
          0,
          0.8869731705173693,
          0.8869731705173693,
          0
         ],
         "yaxis": "y"
        },
        {
         "hoverinfo": "text",
         "marker": {
          "color": "rgb(40,35,35)"
         },
         "mode": "lines",
         "text": [
          "candida_yeast_disease_patients_syndrome",
          "",
          "",
          "pain_migraine_migraines_sleep_jl"
         ],
         "type": "scatter",
         "x": [
          830,
          830,
          845,
          845
         ],
         "xaxis": "x",
         "y": [
          0.8869731705173693,
          0.9385232967100335,
          0.9385232967100335,
          0
         ],
         "yaxis": "y"
        },
        {
         "hoverinfo": "text",
         "marker": {
          "color": "rgb(40,35,35)"
         },
         "mode": "lines",
         "text": [
          "kidney_chromium_stones_kidney stones_b6",
          "",
          "",
          "candida_pain_yeast_patients_disease"
         ],
         "type": "scatter",
         "x": [
          815,
          815,
          837.5,
          837.5
         ],
         "xaxis": "x",
         "y": [
          0,
          0.9668646901022495,
          0.9668646901022495,
          0.9385232967100335
         ],
         "yaxis": "y"
        },
        {
         "hoverinfo": "text",
         "marker": {
          "color": "rgb(61,153,112)"
         },
         "mode": "lines",
         "text": [
          "rutin_nasal_surgery_vasomotor_vasomotor rhinitis",
          "",
          "",
          "fever_meningitis_pneumonia_acyclovir_organism"
         ],
         "type": "scatter",
         "x": [
          855,
          855,
          865,
          865
         ],
         "xaxis": "x",
         "y": [
          0,
          0.9806186366897242,
          0.9806186366897242,
          0
         ],
         "yaxis": "y"
        },
        {
         "hoverinfo": "text",
         "marker": {
          "color": "rgb(0,116,217)"
         },
         "mode": "lines",
         "text": [
          "candida_pain_yeast_patients_disease",
          "",
          "",
          "rutin_fever_surgery_meningitis_nasal"
         ],
         "type": "scatter",
         "x": [
          826.25,
          826.25,
          860,
          860
         ],
         "xaxis": "x",
         "y": [
          0.9668646901022495,
          1.0038277180984285,
          1.0038277180984285,
          0.9806186366897242
         ],
         "yaxis": "y"
        },
        {
         "hoverinfo": "text",
         "marker": {
          "color": "rgb(0,116,217)"
         },
         "mode": "lines",
         "text": [
          "msg_food_chinese_foods_eat",
          "",
          "",
          "candida_pain_yeast_patients_doctor"
         ],
         "type": "scatter",
         "x": [
          792.5,
          792.5,
          843.125,
          843.125
         ],
         "xaxis": "x",
         "y": [
          0.9647624238880584,
          1.0135886872369608,
          1.0135886872369608,
          1.0038277180984285
         ],
         "yaxis": "y"
        },
        {
         "hoverinfo": "text",
         "marker": {
          "color": "rgb(255,65,54)"
         },
         "mode": "lines",
         "text": [
          "hiv_aids_health_disease_infected",
          "",
          "",
          "hiv_cancer_cesarean_medical_health"
         ],
         "type": "scatter",
         "x": [
          875,
          875,
          885,
          885
         ],
         "xaxis": "x",
         "y": [
          0,
          0.7875452666728705,
          0.7875452666728705,
          0
         ],
         "yaxis": "y"
        },
        {
         "hoverinfo": "text",
         "marker": {
          "color": "rgb(255,65,54)"
         },
         "mode": "lines",
         "text": [
          "hiv_aids_cancer_health_medical",
          "",
          "",
          "cancer_cancer center_center_centers_medical"
         ],
         "type": "scatter",
         "x": [
          880,
          880,
          895,
          895
         ],
         "xaxis": "x",
         "y": [
          0.7875452666728705,
          0.8775310740145748,
          0.8775310740145748,
          0
         ],
         "yaxis": "y"
        },
        {
         "hoverinfo": "text",
         "marker": {
          "color": "rgb(0,116,217)"
         },
         "mode": "lines",
         "text": [
          "msg_food_candida_pain_patients",
          "",
          "",
          "hiv_cancer_aids_medical_health"
         ],
         "type": "scatter",
         "x": [
          817.8125,
          817.8125,
          887.5,
          887.5
         ],
         "xaxis": "x",
         "y": [
          1.0135886872369608,
          1.122588047910479,
          1.122588047910479,
          0.8775310740145748
         ],
         "yaxis": "y"
        },
        {
         "hoverinfo": "text",
         "marker": {
          "color": "rgb(35,205,205)"
         },
         "mode": "lines",
         "text": [
          "latin_subscribe_unsubscribe_listserv_psuvm",
          "",
          "",
          "mailing_mailing list_list_mail_thanks"
         ],
         "type": "scatter",
         "x": [
          905,
          905,
          915,
          915
         ],
         "xaxis": "x",
         "y": [
          0,
          0.9618420501222419,
          0.9618420501222419,
          0
         ],
         "yaxis": "y"
        },
        {
         "hoverinfo": "text",
         "marker": {
          "color": "rgb(35,205,205)"
         },
         "mode": "lines",
         "text": [
          "send requests_request_autos_requests_list",
          "",
          "",
          "edu_com_comp_vote_comp os"
         ],
         "type": "scatter",
         "x": [
          925,
          925,
          935,
          935
         ],
         "xaxis": "x",
         "y": [
          0,
          0.9251188732684847,
          0.9251188732684847,
          0
         ],
         "yaxis": "y"
        },
        {
         "hoverinfo": "text",
         "marker": {
          "color": "rgb(35,205,205)"
         },
         "mode": "lines",
         "text": [
          "mailing_mailing list_list_subscribe_latin",
          "",
          "",
          "edu_com_comp_newsgroup_vote"
         ],
         "type": "scatter",
         "x": [
          910,
          910,
          930,
          930
         ],
         "xaxis": "x",
         "y": [
          0.9618420501222419,
          0.9782445511980529,
          0.9782445511980529,
          0.9251188732684847
         ],
         "yaxis": "y"
        },
        {
         "hoverinfo": "text",
         "marker": {
          "color": "rgb(35,205,205)"
         },
         "mode": "lines",
         "text": [
          "address_mail_compuserve_com_compuserve com",
          "",
          "",
          "email address_address_email_mail_eric send"
         ],
         "type": "scatter",
         "x": [
          945,
          945,
          955,
          955
         ],
         "xaxis": "x",
         "y": [
          0,
          0.9662649988438212,
          0.9662649988438212,
          0
         ],
         "yaxis": "y"
        },
        {
         "hoverinfo": "text",
         "marker": {
          "color": "rgb(35,205,205)"
         },
         "mode": "lines",
         "text": [
          "edu_com_comp_newsgroup_vote",
          "",
          "",
          "address_mail_email address_compuserve_email"
         ],
         "type": "scatter",
         "x": [
          920,
          920,
          950,
          950
         ],
         "xaxis": "x",
         "y": [
          0.9782445511980529,
          0.9953907751972114,
          0.9953907751972114,
          0.9662649988438212
         ],
         "yaxis": "y"
        },
        {
         "hoverinfo": "text",
         "marker": {
          "color": "rgb(61,153,112)"
         },
         "mode": "lines",
         "text": [
          "kirlian_photography_kirlian photography_leaf_pictures",
          "",
          "",
          "tempest_equipment_electromagnetic_emissions_crts"
         ],
         "type": "scatter",
         "x": [
          965,
          965,
          975,
          975
         ],
         "xaxis": "x",
         "y": [
          0,
          0.9884146605182875,
          0.9884146605182875,
          0
         ],
         "yaxis": "y"
        },
        {
         "hoverinfo": "text",
         "marker": {
          "color": "rgb(61,153,112)"
         },
         "mode": "lines",
         "text": [
          "radar_detector_detectors_radar detector_radar detectors",
          "",
          "",
          "oort_oort cloud_cloud_distribution_gamma"
         ],
         "type": "scatter",
         "x": [
          985,
          985,
          995,
          995
         ],
         "xaxis": "x",
         "y": [
          0,
          0.9551342948866581,
          0.9551342948866581,
          0
         ],
         "yaxis": "y"
        },
        {
         "hoverinfo": "text",
         "marker": {
          "color": "rgb(61,153,112)"
         },
         "mode": "lines",
         "text": [
          "temperature_grains_interstellar_pluto_dust",
          "",
          "",
          "den_p3_p2_p1_points"
         ],
         "type": "scatter",
         "x": [
          1005,
          1005,
          1015,
          1015
         ],
         "xaxis": "x",
         "y": [
          0,
          0.9771017910162172,
          0.9771017910162172,
          0
         ],
         "yaxis": "y"
        },
        {
         "hoverinfo": "text",
         "marker": {
          "color": "rgb(61,153,112)"
         },
         "mode": "lines",
         "text": [
          "radar_detector_detectors_oort_radar detector",
          "",
          "",
          "den_p3_p2_p1_points"
         ],
         "type": "scatter",
         "x": [
          990,
          990,
          1010,
          1010
         ],
         "xaxis": "x",
         "y": [
          0.9551342948866581,
          0.9795550559972469,
          0.9795550559972469,
          0.9771017910162172
         ],
         "yaxis": "y"
        },
        {
         "hoverinfo": "text",
         "marker": {
          "color": "rgb(61,153,112)"
         },
         "mode": "lines",
         "text": [
          "kirlian_photography_tempest_kirlian photography_leaf",
          "",
          "",
          "radar_detector_detectors_den_p3"
         ],
         "type": "scatter",
         "x": [
          970,
          970,
          1000,
          1000
         ],
         "xaxis": "x",
         "y": [
          0.9884146605182875,
          0.9952490936866714,
          0.9952490936866714,
          0.9795550559972469
         ],
         "yaxis": "y"
        },
        {
         "hoverinfo": "text",
         "marker": {
          "color": "rgb(255,65,54)"
         },
         "mode": "lines",
         "text": [
          "wax_paint_plastic_chain_car",
          "",
          "",
          "gas_tear gas_tear_cs_toxic"
         ],
         "type": "scatter",
         "x": [
          1025,
          1025,
          1035,
          1035
         ],
         "xaxis": "x",
         "y": [
          0,
          0.9760733393126851,
          0.9760733393126851,
          0
         ],
         "yaxis": "y"
        },
        {
         "hoverinfo": "text",
         "marker": {
          "color": "rgb(255,65,54)"
         },
         "mode": "lines",
         "text": [
          "weapons_nuclear_plutonium_weapon_clancy",
          "",
          "",
          "water_cooling_steam_towers_plants"
         ],
         "type": "scatter",
         "x": [
          1045,
          1045,
          1055,
          1055
         ],
         "xaxis": "x",
         "y": [
          0,
          0.960178861676121,
          0.960178861676121,
          0
         ],
         "yaxis": "y"
        },
        {
         "hoverinfo": "text",
         "marker": {
          "color": "rgb(255,65,54)"
         },
         "mode": "lines",
         "text": [
          "gas_tear gas_tear_wax_paint",
          "",
          "",
          "water_nuclear_cooling_steam_towers"
         ],
         "type": "scatter",
         "x": [
          1030,
          1030,
          1050,
          1050
         ],
         "xaxis": "x",
         "y": [
          0.9760733393126851,
          0.9810023288467186,
          0.9810023288467186,
          0.960178861676121
         ],
         "yaxis": "y"
        },
        {
         "hoverinfo": "text",
         "marker": {
          "color": "rgb(255,65,54)"
         },
         "mode": "lines",
         "text": [
          "phd_meteorologist_atmospheric_atmosphere_environmental",
          "",
          "",
          "breathing_oxygen_altitude_sickness_weightlessness"
         ],
         "type": "scatter",
         "x": [
          1065,
          1065,
          1075,
          1075
         ],
         "xaxis": "x",
         "y": [
          0,
          0.9710507302925979,
          0.9710507302925979,
          0
         ],
         "yaxis": "y"
        },
        {
         "hoverinfo": "text",
         "marker": {
          "color": "rgb(255,65,54)"
         },
         "mode": "lines",
         "text": [
          "water_gas_nuclear_cooling_steam",
          "",
          "",
          "phd_oxygen_atmosphere_atmospheric_meteorologist"
         ],
         "type": "scatter",
         "x": [
          1040,
          1040,
          1070,
          1070
         ],
         "xaxis": "x",
         "y": [
          0.9810023288467186,
          0.9907496453194438,
          0.9907496453194438,
          0.9710507302925979
         ],
         "yaxis": "y"
        },
        {
         "hoverinfo": "text",
         "marker": {
          "color": "rgb(0,116,217)"
         },
         "mode": "lines",
         "text": [
          "radar_detector_detectors_den_p3",
          "",
          "",
          "water_gas_nuclear_cooling_steam"
         ],
         "type": "scatter",
         "x": [
          985,
          985,
          1055,
          1055
         ],
         "xaxis": "x",
         "y": [
          0.9952490936866714,
          1.0135781739984402,
          1.0135781739984402,
          0.9907496453194438
         ],
         "yaxis": "y"
        },
        {
         "hoverinfo": "text",
         "marker": {
          "color": "rgb(35,205,205)"
         },
         "mode": "lines",
         "text": [
          "battery_batteries_concrete_acid_discharge",
          "",
          "",
          "battery_problem_cmos_repair_adb"
         ],
         "type": "scatter",
         "x": [
          1085,
          1085,
          1095,
          1095
         ],
         "xaxis": "x",
         "y": [
          0,
          0.9468102620066549,
          0.9468102620066549,
          0
         ],
         "yaxis": "y"
        },
        {
         "hoverinfo": "text",
         "marker": {
          "color": "rgb(35,205,205)"
         },
         "mode": "lines",
         "text": [
          "battery_batteries_concrete_acid_discharge",
          "",
          "",
          "quadra_tapedrive_dealer_tape_bios"
         ],
         "type": "scatter",
         "x": [
          1090,
          1090,
          1105,
          1105
         ],
         "xaxis": "x",
         "y": [
          0.9468102620066549,
          0.9880334825485733,
          0.9880334825485733,
          0
         ],
         "yaxis": "y"
        },
        {
         "hoverinfo": "text",
         "marker": {
          "color": "rgb(0,116,217)"
         },
         "mode": "lines",
         "text": [
          "radar_water_detector_detectors_gas",
          "",
          "",
          "battery_batteries_concrete_acid_discharge"
         ],
         "type": "scatter",
         "x": [
          1020,
          1020,
          1097.5,
          1097.5
         ],
         "xaxis": "x",
         "y": [
          1.0135781739984402,
          1.0225513412969611,
          1.0225513412969611,
          0.9880334825485733
         ],
         "yaxis": "y"
        },
        {
         "hoverinfo": "text",
         "marker": {
          "color": "rgb(0,116,217)"
         },
         "mode": "lines",
         "text": [
          "huh ignore_huh ignore keywords consistently_ken huh ignore_keywords consistently_ken huh ignore keywords",
          "",
          "",
          "ditto_hi yes hello ditto ditto_returns seeing urn ll_weeks hi_village happy returns seeing"
         ],
         "type": "scatter",
         "x": [
          1115,
          1115,
          1125,
          1125
         ],
         "xaxis": "x",
         "y": [
          0,
          1,
          1,
          0
         ],
         "yaxis": "y"
        },
        {
         "hoverinfo": "text",
         "marker": {
          "color": "rgb(133,20,75)"
         },
         "mode": "lines",
         "text": [
          "ax_ax ax_ax ax ax_ax ax ax ax_ax ax ax ax ax",
          "",
          "",
          "db_mov_bh_si_cs"
         ],
         "type": "scatter",
         "x": [
          1135,
          1135,
          1145,
          1145
         ],
         "xaxis": "x",
         "y": [
          0,
          0.9955916830151371,
          0.9955916830151371,
          0
         ],
         "yaxis": "y"
        },
        {
         "hoverinfo": "text",
         "marker": {
          "color": "rgb(0,116,217)"
         },
         "mode": "lines",
         "text": [
          "ditto_ignore keywords consistently simple eh_ll uckers_huh ignore keywords consistently_huh ignore",
          "",
          "",
          "ax_ax ax_ax ax ax_ax ax ax ax_ax ax ax ax ax"
         ],
         "type": "scatter",
         "x": [
          1120,
          1120,
          1140,
          1140
         ],
         "xaxis": "x",
         "y": [
          1,
          1.0017909539569256,
          1.0017909539569256,
          0.9955916830151371
         ],
         "yaxis": "y"
        },
        {
         "hoverinfo": "text",
         "marker": {
          "color": "rgb(255,220,0)"
         },
         "mode": "lines",
         "text": [
          "playback_frames_movie_quicktime_320 240",
          "",
          "",
          "cview_temp_temp files_temp file_files"
         ],
         "type": "scatter",
         "x": [
          1155,
          1155,
          1165,
          1165
         ],
         "xaxis": "x",
         "y": [
          0,
          0.9906587117406054,
          0.9906587117406054,
          0
         ],
         "yaxis": "y"
        },
        {
         "hoverinfo": "text",
         "marker": {
          "color": "rgb(255,220,0)"
         },
         "mode": "lines",
         "text": [
          "clock_date_dos_bios_midnight",
          "",
          "",
          "ms_innovative_ms products_product_products"
         ],
         "type": "scatter",
         "x": [
          1175,
          1175,
          1185,
          1185
         ],
         "xaxis": "x",
         "y": [
          0,
          0.9787703630540328,
          0.9787703630540328,
          0
         ],
         "yaxis": "y"
        },
        {
         "hoverinfo": "text",
         "marker": {
          "color": "rgb(255,220,0)"
         },
         "mode": "lines",
         "text": [
          "cview_temp_playback_temp files_frames",
          "",
          "",
          "ms_clock_date_dos_bios"
         ],
         "type": "scatter",
         "x": [
          1160,
          1160,
          1180,
          1180
         ],
         "xaxis": "x",
         "y": [
          0.9906587117406054,
          0.996405547467906,
          0.996405547467906,
          0.9787703630540328
         ],
         "yaxis": "y"
        },
        {
         "hoverinfo": "text",
         "marker": {
          "color": "rgb(0,116,217)"
         },
         "mode": "lines",
         "text": [
          "ax_ax ax_ax ax ax_ax ax ax ax_ax ax ax ax ax",
          "",
          "",
          "cview_ms_clock_temp_date"
         ],
         "type": "scatter",
         "x": [
          1130,
          1130,
          1170,
          1170
         ],
         "xaxis": "x",
         "y": [
          1.0017909539569256,
          1.0099421404239082,
          1.0099421404239082,
          0.996405547467906
         ],
         "yaxis": "y"
        },
        {
         "hoverinfo": "text",
         "marker": {
          "color": "rgb(40,35,35)"
         },
         "mode": "lines",
         "text": [
          "gehrels_tom gehrels_jpl_jpl universe april 23_jpl universe",
          "",
          "",
          "recurrent respiratory_recurrent respiratory papillomatosis_papillomatosis_respiratory papillomatosis_edu"
         ],
         "type": "scatter",
         "x": [
          1195,
          1195,
          1205,
          1205
         ],
         "xaxis": "x",
         "y": [
          0,
          0.9935493035461029,
          0.9935493035461029,
          0
         ],
         "yaxis": "y"
        },
        {
         "hoverinfo": "text",
         "marker": {
          "color": "rgb(40,35,35)"
         },
         "mode": "lines",
         "text": [
          "image processing_dicta 93_dicta_processing_image",
          "",
          "",
          "otis_het_van_een_en"
         ],
         "type": "scatter",
         "x": [
          1215,
          1215,
          1225,
          1225
         ],
         "xaxis": "x",
         "y": [
          0,
          0.9817942167739249,
          0.9817942167739249,
          0
         ],
         "yaxis": "y"
        },
        {
         "hoverinfo": "text",
         "marker": {
          "color": "rgb(40,35,35)"
         },
         "mode": "lines",
         "text": [
          "otis_het_van_een_edu",
          "",
          "",
          "copyright_copyrighted_image_geosphere_geosphere project"
         ],
         "type": "scatter",
         "x": [
          1220,
          1220,
          1235,
          1235
         ],
         "xaxis": "x",
         "y": [
          0.9817942167739249,
          0.9883688768382912,
          0.9883688768382912,
          0
         ],
         "yaxis": "y"
        },
        {
         "hoverinfo": "text",
         "marker": {
          "color": "rgb(40,35,35)"
         },
         "mode": "lines",
         "text": [
          "gehrels_edu_tom gehrels_respiratory papillomatosis_recurrent respiratory papillomatosis",
          "",
          "",
          "otis_het_van_een_image"
         ],
         "type": "scatter",
         "x": [
          1200,
          1200,
          1227.5,
          1227.5
         ],
         "xaxis": "x",
         "y": [
          0.9935493035461029,
          0.9956966335562631,
          0.9956966335562631,
          0.9883688768382912
         ],
         "yaxis": "y"
        },
        {
         "hoverinfo": "text",
         "marker": {
          "color": "rgb(61,153,112)"
         },
         "mode": "lines",
         "text": [
          "canadian_great canadian_canada_canadian scientists_nobel",
          "",
          "",
          "42_question_tea_life universe_number"
         ],
         "type": "scatter",
         "x": [
          1245,
          1245,
          1255,
          1255
         ],
         "xaxis": "x",
         "y": [
          0,
          0.9906689459239253,
          0.9906689459239253,
          0
         ],
         "yaxis": "y"
        },
        {
         "hoverinfo": "text",
         "marker": {
          "color": "rgb(61,153,112)"
         },
         "mode": "lines",
         "text": [
          "eye_prk_surgery_cornea_rk",
          "",
          "",
          "uv_light_bulb_bulbs_flashlight"
         ],
         "type": "scatter",
         "x": [
          1275,
          1275,
          1285,
          1285
         ],
         "xaxis": "x",
         "y": [
          0,
          0.9843480927897467,
          0.9843480927897467,
          0
         ],
         "yaxis": "y"
        },
        {
         "hoverinfo": "text",
         "marker": {
          "color": "rgb(61,153,112)"
         },
         "mode": "lines",
         "text": [
          "faq_sys mac_comp sys mac_comp sys_thanks",
          "",
          "",
          "uv_eye_prk_light_bulb"
         ],
         "type": "scatter",
         "x": [
          1265,
          1265,
          1280,
          1280
         ],
         "xaxis": "x",
         "y": [
          0,
          0.9940765720379006,
          0.9940765720379006,
          0.9843480927897467
         ],
         "yaxis": "y"
        },
        {
         "hoverinfo": "text",
         "marker": {
          "color": "rgb(61,153,112)"
         },
         "mode": "lines",
         "text": [
          "room_kitchen_living room_bedroom_summer",
          "",
          "",
          "wasps_chiggers_centipedes_sting_millipedes"
         ],
         "type": "scatter",
         "x": [
          1295,
          1295,
          1305,
          1305
         ],
         "xaxis": "x",
         "y": [
          0,
          0.9886666804050634,
          0.9886666804050634,
          0
         ],
         "yaxis": "y"
        },
        {
         "hoverinfo": "text",
         "marker": {
          "color": "rgb(61,153,112)"
         },
         "mode": "lines",
         "text": [
          "room_wasps_kitchen_living room_summer",
          "",
          "",
          "circumcision_medical_parents_studies_penile cancer"
         ],
         "type": "scatter",
         "x": [
          1300,
          1300,
          1315,
          1315
         ],
         "xaxis": "x",
         "y": [
          0.9886666804050634,
          0.9925188092445834,
          0.9925188092445834,
          0
         ],
         "yaxis": "y"
        },
        {
         "hoverinfo": "text",
         "marker": {
          "color": "rgb(61,153,112)"
         },
         "mode": "lines",
         "text": [
          "uv_eye_faq_prk_light",
          "",
          "",
          "room_wasps_circumcision_kitchen_living room"
         ],
         "type": "scatter",
         "x": [
          1272.5,
          1272.5,
          1307.5,
          1307.5
         ],
         "xaxis": "x",
         "y": [
          0.9940765720379006,
          0.9966668598907846,
          0.9966668598907846,
          0.9925188092445834
         ],
         "yaxis": "y"
        },
        {
         "hoverinfo": "text",
         "marker": {
          "color": "rgb(61,153,112)"
         },
         "mode": "lines",
         "text": [
          "question_42_tea_canadian_great canadian",
          "",
          "",
          "uv_eye_room_faq_near"
         ],
         "type": "scatter",
         "x": [
          1250,
          1250,
          1290,
          1290
         ],
         "xaxis": "x",
         "y": [
          0.9906689459239253,
          0.9978873358218435,
          0.9978873358218435,
          0.9966668598907846
         ],
         "yaxis": "y"
        },
        {
         "hoverinfo": "text",
         "marker": {
          "color": "rgb(255,65,54)"
         },
         "mode": "lines",
         "text": [
          "large_letter_cnn_internet_bettman",
          "",
          "",
          "letter_mail_letters_document room_representatives"
         ],
         "type": "scatter",
         "x": [
          1325,
          1325,
          1335,
          1335
         ],
         "xaxis": "x",
         "y": [
          0,
          0.982530229331151,
          0.982530229331151,
          0
         ],
         "yaxis": "y"
        },
        {
         "hoverinfo": "text",
         "marker": {
          "color": "rgb(0,116,217)"
         },
         "mode": "lines",
         "text": [
          "uv_eye_room_faq_question",
          "",
          "",
          "letter_mail_large_usenet_don"
         ],
         "type": "scatter",
         "x": [
          1270,
          1270,
          1330,
          1330
         ],
         "xaxis": "x",
         "y": [
          0.9978873358218435,
          1.0010452084872883,
          1.0010452084872883,
          0.982530229331151
         ],
         "yaxis": "y"
        },
        {
         "hoverinfo": "text",
         "marker": {
          "color": "rgb(35,205,205)"
         },
         "mode": "lines",
         "text": [
          "rosicrucian_rosicrucians_order_amorc_rosicrucian order",
          "",
          "",
          "ca_bbs_ca 818_ca 408_818"
         ],
         "type": "scatter",
         "x": [
          1345,
          1345,
          1355,
          1355
         ],
         "xaxis": "x",
         "y": [
          0,
          0.9847101302084573,
          0.9847101302084573,
          0
         ],
         "yaxis": "y"
        },
        {
         "hoverinfo": "text",
         "marker": {
          "color": "rgb(0,116,217)"
         },
         "mode": "lines",
         "text": [
          "uv_eye_room_faq_question",
          "",
          "",
          "ca_rosicrucian_rosicrucians_bbs_ca 408"
         ],
         "type": "scatter",
         "x": [
          1300,
          1300,
          1350,
          1350
         ],
         "xaxis": "x",
         "y": [
          1.0010452084872883,
          1.00481649644569,
          1.00481649644569,
          0.9847101302084573
         ],
         "yaxis": "y"
        },
        {
         "hoverinfo": "text",
         "marker": {
          "color": "rgb(0,116,217)"
         },
         "mode": "lines",
         "text": [
          "otis_het_van_een_edu",
          "",
          "",
          "uv_ca_eye_rosicrucian_room"
         ],
         "type": "scatter",
         "x": [
          1213.75,
          1213.75,
          1325,
          1325
         ],
         "xaxis": "x",
         "y": [
          0.9956966335562631,
          1.0115569301546157,
          1.0115569301546157,
          1.00481649644569
         ],
         "yaxis": "y"
        },
        {
         "hoverinfo": "text",
         "marker": {
          "color": "rgb(0,116,217)"
         },
         "mode": "lines",
         "text": [
          "ax_ax ax_ax ax ax_ax ax ax ax_ax ax ax ax ax",
          "",
          "",
          "ca_uv_edu_otis_eye"
         ],
         "type": "scatter",
         "x": [
          1150,
          1150,
          1269.375,
          1269.375
         ],
         "xaxis": "x",
         "y": [
          1.0099421404239082,
          1.0140652607718674,
          1.0140652607718674,
          1.0115569301546157
         ],
         "yaxis": "y"
        },
        {
         "hoverinfo": "text",
         "marker": {
          "color": "rgb(61,153,112)"
         },
         "mode": "lines",
         "text": [
          "scanner_hand scanner_grayscale_logitech_caere",
          "",
          "",
          "blue_leds_led_blue leds_blue led"
         ],
         "type": "scatter",
         "x": [
          1365,
          1365,
          1375,
          1375
         ],
         "xaxis": "x",
         "y": [
          0,
          0.9709254153722375,
          0.9709254153722375,
          0
         ],
         "yaxis": "y"
        },
        {
         "hoverinfo": "text",
         "marker": {
          "color": "rgb(61,153,112)"
         },
         "mode": "lines",
         "text": [
          "boards_solder_solder mask_mask_green",
          "",
          "",
          "circuits_books_circuit_theory_audio"
         ],
         "type": "scatter",
         "x": [
          1385,
          1385,
          1395,
          1395
         ],
         "xaxis": "x",
         "y": [
          0,
          0.9844298666630722,
          0.9844298666630722,
          0
         ],
         "yaxis": "y"
        },
        {
         "hoverinfo": "text",
         "marker": {
          "color": "rgb(61,153,112)"
         },
         "mode": "lines",
         "text": [
          "scanner_blue_leds_hand scanner_led",
          "",
          "",
          "boards_solder_solder mask_mask_green"
         ],
         "type": "scatter",
         "x": [
          1370,
          1370,
          1390,
          1390
         ],
         "xaxis": "x",
         "y": [
          0.9709254153722375,
          0.9956143259498722,
          0.9956143259498722,
          0.9844298666630722
         ],
         "yaxis": "y"
        },
        {
         "hoverinfo": "text",
         "marker": {
          "color": "rgb(0,116,217)"
         },
         "mode": "lines",
         "text": [
          "ax_ax ax_ax ax ax_ax ax ax ax_ax ax ax ax ax",
          "",
          "",
          "scanner_blue_boards_leds_green"
         ],
         "type": "scatter",
         "x": [
          1209.6875,
          1209.6875,
          1380,
          1380
         ],
         "xaxis": "x",
         "y": [
          1.0140652607718674,
          1.0157995027845155,
          1.0157995027845155,
          0.9956143259498722
         ],
         "yaxis": "y"
        },
        {
         "hoverinfo": "text",
         "marker": {
          "color": "rgb(255,65,54)"
         },
         "mode": "lines",
         "text": [
          "lens_camera_zoom_package_hotel",
          "",
          "",
          "ticket_round trip_hotel_voucher_trip"
         ],
         "type": "scatter",
         "x": [
          1405,
          1405,
          1415,
          1415
         ],
         "xaxis": "x",
         "y": [
          0,
          0.949669779535445,
          0.949669779535445,
          0
         ],
         "yaxis": "y"
        },
        {
         "hoverinfo": "text",
         "marker": {
          "color": "rgb(0,116,217)"
         },
         "mode": "lines",
         "text": [
          "ax_ax ax_ax ax ax_ax ax ax ax_ax ax ax ax ax",
          "",
          "",
          "lens_camera_hotel_voucher_package"
         ],
         "type": "scatter",
         "x": [
          1294.84375,
          1294.84375,
          1410,
          1410
         ],
         "xaxis": "x",
         "y": [
          1.0157995027845155,
          1.0288976862488513,
          1.0288976862488513,
          0.949669779535445
         ],
         "yaxis": "y"
        },
        {
         "hoverinfo": "text",
         "marker": {
          "color": "rgb(35,205,205)"
         },
         "mode": "lines",
         "text": [
          "ground_grounding_conductor_neutral_wire",
          "",
          "",
          "phone_ring_line_number_wires"
         ],
         "type": "scatter",
         "x": [
          1425,
          1425,
          1435,
          1435
         ],
         "xaxis": "x",
         "y": [
          0,
          0.9399103446163392,
          0.9399103446163392,
          0
         ],
         "yaxis": "y"
        },
        {
         "hoverinfo": "text",
         "marker": {
          "color": "rgb(35,205,205)"
         },
         "mode": "lines",
         "text": [
          "ground_conductor_grounding_wire_neutral",
          "",
          "",
          "dialing_tone_sweden_phone_tone dialing"
         ],
         "type": "scatter",
         "x": [
          1430,
          1430,
          1445,
          1445
         ],
         "xaxis": "x",
         "y": [
          0.9399103446163392,
          0.9814190382390771,
          0.9814190382390771,
          0
         ],
         "yaxis": "y"
        },
        {
         "hoverinfo": "text",
         "marker": {
          "color": "rgb(0,116,217)"
         },
         "mode": "lines",
         "text": [
          "ax_ax ax_ax ax ax_ax ax ax ax_ax ax ax ax ax",
          "",
          "",
          "ground_conductor_phone_grounding_wire"
         ],
         "type": "scatter",
         "x": [
          1352.421875,
          1352.421875,
          1437.5,
          1437.5
         ],
         "xaxis": "x",
         "y": [
          1.0288976862488513,
          1.0452766841103542,
          1.0452766841103542,
          0.9814190382390771
         ],
         "yaxis": "y"
        },
        {
         "hoverinfo": "text",
         "marker": {
          "color": "rgb(0,116,217)"
         },
         "mode": "lines",
         "text": [
          "battery_radar_temperature_water_detector",
          "",
          "",
          "ax_ax ax_ax ax ax_ax ax ax ax_ax ax ax ax ax"
         ],
         "type": "scatter",
         "x": [
          1058.75,
          1058.75,
          1394.9609375,
          1394.9609375
         ],
         "xaxis": "x",
         "y": [
          1.0225513412969611,
          1.0535728382766056,
          1.0535728382766056,
          1.0452766841103542
         ],
         "yaxis": "y"
        },
        {
         "hoverinfo": "text",
         "marker": {
          "color": "rgb(133,20,75)"
         },
         "mode": "lines",
         "text": [
          "meter_fluke_8060a_beckman_scale",
          "",
          "",
          "scope_scopes_function generator_generator_trace"
         ],
         "type": "scatter",
         "x": [
          1455,
          1455,
          1465,
          1465
         ],
         "xaxis": "x",
         "y": [
          0,
          0.9125215695933385,
          0.9125215695933385,
          0
         ],
         "yaxis": "y"
        },
        {
         "hoverinfo": "text",
         "marker": {
          "color": "rgb(255,220,0)"
         },
         "mode": "lines",
         "text": [
          "alarm_sensor_car_viper_alarms",
          "",
          "",
          "deleted_stuff deleted_stuff_deleted stuff deleted_deleted stuff"
         ],
         "type": "scatter",
         "x": [
          1475,
          1475,
          1485,
          1485
         ],
         "xaxis": "x",
         "y": [
          0,
          0.9696775841288899,
          0.9696775841288899,
          0
         ],
         "yaxis": "y"
        },
        {
         "hoverinfo": "text",
         "marker": {
          "color": "rgb(0,116,217)"
         },
         "mode": "lines",
         "text": [
          "scope_meter_scopes_fluke_function generator",
          "",
          "",
          "alarm_deleted_sensor_car_viper"
         ],
         "type": "scatter",
         "x": [
          1460,
          1460,
          1480,
          1480
         ],
         "xaxis": "x",
         "y": [
          0.9125215695933385,
          1.0104075666042454,
          1.0104075666042454,
          0.9696775841288899
         ],
         "yaxis": "y"
        },
        {
         "hoverinfo": "text",
         "marker": {
          "color": "rgb(0,116,217)"
         },
         "mode": "lines",
         "text": [
          "ax_ax ax_ax ax ax_ax ax ax ax_ax ax ax ax ax",
          "",
          "",
          "scope_alarm_meter_scopes_deleted"
         ],
         "type": "scatter",
         "x": [
          1226.85546875,
          1226.85546875,
          1470,
          1470
         ],
         "xaxis": "x",
         "y": [
          1.0535728382766056,
          1.0677193623294758,
          1.0677193623294758,
          1.0104075666042454
         ],
         "yaxis": "y"
        },
        {
         "hoverinfo": "text",
         "marker": {
          "color": "rgb(0,116,217)"
         },
         "mode": "lines",
         "text": [
          "com_edu_comp_newsgroup_list",
          "",
          "",
          "ax_ax ax_ax ax ax_ax ax ax ax_ax ax ax ax ax"
         ],
         "type": "scatter",
         "x": [
          935,
          935,
          1348.427734375,
          1348.427734375
         ],
         "xaxis": "x",
         "y": [
          0.9953907751972114,
          1.104152214352314,
          1.104152214352314,
          1.0677193623294758
         ],
         "yaxis": "y"
        },
        {
         "hoverinfo": "text",
         "marker": {
          "color": "rgb(40,35,35)"
         },
         "mode": "lines",
         "text": [
          "hst_mission_boost_shuttle_orbit",
          "",
          "",
          "venus_spacecraft_mission_april_degrees"
         ],
         "type": "scatter",
         "x": [
          1495,
          1495,
          1505,
          1505
         ],
         "xaxis": "x",
         "y": [
          0,
          0.9269102587227013,
          0.9269102587227013,
          0
         ],
         "yaxis": "y"
        },
        {
         "hoverinfo": "text",
         "marker": {
          "color": "rgb(40,35,35)"
         },
         "mode": "lines",
         "text": [
          "space_launch_station_redesign_satellite",
          "",
          "",
          "000_shuttle_launch_900_600"
         ],
         "type": "scatter",
         "x": [
          1515,
          1515,
          1525,
          1525
         ],
         "xaxis": "x",
         "y": [
          0,
          0.8838963828187286,
          0.8838963828187286,
          0
         ],
         "yaxis": "y"
        },
        {
         "hoverinfo": "text",
         "marker": {
          "color": "rgb(40,35,35)"
         },
         "mode": "lines",
         "text": [
          "hst_mission_venus_orbit_spacecraft",
          "",
          "",
          "launch_space_station_redesign_satellite"
         ],
         "type": "scatter",
         "x": [
          1500,
          1500,
          1520,
          1520
         ],
         "xaxis": "x",
         "y": [
          0.9269102587227013,
          0.9332862580152979,
          0.9332862580152979,
          0.8838963828187286
         ],
         "yaxis": "y"
        },
        {
         "hoverinfo": "text",
         "marker": {
          "color": "rgb(40,35,35)"
         },
         "mode": "lines",
         "text": [
          "lunar_moon_space_prize_billion",
          "",
          "",
          "sky_space_advertising_billboards_moon"
         ],
         "type": "scatter",
         "x": [
          1535,
          1535,
          1545,
          1545
         ],
         "xaxis": "x",
         "y": [
          0,
          0.9168514518540428,
          0.9168514518540428,
          0
         ],
         "yaxis": "y"
        },
        {
         "hoverinfo": "text",
         "marker": {
          "color": "rgb(40,35,35)"
         },
         "mode": "lines",
         "text": [
          "launch_space_mission_orbit_shuttle",
          "",
          "",
          "moon_lunar_space_sky_advertising"
         ],
         "type": "scatter",
         "x": [
          1510,
          1510,
          1540,
          1540
         ],
         "xaxis": "x",
         "y": [
          0.9332862580152979,
          0.9704279297376895,
          0.9704279297376895,
          0.9168514518540428
         ],
         "yaxis": "y"
        },
        {
         "hoverinfo": "text",
         "marker": {
          "color": "rgb(0,116,217)"
         },
         "mode": "lines",
         "text": [
          "ax_ax ax_ax ax ax_ax ax ax ax_ax ax ax ax ax",
          "",
          "",
          "space_launch_orbit_shuttle_mission"
         ],
         "type": "scatter",
         "x": [
          1141.7138671875,
          1141.7138671875,
          1525,
          1525
         ],
         "xaxis": "x",
         "y": [
          1.104152214352314,
          1.1936852986705393,
          1.1936852986705393,
          0.9704279297376895
         ],
         "yaxis": "y"
        },
        {
         "hoverinfo": "text",
         "marker": {
          "color": "rgb(61,153,112)"
         },
         "mode": "lines",
         "text": [
          "clutch_transmission_gear_shift_car",
          "",
          "",
          "car_engine_cars_ford_miles"
         ],
         "type": "scatter",
         "x": [
          1565,
          1565,
          1575,
          1575
         ],
         "xaxis": "x",
         "y": [
          0,
          0.8560337423256494,
          0.8560337423256494,
          0
         ],
         "yaxis": "y"
        },
        {
         "hoverinfo": "text",
         "marker": {
          "color": "rgb(61,153,112)"
         },
         "mode": "lines",
         "text": [
          "car_cars_engine_ford_miles",
          "",
          "",
          "oil_diesel_fuel_engine_diesels"
         ],
         "type": "scatter",
         "x": [
          1570,
          1570,
          1585,
          1585
         ],
         "xaxis": "x",
         "y": [
          0.8560337423256494,
          0.9157900355152949,
          0.9157900355152949,
          0
         ],
         "yaxis": "y"
        },
        {
         "hoverinfo": "text",
         "marker": {
          "color": "rgb(61,153,112)"
         },
         "mode": "lines",
         "text": [
          "dealer_price_car_std_dealer cost",
          "",
          "",
          "car_engine_cars_ford_miles"
         ],
         "type": "scatter",
         "x": [
          1555,
          1555,
          1577.5,
          1577.5
         ],
         "xaxis": "x",
         "y": [
          0,
          0.9405579384681815,
          0.9405579384681815,
          0.9157900355152949
         ],
         "yaxis": "y"
        },
        {
         "hoverinfo": "text",
         "marker": {
          "color": "rgb(61,153,112)"
         },
         "mode": "lines",
         "text": [
          "car_engine_cars_ford_miles",
          "",
          "",
          "odometer_sensor_car_gauge_mileage"
         ],
         "type": "scatter",
         "x": [
          1566.25,
          1566.25,
          1595,
          1595
         ],
         "xaxis": "x",
         "y": [
          0.9405579384681815,
          0.944889419629651,
          0.944889419629651,
          0
         ],
         "yaxis": "y"
        },
        {
         "hoverinfo": "text",
         "marker": {
          "color": "rgb(255,65,54)"
         },
         "mode": "lines",
         "text": [
          "weaver_trial_cooper_spence_harris",
          "",
          "",
          "dog_dogs_bike_trained_chase"
         ],
         "type": "scatter",
         "x": [
          1615,
          1615,
          1625,
          1625
         ],
         "xaxis": "x",
         "y": [
          0,
          0.9581467575751624,
          0.9581467575751624,
          0
         ],
         "yaxis": "y"
        },
        {
         "hoverinfo": "text",
         "marker": {
          "color": "rgb(255,65,54)"
         },
         "mode": "lines",
         "text": [
          "cop_ticket_court_judge_helmets",
          "",
          "",
          "dog_weaver_trial_cooper_dogs"
         ],
         "type": "scatter",
         "x": [
          1605,
          1605,
          1620,
          1620
         ],
         "xaxis": "x",
         "y": [
          0,
          0.9770217517558161,
          0.9770217517558161,
          0.9581467575751624
         ],
         "yaxis": "y"
        },
        {
         "hoverinfo": "text",
         "marker": {
          "color": "rgb(255,65,54)"
         },
         "mode": "lines",
         "text": [
          "lane_traffic_bike_nmm_jerk",
          "",
          "",
          "lane_car_mph_130_road"
         ],
         "type": "scatter",
         "x": [
          1635,
          1635,
          1645,
          1645
         ],
         "xaxis": "x",
         "y": [
          0,
          0.9462574503274206,
          0.9462574503274206,
          0
         ],
         "yaxis": "y"
        },
        {
         "hoverinfo": "text",
         "marker": {
          "color": "rgb(255,65,54)"
         },
         "mode": "lines",
         "text": [
          "dog_weaver_trial_cooper_dogs",
          "",
          "",
          "lane_car_traffic_bike_lanes"
         ],
         "type": "scatter",
         "x": [
          1612.5,
          1612.5,
          1640,
          1640
         ],
         "xaxis": "x",
         "y": [
          0.9770217517558161,
          0.9934867595377462,
          0.9934867595377462,
          0.9462574503274206
         ],
         "yaxis": "y"
        },
        {
         "hoverinfo": "text",
         "marker": {
          "color": "rgb(35,205,205)"
         },
         "mode": "lines",
         "text": [
          "bike_passenger_ride_riding_passengers",
          "",
          "",
          "bike_bikes_motorcycle_miles_ride"
         ],
         "type": "scatter",
         "x": [
          1675,
          1675,
          1685,
          1685
         ],
         "xaxis": "x",
         "y": [
          0,
          0.8844653767616151,
          0.8844653767616151,
          0
         ],
         "yaxis": "y"
        },
        {
         "hoverinfo": "text",
         "marker": {
          "color": "rgb(35,205,205)"
         },
         "mode": "lines",
         "text": [
          "countersteering_bike_rider_motorcycle_turn",
          "",
          "",
          "bike_bikes_ride_riding_motorcycle"
         ],
         "type": "scatter",
         "x": [
          1665,
          1665,
          1680,
          1680
         ],
         "xaxis": "x",
         "y": [
          0,
          0.9196677055318251,
          0.9196677055318251,
          0.8844653767616151
         ],
         "yaxis": "y"
        },
        {
         "hoverinfo": "text",
         "marker": {
          "color": "rgb(35,205,205)"
         },
         "mode": "lines",
         "text": [
          "bike_riding_ride_motorcycle_bikes",
          "",
          "",
          "shaft_lights_shaft effect_shaft drive_wheelie"
         ],
         "type": "scatter",
         "x": [
          1672.5,
          1672.5,
          1695,
          1695
         ],
         "xaxis": "x",
         "y": [
          0.9196677055318251,
          0.9645972656280849,
          0.9645972656280849,
          0
         ],
         "yaxis": "y"
        },
        {
         "hoverinfo": "text",
         "marker": {
          "color": "rgb(35,205,205)"
         },
         "mode": "lines",
         "text": [
          "tires_tire_rear_bike_xgt",
          "",
          "",
          "bike_motorcycle_riding_ride_bikes"
         ],
         "type": "scatter",
         "x": [
          1655,
          1655,
          1683.75,
          1683.75
         ],
         "xaxis": "x",
         "y": [
          0,
          0.9849382023825892,
          0.9849382023825892,
          0.9645972656280849
         ],
         "yaxis": "y"
        },
        {
         "hoverinfo": "text",
         "marker": {
          "color": "rgb(61,153,112)"
         },
         "mode": "lines",
         "text": [
          "biker_dod_enemy_cop_dude",
          "",
          "",
          "wave_bikers_waving_riding_harley riders"
         ],
         "type": "scatter",
         "x": [
          1705,
          1705,
          1715,
          1715
         ],
         "xaxis": "x",
         "y": [
          0,
          0.9692206803834065,
          0.9692206803834065,
          0
         ],
         "yaxis": "y"
        },
        {
         "hoverinfo": "text",
         "marker": {
          "color": "rgb(61,153,112)"
         },
         "mode": "lines",
         "text": [
          "bikers_wave_bike_biker_riding",
          "",
          "",
          "rig_motorcycles_bike_motorcycles allowed_mile drive"
         ],
         "type": "scatter",
         "x": [
          1710,
          1710,
          1725,
          1725
         ],
         "xaxis": "x",
         "y": [
          0.9692206803834065,
          0.9788670664915999,
          0.9788670664915999,
          0
         ],
         "yaxis": "y"
        },
        {
         "hoverinfo": "text",
         "marker": {
          "color": "rgb(61,153,112)"
         },
         "mode": "lines",
         "text": [
          "drunk_dwi_driving_alcohol_drunk driving",
          "",
          "",
          "helmet_liner_foam_cbd_impact"
         ],
         "type": "scatter",
         "x": [
          1735,
          1735,
          1745,
          1745
         ],
         "xaxis": "x",
         "y": [
          0,
          0.9766684514986159,
          0.9766684514986159,
          0
         ],
         "yaxis": "y"
        },
        {
         "hoverinfo": "text",
         "marker": {
          "color": "rgb(61,153,112)"
         },
         "mode": "lines",
         "text": [
          "bikers_bike_wave_biker_ride",
          "",
          "",
          "helmet_liner_drunk_dwi_foam"
         ],
         "type": "scatter",
         "x": [
          1717.5,
          1717.5,
          1740,
          1740
         ],
         "xaxis": "x",
         "y": [
          0.9788670664915999,
          0.9931298042039887,
          0.9931298042039887,
          0.9766684514986159
         ],
         "yaxis": "y"
        },
        {
         "hoverinfo": "text",
         "marker": {
          "color": "rgb(0,116,217)"
         },
         "mode": "lines",
         "text": [
          "bike_motorcycle_riding_bikes_ride",
          "",
          "",
          "helmet_bike_liner_drunk_dod"
         ],
         "type": "scatter",
         "x": [
          1669.375,
          1669.375,
          1728.75,
          1728.75
         ],
         "xaxis": "x",
         "y": [
          0.9849382023825892,
          1.0047068463220863,
          1.0047068463220863,
          0.9931298042039887
         ],
         "yaxis": "y"
        },
        {
         "hoverinfo": "text",
         "marker": {
          "color": "rgb(0,116,217)"
         },
         "mode": "lines",
         "text": [
          "dog_weaver_trial_cooper_lane",
          "",
          "",
          "bike_helmet_ride_riding_bikes"
         ],
         "type": "scatter",
         "x": [
          1626.25,
          1626.25,
          1699.0625,
          1699.0625
         ],
         "xaxis": "x",
         "y": [
          0.9934867595377462,
          1.0174814014367604,
          1.0174814014367604,
          1.0047068463220863
         ],
         "yaxis": "y"
        },
        {
         "hoverinfo": "text",
         "marker": {
          "color": "rgb(0,116,217)"
         },
         "mode": "lines",
         "text": [
          "car_engine_cars_ford_oil",
          "",
          "",
          "bike_dog_riding_ride_helmet"
         ],
         "type": "scatter",
         "x": [
          1580.625,
          1580.625,
          1662.65625,
          1662.65625
         ],
         "xaxis": "x",
         "y": [
          0.944889419629651,
          1.109392836399288,
          1.109392836399288,
          1.0174814014367604
         ],
         "yaxis": "y"
        },
        {
         "hoverinfo": "text",
         "marker": {
          "color": "rgb(0,116,217)"
         },
         "mode": "lines",
         "text": [
          "ax_ax ax_ax ax ax_ax ax ax ax_ax ax ax ax ax",
          "",
          "",
          "car_bike_engine_cars_miles"
         ],
         "type": "scatter",
         "x": [
          1333.35693359375,
          1333.35693359375,
          1621.640625,
          1621.640625
         ],
         "xaxis": "x",
         "y": [
          1.1936852986705393,
          1.231129829951693,
          1.231129829951693,
          1.109392836399288
         ],
         "yaxis": "y"
        },
        {
         "hoverinfo": "text",
         "marker": {
          "color": "rgb(0,116,217)"
         },
         "mode": "lines",
         "text": [
          "hiv_msg_cancer_medical_patients",
          "",
          "",
          "ax_ax ax_ax ax ax_ax ax ax ax_ax ax ax ax ax"
         ],
         "type": "scatter",
         "x": [
          852.65625,
          852.65625,
          1477.498779296875,
          1477.498779296875
         ],
         "xaxis": "x",
         "y": [
          1.122588047910479,
          1.2454981400427543,
          1.2454981400427543,
          1.231129829951693
         ],
         "yaxis": "y"
        },
        {
         "hoverinfo": "text",
         "marker": {
          "color": "rgb(255,65,54)"
         },
         "mode": "lines",
         "text": [
          "koresh_fbi_children_compound_batf",
          "",
          "",
          "fbi_started_______compound_fires"
         ],
         "type": "scatter",
         "x": [
          1755,
          1755,
          1765,
          1765
         ],
         "xaxis": "x",
         "y": [
          0,
          0.8123598350453363,
          0.8123598350453363,
          0
         ],
         "yaxis": "y"
        },
        {
         "hoverinfo": "text",
         "marker": {
          "color": "rgb(255,65,54)"
         },
         "mode": "lines",
         "text": [
          "koresh_fbi_compound_batf_started",
          "",
          "",
          "batf_warrant_fbi_raid_assault"
         ],
         "type": "scatter",
         "x": [
          1760,
          1760,
          1775,
          1775
         ],
         "xaxis": "x",
         "y": [
          0.8123598350453363,
          0.8282948798283948,
          0.8282948798283948,
          0
         ],
         "yaxis": "y"
        },
        {
         "hoverinfo": "text",
         "marker": {
          "color": "rgb(35,205,205)"
         },
         "mode": "lines",
         "text": [
          "reno_clinton_president_federal_waco",
          "",
          "",
          "president_stephanopoulos_mr stephanopoulos_mr_ms myers"
         ],
         "type": "scatter",
         "x": [
          1785,
          1785,
          1795,
          1795
         ],
         "xaxis": "x",
         "y": [
          0,
          0.7675893455026649,
          0.7675893455026649,
          0
         ],
         "yaxis": "y"
        },
        {
         "hoverinfo": "text",
         "marker": {
          "color": "rgb(0,116,217)"
         },
         "mode": "lines",
         "text": [
          "batf_koresh_fbi_compound_atf",
          "",
          "",
          "president_stephanopoulos_mr stephanopoulos_mr_ms myers"
         ],
         "type": "scatter",
         "x": [
          1767.5,
          1767.5,
          1790,
          1790
         ],
         "xaxis": "x",
         "y": [
          0.8282948798283948,
          1.0209981810717847,
          1.0209981810717847,
          0.7675893455026649
         ],
         "yaxis": "y"
        },
        {
         "hoverinfo": "text",
         "marker": {
          "color": "rgb(133,20,75)"
         },
         "mode": "lines",
         "text": [
          "armenian_armenians_turkish_armenia_said",
          "",
          "",
          "israel_israeli_jews_arab_jewish"
         ],
         "type": "scatter",
         "x": [
          1825,
          1825,
          1835,
          1835
         ],
         "xaxis": "x",
         "y": [
          0,
          0.789384921624835,
          0.789384921624835,
          0
         ],
         "yaxis": "y"
        },
        {
         "hoverinfo": "text",
         "marker": {
          "color": "rgb(133,20,75)"
         },
         "mode": "lines",
         "text": [
          "armenian_armenians_turkish_israel_jews",
          "",
          "",
          "discrimination_racial_african_people_israel"
         ],
         "type": "scatter",
         "x": [
          1830,
          1830,
          1845,
          1845
         ],
         "xaxis": "x",
         "y": [
          0.789384921624835,
          0.8869897976618738,
          0.8869897976618738,
          0
         ],
         "yaxis": "y"
        },
        {
         "hoverinfo": "text",
         "marker": {
          "color": "rgb(133,20,75)"
         },
         "mode": "lines",
         "text": [
          "serbs_muslims_bosnian_bosnia_croats",
          "",
          "",
          "armenian_armenians_israel_turkish_jews"
         ],
         "type": "scatter",
         "x": [
          1815,
          1815,
          1837.5,
          1837.5
         ],
         "xaxis": "x",
         "y": [
          0,
          0.9172302494914218,
          0.9172302494914218,
          0.8869897976618738
         ],
         "yaxis": "y"
        },
        {
         "hoverinfo": "text",
         "marker": {
          "color": "rgb(133,20,75)"
         },
         "mode": "lines",
         "text": [
          "armenian_armenians_israel_turkish_jews",
          "",
          "",
          "post_cs colorado_cs colorado edu_colorado edu_forged"
         ],
         "type": "scatter",
         "x": [
          1826.25,
          1826.25,
          1855,
          1855
         ],
         "xaxis": "x",
         "y": [
          0.9172302494914218,
          0.9344164436055757,
          0.9344164436055757,
          0
         ],
         "yaxis": "y"
        },
        {
         "hoverinfo": "text",
         "marker": {
          "color": "rgb(133,20,75)"
         },
         "mode": "lines",
         "text": [
          "kuwait_iraq_sheikh_arabia_al",
          "",
          "",
          "armenian_armenians_israel_turkish_jews"
         ],
         "type": "scatter",
         "x": [
          1805,
          1805,
          1840.625,
          1840.625
         ],
         "xaxis": "x",
         "y": [
          0,
          0.9723729520887594,
          0.9723729520887594,
          0.9344164436055757
         ],
         "yaxis": "y"
        },
        {
         "hoverinfo": "text",
         "marker": {
          "color": "rgb(255,220,0)"
         },
         "mode": "lines",
         "text": [
          "homosexuality_homosexual_paul_gay_sex",
          "",
          "",
          "kinsey_gay_men_sex_sexual"
         ],
         "type": "scatter",
         "x": [
          1865,
          1865,
          1875,
          1875
         ],
         "xaxis": "x",
         "y": [
          0,
          0.8177213004341595,
          0.8177213004341595,
          0
         ],
         "yaxis": "y"
        },
        {
         "hoverinfo": "text",
         "marker": {
          "color": "rgb(255,220,0)"
         },
         "mode": "lines",
         "text": [
          "homosexuality_homosexual_gay_sex_paul",
          "",
          "",
          "enviroleague_homosexuals_gay_clayton_sexual"
         ],
         "type": "scatter",
         "x": [
          1870,
          1870,
          1885,
          1885
         ],
         "xaxis": "x",
         "y": [
          0.8177213004341595,
          0.9184120615555158,
          0.9184120615555158,
          0
         ],
         "yaxis": "y"
        },
        {
         "hoverinfo": "text",
         "marker": {
          "color": "rgb(0,116,217)"
         },
         "mode": "lines",
         "text": [
          "armenian_armenians_israel_turkish_jews",
          "",
          "",
          "homosexual_homosexuality_gay_sex_sexual"
         ],
         "type": "scatter",
         "x": [
          1822.8125,
          1822.8125,
          1877.5,
          1877.5
         ],
         "xaxis": "x",
         "y": [
          0.9723729520887594,
          1.0824921523067326,
          1.0824921523067326,
          0.9184120615555158
         ],
         "yaxis": "y"
        },
        {
         "hoverinfo": "text",
         "marker": {
          "color": "rgb(40,35,35)"
         },
         "mode": "lines",
         "text": [
          "easter_resurrection_celebration_pagan_goddess",
          "",
          "",
          "sabbath_moses_commandments_tablets_discourses"
         ],
         "type": "scatter",
         "x": [
          1895,
          1895,
          1905,
          1905
         ],
         "xaxis": "x",
         "y": [
          0,
          0.9241092221256273,
          0.9241092221256273,
          0
         ],
         "yaxis": "y"
        },
        {
         "hoverinfo": "text",
         "marker": {
          "color": "rgb(61,153,112)"
         },
         "mode": "lines",
         "text": [
          "police_cops_officer_includes officer_law",
          "",
          "",
          "drugs_drug_drug users_cocaine_drug use"
         ],
         "type": "scatter",
         "x": [
          1915,
          1915,
          1925,
          1925
         ],
         "xaxis": "x",
         "y": [
          0,
          0.9571952788931254,
          0.9571952788931254,
          0
         ],
         "yaxis": "y"
        },
        {
         "hoverinfo": "text",
         "marker": {
          "color": "rgb(61,153,112)"
         },
         "mode": "lines",
         "text": [
          "russia_communism_war_people_democracies",
          "",
          "",
          "government_libertarians_libertarian_regulation_libertarianism"
         ],
         "type": "scatter",
         "x": [
          1935,
          1935,
          1945,
          1945
         ],
         "xaxis": "x",
         "y": [
          0,
          0.9431497487580837,
          0.9431497487580837,
          0
         ],
         "yaxis": "y"
        },
        {
         "hoverinfo": "text",
         "marker": {
          "color": "rgb(61,153,112)"
         },
         "mode": "lines",
         "text": [
          "drugs_drug_drug users_police_cocaine",
          "",
          "",
          "government_libertarians_libertarian_people_regulation"
         ],
         "type": "scatter",
         "x": [
          1920,
          1920,
          1940,
          1940
         ],
         "xaxis": "x",
         "y": [
          0.9571952788931254,
          0.9757217578470695,
          0.9757217578470695,
          0.9431497487580837
         ],
         "yaxis": "y"
        },
        {
         "hoverinfo": "text",
         "marker": {
          "color": "rgb(61,153,112)"
         },
         "mode": "lines",
         "text": [
          "militia_amendment_right_bear arms_regulated",
          "",
          "",
          "reserve_selective service_people_selective_naval"
         ],
         "type": "scatter",
         "x": [
          1955,
          1955,
          1965,
          1965
         ],
         "xaxis": "x",
         "y": [
          0,
          0.9158062332621082,
          0.9158062332621082,
          0
         ],
         "yaxis": "y"
        },
        {
         "hoverinfo": "text",
         "marker": {
          "color": "rgb(61,153,112)"
         },
         "mode": "lines",
         "text": [
          "drugs_drug_government_people_libertarians",
          "",
          "",
          "militia_amendment_right_people_regulated"
         ],
         "type": "scatter",
         "x": [
          1930,
          1930,
          1960,
          1960
         ],
         "xaxis": "x",
         "y": [
          0.9757217578470695,
          0.9920903544558037,
          0.9920903544558037,
          0.9158062332621082
         ],
         "yaxis": "y"
        },
        {
         "hoverinfo": "text",
         "marker": {
          "color": "rgb(255,65,54)"
         },
         "mode": "lines",
         "text": [
          "limbaugh_rush_hitler_bush_quayle",
          "",
          "",
          "tax_income_taxes_income tax_deficit"
         ],
         "type": "scatter",
         "x": [
          1975,
          1975,
          1985,
          1985
         ],
         "xaxis": "x",
         "y": [
          0,
          0.9615933668538843,
          0.9615933668538843,
          0
         ],
         "yaxis": "y"
        },
        {
         "hoverinfo": "text",
         "marker": {
          "color": "rgb(255,65,54)"
         },
         "mode": "lines",
         "text": [
          "death penalty_penalty_cruel_punishment_death",
          "",
          "",
          "jim_context_articles_weiss_quotes context"
         ],
         "type": "scatter",
         "x": [
          2005,
          2005,
          2015,
          2015
         ],
         "xaxis": "x",
         "y": [
          0,
          0.9703269605210915,
          0.9703269605210915,
          0
         ],
         "yaxis": "y"
        },
        {
         "hoverinfo": "text",
         "marker": {
          "color": "rgb(255,65,54)"
         },
         "mode": "lines",
         "text": [
          "abortion_abortions_choice_mother_pro",
          "",
          "",
          "jim_death penalty_penalty_cruel_punishment"
         ],
         "type": "scatter",
         "x": [
          1995,
          1995,
          2010,
          2010
         ],
         "xaxis": "x",
         "y": [
          0,
          0.982653739882994,
          0.982653739882994,
          0.9703269605210915
         ],
         "yaxis": "y"
        },
        {
         "hoverinfo": "text",
         "marker": {
          "color": "rgb(255,65,54)"
         },
         "mode": "lines",
         "text": [
          "tax_income_taxes_reagan_limbaugh",
          "",
          "",
          "jim_abortion_death penalty_punishment_penalty"
         ],
         "type": "scatter",
         "x": [
          1980,
          1980,
          2002.5,
          2002.5
         ],
         "xaxis": "x",
         "y": [
          0.9615933668538843,
          0.9981894258151081,
          0.9981894258151081,
          0.982653739882994
         ],
         "yaxis": "y"
        },
        {
         "hoverinfo": "text",
         "marker": {
          "color": "rgb(35,205,205)"
         },
         "mode": "lines",
         "text": [
          "religion_bobby_wars_history_crusades",
          "",
          "",
          "prayer_moment silence_silence_moment_cult"
         ],
         "type": "scatter",
         "x": [
          2025,
          2025,
          2035,
          2035
         ],
         "xaxis": "x",
         "y": [
          0,
          0.9727491226031656,
          0.9727491226031656,
          0
         ],
         "yaxis": "y"
        },
        {
         "hoverinfo": "text",
         "marker": {
          "color": "rgb(35,205,205)"
         },
         "mode": "lines",
         "text": [
          "religion_prayer_moment silence_silence_moment",
          "",
          "",
          "tongues_language_speak_tounges_pentecostals"
         ],
         "type": "scatter",
         "x": [
          2030,
          2030,
          2045,
          2045
         ],
         "xaxis": "x",
         "y": [
          0.9727491226031656,
          0.9847767411900453,
          0.9847767411900453,
          0
         ],
         "yaxis": "y"
        },
        {
         "hoverinfo": "text",
         "marker": {
          "color": "rgb(0,116,217)"
         },
         "mode": "lines",
         "text": [
          "tax_income_jim_taxes_abortion",
          "",
          "",
          "tongues_prayer_religion_moment silence_christian"
         ],
         "type": "scatter",
         "x": [
          1991.25,
          1991.25,
          2037.5,
          2037.5
         ],
         "xaxis": "x",
         "y": [
          0.9981894258151081,
          1.0059943588066125,
          1.0059943588066125,
          0.9847767411900453
         ],
         "yaxis": "y"
        },
        {
         "hoverinfo": "text",
         "marker": {
          "color": "rgb(61,153,112)"
         },
         "mode": "lines",
         "text": [
          "rushdie_motto_qur_apostasy_religion",
          "",
          "",
          "rushdie_islam_book_secular_muslim"
         ],
         "type": "scatter",
         "x": [
          2055,
          2055,
          2065,
          2065
         ],
         "xaxis": "x",
         "y": [
          0,
          0.9081376032697486,
          0.9081376032697486,
          0
         ],
         "yaxis": "y"
        },
        {
         "hoverinfo": "text",
         "marker": {
          "color": "rgb(61,153,112)"
         },
         "mode": "lines",
         "text": [
          "rushdie_islam_book_islamic_fatwa",
          "",
          "",
          "bcci_bank_islamic_islamic bank_banks"
         ],
         "type": "scatter",
         "x": [
          2060,
          2060,
          2075,
          2075
         ],
         "xaxis": "x",
         "y": [
          0.9081376032697486,
          0.9860015964408033,
          0.9860015964408033,
          0
         ],
         "yaxis": "y"
        },
        {
         "hoverinfo": "text",
         "marker": {
          "color": "rgb(0,116,217)"
         },
         "mode": "lines",
         "text": [
          "tax_income_jim_taxes_abortion",
          "",
          "",
          "rushdie_islamic_islam_book_bcci"
         ],
         "type": "scatter",
         "x": [
          2014.375,
          2014.375,
          2067.5,
          2067.5
         ],
         "xaxis": "x",
         "y": [
          1.0059943588066125,
          1.0298683331340504,
          1.0298683331340504,
          0.9860015964408033
         ],
         "yaxis": "y"
        },
        {
         "hoverinfo": "text",
         "marker": {
          "color": "rgb(0,116,217)"
         },
         "mode": "lines",
         "text": [
          "government_drugs_militia_drug_people",
          "",
          "",
          "rushdie_tax_religion_islamic_islam"
         ],
         "type": "scatter",
         "x": [
          1945,
          1945,
          2040.9375,
          2040.9375
         ],
         "xaxis": "x",
         "y": [
          0.9920903544558037,
          1.040966856367378,
          1.040966856367378,
          1.0298683331340504
         ],
         "yaxis": "y"
        },
        {
         "hoverinfo": "text",
         "marker": {
          "color": "rgb(255,65,54)"
         },
         "mode": "lines",
         "text": [
          "insurance_health_private_care_health care",
          "",
          "",
          "insurance_geico_car_accident_insurance company"
         ],
         "type": "scatter",
         "x": [
          2085,
          2085,
          2095,
          2095
         ],
         "xaxis": "x",
         "y": [
          0,
          0.8873758032837065,
          0.8873758032837065,
          0
         ],
         "yaxis": "y"
        },
        {
         "hoverinfo": "text",
         "marker": {
          "color": "rgb(0,116,217)"
         },
         "mode": "lines",
         "text": [
          "government_people_drugs_militia_drug",
          "",
          "",
          "insurance_health_private_care_health care"
         ],
         "type": "scatter",
         "x": [
          1992.96875,
          1992.96875,
          2090,
          2090
         ],
         "xaxis": "x",
         "y": [
          1.040966856367378,
          1.0442262752526708,
          1.0442262752526708,
          0.8873758032837065
         ],
         "yaxis": "y"
        },
        {
         "hoverinfo": "text",
         "marker": {
          "color": "rgb(0,116,217)"
         },
         "mode": "lines",
         "text": [
          "easter_sabbath_moses_commandments_tablets",
          "",
          "",
          "insurance_government_people_drugs_militia"
         ],
         "type": "scatter",
         "x": [
          1900,
          1900,
          2041.484375,
          2041.484375
         ],
         "xaxis": "x",
         "y": [
          0.9241092221256273,
          1.0537511460346647,
          1.0537511460346647,
          1.0442262752526708
         ],
         "yaxis": "y"
        },
        {
         "hoverinfo": "text",
         "marker": {
          "color": "rgb(35,205,205)"
         },
         "mode": "lines",
         "text": [
          "gun_guns_crime_000_deaths",
          "",
          "",
          "firearms_hb_homicide_vancouver_committee"
         ],
         "type": "scatter",
         "x": [
          2115,
          2115,
          2125,
          2125
         ],
         "xaxis": "x",
         "y": [
          0,
          0.8251729647846212,
          0.8251729647846212,
          0
         ],
         "yaxis": "y"
        },
        {
         "hoverinfo": "text",
         "marker": {
          "color": "rgb(35,205,205)"
         },
         "mode": "lines",
         "text": [
          "semi_revolver_gun_semi auto_auto",
          "",
          "",
          "gun_guns_firearms_crime_000"
         ],
         "type": "scatter",
         "x": [
          2105,
          2105,
          2120,
          2120
         ],
         "xaxis": "x",
         "y": [
          0,
          0.9375184993557386,
          0.9375184993557386,
          0.8251729647846212
         ],
         "yaxis": "y"
        },
        {
         "hoverinfo": "text",
         "marker": {
          "color": "rgb(35,205,205)"
         },
         "mode": "lines",
         "text": [
          "gun_guns_firearms_crime_000",
          "",
          "",
          "s414_brady_bills_senate_house"
         ],
         "type": "scatter",
         "x": [
          2112.5,
          2112.5,
          2135,
          2135
         ],
         "xaxis": "x",
         "y": [
          0.9375184993557386,
          0.9907820811259747,
          0.9907820811259747,
          0
         ],
         "yaxis": "y"
        },
        {
         "hoverinfo": "text",
         "marker": {
          "color": "rgb(0,116,217)"
         },
         "mode": "lines",
         "text": [
          "insurance_people_government_drugs_militia",
          "",
          "",
          "gun_guns_firearms_crime_000"
         ],
         "type": "scatter",
         "x": [
          1970.7421875,
          1970.7421875,
          2123.75,
          2123.75
         ],
         "xaxis": "x",
         "y": [
          1.0537511460346647,
          1.0863068033014593,
          1.0863068033014593,
          0.9907820811259747
         ],
         "yaxis": "y"
        },
        {
         "hoverinfo": "text",
         "marker": {
          "color": "rgb(0,116,217)"
         },
         "mode": "lines",
         "text": [
          "armenian_armenians_people_israel_turkish",
          "",
          "",
          "gun_people_guns_government_insurance"
         ],
         "type": "scatter",
         "x": [
          1850.15625,
          1850.15625,
          2047.24609375,
          2047.24609375
         ],
         "xaxis": "x",
         "y": [
          1.0824921523067326,
          1.1205443442741427,
          1.1205443442741427,
          1.0863068033014593
         ],
         "yaxis": "y"
        },
        {
         "hoverinfo": "text",
         "marker": {
          "color": "rgb(0,116,217)"
         },
         "mode": "lines",
         "text": [
          "president_stephanopoulos_mr stephanopoulos_mr_ms myers",
          "",
          "",
          "people_armenian_armenians_israel_turkish"
         ],
         "type": "scatter",
         "x": [
          1778.75,
          1778.75,
          1948.701171875,
          1948.701171875
         ],
         "xaxis": "x",
         "y": [
          1.0209981810717847,
          1.1834110570830503,
          1.1834110570830503,
          1.1205443442741427
         ],
         "yaxis": "y"
        },
        {
         "hoverinfo": "text",
         "marker": {
          "color": "rgb(0,116,217)"
         },
         "mode": "lines",
         "text": [
          "ax_ax ax_ax ax ax_ax ax ax ax_ax ax ax ax ax",
          "",
          "",
          "people_armenian_said_armenians_president"
         ],
         "type": "scatter",
         "x": [
          1165.0775146484375,
          1165.0775146484375,
          1863.7255859375,
          1863.7255859375
         ],
         "xaxis": "x",
         "y": [
          1.2454981400427543,
          1.3807150146491698,
          1.3807150146491698,
          1.1834110570830503
         ],
         "yaxis": "y"
        },
        {
         "hoverinfo": "text",
         "marker": {
          "color": "rgb(133,20,75)"
         },
         "mode": "lines",
         "text": [
          "science_scientific_theory_methodology_think",
          "",
          "",
          "morality_moral_objective_immoral_morals"
         ],
         "type": "scatter",
         "x": [
          2145,
          2145,
          2155,
          2155
         ],
         "xaxis": "x",
         "y": [
          0,
          0.8790253194655094,
          0.8790253194655094,
          0
         ],
         "yaxis": "y"
        },
        {
         "hoverinfo": "text",
         "marker": {
          "color": "rgb(133,20,75)"
         },
         "mode": "lines",
         "text": [
          "atheism_atheists_god_atheist_alt atheism",
          "",
          "",
          "god_belief_faith_exist_existence"
         ],
         "type": "scatter",
         "x": [
          2165,
          2165,
          2175,
          2175
         ],
         "xaxis": "x",
         "y": [
          0,
          0.7892173389873732,
          0.7892173389873732,
          0
         ],
         "yaxis": "y"
        },
        {
         "hoverinfo": "text",
         "marker": {
          "color": "rgb(133,20,75)"
         },
         "mode": "lines",
         "text": [
          "atheism_god_atheists_atheist_belief",
          "",
          "",
          "existence_exist_god_exists_universe"
         ],
         "type": "scatter",
         "x": [
          2170,
          2170,
          2185,
          2185
         ],
         "xaxis": "x",
         "y": [
          0.7892173389873732,
          0.919370485097401,
          0.919370485097401,
          0
         ],
         "yaxis": "y"
        },
        {
         "hoverinfo": "text",
         "marker": {
          "color": "rgb(133,20,75)"
         },
         "mode": "lines",
         "text": [
          "morality_objective_moral_science_think",
          "",
          "",
          "atheism_god_atheists_atheist_existence"
         ],
         "type": "scatter",
         "x": [
          2150,
          2150,
          2177.5,
          2177.5
         ],
         "xaxis": "x",
         "y": [
          0.8790253194655094,
          0.9631694569547335,
          0.9631694569547335,
          0.919370485097401
         ],
         "yaxis": "y"
        },
        {
         "hoverinfo": "text",
         "marker": {
          "color": "rgb(255,220,0)"
         },
         "mode": "lines",
         "text": [
          "answerfax_god_christ_rrrrr_select",
          "",
          "",
          "god_believe_life_jesus_eternal"
         ],
         "type": "scatter",
         "x": [
          2195,
          2195,
          2205,
          2205
         ],
         "xaxis": "x",
         "y": [
          0,
          0.9547753685553745,
          0.9547753685553745,
          0
         ],
         "yaxis": "y"
        },
        {
         "hoverinfo": "text",
         "marker": {
          "color": "rgb(255,220,0)"
         },
         "mode": "lines",
         "text": [
          "jesus_tomb_resurrection_disciples_christ",
          "",
          "",
          "bible_scripture_books_book_church"
         ],
         "type": "scatter",
         "x": [
          2225,
          2225,
          2235,
          2235
         ],
         "xaxis": "x",
         "y": [
          0,
          0.8919317514869274,
          0.8919317514869274,
          0
         ],
         "yaxis": "y"
        },
        {
         "hoverinfo": "text",
         "marker": {
          "color": "rgb(255,220,0)"
         },
         "mode": "lines",
         "text": [
          "bible_jesus_book_scripture_books",
          "",
          "",
          "hell_eternal_heaven_god_death"
         ],
         "type": "scatter",
         "x": [
          2230,
          2230,
          2245,
          2245
         ],
         "xaxis": "x",
         "y": [
          0.8919317514869274,
          0.9176779662650228,
          0.9176779662650228,
          0
         ],
         "yaxis": "y"
        },
        {
         "hoverinfo": "text",
         "marker": {
          "color": "rgb(255,220,0)"
         },
         "mode": "lines",
         "text": [
          "jesus_christian_christianity_christians_christ",
          "",
          "",
          "bible_hell_jesus_god_book"
         ],
         "type": "scatter",
         "x": [
          2215,
          2215,
          2237.5,
          2237.5
         ],
         "xaxis": "x",
         "y": [
          0,
          0.9285685519468907,
          0.9285685519468907,
          0.9176779662650228
         ],
         "yaxis": "y"
        },
        {
         "hoverinfo": "text",
         "marker": {
          "color": "rgb(255,220,0)"
         },
         "mode": "lines",
         "text": [
          "darren_truth_arrogance_arrogant_god",
          "",
          "",
          "ra_satan_god_thou_lucifer"
         ],
         "type": "scatter",
         "x": [
          2255,
          2255,
          2265,
          2265
         ],
         "xaxis": "x",
         "y": [
          0,
          0.8700915760595413,
          0.8700915760595413,
          0
         ],
         "yaxis": "y"
        },
        {
         "hoverinfo": "text",
         "marker": {
          "color": "rgb(255,220,0)"
         },
         "mode": "lines",
         "text": [
          "jesus_bible_hell_god_christian",
          "",
          "",
          "ra_god_satan_darren_bible"
         ],
         "type": "scatter",
         "x": [
          2226.25,
          2226.25,
          2260,
          2260
         ],
         "xaxis": "x",
         "y": [
          0.9285685519468907,
          0.9464425186551476,
          0.9464425186551476,
          0.8700915760595413
         ],
         "yaxis": "y"
        },
        {
         "hoverinfo": "text",
         "marker": {
          "color": "rgb(255,220,0)"
         },
         "mode": "lines",
         "text": [
          "baptism_aaron_sin_god_faith",
          "",
          "",
          "god_love_jesus_faith_moses"
         ],
         "type": "scatter",
         "x": [
          2275,
          2275,
          2285,
          2285
         ],
         "xaxis": "x",
         "y": [
          0,
          0.8567530280026301,
          0.8567530280026301,
          0
         ],
         "yaxis": "y"
        },
        {
         "hoverinfo": "text",
         "marker": {
          "color": "rgb(255,220,0)"
         },
         "mode": "lines",
         "text": [
          "god_faith_jesus_sin_baptism",
          "",
          "",
          "mary_sin_god_bernadette_maria"
         ],
         "type": "scatter",
         "x": [
          2280,
          2280,
          2295,
          2295
         ],
         "xaxis": "x",
         "y": [
          0.8567530280026301,
          0.899170129482063,
          0.899170129482063,
          0
         ],
         "yaxis": "y"
        },
        {
         "hoverinfo": "text",
         "marker": {
          "color": "rgb(255,220,0)"
         },
         "mode": "lines",
         "text": [
          "jesus_god_bible_hell_christian",
          "",
          "",
          "god_mary_sin_faith_jesus"
         ],
         "type": "scatter",
         "x": [
          2243.125,
          2243.125,
          2287.5,
          2287.5
         ],
         "xaxis": "x",
         "y": [
          0.9464425186551476,
          0.9639149383200915,
          0.9639149383200915,
          0.899170129482063
         ],
         "yaxis": "y"
        },
        {
         "hoverinfo": "text",
         "marker": {
          "color": "rgb(255,220,0)"
         },
         "mode": "lines",
         "text": [
          "god_answerfax_christ_believe_jesus",
          "",
          "",
          "god_jesus_bible_christ_faith"
         ],
         "type": "scatter",
         "x": [
          2200,
          2200,
          2265.3125,
          2265.3125
         ],
         "xaxis": "x",
         "y": [
          0.9547753685553745,
          0.9732705386133961,
          0.9732705386133961,
          0.9639149383200915
         ],
         "yaxis": "y"
        },
        {
         "hoverinfo": "text",
         "marker": {
          "color": "rgb(40,35,35)"
         },
         "mode": "lines",
         "text": [
          "god_father_son_holy spirit_holy",
          "",
          "",
          "orthodox_creed_father_spirit_coptic"
         ],
         "type": "scatter",
         "x": [
          2315,
          2315,
          2325,
          2325
         ],
         "xaxis": "x",
         "y": [
          0,
          0.8564654358642646,
          0.8564654358642646,
          0
         ],
         "yaxis": "y"
        },
        {
         "hoverinfo": "text",
         "marker": {
          "color": "rgb(40,35,35)"
         },
         "mode": "lines",
         "text": [
          "jehovah_elohim_lord_lord jehovah_mcconkie",
          "",
          "",
          "father_son_spirit_holy spirit_god"
         ],
         "type": "scatter",
         "x": [
          2305,
          2305,
          2320,
          2320
         ],
         "xaxis": "x",
         "y": [
          0,
          0.9060903937060889,
          0.9060903937060889,
          0.8564654358642646
         ],
         "yaxis": "y"
        },
        {
         "hoverinfo": "text",
         "marker": {
          "color": "rgb(40,35,35)"
         },
         "mode": "lines",
         "text": [
          "church_schism_pope_archbishop_schismatic",
          "",
          "",
          "marriage_married_marry_ceremony_church"
         ],
         "type": "scatter",
         "x": [
          2335,
          2335,
          2345,
          2345
         ],
         "xaxis": "x",
         "y": [
          0,
          0.9492827746417292,
          0.9492827746417292,
          0
         ],
         "yaxis": "y"
        },
        {
         "hoverinfo": "text",
         "marker": {
          "color": "rgb(40,35,35)"
         },
         "mode": "lines",
         "text": [
          "jehovah_elohim_father_lord_god",
          "",
          "",
          "marriage_church_married_schism_pope"
         ],
         "type": "scatter",
         "x": [
          2312.5,
          2312.5,
          2340,
          2340
         ],
         "xaxis": "x",
         "y": [
          0.9060903937060889,
          0.9849572912134694,
          0.9849572912134694,
          0.9492827746417292
         ],
         "yaxis": "y"
        },
        {
         "hoverinfo": "text",
         "marker": {
          "color": "rgb(0,116,217)"
         },
         "mode": "lines",
         "text": [
          "god_jesus_bible_christ_faith",
          "",
          "",
          "jehovah_elohim_father_church_god"
         ],
         "type": "scatter",
         "x": [
          2232.65625,
          2232.65625,
          2326.25,
          2326.25
         ],
         "xaxis": "x",
         "y": [
          0.9732705386133961,
          1.0044677145929495,
          1.0044677145929495,
          0.9849572912134694
         ],
         "yaxis": "y"
        },
        {
         "hoverinfo": "text",
         "marker": {
          "color": "rgb(0,116,217)"
         },
         "mode": "lines",
         "text": [
          "atheism_god_morality_moral_atheists",
          "",
          "",
          "god_jesus_christ_church_bible"
         ],
         "type": "scatter",
         "x": [
          2163.75,
          2163.75,
          2279.453125,
          2279.453125
         ],
         "xaxis": "x",
         "y": [
          0.9631694569547335,
          1.1115612480307548,
          1.1115612480307548,
          1.0044677145929495
         ],
         "yaxis": "y"
        },
        {
         "hoverinfo": "text",
         "marker": {
          "color": "rgb(0,116,217)"
         },
         "mode": "lines",
         "text": [
          "ax_ax ax_ax ax ax_ax ax ax ax_ax ax ax ax ax",
          "",
          "",
          "god_jesus_bible_christ_church"
         ],
         "type": "scatter",
         "x": [
          1514.4015502929688,
          1514.4015502929688,
          2221.6015625,
          2221.6015625
         ],
         "xaxis": "x",
         "y": [
          1.3807150146491698,
          1.5619724301943188,
          1.5619724301943188,
          1.1115612480307548
         ],
         "yaxis": "y"
        },
        {
         "hoverinfo": "text",
         "marker": {
          "color": "rgb(0,116,217)"
         },
         "mode": "lines",
         "text": [
          "00_game_use_key_dos",
          "",
          "",
          "ax_ax ax_ax ax ax_ax ax ax ax_ax ax ax ax ax"
         ],
         "type": "scatter",
         "x": [
          383.212890625,
          383.212890625,
          1868.0015563964844,
          1868.0015563964844
         ],
         "xaxis": "x",
         "y": [
          1.3656422749777122,
          1.6673789250170232,
          1.6673789250170232,
          1.5619724301943188
         ],
         "yaxis": "y"
        },
        {
         "hoverinfo": "text",
         "hovertext": [
          "lib_ndet_loop_libxmu_error_lib xmu",
          "window_colormap_dpy_mydisplay_color",
          "lib_xv_error_ndet_loop_libxmu",
          "dos dos_dos_dos dos dos_dos dos dos dos_dos dos dos dos dos",
          "dos dos_dos_dos dos dos_dos dos dos dos_dos dos dos dos dos",
          "window_lib_xv_error_ndet_loop",
          "windows_dos_allocation_memory_cross linked",
          "keyboard_rsi_typing_key_keycode",
          "printer_fonts_print_font_hp",
          "network_w4wg_novell_netware_windows",
          "keyboard_sound_rsi_typing_pc",
          "copy_copy protection_program_protection_software",
          "hacker_computer_hackers_engineering_programming",
          "borland_copy_paradox_windows_software",
          "printer_keyboard_fonts_print_windows",
          "windows_mouse_dos_allocation_file",
          "dos dos_dos_window_dos dos dos_dos dos dos dos",
          "key_encryption_clipper_chip_keys",
          "jpeg_gif_image_format_file",
          "graphics_image_edu_ftp_pub",
          "key_encryption_clipper_chip_keys",
          "windows_dos_window_dos dos_dos dos dos",
          "game_team_games_year_season",
          "00_50_1st_wolverine_20",
          "drive_scsi_drives_disk_ide",
          "modem_port_modems_fax_irq",
          "monitor_vga_monitors_video_sync",
          "card_drivers_video_diamond_stealth",
          "cpu_mhz_clock_fan_heat",
          "mhz_cpu_clock_fan_heat",
          "pds_nubus_fpu_lc_ethernet",
          "simms_simm_vram_memory_meg",
          "mhz_cpu_clock_fan_heat",
          "card_drivers_video_bus_vlb",
          "monitor_vga_monitors_screen_video",
          "drive_scsi_drives_disk_ide",
          "game_00_team_games_10",
          "key_windows_use_image_dos",
          "candida_yeast_disease_patients_syndrome",
          "candida_pain_yeast_patients_disease",
          "msg_food_chinese_foods_eat",
          "hiv_aids_cancer_health_medical",
          "msg_food_candida_pain_patients",
          "mailing_mailing list_list_subscribe_latin",
          "edu_com_comp_newsgroup_vote",
          "radar_detector_detectors_oort_radar detector",
          "kirlian_photography_tempest_kirlian photography_leaf",
          "gas_tear gas_tear_wax_paint",
          "water_gas_nuclear_cooling_steam",
          "radar_detector_detectors_den_p3",
          "battery_batteries_concrete_acid_discharge",
          "radar_water_detector_detectors_gas",
          "ditto_ignore keywords consistently simple eh_ll uckers_huh ignore keywords consistently_huh ignore",
          "cview_temp_playback_temp files_frames",
          "ax_ax ax_ax ax ax_ax ax ax ax_ax ax ax ax ax",
          "otis_het_van_een_edu",
          "gehrels_edu_tom gehrels_respiratory papillomatosis_recurrent respiratory papillomatosis",
          "room_wasps_kitchen_living room_summer",
          "uv_eye_faq_prk_light",
          "question_42_tea_canadian_great canadian",
          "uv_eye_room_faq_question",
          "uv_eye_room_faq_question",
          "otis_het_van_een_edu",
          "ax_ax ax_ax ax ax_ax ax ax ax_ax ax ax ax ax",
          "scanner_blue_leds_hand scanner_led",
          "ax_ax ax_ax ax ax_ax ax ax ax_ax ax ax ax ax",
          "ax_ax ax_ax ax ax_ax ax ax ax_ax ax ax ax ax",
          "ground_conductor_grounding_wire_neutral",
          "ax_ax ax_ax ax ax_ax ax ax ax_ax ax ax ax ax",
          "battery_radar_temperature_water_detector",
          "scope_meter_scopes_fluke_function generator",
          "ax_ax ax_ax ax ax_ax ax ax ax_ax ax ax ax ax",
          "com_edu_comp_newsgroup_list",
          "hst_mission_venus_orbit_spacecraft",
          "launch_space_mission_orbit_shuttle",
          "ax_ax ax_ax ax ax_ax ax ax ax_ax ax ax ax ax",
          "car_cars_engine_ford_miles",
          "car_engine_cars_ford_miles",
          "dog_weaver_trial_cooper_dogs",
          "bike_riding_ride_motorcycle_bikes",
          "bikers_wave_bike_biker_riding",
          "bikers_bike_wave_biker_ride",
          "bike_motorcycle_riding_bikes_ride",
          "dog_weaver_trial_cooper_lane",
          "car_engine_cars_ford_oil",
          "ax_ax ax_ax ax ax_ax ax ax ax_ax ax ax ax ax",
          "hiv_msg_cancer_medical_patients",
          "koresh_fbi_compound_batf_started",
          "batf_koresh_fbi_compound_atf",
          "armenian_armenians_turkish_israel_jews",
          "armenian_armenians_israel_turkish_jews",
          "homosexuality_homosexual_gay_sex_paul",
          "armenian_armenians_israel_turkish_jews",
          "drugs_drug_drug users_police_cocaine",
          "drugs_drug_government_people_libertarians",
          "tax_income_taxes_reagan_limbaugh",
          "religion_prayer_moment silence_silence_moment",
          "tax_income_jim_taxes_abortion",
          "rushdie_islam_book_islamic_fatwa",
          "tax_income_jim_taxes_abortion",
          "government_drugs_militia_drug_people",
          "government_people_drugs_militia_drug",
          "easter_sabbath_moses_commandments_tablets",
          "gun_guns_firearms_crime_000",
          "insurance_people_government_drugs_militia",
          "armenian_armenians_people_israel_turkish",
          "president_stephanopoulos_mr stephanopoulos_mr_ms myers",
          "ax_ax ax_ax ax ax_ax ax ax ax_ax ax ax ax ax",
          "atheism_god_atheists_atheist_belief",
          "morality_objective_moral_science_think",
          "bible_jesus_book_scripture_books",
          "jesus_bible_hell_god_christian",
          "god_faith_jesus_sin_baptism",
          "jesus_god_bible_hell_christian",
          "god_answerfax_christ_believe_jesus",
          "jehovah_elohim_father_lord_god",
          "god_jesus_bible_christ_faith",
          "atheism_god_morality_moral_atheists",
          "ax_ax ax_ax ax ax_ax ax ax ax_ax ax ax ax ax",
          "00_game_use_key_dos"
         ],
         "marker": {
          "color": "black"
         },
         "mode": "markers",
         "showlegend": false,
         "type": "scatter",
         "x": [
          12.5,
          60,
          26.25,
          90,
          97.5,
          46.875,
          142.5,
          180,
          240,
          220,
          190,
          270,
          310,
          280,
          211.875,
          139.375,
          76.5625,
          340,
          400,
          372.5,
          347.5,
          136.953125,
          462.5,
          432.5,
          532.5,
          502.5,
          580,
          613.75,
          670,
          680,
          742.5,
          720,
          692.5,
          631.875,
          576.25,
          523.125,
          453.125,
          252.8515625,
          830,
          826.25,
          792.5,
          880,
          817.8125,
          910,
          920,
          990,
          970,
          1030,
          1040,
          985,
          1090,
          1020,
          1120,
          1160,
          1130,
          1220,
          1200,
          1300,
          1272.5,
          1250,
          1270,
          1300,
          1213.75,
          1150,
          1370,
          1209.6875,
          1294.84375,
          1430,
          1352.421875,
          1058.75,
          1460,
          1226.85546875,
          935,
          1500,
          1510,
          1141.7138671875,
          1570,
          1566.25,
          1612.5,
          1672.5,
          1710,
          1717.5,
          1669.375,
          1626.25,
          1580.625,
          1333.35693359375,
          852.65625,
          1760,
          1767.5,
          1830,
          1826.25,
          1870,
          1822.8125,
          1920,
          1930,
          1980,
          2030,
          1991.25,
          2060,
          2014.375,
          1945,
          1992.96875,
          1900,
          2112.5,
          1970.7421875,
          1850.15625,
          1778.75,
          1165.0775146484375,
          2170,
          2150,
          2230,
          2226.25,
          2280,
          2243.125,
          2200,
          2312.5,
          2232.65625,
          2163.75,
          1514.4015502929688,
          383.212890625
         ],
         "y": [
          0.9758888300787645,
          0.8978030022455364,
          1.006841002733873,
          0.8167754742534392,
          0.8653911870882202,
          1.0207747751587215,
          0.9344922085145698,
          0.9231683301712735,
          0.8822120084926758,
          0.9511057823100095,
          1.0201376662084216,
          0.9474784495116572,
          0.9624740883944327,
          0.9855068791359164,
          1.0260125676429745,
          0.9603169867890112,
          1.0468274270395774,
          0.7211523250523859,
          0.8332306324132837,
          0.9369105679023867,
          0.9149591749669408,
          1.1296064633732719,
          0.8981897615649934,
          0.9066519701961376,
          0.9262369874073788,
          0.9115316723950355,
          0.8562862446468181,
          0.9678678398708609,
          0.8800515288720381,
          0.9575156325659654,
          0.9636397762143114,
          0.8594650824155244,
          0.9733797241722785,
          0.9877862613909997,
          0.9681750534332736,
          1.080012017371101,
          0.9896712825070654,
          1.2045879545724707,
          0.8869731705173693,
          0.9668646901022495,
          0.9647624238880584,
          0.7875452666728705,
          1.0135886872369608,
          0.9618420501222419,
          0.9782445511980529,
          0.9551342948866581,
          0.9884146605182875,
          0.9760733393126851,
          0.9810023288467186,
          0.9952490936866714,
          0.9468102620066549,
          1.0135781739984402,
          1,
          0.9906587117406054,
          1.0017909539569256,
          0.9817942167739249,
          0.9935493035461029,
          0.9886666804050634,
          0.9940765720379006,
          0.9906689459239253,
          0.9978873358218435,
          1.0010452084872883,
          0.9956966335562631,
          1.0099421404239082,
          0.9709254153722375,
          1.0140652607718674,
          1.0157995027845155,
          0.9399103446163392,
          1.0288976862488513,
          1.0225513412969611,
          0.9125215695933385,
          1.0535728382766056,
          0.9953907751972114,
          0.9269102587227013,
          0.9332862580152979,
          1.104152214352314,
          0.8560337423256494,
          0.9405579384681815,
          0.9770217517558161,
          0.9196677055318251,
          0.9692206803834065,
          0.9788670664915999,
          0.9849382023825892,
          0.9934867595377462,
          0.944889419629651,
          1.1936852986705393,
          1.122588047910479,
          0.8123598350453363,
          0.8282948798283948,
          0.789384921624835,
          0.9172302494914218,
          0.8177213004341595,
          0.9723729520887594,
          0.9571952788931254,
          0.9757217578470695,
          0.9615933668538843,
          0.9727491226031656,
          0.9981894258151081,
          0.9081376032697486,
          1.0059943588066125,
          0.9920903544558037,
          1.040966856367378,
          0.9241092221256273,
          0.9375184993557386,
          1.0537511460346647,
          1.0824921523067326,
          1.0209981810717847,
          1.2454981400427543,
          0.7892173389873732,
          0.8790253194655094,
          0.8919317514869274,
          0.9285685519468907,
          0.8567530280026301,
          0.9464425186551476,
          0.9547753685553745,
          0.9060903937060889,
          0.9732705386133961,
          0.9631694569547335,
          1.3807150146491698,
          1.3656422749777122
         ]
        },
        {
         "hoverinfo": "text",
         "hovertext": [
          "lib_ndet_loop_libxmu_error_lib xmu",
          "xv_24 bit_image_bit_24",
          "window_colormap_dpy_mydisplay_widget",
          "dos dos_dos_dos dos dos_dos dos dos dos_dos dos dos dos dos",
          "windows_dos_allocation_memory_cross linked",
          "windows_dos_allocation_memory_file",
          "sound_midi_speech_play_channel",
          "printer_fonts_print_font_hp",
          "printer_fonts_print_font_hp",
          "borland_paradox_windows_manuals_engine",
          "hacker_software_computer_engineering_programming",
          "software_borland_copy_windows_paradox",
          "printer_windows_keyboard_software_fonts",
          "windows_printer_dos_keyboard_mouse",
          "image_graphics_edu_ftp_pub",
          "jpeg_gif_image_format_file",
          "jpeg_image_graphics_images_gif",
          "key_jpeg_image_encryption_clipper",
          "00_50_1st_wolverine_comics",
          "game_team_games_year_season",
          "game_team_games_year_season",
          "modem_modems_fax_port_serial",
          "drive_scsi_drives_disk_ide",
          "drive_scsi_drives_disk_ide",
          "monitor_vga_monitors_screen_video",
          "drivers_card_diamond_stealth_vlb",
          "card_drivers_video_diamond_stealth",
          "eisa_isa_bus_vlb_card",
          "bus_486dx2_50_mhz_486",
          "pds_nubus_fpu_lc_lciii",
          "duo_powerbook_apple_duo 230_230",
          "apple_pds_fpu_nubus_lc",
          "simms_apple_pds_lc_fpu",
          "cpu_mhz_simms_chip_clock",
          "cpu_mhz_card_simms_chip",
          "monitor_card_mhz_cpu_apple",
          "drive_scsi_drives_card_disk",
          "00_game_team_drive_10",
          "msg_food_chinese_foods_glutamate",
          "candida_pain_yeast_patients_disease",
          "rutin_fever_surgery_meningitis_nasal",
          "candida_pain_yeast_patients_doctor",
          "hiv_cancer_aids_medical_health",
          "edu_com_comp_newsgroup_vote",
          "address_mail_email address_compuserve_email",
          "den_p3_p2_p1_points",
          "radar_detector_detectors_den_p3",
          "water_nuclear_cooling_steam_towers",
          "phd_oxygen_atmosphere_atmospheric_meteorologist",
          "water_gas_nuclear_cooling_steam",
          "battery_batteries_concrete_acid_discharge",
          "ax_ax ax_ax ax ax_ax ax ax ax_ax ax ax ax ax",
          "ms_clock_date_dos_bios",
          "cview_ms_clock_temp_date",
          "otis_het_van_een_image",
          "uv_eye_prk_light_bulb",
          "room_wasps_circumcision_kitchen_living room",
          "uv_eye_room_faq_near",
          "letter_mail_large_usenet_don",
          "ca_rosicrucian_rosicrucians_bbs_ca 408",
          "uv_ca_eye_rosicrucian_room",
          "ca_uv_edu_otis_eye",
          "boards_solder_solder mask_mask_green",
          "scanner_blue_boards_leds_green",
          "lens_camera_hotel_voucher_package",
          "ground_conductor_phone_grounding_wire",
          "ax_ax ax_ax ax ax_ax ax ax ax_ax ax ax ax ax",
          "alarm_deleted_sensor_car_viper",
          "scope_alarm_meter_scopes_deleted",
          "ax_ax ax_ax ax ax_ax ax ax ax_ax ax ax ax ax",
          "launch_space_station_redesign_satellite",
          "moon_lunar_space_sky_advertising",
          "space_launch_orbit_shuttle_mission",
          "car_engine_cars_ford_miles",
          "dog_weaver_trial_cooper_dogs",
          "lane_car_traffic_bike_lanes",
          "bike_bikes_ride_riding_motorcycle",
          "bike_motorcycle_riding_ride_bikes",
          "helmet_liner_drunk_dwi_foam",
          "helmet_bike_liner_drunk_dod",
          "bike_helmet_ride_riding_bikes",
          "bike_dog_riding_ride_helmet",
          "car_bike_engine_cars_miles",
          "ax_ax ax_ax ax ax_ax ax ax ax_ax ax ax ax ax",
          "president_stephanopoulos_mr stephanopoulos_mr_ms myers",
          "armenian_armenians_israel_turkish_jews",
          "armenian_armenians_israel_turkish_jews",
          "homosexual_homosexuality_gay_sex_sexual",
          "government_libertarians_libertarian_people_regulation",
          "militia_amendment_right_people_regulated",
          "jim_death penalty_penalty_cruel_punishment",
          "jim_abortion_death penalty_punishment_penalty",
          "tongues_prayer_religion_moment silence_christian",
          "rushdie_islamic_islam_book_bcci",
          "rushdie_tax_religion_islamic_islam",
          "insurance_health_private_care_health care",
          "insurance_government_people_drugs_militia",
          "gun_guns_firearms_crime_000",
          "gun_guns_firearms_crime_000",
          "gun_people_guns_government_insurance",
          "people_armenian_armenians_israel_turkish",
          "people_armenian_said_armenians_president",
          "atheism_god_atheists_atheist_existence",
          "bible_hell_jesus_god_book",
          "ra_god_satan_darren_bible",
          "god_mary_sin_faith_jesus",
          "god_jesus_bible_christ_faith",
          "father_son_spirit_holy spirit_god",
          "marriage_church_married_schism_pope",
          "jehovah_elohim_father_church_god",
          "god_jesus_christ_church_bible",
          "god_jesus_bible_christ_church",
          "ax_ax ax_ax ax ax_ax ax ax ax_ax ax ax ax ax"
         ],
         "marker": {
          "color": "black"
         },
         "mode": "markers",
         "showlegend": false,
         "type": "scatter",
         "x": [
          20,
          40,
          67.5,
          106.25,
          150,
          153.75,
          200,
          247.5,
          233.75,
          290,
          317.5,
          298.75,
          255.3125,
          197.34375,
          380,
          407.5,
          390,
          368.75,
          440,
          470,
          473.75,
          510,
          540,
          543.75,
          587.5,
          630,
          622.5,
          650,
          690,
          750,
          770,
          756.25,
          738.125,
          715.3125,
          673.59375,
          624.921875,
          574.0234375,
          513.57421875,
          800,
          837.5,
          860,
          843.125,
          887.5,
          930,
          950,
          1010,
          1000,
          1050,
          1070,
          1055,
          1097.5,
          1140,
          1180,
          1170,
          1227.5,
          1280,
          1307.5,
          1290,
          1330,
          1350,
          1325,
          1269.375,
          1390,
          1380,
          1410,
          1437.5,
          1394.9609375,
          1480,
          1470,
          1348.427734375,
          1520,
          1540,
          1525,
          1577.5,
          1620,
          1640,
          1680,
          1683.75,
          1740,
          1728.75,
          1699.0625,
          1662.65625,
          1621.640625,
          1477.498779296875,
          1790,
          1837.5,
          1840.625,
          1877.5,
          1940,
          1960,
          2010,
          2002.5,
          2037.5,
          2067.5,
          2040.9375,
          2090,
          2041.484375,
          2120,
          2123.75,
          2047.24609375,
          1948.701171875,
          1863.7255859375,
          2177.5,
          2237.5,
          2260,
          2287.5,
          2265.3125,
          2320,
          2340,
          2326.25,
          2279.453125,
          2221.6015625,
          1868.0015563964844
         ],
         "y": [
          0.9100054644531429,
          0.936730860330665,
          0.948504404942581,
          0.9307848504173624,
          0.9021512926711464,
          0.9427662508945448,
          0.9202705201649215,
          0.9541485123330369,
          0.9921254717367527,
          0.931675963599569,
          0.9794386799422967,
          1.007744177054089,
          1.0332546266404612,
          1.047815168992056,
          0.768024285129757,
          0.9536441956445798,
          1.003469374953481,
          1.1128583982626103,
          0.8563442871584285,
          0.8803017567673292,
          0.9330204197332973,
          0.8756217636598878,
          0.8051435329920291,
          0.9366502835839339,
          0.9106203419233061,
          0.9128961212699664,
          0.9414009454045267,
          0.9637659091861875,
          0.8885381343569057,
          0.9219217745157295,
          0.9306404940930142,
          1.0162097734663889,
          1.0559960635060344,
          1.0804302452272487,
          1.089952776513316,
          1.1112098837945261,
          1.1302517129630674,
          1.2249318668097735,
          0.9404833786888033,
          0.9385232967100335,
          0.9806186366897242,
          1.0038277180984285,
          0.8775310740145748,
          0.9251188732684847,
          0.9662649988438212,
          0.9771017910162172,
          0.9795550559972469,
          0.960178861676121,
          0.9710507302925979,
          0.9907496453194438,
          0.9880334825485733,
          0.9955916830151371,
          0.9787703630540328,
          0.996405547467906,
          0.9883688768382912,
          0.9843480927897467,
          0.9925188092445834,
          0.9966668598907846,
          0.982530229331151,
          0.9847101302084573,
          1.00481649644569,
          1.0115569301546157,
          0.9844298666630722,
          0.9956143259498722,
          0.949669779535445,
          0.9814190382390771,
          1.0452766841103542,
          0.9696775841288899,
          1.0104075666042454,
          1.0677193623294758,
          0.8838963828187286,
          0.9168514518540428,
          0.9704279297376895,
          0.9157900355152949,
          0.9581467575751624,
          0.9462574503274206,
          0.8844653767616151,
          0.9645972656280849,
          0.9766684514986159,
          0.9931298042039887,
          1.0047068463220863,
          1.0174814014367604,
          1.109392836399288,
          1.231129829951693,
          0.7675893455026649,
          0.8869897976618738,
          0.9344164436055757,
          0.9184120615555158,
          0.9431497487580837,
          0.9158062332621082,
          0.9703269605210915,
          0.982653739882994,
          0.9847767411900453,
          0.9860015964408033,
          1.0298683331340504,
          0.8873758032837065,
          1.0442262752526708,
          0.8251729647846212,
          0.9907820811259747,
          1.0863068033014593,
          1.1205443442741427,
          1.1834110570830503,
          0.919370485097401,
          0.9176779662650228,
          0.8700915760595413,
          0.899170129482063,
          0.9639149383200915,
          0.8564654358642646,
          0.9492827746417292,
          0.9849572912134694,
          1.0044677145929495,
          1.1115612480307548,
          1.5619724301943188
         ]
        }
       ],
       "layout": {
        "autosize": false,
        "height": 600,
        "hoverlabel": {
         "bgcolor": "white",
         "font": {
          "family": "Rockwell",
          "size": 16
         }
        },
        "hovermode": "closest",
        "plot_bgcolor": "#ECEFF1",
        "showlegend": false,
        "template": {
         "data": {
          "bar": [
           {
            "error_x": {
             "color": "#2a3f5f"
            },
            "error_y": {
             "color": "#2a3f5f"
            },
            "marker": {
             "line": {
              "color": "white",
              "width": 0.5
             },
             "pattern": {
              "fillmode": "overlay",
              "size": 10,
              "solidity": 0.2
             }
            },
            "type": "bar"
           }
          ],
          "barpolar": [
           {
            "marker": {
             "line": {
              "color": "white",
              "width": 0.5
             },
             "pattern": {
              "fillmode": "overlay",
              "size": 10,
              "solidity": 0.2
             }
            },
            "type": "barpolar"
           }
          ],
          "carpet": [
           {
            "aaxis": {
             "endlinecolor": "#2a3f5f",
             "gridcolor": "#C8D4E3",
             "linecolor": "#C8D4E3",
             "minorgridcolor": "#C8D4E3",
             "startlinecolor": "#2a3f5f"
            },
            "baxis": {
             "endlinecolor": "#2a3f5f",
             "gridcolor": "#C8D4E3",
             "linecolor": "#C8D4E3",
             "minorgridcolor": "#C8D4E3",
             "startlinecolor": "#2a3f5f"
            },
            "type": "carpet"
           }
          ],
          "choropleth": [
           {
            "colorbar": {
             "outlinewidth": 0,
             "ticks": ""
            },
            "type": "choropleth"
           }
          ],
          "contour": [
           {
            "colorbar": {
             "outlinewidth": 0,
             "ticks": ""
            },
            "colorscale": [
             [
              0,
              "#0d0887"
             ],
             [
              0.1111111111111111,
              "#46039f"
             ],
             [
              0.2222222222222222,
              "#7201a8"
             ],
             [
              0.3333333333333333,
              "#9c179e"
             ],
             [
              0.4444444444444444,
              "#bd3786"
             ],
             [
              0.5555555555555556,
              "#d8576b"
             ],
             [
              0.6666666666666666,
              "#ed7953"
             ],
             [
              0.7777777777777778,
              "#fb9f3a"
             ],
             [
              0.8888888888888888,
              "#fdca26"
             ],
             [
              1,
              "#f0f921"
             ]
            ],
            "type": "contour"
           }
          ],
          "contourcarpet": [
           {
            "colorbar": {
             "outlinewidth": 0,
             "ticks": ""
            },
            "type": "contourcarpet"
           }
          ],
          "heatmap": [
           {
            "colorbar": {
             "outlinewidth": 0,
             "ticks": ""
            },
            "colorscale": [
             [
              0,
              "#0d0887"
             ],
             [
              0.1111111111111111,
              "#46039f"
             ],
             [
              0.2222222222222222,
              "#7201a8"
             ],
             [
              0.3333333333333333,
              "#9c179e"
             ],
             [
              0.4444444444444444,
              "#bd3786"
             ],
             [
              0.5555555555555556,
              "#d8576b"
             ],
             [
              0.6666666666666666,
              "#ed7953"
             ],
             [
              0.7777777777777778,
              "#fb9f3a"
             ],
             [
              0.8888888888888888,
              "#fdca26"
             ],
             [
              1,
              "#f0f921"
             ]
            ],
            "type": "heatmap"
           }
          ],
          "heatmapgl": [
           {
            "colorbar": {
             "outlinewidth": 0,
             "ticks": ""
            },
            "colorscale": [
             [
              0,
              "#0d0887"
             ],
             [
              0.1111111111111111,
              "#46039f"
             ],
             [
              0.2222222222222222,
              "#7201a8"
             ],
             [
              0.3333333333333333,
              "#9c179e"
             ],
             [
              0.4444444444444444,
              "#bd3786"
             ],
             [
              0.5555555555555556,
              "#d8576b"
             ],
             [
              0.6666666666666666,
              "#ed7953"
             ],
             [
              0.7777777777777778,
              "#fb9f3a"
             ],
             [
              0.8888888888888888,
              "#fdca26"
             ],
             [
              1,
              "#f0f921"
             ]
            ],
            "type": "heatmapgl"
           }
          ],
          "histogram": [
           {
            "marker": {
             "pattern": {
              "fillmode": "overlay",
              "size": 10,
              "solidity": 0.2
             }
            },
            "type": "histogram"
           }
          ],
          "histogram2d": [
           {
            "colorbar": {
             "outlinewidth": 0,
             "ticks": ""
            },
            "colorscale": [
             [
              0,
              "#0d0887"
             ],
             [
              0.1111111111111111,
              "#46039f"
             ],
             [
              0.2222222222222222,
              "#7201a8"
             ],
             [
              0.3333333333333333,
              "#9c179e"
             ],
             [
              0.4444444444444444,
              "#bd3786"
             ],
             [
              0.5555555555555556,
              "#d8576b"
             ],
             [
              0.6666666666666666,
              "#ed7953"
             ],
             [
              0.7777777777777778,
              "#fb9f3a"
             ],
             [
              0.8888888888888888,
              "#fdca26"
             ],
             [
              1,
              "#f0f921"
             ]
            ],
            "type": "histogram2d"
           }
          ],
          "histogram2dcontour": [
           {
            "colorbar": {
             "outlinewidth": 0,
             "ticks": ""
            },
            "colorscale": [
             [
              0,
              "#0d0887"
             ],
             [
              0.1111111111111111,
              "#46039f"
             ],
             [
              0.2222222222222222,
              "#7201a8"
             ],
             [
              0.3333333333333333,
              "#9c179e"
             ],
             [
              0.4444444444444444,
              "#bd3786"
             ],
             [
              0.5555555555555556,
              "#d8576b"
             ],
             [
              0.6666666666666666,
              "#ed7953"
             ],
             [
              0.7777777777777778,
              "#fb9f3a"
             ],
             [
              0.8888888888888888,
              "#fdca26"
             ],
             [
              1,
              "#f0f921"
             ]
            ],
            "type": "histogram2dcontour"
           }
          ],
          "mesh3d": [
           {
            "colorbar": {
             "outlinewidth": 0,
             "ticks": ""
            },
            "type": "mesh3d"
           }
          ],
          "parcoords": [
           {
            "line": {
             "colorbar": {
              "outlinewidth": 0,
              "ticks": ""
             }
            },
            "type": "parcoords"
           }
          ],
          "pie": [
           {
            "automargin": true,
            "type": "pie"
           }
          ],
          "scatter": [
           {
            "fillpattern": {
             "fillmode": "overlay",
             "size": 10,
             "solidity": 0.2
            },
            "type": "scatter"
           }
          ],
          "scatter3d": [
           {
            "line": {
             "colorbar": {
              "outlinewidth": 0,
              "ticks": ""
             }
            },
            "marker": {
             "colorbar": {
              "outlinewidth": 0,
              "ticks": ""
             }
            },
            "type": "scatter3d"
           }
          ],
          "scattercarpet": [
           {
            "marker": {
             "colorbar": {
              "outlinewidth": 0,
              "ticks": ""
             }
            },
            "type": "scattercarpet"
           }
          ],
          "scattergeo": [
           {
            "marker": {
             "colorbar": {
              "outlinewidth": 0,
              "ticks": ""
             }
            },
            "type": "scattergeo"
           }
          ],
          "scattergl": [
           {
            "marker": {
             "colorbar": {
              "outlinewidth": 0,
              "ticks": ""
             }
            },
            "type": "scattergl"
           }
          ],
          "scattermapbox": [
           {
            "marker": {
             "colorbar": {
              "outlinewidth": 0,
              "ticks": ""
             }
            },
            "type": "scattermapbox"
           }
          ],
          "scatterpolar": [
           {
            "marker": {
             "colorbar": {
              "outlinewidth": 0,
              "ticks": ""
             }
            },
            "type": "scatterpolar"
           }
          ],
          "scatterpolargl": [
           {
            "marker": {
             "colorbar": {
              "outlinewidth": 0,
              "ticks": ""
             }
            },
            "type": "scatterpolargl"
           }
          ],
          "scatterternary": [
           {
            "marker": {
             "colorbar": {
              "outlinewidth": 0,
              "ticks": ""
             }
            },
            "type": "scatterternary"
           }
          ],
          "surface": [
           {
            "colorbar": {
             "outlinewidth": 0,
             "ticks": ""
            },
            "colorscale": [
             [
              0,
              "#0d0887"
             ],
             [
              0.1111111111111111,
              "#46039f"
             ],
             [
              0.2222222222222222,
              "#7201a8"
             ],
             [
              0.3333333333333333,
              "#9c179e"
             ],
             [
              0.4444444444444444,
              "#bd3786"
             ],
             [
              0.5555555555555556,
              "#d8576b"
             ],
             [
              0.6666666666666666,
              "#ed7953"
             ],
             [
              0.7777777777777778,
              "#fb9f3a"
             ],
             [
              0.8888888888888888,
              "#fdca26"
             ],
             [
              1,
              "#f0f921"
             ]
            ],
            "type": "surface"
           }
          ],
          "table": [
           {
            "cells": {
             "fill": {
              "color": "#EBF0F8"
             },
             "line": {
              "color": "white"
             }
            },
            "header": {
             "fill": {
              "color": "#C8D4E3"
             },
             "line": {
              "color": "white"
             }
            },
            "type": "table"
           }
          ]
         },
         "layout": {
          "annotationdefaults": {
           "arrowcolor": "#2a3f5f",
           "arrowhead": 0,
           "arrowwidth": 1
          },
          "autotypenumbers": "strict",
          "coloraxis": {
           "colorbar": {
            "outlinewidth": 0,
            "ticks": ""
           }
          },
          "colorscale": {
           "diverging": [
            [
             0,
             "#8e0152"
            ],
            [
             0.1,
             "#c51b7d"
            ],
            [
             0.2,
             "#de77ae"
            ],
            [
             0.3,
             "#f1b6da"
            ],
            [
             0.4,
             "#fde0ef"
            ],
            [
             0.5,
             "#f7f7f7"
            ],
            [
             0.6,
             "#e6f5d0"
            ],
            [
             0.7,
             "#b8e186"
            ],
            [
             0.8,
             "#7fbc41"
            ],
            [
             0.9,
             "#4d9221"
            ],
            [
             1,
             "#276419"
            ]
           ],
           "sequential": [
            [
             0,
             "#0d0887"
            ],
            [
             0.1111111111111111,
             "#46039f"
            ],
            [
             0.2222222222222222,
             "#7201a8"
            ],
            [
             0.3333333333333333,
             "#9c179e"
            ],
            [
             0.4444444444444444,
             "#bd3786"
            ],
            [
             0.5555555555555556,
             "#d8576b"
            ],
            [
             0.6666666666666666,
             "#ed7953"
            ],
            [
             0.7777777777777778,
             "#fb9f3a"
            ],
            [
             0.8888888888888888,
             "#fdca26"
            ],
            [
             1,
             "#f0f921"
            ]
           ],
           "sequentialminus": [
            [
             0,
             "#0d0887"
            ],
            [
             0.1111111111111111,
             "#46039f"
            ],
            [
             0.2222222222222222,
             "#7201a8"
            ],
            [
             0.3333333333333333,
             "#9c179e"
            ],
            [
             0.4444444444444444,
             "#bd3786"
            ],
            [
             0.5555555555555556,
             "#d8576b"
            ],
            [
             0.6666666666666666,
             "#ed7953"
            ],
            [
             0.7777777777777778,
             "#fb9f3a"
            ],
            [
             0.8888888888888888,
             "#fdca26"
            ],
            [
             1,
             "#f0f921"
            ]
           ]
          },
          "colorway": [
           "#636efa",
           "#EF553B",
           "#00cc96",
           "#ab63fa",
           "#FFA15A",
           "#19d3f3",
           "#FF6692",
           "#B6E880",
           "#FF97FF",
           "#FECB52"
          ],
          "font": {
           "color": "#2a3f5f"
          },
          "geo": {
           "bgcolor": "white",
           "lakecolor": "white",
           "landcolor": "white",
           "showlakes": true,
           "showland": true,
           "subunitcolor": "#C8D4E3"
          },
          "hoverlabel": {
           "align": "left"
          },
          "hovermode": "closest",
          "mapbox": {
           "style": "light"
          },
          "paper_bgcolor": "white",
          "plot_bgcolor": "white",
          "polar": {
           "angularaxis": {
            "gridcolor": "#EBF0F8",
            "linecolor": "#EBF0F8",
            "ticks": ""
           },
           "bgcolor": "white",
           "radialaxis": {
            "gridcolor": "#EBF0F8",
            "linecolor": "#EBF0F8",
            "ticks": ""
           }
          },
          "scene": {
           "xaxis": {
            "backgroundcolor": "white",
            "gridcolor": "#DFE8F3",
            "gridwidth": 2,
            "linecolor": "#EBF0F8",
            "showbackground": true,
            "ticks": "",
            "zerolinecolor": "#EBF0F8"
           },
           "yaxis": {
            "backgroundcolor": "white",
            "gridcolor": "#DFE8F3",
            "gridwidth": 2,
            "linecolor": "#EBF0F8",
            "showbackground": true,
            "ticks": "",
            "zerolinecolor": "#EBF0F8"
           },
           "zaxis": {
            "backgroundcolor": "white",
            "gridcolor": "#DFE8F3",
            "gridwidth": 2,
            "linecolor": "#EBF0F8",
            "showbackground": true,
            "ticks": "",
            "zerolinecolor": "#EBF0F8"
           }
          },
          "shapedefaults": {
           "line": {
            "color": "#2a3f5f"
           }
          },
          "ternary": {
           "aaxis": {
            "gridcolor": "#DFE8F3",
            "linecolor": "#A2B1C6",
            "ticks": ""
           },
           "baxis": {
            "gridcolor": "#DFE8F3",
            "linecolor": "#A2B1C6",
            "ticks": ""
           },
           "bgcolor": "white",
           "caxis": {
            "gridcolor": "#DFE8F3",
            "linecolor": "#A2B1C6",
            "ticks": ""
           }
          },
          "title": {
           "x": 0.05
          },
          "xaxis": {
           "automargin": true,
           "gridcolor": "#EBF0F8",
           "linecolor": "#EBF0F8",
           "ticks": "",
           "title": {
            "standoff": 15
           },
           "zerolinecolor": "#EBF0F8",
           "zerolinewidth": 2
          },
          "yaxis": {
           "automargin": true,
           "gridcolor": "#EBF0F8",
           "linecolor": "#EBF0F8",
           "ticks": "",
           "title": {
            "standoff": 15
           },
           "zerolinecolor": "#EBF0F8",
           "zerolinewidth": 2
          }
         }
        },
        "title": {
         "font": {
          "color": "Black",
          "size": 22
         },
         "text": "<b>Hierarchical Clustering</b>",
         "x": 0.5,
         "xanchor": "center",
         "yanchor": "top"
        },
        "width": 3725,
        "xaxis": {
         "mirror": "allticks",
         "rangemode": "tozero",
         "showgrid": false,
         "showline": true,
         "showticklabels": true,
         "tickmode": "array",
         "ticks": "outside",
         "ticktext": [
          "216_shared memory_memory_sh...",
          "52_server_lib x11 fonts_x11...",
          "39_lib_ndet_loop_libxmu",
          "113_xv_image_copyright",
          "193_xio_visual_24",
          "135_colormap_color_dpy",
          "20_window_mydisplay_expose",
          "102_widget_application_null",
          "15_dos dos_dos dos dos_dos ...",
          "43_windows_os_window",
          "198_tar_plplot_imake",
          "56_motif_widgets_markus",
          "45_mouse_driver_windows",
          "207_dos_command_windows",
          "46_windows_memory_emm386",
          "89_dos_allocation_cross lin...",
          "95_ini_ini files_windows",
          "168_keycode_key_keyboard",
          "130_keyboard_rsi_typing",
          "63_sound_speech_voice",
          "141_midi_sound_driver",
          "88_w4wg_network_novell",
          "213_localtalk_network_port",
          "25_font_fonts_truetype",
          "9_printer_print_hp",
          "93_postscript_ghostscript_g...",
          "189_registration_regedit_exe",
          "112_copy_copy protection_pr...",
          "83_sale_manuals_disks",
          "92_borland_paradox_windows",
          "84_involved_iowa_design dev...",
          "136_hacker_computer_hackers",
          "201_software_process_level",
          "47_key_ripem_des",
          "1_key_clipper_chip",
          "212_nist_ncsl_nist gov",
          "37_3d_3do_graphics",
          "132_image_graphics_edu",
          "33_ftp_nasa_pub",
          "36_gif_format_files",
          "169_jpeg_gif_image",
          "185_tiff_complexity_formats",
          "44_00_books_book",
          "122_00_50_1st",
          "38_00_dos_mpc",
          "7_amp_asking_offer",
          "0_game_team_games",
          "22_games_joystick_sega",
          "23_picture sleeve_sleeve_cd",
          "164_irq_interrupt_port",
          "196_com4_modem_port",
          "10_modem_modems_fax",
          "103_tape_drive_backup",
          "4_scsi_drive_drives",
          "30_drive_ram_meg",
          "129_cd_toshiba_nec",
          "120_monitor_turn_computer",
          "108_monitor_problem_screen",
          "28_monitor_vga_sync",
          "94_nanao_monitor_17",
          "147_mode_vesa_dram",
          "175_card_video_genoa",
          "70_drivers_card_diamond",
          "165_winbench_vlb_winmarks",
          "220_eisa_isa_bus",
          "218_dip switches_card_switc...",
          "76_cpu_fan_heat",
          "42_mhz_clock_cpu",
          "109_486dx2 50_486dx2_mhz",
          "149_bus_dx2_local bus",
          "145_motherboard_33_ram",
          "166_simms_sipps_70ns",
          "49_simms_simm_vram",
          "104_ethernet_pin_card",
          "58_pds_nubus_lc",
          "54_fpu_2600_centris",
          "125_powerbook_duo_apple",
          "188_duo_duo 230_portable",
          "140_meat_carcinogenic_food",
          "26_msg_food_chinese",
          "144_crohn_inflammation_diet",
          "172_kidney_chromium_stones",
          "101_candida_yeast_infections",
          "34_disease_polio_patients",
          "117_pain_migraine_migraines",
          "170_rutin_nasal_surgery",
          "177_fever_meningitis_pneumo...",
          "197_hiv_aids_health",
          "57_hiv_cancer_cesarean",
          "182_cancer_cancer center_ce...",
          "162_latin_subscribe_unsubsc...",
          "173_mailing_mailing list_list",
          "105_send requests_request_a...",
          "69_edu_com_comp",
          "155_address_mail_compuserve",
          "181_email address_address_e...",
          "96_kirlian_photography_kirl...",
          "161_tempest_equipment_elect...",
          "41_radar_detector_detectors",
          "73_oort_oort cloud_cloud",
          "118_temperature_grains_inte...",
          "18_den_p3_p2",
          "51_wax_paint_plastic",
          "121_gas_tear gas_tear",
          "151_weapons_nuclear_plutonium",
          "61_water_cooling_steam",
          "148_phd_meteorologist_atmos...",
          "126_breathing_oxygen_altitude",
          "64_battery_batteries_concrete",
          "163_battery_problem_cmos",
          "214_quadra_tapedrive_dealer",
          "2_huh ignore_huh ignore key...",
          "187_ditto_hi yes hello ditt...",
          "127_ax_ax ax_ax ax ax",
          "224_db_mov_bh",
          "217_playback_frames_movie",
          "202_cview_temp_temp files",
          "211_clock_date_dos",
          "230_ms_innovative_ms products",
          "209_gehrels_tom gehrels_jpl",
          "232_recurrent respiratory_r...",
          "234_image processing_dicta ...",
          "156_otis_het_van",
          "229_copyright_copyrighted_i...",
          "178_canadian_great canadian...",
          "191_42_question_tea",
          "128_faq_sys mac_comp sys mac",
          "153_eye_prk_surgery",
          "167_uv_light_bulb",
          "133_room_kitchen_living room",
          "184_wasps_chiggers_centipedes",
          "221_circumcision_medical_pa...",
          "176_large_letter_cnn",
          "233_letter_mail_letters",
          "199_rosicrucian_rosicrucian...",
          "205_ca_bbs_ca 818",
          "114_scanner_hand scanner_gr...",
          "210_blue_leds_led",
          "222_boards_solder_solder mask",
          "219_circuits_books_circuit",
          "75_lens_camera_zoom",
          "131_ticket_round trip_hotel",
          "186_ground_grounding_conduc...",
          "67_phone_ring_line",
          "192_dialing_tone_sweden",
          "208_meter_fluke_8060a",
          "142_scope_scopes_function g...",
          "194_alarm_sensor_car",
          "154_deleted_stuff deleted_s...",
          "60_hst_mission_boost",
          "91_venus_spacecraft_mission",
          "106_space_launch_station",
          "174_000_shuttle_launch",
          "50_lunar_moon_space",
          "71_sky_space_advertising",
          "110_dealer_price_car",
          "59_clutch_transmission_gear",
          "5_car_engine_cars",
          "17_oil_diesel_fuel",
          "119_odometer_sensor_car",
          "183_cop_ticket_court",
          "55_weaver_trial_cooper",
          "79_dog_dogs_bike",
          "139_lane_traffic_bike",
          "195_lane_car_mph",
          "226_tires_tire_rear",
          "77_countersteering_bike_rider",
          "62_bike_passenger_ride",
          "11_bike_bikes_motorcycle",
          "65_shaft_lights_shaft effect",
          "200_biker_dod_enemy",
          "152_wave_bikers_waving",
          "225_rig_motorcycles_bike",
          "146_drunk_dwi_driving",
          "138_helmet_liner_foam",
          "16_koresh_fbi_children",
          "19_fbi_started______",
          "21_batf_warrant_fbi",
          "111_reno_clinton_president",
          "90_president_stephanopoulos...",
          "137_kuwait_iraq_sheikh",
          "31_serbs_muslims_bosnian",
          "6_armenian_armenians_turkish",
          "3_israel_israeli_jews",
          "35_discrimination_racial_af...",
          "8_post_cs colorado_cs color...",
          "29_homosexuality_homosexual...",
          "27_kinsey_gay_men",
          "100_enviroleague_homosexual...",
          "228_easter_resurrection_cel...",
          "190_sabbath_moses_commandme...",
          "157_police_cops_officer",
          "87_drugs_drug_drug users",
          "171_russia_communism_war",
          "68_government_libertarians_...",
          "82_militia_amendment_right",
          "150_reserve_selective servi...",
          "124_limbaugh_rush_hitler",
          "80_tax_income_taxes",
          "223_abortion_abortions_choice",
          "97_death penalty_penalty_cr...",
          "134_jim_context_articles",
          "227_religion_bobby_wars",
          "116_prayer_moment silence_s...",
          "204_tongues_language_speak",
          "98_rushdie_motto_qur",
          "215_rushdie_islam_book",
          "206_bcci_bank_islamic",
          "81_insurance_health_private",
          "78_insurance_geico_car",
          "72_semi_revolver_gun",
          "14_gun_guns_crime",
          "160_firearms_hb_homicide",
          "231_s414_brady_bills",
          "40_science_scientific_theory",
          "12_morality_moral_objective",
          "32_atheism_atheists_god",
          "107_god_belief_faith",
          "143_existence_exist_god",
          "48_answerfax_god_christ",
          "203_god_believe_life",
          "99_jesus_christian_christia...",
          "66_jesus_tomb_resurrection",
          "13_bible_scripture_books",
          "74_hell_eternal_heaven",
          "159_darren_truth_arrogance",
          "115_ra_satan_god",
          "123_baptism_aaron_sin",
          "24_god_love_jesus",
          "53_mary_sin_god",
          "85_jehovah_elohim_lord",
          "180_god_father_son",
          "179_orthodox_creed_father",
          "158_church_schism_pope",
          "86_marriage_married_marry"
         ],
         "tickvals": [
          5,
          15,
          25,
          35,
          45,
          55,
          65,
          75,
          85,
          95,
          105,
          115,
          125,
          135,
          145,
          155,
          165,
          175,
          185,
          195,
          205,
          215,
          225,
          235,
          245,
          255,
          265,
          275,
          285,
          295,
          305,
          315,
          325,
          335,
          345,
          355,
          365,
          375,
          385,
          395,
          405,
          415,
          425,
          435,
          445,
          455,
          465,
          475,
          485,
          495,
          505,
          515,
          525,
          535,
          545,
          555,
          565,
          575,
          585,
          595,
          605,
          615,
          625,
          635,
          645,
          655,
          665,
          675,
          685,
          695,
          705,
          715,
          725,
          735,
          745,
          755,
          765,
          775,
          785,
          795,
          805,
          815,
          825,
          835,
          845,
          855,
          865,
          875,
          885,
          895,
          905,
          915,
          925,
          935,
          945,
          955,
          965,
          975,
          985,
          995,
          1005,
          1015,
          1025,
          1035,
          1045,
          1055,
          1065,
          1075,
          1085,
          1095,
          1105,
          1115,
          1125,
          1135,
          1145,
          1155,
          1165,
          1175,
          1185,
          1195,
          1205,
          1215,
          1225,
          1235,
          1245,
          1255,
          1265,
          1275,
          1285,
          1295,
          1305,
          1315,
          1325,
          1335,
          1345,
          1355,
          1365,
          1375,
          1385,
          1395,
          1405,
          1415,
          1425,
          1435,
          1445,
          1455,
          1465,
          1475,
          1485,
          1495,
          1505,
          1515,
          1525,
          1535,
          1545,
          1555,
          1565,
          1575,
          1585,
          1595,
          1605,
          1615,
          1625,
          1635,
          1645,
          1655,
          1665,
          1675,
          1685,
          1695,
          1705,
          1715,
          1725,
          1735,
          1745,
          1755,
          1765,
          1775,
          1785,
          1795,
          1805,
          1815,
          1825,
          1835,
          1845,
          1855,
          1865,
          1875,
          1885,
          1895,
          1905,
          1915,
          1925,
          1935,
          1945,
          1955,
          1965,
          1975,
          1985,
          1995,
          2005,
          2015,
          2025,
          2035,
          2045,
          2055,
          2065,
          2075,
          2085,
          2095,
          2105,
          2115,
          2125,
          2135,
          2145,
          2155,
          2165,
          2175,
          2185,
          2195,
          2205,
          2215,
          2225,
          2235,
          2245,
          2255,
          2265,
          2275,
          2285,
          2295,
          2305,
          2315,
          2325,
          2335,
          2345
         ],
         "type": "linear",
         "zeroline": false
        },
        "yaxis": {
         "mirror": "allticks",
         "rangemode": "tozero",
         "showgrid": false,
         "showline": true,
         "showticklabels": true,
         "ticks": "outside",
         "type": "linear",
         "zeroline": false
        }
       }
      }
     },
     "metadata": {},
     "output_type": "display_data"
    }
   ],
   "source": [
    "\n",
    "\n",
    "models = {'small':'all-MiniLM-L6-v2',\n",
    "          'medium':'all-MiniLM-L12-v2',\n",
    "          'large':'all-mpnet-base-v2'}\n",
    "\n",
    "sentence_model = SentenceTransformer(models['medium'])\n",
    "topic_model = BERTopic(embedding_model=sentence_model)\n",
    "embeddings = sentence_model.encode(docs,show_progress_bar=True)\n",
    "\n",
    "from sklearn.feature_extraction.text import CountVectorizer\n",
    "topics,probs = topic_model.fit_transform(docs, embeddings=embeddings)\n",
    "vectorizer_model = CountVectorizer(stop_words=\"english\", ngram_range=(1, 5))\n",
    "topic_model.update_topics(docs, vectorizer_model=vectorizer_model)\n",
    "\n",
    "reduced_embeddings = UMAP(n_neighbors=10, n_components=2, min_dist=0.0, metric='cosine').fit_transform(embeddings)\n",
    "\n",
    "hierarchical_topics = topic_model.hierarchical_topics(docs)\n",
    "fig = topic_model.visualize_hierarchy(hierarchical_topics=hierarchical_topics,orientation='bottom', custom_labels=False)\n",
    "fig.show()\n",
    "# htm_plot.write_html('news_example.html')"
   ]
  },
  {
   "cell_type": "code",
   "execution_count": null,
   "metadata": {},
   "outputs": [],
   "source": []
  },
  {
   "attachments": {},
   "cell_type": "markdown",
   "metadata": {},
   "source": [
    "## SciPy Hierarchy"
   ]
  },
  {
   "cell_type": "code",
   "execution_count": 4,
   "metadata": {},
   "outputs": [
    {
     "name": "stdout",
     "output_type": "stream",
     "text": [
      "Labels are the same!\n"
     ]
    }
   ],
   "source": [
    "# Select topics based on top_n and topics args\n",
    "freq_df = topic_model.get_topic_freq()\n",
    "freq_df = freq_df.loc[freq_df.Topic != -1, :]\n",
    "topics = sorted(freq_df.Topic.to_list())\n",
    "\n",
    "# labels and linkage function as in _hierarchy\n",
    "new_labels = [[[str(topics[int(x)]), None]] +\n",
    "              topic_model.get_topic(topics[int(x)])\n",
    "              for x in range(len(topics))]\n",
    "new_labels = [\n",
    "    \"_\".join([label[0] for label in labels[:4]]) for labels in new_labels\n",
    "]\n",
    "new_labels = [\n",
    "    label if len(label) < 30 else label[:27] + \"...\" for label in new_labels\n",
    "]\n",
    "\n",
    "distance_function = lambda X: 1 - cosine_similarity(X)\n",
    "linkage_function = lambda X: hierarchy.linkage(\n",
    "    X, 'ward', optimal_ordering=True)\n",
    "\n",
    "# scipy linkage\n",
    "embeddings = topic_model.c_tf_idf_[1:]\n",
    "d = distance_function(embeddings)\n",
    "np.fill_diagonal(d, 0)\n",
    "d = squareform(d)\n",
    "Z = linkage_function(d)\n",
    "leaves = hierarchy.leaves_list(Z)\n",
    "scipy_labels = [new_labels[i] for i in leaves]\n",
    "\n",
    "# assert they are the same\n",
    "bertopic_labels = [label for label in fig.layout[\"xaxis\"][\"ticktext\"]]\n",
    "assert scipy_labels == bertopic_labels\n",
    "print(\"Labels are the same!\")"
   ]
  },
  {
   "attachments": {},
   "cell_type": "markdown",
   "metadata": {},
   "source": [
    "# 923 - 2"
   ]
  },
  {
   "cell_type": "code",
   "execution_count": 5,
   "metadata": {},
   "outputs": [
    {
     "name": "stderr",
     "output_type": "stream",
     "text": [
      "100%|██████████| 1/1 [00:00<00:00, 92.24it/s]\n"
     ]
    },
    {
     "data": {
      "application/vnd.plotly.v1+json": {
       "config": {
        "plotlyServerURL": "https://plot.ly"
       },
       "data": [
        {
         "hoverinfo": "text",
         "marker": {
          "color": "rgb(0,116,217)"
         },
         "mode": "lines",
         "text": [
          "the_to_covid19_in_coronavirus",
          "",
          "",
          "the_to_food_and_of"
         ],
         "type": "scatter",
         "x": [
          0,
          0.16610765586489873,
          0.16610765586489873,
          0
         ],
         "xaxis": "x",
         "y": [
          -5,
          -5,
          -15,
          -15
         ],
         "yaxis": "y"
        },
        {
         "hoverinfo": "text",
         "hovertext": [],
         "marker": {
          "color": "black"
         },
         "mode": "markers",
         "showlegend": false,
         "type": "scatter",
         "x": [],
         "y": []
        },
        {
         "hoverinfo": "text",
         "hovertext": [],
         "marker": {
          "color": "black"
         },
         "mode": "markers",
         "showlegend": false,
         "type": "scatter",
         "x": [],
         "y": []
        }
       ],
       "layout": {
        "autosize": false,
        "height": 230,
        "hoverlabel": {
         "bgcolor": "white",
         "font": {
          "family": "Rockwell",
          "size": 16
         }
        },
        "hovermode": "closest",
        "plot_bgcolor": "#ECEFF1",
        "showlegend": false,
        "template": {
         "data": {
          "bar": [
           {
            "error_x": {
             "color": "#2a3f5f"
            },
            "error_y": {
             "color": "#2a3f5f"
            },
            "marker": {
             "line": {
              "color": "white",
              "width": 0.5
             },
             "pattern": {
              "fillmode": "overlay",
              "size": 10,
              "solidity": 0.2
             }
            },
            "type": "bar"
           }
          ],
          "barpolar": [
           {
            "marker": {
             "line": {
              "color": "white",
              "width": 0.5
             },
             "pattern": {
              "fillmode": "overlay",
              "size": 10,
              "solidity": 0.2
             }
            },
            "type": "barpolar"
           }
          ],
          "carpet": [
           {
            "aaxis": {
             "endlinecolor": "#2a3f5f",
             "gridcolor": "#C8D4E3",
             "linecolor": "#C8D4E3",
             "minorgridcolor": "#C8D4E3",
             "startlinecolor": "#2a3f5f"
            },
            "baxis": {
             "endlinecolor": "#2a3f5f",
             "gridcolor": "#C8D4E3",
             "linecolor": "#C8D4E3",
             "minorgridcolor": "#C8D4E3",
             "startlinecolor": "#2a3f5f"
            },
            "type": "carpet"
           }
          ],
          "choropleth": [
           {
            "colorbar": {
             "outlinewidth": 0,
             "ticks": ""
            },
            "type": "choropleth"
           }
          ],
          "contour": [
           {
            "colorbar": {
             "outlinewidth": 0,
             "ticks": ""
            },
            "colorscale": [
             [
              0,
              "#0d0887"
             ],
             [
              0.1111111111111111,
              "#46039f"
             ],
             [
              0.2222222222222222,
              "#7201a8"
             ],
             [
              0.3333333333333333,
              "#9c179e"
             ],
             [
              0.4444444444444444,
              "#bd3786"
             ],
             [
              0.5555555555555556,
              "#d8576b"
             ],
             [
              0.6666666666666666,
              "#ed7953"
             ],
             [
              0.7777777777777778,
              "#fb9f3a"
             ],
             [
              0.8888888888888888,
              "#fdca26"
             ],
             [
              1,
              "#f0f921"
             ]
            ],
            "type": "contour"
           }
          ],
          "contourcarpet": [
           {
            "colorbar": {
             "outlinewidth": 0,
             "ticks": ""
            },
            "type": "contourcarpet"
           }
          ],
          "heatmap": [
           {
            "colorbar": {
             "outlinewidth": 0,
             "ticks": ""
            },
            "colorscale": [
             [
              0,
              "#0d0887"
             ],
             [
              0.1111111111111111,
              "#46039f"
             ],
             [
              0.2222222222222222,
              "#7201a8"
             ],
             [
              0.3333333333333333,
              "#9c179e"
             ],
             [
              0.4444444444444444,
              "#bd3786"
             ],
             [
              0.5555555555555556,
              "#d8576b"
             ],
             [
              0.6666666666666666,
              "#ed7953"
             ],
             [
              0.7777777777777778,
              "#fb9f3a"
             ],
             [
              0.8888888888888888,
              "#fdca26"
             ],
             [
              1,
              "#f0f921"
             ]
            ],
            "type": "heatmap"
           }
          ],
          "heatmapgl": [
           {
            "colorbar": {
             "outlinewidth": 0,
             "ticks": ""
            },
            "colorscale": [
             [
              0,
              "#0d0887"
             ],
             [
              0.1111111111111111,
              "#46039f"
             ],
             [
              0.2222222222222222,
              "#7201a8"
             ],
             [
              0.3333333333333333,
              "#9c179e"
             ],
             [
              0.4444444444444444,
              "#bd3786"
             ],
             [
              0.5555555555555556,
              "#d8576b"
             ],
             [
              0.6666666666666666,
              "#ed7953"
             ],
             [
              0.7777777777777778,
              "#fb9f3a"
             ],
             [
              0.8888888888888888,
              "#fdca26"
             ],
             [
              1,
              "#f0f921"
             ]
            ],
            "type": "heatmapgl"
           }
          ],
          "histogram": [
           {
            "marker": {
             "pattern": {
              "fillmode": "overlay",
              "size": 10,
              "solidity": 0.2
             }
            },
            "type": "histogram"
           }
          ],
          "histogram2d": [
           {
            "colorbar": {
             "outlinewidth": 0,
             "ticks": ""
            },
            "colorscale": [
             [
              0,
              "#0d0887"
             ],
             [
              0.1111111111111111,
              "#46039f"
             ],
             [
              0.2222222222222222,
              "#7201a8"
             ],
             [
              0.3333333333333333,
              "#9c179e"
             ],
             [
              0.4444444444444444,
              "#bd3786"
             ],
             [
              0.5555555555555556,
              "#d8576b"
             ],
             [
              0.6666666666666666,
              "#ed7953"
             ],
             [
              0.7777777777777778,
              "#fb9f3a"
             ],
             [
              0.8888888888888888,
              "#fdca26"
             ],
             [
              1,
              "#f0f921"
             ]
            ],
            "type": "histogram2d"
           }
          ],
          "histogram2dcontour": [
           {
            "colorbar": {
             "outlinewidth": 0,
             "ticks": ""
            },
            "colorscale": [
             [
              0,
              "#0d0887"
             ],
             [
              0.1111111111111111,
              "#46039f"
             ],
             [
              0.2222222222222222,
              "#7201a8"
             ],
             [
              0.3333333333333333,
              "#9c179e"
             ],
             [
              0.4444444444444444,
              "#bd3786"
             ],
             [
              0.5555555555555556,
              "#d8576b"
             ],
             [
              0.6666666666666666,
              "#ed7953"
             ],
             [
              0.7777777777777778,
              "#fb9f3a"
             ],
             [
              0.8888888888888888,
              "#fdca26"
             ],
             [
              1,
              "#f0f921"
             ]
            ],
            "type": "histogram2dcontour"
           }
          ],
          "mesh3d": [
           {
            "colorbar": {
             "outlinewidth": 0,
             "ticks": ""
            },
            "type": "mesh3d"
           }
          ],
          "parcoords": [
           {
            "line": {
             "colorbar": {
              "outlinewidth": 0,
              "ticks": ""
             }
            },
            "type": "parcoords"
           }
          ],
          "pie": [
           {
            "automargin": true,
            "type": "pie"
           }
          ],
          "scatter": [
           {
            "fillpattern": {
             "fillmode": "overlay",
             "size": 10,
             "solidity": 0.2
            },
            "type": "scatter"
           }
          ],
          "scatter3d": [
           {
            "line": {
             "colorbar": {
              "outlinewidth": 0,
              "ticks": ""
             }
            },
            "marker": {
             "colorbar": {
              "outlinewidth": 0,
              "ticks": ""
             }
            },
            "type": "scatter3d"
           }
          ],
          "scattercarpet": [
           {
            "marker": {
             "colorbar": {
              "outlinewidth": 0,
              "ticks": ""
             }
            },
            "type": "scattercarpet"
           }
          ],
          "scattergeo": [
           {
            "marker": {
             "colorbar": {
              "outlinewidth": 0,
              "ticks": ""
             }
            },
            "type": "scattergeo"
           }
          ],
          "scattergl": [
           {
            "marker": {
             "colorbar": {
              "outlinewidth": 0,
              "ticks": ""
             }
            },
            "type": "scattergl"
           }
          ],
          "scattermapbox": [
           {
            "marker": {
             "colorbar": {
              "outlinewidth": 0,
              "ticks": ""
             }
            },
            "type": "scattermapbox"
           }
          ],
          "scatterpolar": [
           {
            "marker": {
             "colorbar": {
              "outlinewidth": 0,
              "ticks": ""
             }
            },
            "type": "scatterpolar"
           }
          ],
          "scatterpolargl": [
           {
            "marker": {
             "colorbar": {
              "outlinewidth": 0,
              "ticks": ""
             }
            },
            "type": "scatterpolargl"
           }
          ],
          "scatterternary": [
           {
            "marker": {
             "colorbar": {
              "outlinewidth": 0,
              "ticks": ""
             }
            },
            "type": "scatterternary"
           }
          ],
          "surface": [
           {
            "colorbar": {
             "outlinewidth": 0,
             "ticks": ""
            },
            "colorscale": [
             [
              0,
              "#0d0887"
             ],
             [
              0.1111111111111111,
              "#46039f"
             ],
             [
              0.2222222222222222,
              "#7201a8"
             ],
             [
              0.3333333333333333,
              "#9c179e"
             ],
             [
              0.4444444444444444,
              "#bd3786"
             ],
             [
              0.5555555555555556,
              "#d8576b"
             ],
             [
              0.6666666666666666,
              "#ed7953"
             ],
             [
              0.7777777777777778,
              "#fb9f3a"
             ],
             [
              0.8888888888888888,
              "#fdca26"
             ],
             [
              1,
              "#f0f921"
             ]
            ],
            "type": "surface"
           }
          ],
          "table": [
           {
            "cells": {
             "fill": {
              "color": "#EBF0F8"
             },
             "line": {
              "color": "white"
             }
            },
            "header": {
             "fill": {
              "color": "#C8D4E3"
             },
             "line": {
              "color": "white"
             }
            },
            "type": "table"
           }
          ]
         },
         "layout": {
          "annotationdefaults": {
           "arrowcolor": "#2a3f5f",
           "arrowhead": 0,
           "arrowwidth": 1
          },
          "autotypenumbers": "strict",
          "coloraxis": {
           "colorbar": {
            "outlinewidth": 0,
            "ticks": ""
           }
          },
          "colorscale": {
           "diverging": [
            [
             0,
             "#8e0152"
            ],
            [
             0.1,
             "#c51b7d"
            ],
            [
             0.2,
             "#de77ae"
            ],
            [
             0.3,
             "#f1b6da"
            ],
            [
             0.4,
             "#fde0ef"
            ],
            [
             0.5,
             "#f7f7f7"
            ],
            [
             0.6,
             "#e6f5d0"
            ],
            [
             0.7,
             "#b8e186"
            ],
            [
             0.8,
             "#7fbc41"
            ],
            [
             0.9,
             "#4d9221"
            ],
            [
             1,
             "#276419"
            ]
           ],
           "sequential": [
            [
             0,
             "#0d0887"
            ],
            [
             0.1111111111111111,
             "#46039f"
            ],
            [
             0.2222222222222222,
             "#7201a8"
            ],
            [
             0.3333333333333333,
             "#9c179e"
            ],
            [
             0.4444444444444444,
             "#bd3786"
            ],
            [
             0.5555555555555556,
             "#d8576b"
            ],
            [
             0.6666666666666666,
             "#ed7953"
            ],
            [
             0.7777777777777778,
             "#fb9f3a"
            ],
            [
             0.8888888888888888,
             "#fdca26"
            ],
            [
             1,
             "#f0f921"
            ]
           ],
           "sequentialminus": [
            [
             0,
             "#0d0887"
            ],
            [
             0.1111111111111111,
             "#46039f"
            ],
            [
             0.2222222222222222,
             "#7201a8"
            ],
            [
             0.3333333333333333,
             "#9c179e"
            ],
            [
             0.4444444444444444,
             "#bd3786"
            ],
            [
             0.5555555555555556,
             "#d8576b"
            ],
            [
             0.6666666666666666,
             "#ed7953"
            ],
            [
             0.7777777777777778,
             "#fb9f3a"
            ],
            [
             0.8888888888888888,
             "#fdca26"
            ],
            [
             1,
             "#f0f921"
            ]
           ]
          },
          "colorway": [
           "#636efa",
           "#EF553B",
           "#00cc96",
           "#ab63fa",
           "#FFA15A",
           "#19d3f3",
           "#FF6692",
           "#B6E880",
           "#FF97FF",
           "#FECB52"
          ],
          "font": {
           "color": "#2a3f5f"
          },
          "geo": {
           "bgcolor": "white",
           "lakecolor": "white",
           "landcolor": "white",
           "showlakes": true,
           "showland": true,
           "subunitcolor": "#C8D4E3"
          },
          "hoverlabel": {
           "align": "left"
          },
          "hovermode": "closest",
          "mapbox": {
           "style": "light"
          },
          "paper_bgcolor": "white",
          "plot_bgcolor": "white",
          "polar": {
           "angularaxis": {
            "gridcolor": "#EBF0F8",
            "linecolor": "#EBF0F8",
            "ticks": ""
           },
           "bgcolor": "white",
           "radialaxis": {
            "gridcolor": "#EBF0F8",
            "linecolor": "#EBF0F8",
            "ticks": ""
           }
          },
          "scene": {
           "xaxis": {
            "backgroundcolor": "white",
            "gridcolor": "#DFE8F3",
            "gridwidth": 2,
            "linecolor": "#EBF0F8",
            "showbackground": true,
            "ticks": "",
            "zerolinecolor": "#EBF0F8"
           },
           "yaxis": {
            "backgroundcolor": "white",
            "gridcolor": "#DFE8F3",
            "gridwidth": 2,
            "linecolor": "#EBF0F8",
            "showbackground": true,
            "ticks": "",
            "zerolinecolor": "#EBF0F8"
           },
           "zaxis": {
            "backgroundcolor": "white",
            "gridcolor": "#DFE8F3",
            "gridwidth": 2,
            "linecolor": "#EBF0F8",
            "showbackground": true,
            "ticks": "",
            "zerolinecolor": "#EBF0F8"
           }
          },
          "shapedefaults": {
           "line": {
            "color": "#2a3f5f"
           }
          },
          "ternary": {
           "aaxis": {
            "gridcolor": "#DFE8F3",
            "linecolor": "#A2B1C6",
            "ticks": ""
           },
           "baxis": {
            "gridcolor": "#DFE8F3",
            "linecolor": "#A2B1C6",
            "ticks": ""
           },
           "bgcolor": "white",
           "caxis": {
            "gridcolor": "#DFE8F3",
            "linecolor": "#A2B1C6",
            "ticks": ""
           }
          },
          "title": {
           "x": 0.05
          },
          "xaxis": {
           "automargin": true,
           "gridcolor": "#EBF0F8",
           "linecolor": "#EBF0F8",
           "ticks": "",
           "title": {
            "standoff": 15
           },
           "zerolinecolor": "#EBF0F8",
           "zerolinewidth": 2
          },
          "yaxis": {
           "automargin": true,
           "gridcolor": "#EBF0F8",
           "linecolor": "#EBF0F8",
           "ticks": "",
           "title": {
            "standoff": 15
           },
           "zerolinecolor": "#EBF0F8",
           "zerolinewidth": 2
          }
         }
        },
        "title": {
         "font": {
          "color": "Black",
          "size": 22
         },
         "text": "<b>Hierarchical Clustering</b>",
         "x": 0.5,
         "xanchor": "center",
         "yanchor": "top"
        },
        "width": 1000,
        "xaxis": {
         "mirror": "allticks",
         "rangemode": "tozero",
         "showgrid": false,
         "showline": true,
         "showticklabels": true,
         "ticks": "outside",
         "type": "linear",
         "zeroline": false
        },
        "yaxis": {
         "mirror": "allticks",
         "range": [
          -20,
          0
         ],
         "rangemode": "tozero",
         "showgrid": false,
         "showline": true,
         "showticklabels": true,
         "tickmode": "array",
         "ticks": "outside",
         "ticktext": [
          "0_the_to_covid19",
          "1_the_to_food"
         ],
         "tickvals": [
          -5,
          -15
         ],
         "type": "linear",
         "zeroline": false
        }
       }
      }
     },
     "metadata": {},
     "output_type": "display_data"
    }
   ],
   "source": [
    "\n",
    "\n",
    "data= pd.read_csv('Corona_NLP_test.csv')\n",
    "\n",
    "sentence_model = SentenceTransformer('sentence-transformers/paraphrase-multilingual-MiniLM-L12-v2')\n",
    "embeddings = sentence_model.encode(data.OriginalTweet, show_progress_bar=False)\n",
    "embeddings = UMAP(n_neighbors=15, n_components=5, min_dist=0.0, metric='cosine', random_state=42).fit_transform(embeddings)\n",
    "hdbscan_model = HDBSCAN(min_cluster_size=341, min_samples=3)\n",
    "\n",
    "topic_model = BERTopic(hdbscan_model=hdbscan_model ,n_gram_range=(1,3), min_topic_size=341)\n",
    "topics, probs = topic_model.fit_transform(data.OriginalTweet, embeddings)\n",
    "hierarchical_topics = topic_model.hierarchical_topics(data.OriginalTweet)\n",
    "fig = topic_model.visualize_hierarchy(hierarchical_topics=hierarchical_topics, orientation='left', color_threshold=0)\n",
    "fig.show()"
   ]
  },
  {
   "cell_type": "markdown",
   "metadata": {},
   "source": [
    "## SciPy Hierarchy"
   ]
  },
  {
   "cell_type": "code",
   "execution_count": 6,
   "metadata": {},
   "outputs": [
    {
     "name": "stdout",
     "output_type": "stream",
     "text": [
      "Labels are the same!\n"
     ]
    }
   ],
   "source": [
    "# Select topics based on top_n and topics args\n",
    "freq_df = topic_model.get_topic_freq()\n",
    "freq_df = freq_df.loc[freq_df.Topic != -1, :]\n",
    "topics = sorted(freq_df.Topic.to_list())\n",
    "\n",
    "# labels and linkage function as in _hierarchy\n",
    "new_labels = [[[str(topics[int(x)]), None]] +\n",
    "              topic_model.get_topic(topics[int(x)])\n",
    "              for x in range(len(topics))]\n",
    "new_labels = [\n",
    "    \"_\".join([label[0] for label in labels[:4]]) for labels in new_labels\n",
    "]\n",
    "new_labels = [\n",
    "    label if len(label) < 30 else label[:27] + \"...\" for label in new_labels\n",
    "]\n",
    "\n",
    "distance_function = lambda X: 1 - cosine_similarity(X)\n",
    "linkage_function = lambda X: hierarchy.linkage(\n",
    "    X, 'ward', optimal_ordering=True)\n",
    "\n",
    "# scipy linkage\n",
    "embeddings = topic_model.c_tf_idf_[1:]\n",
    "d = distance_function(embeddings)\n",
    "np.fill_diagonal(d, 0)\n",
    "d = squareform(d)\n",
    "Z = linkage_function(d)\n",
    "leaves = hierarchy.leaves_list(Z)\n",
    "scipy_labels = [new_labels[i] for i in leaves]\n",
    "\n",
    "# assert they are the same\n",
    "bertopic_labels = [label for label in fig.layout[\"yaxis\"][\"ticktext\"]]\n",
    "assert scipy_labels == bertopic_labels\n",
    "print(\"Labels are the same!\")"
   ]
  },
  {
   "attachments": {},
   "cell_type": "markdown",
   "metadata": {},
   "source": [
    "# 1063"
   ]
  },
  {
   "cell_type": "code",
   "execution_count": 7,
   "metadata": {},
   "outputs": [
    {
     "data": {
      "application/vnd.jupyter.widget-view+json": {
       "model_id": "8d0bf7e3ce934667b53f5f42ee7444e5",
       "version_major": 2,
       "version_minor": 0
      },
      "text/plain": [
       "Batches:   0%|          | 0/589 [00:00<?, ?it/s]"
      ]
     },
     "metadata": {},
     "output_type": "display_data"
    },
    {
     "name": "stderr",
     "output_type": "stream",
     "text": [
      "100%|██████████| 214/214 [00:00<00:00, 245.06it/s]\n"
     ]
    },
    {
     "data": {
      "application/vnd.plotly.v1+json": {
       "config": {
        "plotlyServerURL": "https://plot.ly"
       },
       "data": [
        {
         "hoverinfo": "text",
         "marker": {
          "color": "rgb(61,153,112)"
         },
         "mode": "lines",
         "text": [
          "law_jesus_god_paul_sabbath",
          "",
          "",
          "sabbath_commandments_moses_tablets_ten"
         ],
         "type": "scatter",
         "x": [
          0,
          0.5678499998691526,
          0.5678499998691526,
          0
         ],
         "xaxis": "x",
         "y": [
          -15,
          -15,
          -25,
          -25
         ],
         "yaxis": "y"
        },
        {
         "hoverinfo": "text",
         "marker": {
          "color": "rgb(61,153,112)"
         },
         "mode": "lines",
         "text": [
          "easter_resurrection_pagan_goddess_celebration",
          "",
          "",
          "law_sabbath_jesus_ceremonial_god"
         ],
         "type": "scatter",
         "x": [
          0,
          0.8539243326633789,
          0.8539243326633789,
          0.5678499998691526
         ],
         "xaxis": "x",
         "y": [
          -5,
          -5,
          -20,
          -20
         ],
         "yaxis": "y"
        },
        {
         "hoverinfo": "text",
         "marker": {
          "color": "rgb(61,153,112)"
         },
         "mode": "lines",
         "text": [
          "books_scripture_canon_church_language",
          "",
          "",
          "prophecies_prophecy_lord_god_prophet"
         ],
         "type": "scatter",
         "x": [
          0,
          0.6003392080216641,
          0.6003392080216641,
          0
         ],
         "xaxis": "x",
         "y": [
          -55,
          -55,
          -65,
          -65
         ],
         "yaxis": "y"
        },
        {
         "hoverinfo": "text",
         "marker": {
          "color": "rgb(61,153,112)"
         },
         "mode": "lines",
         "text": [
          "islam_rushdie_islamic_qur_muhammad",
          "",
          "",
          "scripture_books_canon_church_bible"
         ],
         "type": "scatter",
         "x": [
          0,
          0.6821878976280821,
          0.6821878976280821,
          0.6003392080216641
         ],
         "xaxis": "x",
         "y": [
          -45,
          -45,
          -60,
          -60
         ],
         "yaxis": "y"
        },
        {
         "hoverinfo": "text",
         "marker": {
          "color": "rgb(61,153,112)"
         },
         "mode": "lines",
         "text": [
          "islam_rushdie_islamic_qur_book",
          "",
          "",
          "pope_church_schism_orthodox_catholic"
         ],
         "type": "scatter",
         "x": [
          0.6821878976280821,
          0.7588450864087323,
          0.7588450864087323,
          0
         ],
         "xaxis": "x",
         "y": [
          -52.5,
          -52.5,
          -75,
          -75
         ],
         "yaxis": "y"
        },
        {
         "hoverinfo": "text",
         "marker": {
          "color": "rgb(61,153,112)"
         },
         "mode": "lines",
         "text": [
          "marriage_married_marry_ceremony_church",
          "",
          "",
          "islam_church_pope_rushdie_of"
         ],
         "type": "scatter",
         "x": [
          0,
          0.7888919759546399,
          0.7888919759546399,
          0.7588450864087323
         ],
         "xaxis": "x",
         "y": [
          -35,
          -35,
          -63.75,
          -63.75
         ],
         "yaxis": "y"
        },
        {
         "hoverinfo": "text",
         "marker": {
          "color": "rgb(61,153,112)"
         },
         "mode": "lines",
         "text": [
          "hell_eternal_god_jesus_heaven",
          "",
          "",
          "christ_god_jesus_once_shall"
         ],
         "type": "scatter",
         "x": [
          0,
          0.4930395651355629,
          0.4930395651355629,
          0
         ],
         "xaxis": "x",
         "y": [
          -95,
          -95,
          -105,
          -105
         ],
         "yaxis": "y"
        },
        {
         "hoverinfo": "text",
         "marker": {
          "color": "rgb(61,153,112)"
         },
         "mode": "lines",
         "text": [
          "hell_eternal_god_jesus_heaven",
          "",
          "",
          "tomb_jesus_resurrection_disciples_empty"
         ],
         "type": "scatter",
         "x": [
          0.4930395651355629,
          0.5960737206077231,
          0.5960737206077231,
          0
         ],
         "xaxis": "x",
         "y": [
          -100,
          -100,
          -115,
          -115
         ],
         "yaxis": "y"
        },
        {
         "hoverinfo": "text",
         "marker": {
          "color": "rgb(61,153,112)"
         },
         "mode": "lines",
         "text": [
          "god_son_father_jesus_holy",
          "",
          "",
          "hell_jesus_god_eternal_heaven"
         ],
         "type": "scatter",
         "x": [
          0,
          0.6510143187107542,
          0.6510143187107542,
          0.5960737206077231
         ],
         "xaxis": "x",
         "y": [
          -85,
          -85,
          -107.5,
          -107.5
         ],
         "yaxis": "y"
        },
        {
         "hoverinfo": "text",
         "marker": {
          "color": "rgb(61,153,112)"
         },
         "mode": "lines",
         "text": [
          "truth_absolute_bible_arrogance_absolutes",
          "",
          "",
          "ra_satan_god_thou_lucifer"
         ],
         "type": "scatter",
         "x": [
          0,
          0.5455843344007901,
          0.5455843344007901,
          0
         ],
         "xaxis": "x",
         "y": [
          -125,
          -125,
          -135,
          -135
         ],
         "yaxis": "y"
        },
        {
         "hoverinfo": "text",
         "marker": {
          "color": "rgb(61,153,112)"
         },
         "mode": "lines",
         "text": [
          "ra_god_bible_satan_truth",
          "",
          "",
          "jehovah_elohim_lord_mormon_mcconkie"
         ],
         "type": "scatter",
         "x": [
          0.5455843344007901,
          0.694867290867371,
          0.694867290867371,
          0
         ],
         "xaxis": "x",
         "y": [
          -130,
          -130,
          -145,
          -145
         ],
         "yaxis": "y"
        },
        {
         "hoverinfo": "text",
         "marker": {
          "color": "rgb(61,153,112)"
         },
         "mode": "lines",
         "text": [
          "god_hell_jesus_eternal_he",
          "",
          "",
          "jehovah_elohim_god_lord_mormon"
         ],
         "type": "scatter",
         "x": [
          0.6510143187107542,
          0.7078551478588289,
          0.7078551478588289,
          0.694867290867371
         ],
         "xaxis": "x",
         "y": [
          -96.25,
          -96.25,
          -137.5,
          -137.5
         ],
         "yaxis": "y"
        },
        {
         "hoverinfo": "text",
         "marker": {
          "color": "rgb(61,153,112)"
         },
         "mode": "lines",
         "text": [
          "church_islam_pope_marriage_of",
          "",
          "",
          "god_jehovah_jesus_elohim_lord"
         ],
         "type": "scatter",
         "x": [
          0.7888919759546399,
          0.8150677764571428,
          0.8150677764571428,
          0.7078551478588289
         ],
         "xaxis": "x",
         "y": [
          -49.375,
          -49.375,
          -116.875,
          -116.875
         ],
         "yaxis": "y"
        },
        {
         "hoverinfo": "text",
         "marker": {
          "color": "rgb(61,153,112)"
         },
         "mode": "lines",
         "text": [
          "aaron_baptism_sin_faith_god",
          "",
          "",
          "sin_hate_love_sinner_aids"
         ],
         "type": "scatter",
         "x": [
          0,
          0.6290488577333028,
          0.6290488577333028,
          0
         ],
         "xaxis": "x",
         "y": [
          -165,
          -165,
          -175,
          -175
         ],
         "yaxis": "y"
        },
        {
         "hoverinfo": "text",
         "marker": {
          "color": "rgb(61,153,112)"
         },
         "mode": "lines",
         "text": [
          "mary_her_she_bernadette_maria",
          "",
          "",
          "sin_baptism_aaron_hate_god"
         ],
         "type": "scatter",
         "x": [
          0,
          0.6948912412109716,
          0.6948912412109716,
          0.6290488577333028
         ],
         "xaxis": "x",
         "y": [
          -155,
          -155,
          -170,
          -170
         ],
         "yaxis": "y"
        },
        {
         "hoverinfo": "text",
         "marker": {
          "color": "rgb(61,153,112)"
         },
         "mode": "lines",
         "text": [
          "god_jesus_jehovah_church_of",
          "",
          "",
          "mary_sin_her_she_god"
         ],
         "type": "scatter",
         "x": [
          0.8150677764571428,
          0.8468808245155791,
          0.8468808245155791,
          0.6948912412109716
         ],
         "xaxis": "x",
         "y": [
          -83.125,
          -83.125,
          -162.5,
          -162.5
         ],
         "yaxis": "y"
        },
        {
         "hoverinfo": "text",
         "marker": {
          "color": "rgb(61,153,112)"
         },
         "mode": "lines",
         "text": [
          "law_sabbath_easter_jesus_god",
          "",
          "",
          "god_jesus_church_of_he"
         ],
         "type": "scatter",
         "x": [
          0.8539243326633789,
          0.9831895528479687,
          0.9831895528479687,
          0.8468808245155791
         ],
         "xaxis": "x",
         "y": [
          -12.5,
          -12.5,
          -122.8125,
          -122.8125
         ],
         "yaxis": "y"
        },
        {
         "hoverinfo": "text",
         "marker": {
          "color": "rgb(255,65,54)"
         },
         "mode": "lines",
         "text": [
          "religion_religious_crusades_history_wars",
          "",
          "",
          "schools_moment_silence_cult_prayer"
         ],
         "type": "scatter",
         "x": [
          0,
          0.6966729495437894,
          0.6966729495437894,
          0
         ],
         "xaxis": "x",
         "y": [
          -195,
          -195,
          -205,
          -205
         ],
         "yaxis": "y"
        },
        {
         "hoverinfo": "text",
         "marker": {
          "color": "rgb(255,65,54)"
         },
         "mode": "lines",
         "text": [
          "religion_schools_religious_moment_silence",
          "",
          "",
          "christian_oo_christianity_christians_convenient"
         ],
         "type": "scatter",
         "x": [
          0.6966729495437894,
          0.7271131434393198,
          0.7271131434393198,
          0
         ],
         "xaxis": "x",
         "y": [
          -200,
          -200,
          -215,
          -215
         ],
         "yaxis": "y"
        },
        {
         "hoverinfo": "text",
         "marker": {
          "color": "rgb(255,65,54)"
         },
         "mode": "lines",
         "text": [
          "religion_christian_schools_religious_christianity",
          "",
          "",
          "taize_book_community_johannine_brothers"
         ],
         "type": "scatter",
         "x": [
          0.7271131434393198,
          0.8263928634922844,
          0.8263928634922844,
          0
         ],
         "xaxis": "x",
         "y": [
          -207.5,
          -207.5,
          -225,
          -225
         ],
         "yaxis": "y"
        },
        {
         "hoverinfo": "text",
         "marker": {
          "color": "rgb(255,65,54)"
         },
         "mode": "lines",
         "text": [
          "rosicrucian_reuss_order_rosicrucians_ordo",
          "",
          "",
          "religion_christian_religious_silence_schools"
         ],
         "type": "scatter",
         "x": [
          0,
          0.8812921074613126,
          0.8812921074613126,
          0.8263928634922844
         ],
         "xaxis": "x",
         "y": [
          -185,
          -185,
          -216.25,
          -216.25
         ],
         "yaxis": "y"
        },
        {
         "hoverinfo": "text",
         "marker": {
          "color": "rgb(255,65,54)"
         },
         "mode": "lines",
         "text": [
          "atheism_atheists_god_atheist_belief",
          "",
          "",
          "existence_god_exist_why_exists"
         ],
         "type": "scatter",
         "x": [
          0,
          0.47188002791814687,
          0.47188002791814687,
          0
         ],
         "xaxis": "x",
         "y": [
          -245,
          -245,
          -255,
          -255
         ],
         "yaxis": "y"
        },
        {
         "hoverinfo": "text",
         "marker": {
          "color": "rgb(255,65,54)"
         },
         "mode": "lines",
         "text": [
          "spiritual_god_life_my_do",
          "",
          "",
          "atheism_atheists_god_atheist_belief"
         ],
         "type": "scatter",
         "x": [
          0,
          0.5225413069377647,
          0.5225413069377647,
          0.47188002791814687
         ],
         "xaxis": "x",
         "y": [
          -235,
          -235,
          -250,
          -250
         ],
         "yaxis": "y"
        },
        {
         "hoverinfo": "text",
         "marker": {
          "color": "rgb(255,65,54)"
         },
         "mode": "lines",
         "text": [
          "science_methodology_scientific_rational_theory",
          "",
          "",
          "moral_morality_objective_immoral_hudson"
         ],
         "type": "scatter",
         "x": [
          0,
          0.5874572242863105,
          0.5874572242863105,
          0
         ],
         "xaxis": "x",
         "y": [
          -265,
          -265,
          -275,
          -275
         ],
         "yaxis": "y"
        },
        {
         "hoverinfo": "text",
         "marker": {
          "color": "rgb(255,65,54)"
         },
         "mode": "lines",
         "text": [
          "atheism_god_atheists_atheist_existence",
          "",
          "",
          "moral_objective_morality_science_is"
         ],
         "type": "scatter",
         "x": [
          0.5225413069377647,
          0.68179732102791,
          0.68179732102791,
          0.5874572242863105
         ],
         "xaxis": "x",
         "y": [
          -242.5,
          -242.5,
          -270,
          -270
         ],
         "yaxis": "y"
        },
        {
         "hoverinfo": "text",
         "marker": {
          "color": "rgb(255,65,54)"
         },
         "mode": "lines",
         "text": [
          "religion_christian_rosicrucian_order_reuss",
          "",
          "",
          "atheism_god_atheists_moral_atheist"
         ],
         "type": "scatter",
         "x": [
          0.8812921074613126,
          0.9306460190743013,
          0.9306460190743013,
          0.68179732102791
         ],
         "xaxis": "x",
         "y": [
          -200.625,
          -200.625,
          -256.25,
          -256.25
         ],
         "yaxis": "y"
        },
        {
         "hoverinfo": "text",
         "marker": {
          "color": "rgb(255,65,54)"
         },
         "mode": "lines",
         "text": [
          "homosexuality_homosexual_paul_homosexuals_sex",
          "",
          "",
          "kinsey_men_homosexual_gay_sex"
         ],
         "type": "scatter",
         "x": [
          0,
          0.4880774637127151,
          0.4880774637127151,
          0
         ],
         "xaxis": "x",
         "y": [
          -295,
          -295,
          -305,
          -305
         ],
         "yaxis": "y"
        },
        {
         "hoverinfo": "text",
         "marker": {
          "color": "rgb(255,65,54)"
         },
         "mode": "lines",
         "text": [
          "enviroleague_homosexuals_gay_clayton_sexual",
          "",
          "",
          "homosexual_homosexuality_sex_gay_men"
         ],
         "type": "scatter",
         "x": [
          0,
          0.6149715052882077,
          0.6149715052882077,
          0.4880774637127151
         ],
         "xaxis": "x",
         "y": [
          -285,
          -285,
          -300,
          -300
         ],
         "yaxis": "y"
        },
        {
         "hoverinfo": "text",
         "marker": {
          "color": "rgb(255,65,54)"
         },
         "mode": "lines",
         "text": [
          "atheism_god_atheists_is_that",
          "",
          "",
          "homosexual_homosexuality_sex_gay_homosexuals"
         ],
         "type": "scatter",
         "x": [
          0.9306460190743013,
          0.980428718569011,
          0.980428718569011,
          0.6149715052882077
         ],
         "xaxis": "x",
         "y": [
          -228.4375,
          -228.4375,
          -292.5,
          -292.5
         ],
         "yaxis": "y"
        },
        {
         "hoverinfo": "text",
         "marker": {
          "color": "rgb(35,205,205)"
         },
         "mode": "lines",
         "text": [
          "armenian_armenians_turkish_genocide_istanbul",
          "",
          "",
          "were_they_armenians_azerbaijan_her"
         ],
         "type": "scatter",
         "x": [
          0,
          0.5045390616424037,
          0.5045390616424037,
          0
         ],
         "xaxis": "x",
         "y": [
          -325,
          -325,
          -335,
          -335
         ],
         "yaxis": "y"
        },
        {
         "hoverinfo": "text",
         "marker": {
          "color": "rgb(35,205,205)"
         },
         "mode": "lines",
         "text": [
          "greek_greece_turkish_greeks_cyprus",
          "",
          "",
          "armenian_armenians_were_they_armenia"
         ],
         "type": "scatter",
         "x": [
          0,
          0.6913440150621522,
          0.6913440150621522,
          0.5045390616424037
         ],
         "xaxis": "x",
         "y": [
          -315,
          -315,
          -330,
          -330
         ],
         "yaxis": "y"
        },
        {
         "hoverinfo": "text",
         "marker": {
          "color": "rgb(133,20,75)"
         },
         "mode": "lines",
         "text": [
          "ms_survey_microsoft_users_msdos",
          "",
          "",
          "hacker_computer_hackers_ethic_engineering"
         ],
         "type": "scatter",
         "x": [
          0,
          0.7531017021945564,
          0.7531017021945564,
          0
         ],
         "xaxis": "x",
         "y": [
          -345,
          -345,
          -355,
          -355
         ],
         "yaxis": "y"
        },
        {
         "hoverinfo": "text",
         "marker": {
          "color": "rgb(133,20,75)"
         },
         "mode": "lines",
         "text": [
          "you_flame_post_your_someone",
          "",
          "",
          "jim_context_you_telepathy_your"
         ],
         "type": "scatter",
         "x": [
          0,
          0.5621637123661083,
          0.5621637123661083,
          0
         ],
         "xaxis": "x",
         "y": [
          -385,
          -385,
          -395,
          -395
         ],
         "yaxis": "y"
        },
        {
         "hoverinfo": "text",
         "marker": {
          "color": "rgb(133,20,75)"
         },
         "mode": "lines",
         "text": [
          "game_team_he_games_season",
          "",
          "",
          "you_jim_your_context_post"
         ],
         "type": "scatter",
         "x": [
          0,
          0.7088245685193189,
          0.7088245685193189,
          0.5621637123661083
         ],
         "xaxis": "x",
         "y": [
          -375,
          -375,
          -390,
          -390
         ],
         "yaxis": "y"
        },
        {
         "hoverinfo": "text",
         "marker": {
          "color": "rgb(133,20,75)"
         },
         "mode": "lines",
         "text": [
          "weick_ups_him_stock_call",
          "",
          "",
          "game_team_he_games_season"
         ],
         "type": "scatter",
         "x": [
          0,
          0.7817093145839047,
          0.7817093145839047,
          0.7088245685193189
         ],
         "xaxis": "x",
         "y": [
          -365,
          -365,
          -382.5,
          -382.5
         ],
         "yaxis": "y"
        },
        {
         "hoverinfo": "text",
         "marker": {
          "color": "rgb(133,20,75)"
         },
         "mode": "lines",
         "text": [
          "serbs_bosnia_muslims_stephanopoulos_mr",
          "",
          "",
          "myers_stephanopoulos_president_mr_ms"
         ],
         "type": "scatter",
         "x": [
          0,
          0.3763314334779544,
          0.3763314334779544,
          0
         ],
         "xaxis": "x",
         "y": [
          -415,
          -415,
          -425,
          -425
         ],
         "yaxis": "y"
        },
        {
         "hoverinfo": "text",
         "marker": {
          "color": "rgb(133,20,75)"
         },
         "mode": "lines",
         "text": [
          "tax_income_taxes_deficit_clinton",
          "",
          "",
          "stephanopoulos_president_mr_myers_ms"
         ],
         "type": "scatter",
         "x": [
          0,
          0.679810795739792,
          0.679810795739792,
          0.3763314334779544
         ],
         "xaxis": "x",
         "y": [
          -405,
          -405,
          -420,
          -420
         ],
         "yaxis": "y"
        },
        {
         "hoverinfo": "text",
         "marker": {
          "color": "rgb(133,20,75)"
         },
         "mode": "lines",
         "text": [
          "israel_israeli_arab_arabs_jews",
          "",
          "",
          "jews_nazi_nazis_hitler_jewish"
         ],
         "type": "scatter",
         "x": [
          0,
          0.48906738344679546,
          0.48906738344679546,
          0
         ],
         "xaxis": "x",
         "y": [
          -445,
          -445,
          -455,
          -455
         ],
         "yaxis": "y"
        },
        {
         "hoverinfo": "text",
         "marker": {
          "color": "rgb(133,20,75)"
         },
         "mode": "lines",
         "text": [
          "kuwait_iran_iraq_gulf_arabia",
          "",
          "",
          "israel_israeli_jews_arab_arabs"
         ],
         "type": "scatter",
         "x": [
          0,
          0.743188127128221,
          0.743188127128221,
          0.48906738344679546
         ],
         "xaxis": "x",
         "y": [
          -435,
          -435,
          -450,
          -450
         ],
         "yaxis": "y"
        },
        {
         "hoverinfo": "text",
         "marker": {
          "color": "rgb(133,20,75)"
         },
         "mode": "lines",
         "text": [
          "israel_israeli_arab_jews_arabs",
          "",
          "",
          "weaver_trial_spence_cooper_court"
         ],
         "type": "scatter",
         "x": [
          0.743188127128221,
          0.8183650431609456,
          0.8183650431609456,
          0
         ],
         "xaxis": "x",
         "y": [
          -442.5,
          -442.5,
          -465,
          -465
         ],
         "yaxis": "y"
        },
        {
         "hoverinfo": "text",
         "marker": {
          "color": "rgb(133,20,75)"
         },
         "mode": "lines",
         "text": [
          "stephanopoulos_president_mr_myers_ms",
          "",
          "",
          "israel_israeli_arab_jews_arabs"
         ],
         "type": "scatter",
         "x": [
          0.679810795739792,
          0.8511980764270387,
          0.8511980764270387,
          0.8183650431609456
         ],
         "xaxis": "x",
         "y": [
          -412.5,
          -412.5,
          -453.75,
          -453.75
         ],
         "yaxis": "y"
        },
        {
         "hoverinfo": "text",
         "marker": {
          "color": "rgb(133,20,75)"
         },
         "mode": "lines",
         "text": [
          "game_team_he_games_season",
          "",
          "",
          "israel_stephanopoulos_president_mr_israeli"
         ],
         "type": "scatter",
         "x": [
          0.7817093145839047,
          0.8595494755722465,
          0.8595494755722465,
          0.8511980764270387
         ],
         "xaxis": "x",
         "y": [
          -373.75,
          -373.75,
          -433.125,
          -433.125
         ],
         "yaxis": "y"
        },
        {
         "hoverinfo": "text",
         "marker": {
          "color": "rgb(133,20,75)"
         },
         "mode": "lines",
         "text": [
          "militia_amendment_arms_bear_right",
          "",
          "",
          "government_libertarians_libertarian_regulation_libertarianism"
         ],
         "type": "scatter",
         "x": [
          0,
          0.6626884475949322,
          0.6626884475949322,
          0
         ],
         "xaxis": "x",
         "y": [
          -475,
          -475,
          -485,
          -485
         ],
         "yaxis": "y"
        },
        {
         "hoverinfo": "text",
         "marker": {
          "color": "rgb(133,20,75)"
         },
         "mode": "lines",
         "text": [
          "gun_guns_deaths_000_homicides",
          "",
          "",
          "nra_hci_gun_members_against"
         ],
         "type": "scatter",
         "x": [
          0,
          0.6618520127107312,
          0.6618520127107312,
          0
         ],
         "xaxis": "x",
         "y": [
          -495,
          -495,
          -505,
          -505
         ],
         "yaxis": "y"
        },
        {
         "hoverinfo": "text",
         "marker": {
          "color": "rgb(133,20,75)"
         },
         "mode": "lines",
         "text": [
          "militia_amendment_government_arms_right",
          "",
          "",
          "gun_guns_deaths_000_homicides"
         ],
         "type": "scatter",
         "x": [
          0.6626884475949322,
          0.7704748972887077,
          0.7704748972887077,
          0.6618520127107312
         ],
         "xaxis": "x",
         "y": [
          -480,
          -480,
          -500,
          -500
         ],
         "yaxis": "y"
        },
        {
         "hoverinfo": "text",
         "marker": {
          "color": "rgb(133,20,75)"
         },
         "mode": "lines",
         "text": [
          "blacks_african_white_crimes_culture",
          "",
          "",
          "penalty_cruel_death_punishment_innocent"
         ],
         "type": "scatter",
         "x": [
          0,
          0.7695601564108505,
          0.7695601564108505,
          0
         ],
         "xaxis": "x",
         "y": [
          -515,
          -515,
          -525,
          -525
         ],
         "yaxis": "y"
        },
        {
         "hoverinfo": "text",
         "marker": {
          "color": "rgb(133,20,75)"
         },
         "mode": "lines",
         "text": [
          "blacks_penalty_cruel_death_african",
          "",
          "",
          "abortion_abortions_women_choice_pregnancy"
         ],
         "type": "scatter",
         "x": [
          0.7695601564108505,
          0.8146132706710685,
          0.8146132706710685,
          0
         ],
         "xaxis": "x",
         "y": [
          -520,
          -520,
          -535,
          -535
         ],
         "yaxis": "y"
        },
        {
         "hoverinfo": "text",
         "marker": {
          "color": "rgb(133,20,75)"
         },
         "mode": "lines",
         "text": [
          "gun_militia_amendment_guns_government",
          "",
          "",
          "blacks_abortion_penalty_cruel_death"
         ],
         "type": "scatter",
         "x": [
          0.7704748972887077,
          0.8351478328324371,
          0.8351478328324371,
          0.8146132706710685
         ],
         "xaxis": "x",
         "y": [
          -490,
          -490,
          -527.5,
          -527.5
         ],
         "yaxis": "y"
        },
        {
         "hoverinfo": "text",
         "marker": {
          "color": "rgb(133,20,75)"
         },
         "mode": "lines",
         "text": [
          "he_game_team_was_the",
          "",
          "",
          "gun_militia_amendment_guns_people"
         ],
         "type": "scatter",
         "x": [
          0.8595494755722465,
          0.9136494546337767,
          0.9136494546337767,
          0.8351478328324371
         ],
         "xaxis": "x",
         "y": [
          -403.4375,
          -403.4375,
          -508.75,
          -508.75
         ],
         "yaxis": "y"
        },
        {
         "hoverinfo": "text",
         "marker": {
          "color": "rgb(133,20,75)"
         },
         "mode": "lines",
         "text": [
          "hacker_computer_hackers_ms_ethic",
          "",
          "",
          "he_game_the_team_was"
         ],
         "type": "scatter",
         "x": [
          0.7531017021945564,
          0.9336017240241435,
          0.9336017240241435,
          0.9136494546337767
         ],
         "xaxis": "x",
         "y": [
          -350,
          -350,
          -456.09375,
          -456.09375
         ],
         "yaxis": "y"
        },
        {
         "hoverinfo": "text",
         "marker": {
          "color": "rgb(133,20,75)"
         },
         "mode": "lines",
         "text": [
          "revolver_semi_auto_glock_kratz",
          "",
          "",
          "concealed_carry_weapon_freeman_carrying"
         ],
         "type": "scatter",
         "x": [
          0,
          0.7797818120112824,
          0.7797818120112824,
          0
         ],
         "xaxis": "x",
         "y": [
          -545,
          -545,
          -555,
          -555
         ],
         "yaxis": "y"
        },
        {
         "hoverinfo": "text",
         "marker": {
          "color": "rgb(133,20,75)"
         },
         "mode": "lines",
         "text": [
          "he_game_the_team_that",
          "",
          "",
          "revolver_semi_auto_gun_safety"
         ],
         "type": "scatter",
         "x": [
          0.9336017240241435,
          0.9772621469024322,
          0.9772621469024322,
          0.7797818120112824
         ],
         "xaxis": "x",
         "y": [
          -403.046875,
          -403.046875,
          -550,
          -550
         ],
         "yaxis": "y"
        },
        {
         "hoverinfo": "text",
         "marker": {
          "color": "rgb(0,116,217)"
         },
         "mode": "lines",
         "text": [
          "armenian_armenians_were_turkish_they",
          "",
          "",
          "he_game_the_team_that"
         ],
         "type": "scatter",
         "x": [
          0.6913440150621522,
          1.0255022086245036,
          1.0255022086245036,
          0.9772621469024322
         ],
         "xaxis": "x",
         "y": [
          -322.5,
          -322.5,
          -476.5234375,
          -476.5234375
         ],
         "yaxis": "y"
        },
        {
         "hoverinfo": "text",
         "marker": {
          "color": "rgb(0,116,217)"
         },
         "mode": "lines",
         "text": [
          "god_homosexual_that_is_atheism",
          "",
          "",
          "he_was_the_in_they"
         ],
         "type": "scatter",
         "x": [
          0.980428718569011,
          1.128332945309322,
          1.128332945309322,
          1.0255022086245036
         ],
         "xaxis": "x",
         "y": [
          -260.46875,
          -260.46875,
          -399.51171875,
          -399.51171875
         ],
         "yaxis": "y"
        },
        {
         "hoverinfo": "text",
         "marker": {
          "color": "rgb(255,220,0)"
         },
         "mode": "lines",
         "text": [
          "koresh_batf_fbi_compound_children",
          "",
          "",
          "batf_warrant_fbi_raid_assault"
         ],
         "type": "scatter",
         "x": [
          0,
          0.376703714738574,
          0.376703714738574,
          0
         ],
         "xaxis": "x",
         "y": [
          -575,
          -575,
          -585,
          -585
         ],
         "yaxis": "y"
        },
        {
         "hoverinfo": "text",
         "marker": {
          "color": "rgb(255,220,0)"
         },
         "mode": "lines",
         "text": [
          "reno_waco_clinton_fbi_janet",
          "",
          "",
          "batf_koresh_fbi_compound_warrant"
         ],
         "type": "scatter",
         "x": [
          0,
          0.46796585038571364,
          0.46796585038571364,
          0.376703714738574
         ],
         "xaxis": "x",
         "y": [
          -565,
          -565,
          -580,
          -580
         ],
         "yaxis": "y"
        },
        {
         "hoverinfo": "text",
         "marker": {
          "color": "rgb(255,220,0)"
         },
         "mode": "lines",
         "text": [
          "fire_fbi_gas_tear_started",
          "",
          "",
          "bd_atf_fbi_they_batf"
         ],
         "type": "scatter",
         "x": [
          0,
          0.47465023710305454,
          0.47465023710305454,
          0
         ],
         "xaxis": "x",
         "y": [
          -595,
          -595,
          -605,
          -605
         ],
         "yaxis": "y"
        },
        {
         "hoverinfo": "text",
         "marker": {
          "color": "rgb(255,220,0)"
         },
         "mode": "lines",
         "text": [
          "batf_koresh_fbi_compound_warrant",
          "",
          "",
          "fire_fbi_gas_tear_bd"
         ],
         "type": "scatter",
         "x": [
          0.46796585038571364,
          0.5487024323320251,
          0.5487024323320251,
          0.47465023710305454
         ],
         "xaxis": "x",
         "y": [
          -572.5,
          -572.5,
          -600,
          -600
         ],
         "yaxis": "y"
        },
        {
         "hoverinfo": "text",
         "marker": {
          "color": "rgb(0,116,217)"
         },
         "mode": "lines",
         "text": [
          "he_the_that_was_of",
          "",
          "",
          "batf_fbi_fire_koresh_compound"
         ],
         "type": "scatter",
         "x": [
          1.128332945309322,
          1.3558361800160355,
          1.3558361800160355,
          0.5487024323320251
         ],
         "xaxis": "x",
         "y": [
          -329.990234375,
          -329.990234375,
          -586.25,
          -586.25
         ],
         "yaxis": "y"
        },
        {
         "hoverinfo": "text",
         "marker": {
          "color": "rgb(0,116,217)"
         },
         "mode": "lines",
         "text": [
          "god_jesus_church_of_christ",
          "",
          "",
          "he_the_was_that_they"
         ],
         "type": "scatter",
         "x": [
          0.9831895528479687,
          1.511929226116291,
          1.511929226116291,
          1.3558361800160355
         ],
         "xaxis": "x",
         "y": [
          -67.65625,
          -67.65625,
          -458.1201171875,
          -458.1201171875
         ],
         "yaxis": "y"
        },
        {
         "hoverinfo": "text",
         "marker": {
          "color": "rgb(40,35,35)"
         },
         "mode": "lines",
         "text": [
          "space_launch_station_nasa_shuttle",
          "",
          "",
          "sky_advertising_billboard_light_space"
         ],
         "type": "scatter",
         "x": [
          0,
          0.5432626052960021,
          0.5432626052960021,
          0
         ],
         "xaxis": "x",
         "y": [
          -635,
          -635,
          -645,
          -645
         ],
         "yaxis": "y"
        },
        {
         "hoverinfo": "text",
         "marker": {
          "color": "rgb(40,35,35)"
         },
         "mode": "lines",
         "text": [
          "hst_mission_shuttle_orbit_boost",
          "",
          "",
          "space_launch_nasa_moon_station"
         ],
         "type": "scatter",
         "x": [
          0,
          0.722476401937514,
          0.722476401937514,
          0.5432626052960021
         ],
         "xaxis": "x",
         "y": [
          -625,
          -625,
          -640,
          -640
         ],
         "yaxis": "y"
        },
        {
         "hoverinfo": "text",
         "marker": {
          "color": "rgb(40,35,35)"
         },
         "mode": "lines",
         "text": [
          "shuttle_software_000_900_process",
          "",
          "",
          "space_launch_shuttle_nasa_orbit"
         ],
         "type": "scatter",
         "x": [
          0,
          0.797055487022896,
          0.797055487022896,
          0.722476401937514
         ],
         "xaxis": "x",
         "y": [
          -615,
          -615,
          -632.5,
          -632.5
         ],
         "yaxis": "y"
        },
        {
         "hoverinfo": "text",
         "marker": {
          "color": "rgb(40,35,35)"
         },
         "mode": "lines",
         "text": [
          "earth_planet_spacecraft_solar_space",
          "",
          "",
          "spacecraft_probe_mission_mars_orbit"
         ],
         "type": "scatter",
         "x": [
          0,
          0.3942685052292699,
          0.3942685052292699,
          0
         ],
         "xaxis": "x",
         "y": [
          -655,
          -655,
          -665,
          -665
         ],
         "yaxis": "y"
        },
        {
         "hoverinfo": "text",
         "marker": {
          "color": "rgb(40,35,35)"
         },
         "mode": "lines",
         "text": [
          "space_launch_shuttle_nasa_orbit",
          "",
          "",
          "spacecraft_earth_solar_planet_orbit"
         ],
         "type": "scatter",
         "x": [
          0.797055487022896,
          0.872250818599708,
          0.872250818599708,
          0.3942685052292699
         ],
         "xaxis": "x",
         "y": [
          -623.75,
          -623.75,
          -660,
          -660
         ],
         "yaxis": "y"
        },
        {
         "hoverinfo": "text",
         "marker": {
          "color": "rgb(61,153,112)"
         },
         "mode": "lines",
         "text": [
          "ca_bbs_818_408_805",
          "",
          "",
          "manhattan_beauchaine_bobbe_queens_sank"
         ],
         "type": "scatter",
         "x": [
          0,
          0.9930200530734596,
          0.9930200530734596,
          0
         ],
         "xaxis": "x",
         "y": [
          -685,
          -685,
          -695,
          -695
         ],
         "yaxis": "y"
        },
        {
         "hoverinfo": "text",
         "marker": {
          "color": "rgb(61,153,112)"
         },
         "mode": "lines",
         "text": [
          "ax_max_g9v_b8f_a86",
          "",
          "",
          "ca_bbs_manhattan_bobbe_queens"
         ],
         "type": "scatter",
         "x": [
          0,
          0.9978956598333532,
          0.9978956598333532,
          0.9930200530734596
         ],
         "xaxis": "x",
         "y": [
          -675,
          -675,
          -690,
          -690
         ],
         "yaxis": "y"
        },
        {
         "hoverinfo": "text",
         "marker": {
          "color": "rgb(255,65,54)"
         },
         "mode": "lines",
         "text": [
          "test_uckers_urn_b4_message",
          "",
          "",
          "idjits_vielen_dank_hello_ites"
         ],
         "type": "scatter",
         "x": [
          0,
          0.9638595349257402,
          0.9638595349257402,
          0
         ],
         "xaxis": "x",
         "y": [
          -705,
          -705,
          -715,
          -715
         ],
         "yaxis": "y"
        },
        {
         "hoverinfo": "text",
         "marker": {
          "color": "rgb(0,116,217)"
         },
         "mode": "lines",
         "text": [
          "ax_max_g9v_b8f_a86",
          "",
          "",
          "test_hello_uckers_dank_idjits"
         ],
         "type": "scatter",
         "x": [
          0.9978956598333532,
          1.016834109771401,
          1.016834109771401,
          0.9638595349257402
         ],
         "xaxis": "x",
         "y": [
          -682.5,
          -682.5,
          -710,
          -710
         ],
         "yaxis": "y"
        },
        {
         "hoverinfo": "text",
         "marker": {
          "color": "rgb(35,205,205)"
         },
         "mode": "lines",
         "text": [
          "chemistry_paperback_book_spice_guide",
          "",
          "",
          "books_gre_cover_book_trek"
         ],
         "type": "scatter",
         "x": [
          0,
          0.8072424430678599,
          0.8072424430678599,
          0
         ],
         "xaxis": "x",
         "y": [
          -725,
          -725,
          -735,
          -735
         ],
         "yaxis": "y"
        },
        {
         "hoverinfo": "text",
         "marker": {
          "color": "rgb(35,205,205)"
         },
         "mode": "lines",
         "text": [
          "ks_book_piper_books_assistants",
          "",
          "",
          "42_tea_question_answer_universe"
         ],
         "type": "scatter",
         "x": [
          0,
          0.8324507080007966,
          0.8324507080007966,
          0
         ],
         "xaxis": "x",
         "y": [
          -745,
          -745,
          -755,
          -755
         ],
         "yaxis": "y"
        },
        {
         "hoverinfo": "text",
         "marker": {
          "color": "rgb(35,205,205)"
         },
         "mode": "lines",
         "text": [
          "book_chemistry_books_paperback_spice",
          "",
          "",
          "ks_42_tea_book_question"
         ],
         "type": "scatter",
         "x": [
          0.8072424430678599,
          0.959134777066464,
          0.959134777066464,
          0.8324507080007966
         ],
         "xaxis": "x",
         "y": [
          -730,
          -730,
          -750,
          -750
         ],
         "yaxis": "y"
        },
        {
         "hoverinfo": "text",
         "marker": {
          "color": "rgb(61,153,112)"
         },
         "mode": "lines",
         "text": [
          "duke_quayle_gritz_bush_panicking",
          "",
          "",
          "clinton_bush_privacy_step_slightest"
         ],
         "type": "scatter",
         "x": [
          0,
          0.7482726917089486,
          0.7482726917089486,
          0
         ],
         "xaxis": "x",
         "y": [
          -775,
          -775,
          -785,
          -785
         ],
         "yaxis": "y"
        },
        {
         "hoverinfo": "text",
         "marker": {
          "color": "rgb(61,153,112)"
         },
         "mode": "lines",
         "text": [
          "s414_bill_bills_brady_senate",
          "",
          "",
          "professors_university_schools_cobb_class"
         ],
         "type": "scatter",
         "x": [
          0,
          0.8931607347747281,
          0.8931607347747281,
          0
         ],
         "xaxis": "x",
         "y": [
          -795,
          -795,
          -805,
          -805
         ],
         "yaxis": "y"
        },
        {
         "hoverinfo": "text",
         "marker": {
          "color": "rgb(61,153,112)"
         },
         "mode": "lines",
         "text": [
          "clinton_bush_duke_quayle_gritz",
          "",
          "",
          "professors_s414_bill_bills_brady"
         ],
         "type": "scatter",
         "x": [
          0.7482726917089486,
          0.9071128942525388,
          0.9071128942525388,
          0.8931607347747281
         ],
         "xaxis": "x",
         "y": [
          -780,
          -780,
          -800,
          -800
         ],
         "yaxis": "y"
        },
        {
         "hoverinfo": "text",
         "marker": {
          "color": "rgb(61,153,112)"
         },
         "mode": "lines",
         "text": [
          "white_mci_house_mail_compuserve",
          "",
          "",
          "clinton_bill_bush_professors_s414"
         ],
         "type": "scatter",
         "x": [
          0,
          0.9255494365175931,
          0.9255494365175931,
          0.9071128942525388
         ],
         "xaxis": "x",
         "y": [
          -765,
          -765,
          -790,
          -790
         ],
         "yaxis": "y"
        },
        {
         "hoverinfo": "text",
         "marker": {
          "color": "rgb(255,65,54)"
         },
         "mode": "lines",
         "text": [
          "freedom_speech_motto_dame_notre",
          "",
          "",
          "deleted_stuff_motto_hurts_amazing"
         ],
         "type": "scatter",
         "x": [
          0,
          0.8935792213662994,
          0.8935792213662994,
          0
         ],
         "xaxis": "x",
         "y": [
          -815,
          -815,
          -825,
          -825
         ],
         "yaxis": "y"
        },
        {
         "hoverinfo": "text",
         "marker": {
          "color": "rgb(255,65,54)"
         },
         "mode": "lines",
         "text": [
          "deane_colorado_binah_davewood_brandeis",
          "",
          "",
          "article_quoting_sktb_intercon_edu"
         ],
         "type": "scatter",
         "x": [
          0,
          0.9618979033429867,
          0.9618979033429867,
          0
         ],
         "xaxis": "x",
         "y": [
          -835,
          -835,
          -845,
          -845
         ],
         "yaxis": "y"
        },
        {
         "hoverinfo": "text",
         "marker": {
          "color": "rgb(255,65,54)"
         },
         "mode": "lines",
         "text": [
          "deleted_freedom_motto_stuff_speech",
          "",
          "",
          "article_quoting_edu_sktb_intercon"
         ],
         "type": "scatter",
         "x": [
          0.8935792213662994,
          0.9720296249030606,
          0.9720296249030606,
          0.9618979033429867
         ],
         "xaxis": "x",
         "y": [
          -820,
          -820,
          -840,
          -840
         ],
         "yaxis": "y"
        },
        {
         "hoverinfo": "text",
         "marker": {
          "color": "rgb(0,116,217)"
         },
         "mode": "lines",
         "text": [
          "clinton_bill_bush_professors_s414",
          "",
          "",
          "deleted_freedom_motto_article_stuff"
         ],
         "type": "scatter",
         "x": [
          0.9255494365175931,
          1.0469383443300329,
          1.0469383443300329,
          0.9720296249030606
         ],
         "xaxis": "x",
         "y": [
          -777.5,
          -777.5,
          -830,
          -830
         ],
         "yaxis": "y"
        },
        {
         "hoverinfo": "text",
         "marker": {
          "color": "rgb(0,116,217)"
         },
         "mode": "lines",
         "text": [
          "book_books_chemistry_paperback_guide",
          "",
          "",
          "clinton_bill_bush_deleted_professors"
         ],
         "type": "scatter",
         "x": [
          0.959134777066464,
          1.111808638300135,
          1.111808638300135,
          1.0469383443300329
         ],
         "xaxis": "x",
         "y": [
          -740,
          -740,
          -803.75,
          -803.75
         ],
         "yaxis": "y"
        },
        {
         "hoverinfo": "text",
         "marker": {
          "color": "rgb(0,116,217)"
         },
         "mode": "lines",
         "text": [
          "ax_max_g9v_b8f_a86",
          "",
          "",
          "book_books_clinton_chemistry_paperback"
         ],
         "type": "scatter",
         "x": [
          1.016834109771401,
          1.1299705710044468,
          1.1299705710044468,
          1.111808638300135
         ],
         "xaxis": "x",
         "y": [
          -696.25,
          -696.25,
          -771.875,
          -771.875
         ],
         "yaxis": "y"
        },
        {
         "hoverinfo": "text",
         "marker": {
          "color": "rgb(35,205,205)"
         },
         "mode": "lines",
         "text": [
          "water_cooling_steam_towers_plants",
          "",
          "",
          "water_mwra_dept_phd_energy"
         ],
         "type": "scatter",
         "x": [
          0,
          0.7381532713119277,
          0.7381532713119277,
          0
         ],
         "xaxis": "x",
         "y": [
          -865,
          -865,
          -875,
          -875
         ],
         "yaxis": "y"
        },
        {
         "hoverinfo": "text",
         "marker": {
          "color": "rgb(35,205,205)"
         },
         "mode": "lines",
         "text": [
          "weapons_nuclear_weapon_plutonium_clancy",
          "",
          "",
          "water_mwra_cooling_steam_energy"
         ],
         "type": "scatter",
         "x": [
          0,
          0.8288591615607052,
          0.8288591615607052,
          0.7381532713119277
         ],
         "xaxis": "x",
         "y": [
          -855,
          -855,
          -870,
          -870
         ],
         "yaxis": "y"
        },
        {
         "hoverinfo": "text",
         "marker": {
          "color": "rgb(133,20,75)"
         },
         "mode": "lines",
         "text": [
          "boards_solder_mask_green_board",
          "",
          "",
          "uv_leds_blue_light_led"
         ],
         "type": "scatter",
         "x": [
          0,
          0.8910541991427238,
          0.8910541991427238,
          0
         ],
         "xaxis": "x",
         "y": [
          -885,
          -885,
          -895,
          -895
         ],
         "yaxis": "y"
        },
        {
         "hoverinfo": "text",
         "marker": {
          "color": "rgb(133,20,75)"
         },
         "mode": "lines",
         "text": [
          "battery_batteries_concrete_discharge_acid",
          "",
          "",
          "kirlian_photography_leaf_pictures_krillean"
         ],
         "type": "scatter",
         "x": [
          0,
          0.8941556818382085,
          0.8941556818382085,
          0
         ],
         "xaxis": "x",
         "y": [
          -905,
          -905,
          -915,
          -915
         ],
         "yaxis": "y"
        },
        {
         "hoverinfo": "text",
         "marker": {
          "color": "rgb(133,20,75)"
         },
         "mode": "lines",
         "text": [
          "oort_cloud_gamma_batse_burst",
          "",
          "",
          "den_p3_p1_p2_polygon"
         ],
         "type": "scatter",
         "x": [
          0,
          0.8272424334713324,
          0.8272424334713324,
          0
         ],
         "xaxis": "x",
         "y": [
          -925,
          -925,
          -935,
          -935
         ],
         "yaxis": "y"
        },
        {
         "hoverinfo": "text",
         "marker": {
          "color": "rgb(133,20,75)"
         },
         "mode": "lines",
         "text": [
          "den_p3_p1_p2_oort",
          "",
          "",
          "accelerations_lines_airplanes_addition_mattell"
         ],
         "type": "scatter",
         "x": [
          0.8272424334713324,
          0.903451066816851,
          0.903451066816851,
          0
         ],
         "xaxis": "x",
         "y": [
          -930,
          -930,
          -945,
          -945
         ],
         "yaxis": "y"
        },
        {
         "hoverinfo": "text",
         "marker": {
          "color": "rgb(133,20,75)"
         },
         "mode": "lines",
         "text": [
          "battery_kirlian_photography_batteries_discharge",
          "",
          "",
          "den_p3_p1_p2_oort"
         ],
         "type": "scatter",
         "x": [
          0.8941556818382085,
          0.9284237378410266,
          0.9284237378410266,
          0.903451066816851
         ],
         "xaxis": "x",
         "y": [
          -910,
          -910,
          -937.5,
          -937.5
         ],
         "yaxis": "y"
        },
        {
         "hoverinfo": "text",
         "marker": {
          "color": "rgb(133,20,75)"
         },
         "mode": "lines",
         "text": [
          "wings_aircraft_sweep_phil_dryden",
          "",
          "",
          "moscow_aviation_su_kaliningrad_russian"
         ],
         "type": "scatter",
         "x": [
          0,
          0.9270657522680088,
          0.9270657522680088,
          0
         ],
         "xaxis": "x",
         "y": [
          -955,
          -955,
          -965,
          -965
         ],
         "yaxis": "y"
        },
        {
         "hoverinfo": "text",
         "marker": {
          "color": "rgb(133,20,75)"
         },
         "mode": "lines",
         "text": [
          "battery_den_kirlian_p3_p1",
          "",
          "",
          "moscow_aviation_su_kaliningrad_russian"
         ],
         "type": "scatter",
         "x": [
          0.9284237378410266,
          0.9614735375643214,
          0.9614735375643214,
          0.9270657522680088
         ],
         "xaxis": "x",
         "y": [
          -923.75,
          -923.75,
          -960,
          -960
         ],
         "yaxis": "y"
        },
        {
         "hoverinfo": "text",
         "marker": {
          "color": "rgb(133,20,75)"
         },
         "mode": "lines",
         "text": [
          "uv_blue_leds_boards_light",
          "",
          "",
          "battery_den_kirlian_p3_p1"
         ],
         "type": "scatter",
         "x": [
          0.8910541991427238,
          0.9819070090073757,
          0.9819070090073757,
          0.9614735375643214
         ],
         "xaxis": "x",
         "y": [
          -890,
          -890,
          -941.875,
          -941.875
         ],
         "yaxis": "y"
        },
        {
         "hoverinfo": "text",
         "marker": {
          "color": "rgb(133,20,75)"
         },
         "mode": "lines",
         "text": [
          "helmet_liner_foam_cb_cbd",
          "",
          "",
          "piece_jacket_clothing_pants_pockets"
         ],
         "type": "scatter",
         "x": [
          0,
          0.904309977554437,
          0.904309977554437,
          0
         ],
         "xaxis": "x",
         "y": [
          -975,
          -975,
          -985,
          -985
         ],
         "yaxis": "y"
        },
        {
         "hoverinfo": "text",
         "marker": {
          "color": "rgb(133,20,75)"
         },
         "mode": "lines",
         "text": [
          "wasps_centipedes_chiggers_millipedes_polish",
          "",
          "",
          "eye_prk_cornea_rk_vision"
         ],
         "type": "scatter",
         "x": [
          0,
          0.8968653114173265,
          0.8968653114173265,
          0
         ],
         "xaxis": "x",
         "y": [
          -995,
          -995,
          -1005,
          -1005
         ],
         "yaxis": "y"
        },
        {
         "hoverinfo": "text",
         "marker": {
          "color": "rgb(133,20,75)"
         },
         "mode": "lines",
         "text": [
          "helmet_liner_piece_jacket_clothing",
          "",
          "",
          "eye_prk_wasps_cornea_centipedes"
         ],
         "type": "scatter",
         "x": [
          0.904309977554437,
          0.9261629366138804,
          0.9261629366138804,
          0.8968653114173265
         ],
         "xaxis": "x",
         "y": [
          -980,
          -980,
          -1000,
          -1000
         ],
         "yaxis": "y"
        },
        {
         "hoverinfo": "text",
         "marker": {
          "color": "rgb(133,20,75)"
         },
         "mode": "lines",
         "text": [
          "helmet_eye_liner_piece_jacket",
          "",
          "",
          "needles_acupuncture_needle_syringe_hypodermic"
         ],
         "type": "scatter",
         "x": [
          0.9261629366138804,
          0.9628682124726838,
          0.9628682124726838,
          0
         ],
         "xaxis": "x",
         "y": [
          -990,
          -990,
          -1015,
          -1015
         ],
         "yaxis": "y"
        },
        {
         "hoverinfo": "text",
         "marker": {
          "color": "rgb(133,20,75)"
         },
         "mode": "lines",
         "text": [
          "battery_den_kirlian_p3_p1",
          "",
          "",
          "helmet_needles_eye_liner_piece"
         ],
         "type": "scatter",
         "x": [
          0.9819070090073757,
          0.9833710992280005,
          0.9833710992280005,
          0.9628682124726838
         ],
         "xaxis": "x",
         "y": [
          -915.9375,
          -915.9375,
          -1002.5,
          -1002.5
         ],
         "yaxis": "y"
        },
        {
         "hoverinfo": "text",
         "marker": {
          "color": "rgb(255,220,0)"
         },
         "mode": "lines",
         "text": [
          "carcinogenic_meat_smoke_carcinogens_charcoal",
          "",
          "",
          "msg_food_chinese_foods_glutamate"
         ],
         "type": "scatter",
         "x": [
          0,
          0.8013062155520825,
          0.8013062155520825,
          0
         ],
         "xaxis": "x",
         "y": [
          -1025,
          -1025,
          -1035,
          -1035
         ],
         "yaxis": "y"
        },
        {
         "hoverinfo": "text",
         "marker": {
          "color": "rgb(255,220,0)"
         },
         "mode": "lines",
         "text": [
          "msg_food_chinese_foods_glutamate",
          "",
          "",
          "recipe_gyro_sauce_taste_crullerian"
         ],
         "type": "scatter",
         "x": [
          0.8013062155520825,
          0.9254203333469931,
          0.9254203333469931,
          0
         ],
         "xaxis": "x",
         "y": [
          -1030,
          -1030,
          -1045,
          -1045
         ],
         "yaxis": "y"
        },
        {
         "hoverinfo": "text",
         "marker": {
          "color": "rgb(0,116,217)"
         },
         "mode": "lines",
         "text": [
          "battery_helmet_den_kirlian_p3",
          "",
          "",
          "msg_food_chinese_foods_taste"
         ],
         "type": "scatter",
         "x": [
          0.9833710992280005,
          1.0200059625311229,
          1.0200059625311229,
          0.9254203333469931
         ],
         "xaxis": "x",
         "y": [
          -959.21875,
          -959.21875,
          -1037.5,
          -1037.5
         ],
         "yaxis": "y"
        },
        {
         "hoverinfo": "text",
         "marker": {
          "color": "rgb(0,116,217)"
         },
         "mode": "lines",
         "text": [
          "water_mwra_nuclear_energy_cooling",
          "",
          "",
          "msg_battery_food_helmet_it"
         ],
         "type": "scatter",
         "x": [
          0.8288591615607052,
          1.0598448749122855,
          1.0598448749122855,
          1.0200059625311229
         ],
         "xaxis": "x",
         "y": [
          -862.5,
          -862.5,
          -998.359375,
          -998.359375
         ],
         "yaxis": "y"
        },
        {
         "hoverinfo": "text",
         "marker": {
          "color": "rgb(0,116,217)"
         },
         "mode": "lines",
         "text": [
          "ax_max_g9v_b8f_a86",
          "",
          "",
          "msg_water_battery_food_energy"
         ],
         "type": "scatter",
         "x": [
          1.1299705710044468,
          1.1774075106034636,
          1.1774075106034636,
          1.0598448749122855
         ],
         "xaxis": "x",
         "y": [
          -734.0625,
          -734.0625,
          -930.4296875,
          -930.4296875
         ],
         "yaxis": "y"
        },
        {
         "hoverinfo": "text",
         "marker": {
          "color": "rgb(40,35,35)"
         },
         "mode": "lines",
         "text": [
          "monitor_vga_monitors_nec_horizontal",
          "",
          "",
          "monitor_problem_apple_610_screen"
         ],
         "type": "scatter",
         "x": [
          0,
          0.4622958045288731,
          0.4622958045288731,
          0
         ],
         "xaxis": "x",
         "y": [
          -1065,
          -1065,
          -1075,
          -1075
         ],
         "yaxis": "y"
        },
        {
         "hoverinfo": "text",
         "marker": {
          "color": "rgb(40,35,35)"
         },
         "mode": "lines",
         "text": [
          "monitor_monitors_vga_horizontal_nec",
          "",
          "",
          "monitor_off_turn_power_computer"
         ],
         "type": "scatter",
         "x": [
          0.4622958045288731,
          0.7484385380449481,
          0.7484385380449481,
          0
         ],
         "xaxis": "x",
         "y": [
          -1070,
          -1070,
          -1085,
          -1085
         ],
         "yaxis": "y"
        },
        {
         "hoverinfo": "text",
         "marker": {
          "color": "rgb(40,35,35)"
         },
         "mode": "lines",
         "text": [
          "tempest_equipment_emissions_crts_electromagnetic",
          "",
          "",
          "monitor_monitors_vga_horizontal_nec"
         ],
         "type": "scatter",
         "x": [
          0,
          0.9096770040598735,
          0.9096770040598735,
          0.7484385380449481
         ],
         "xaxis": "x",
         "y": [
          -1055,
          -1055,
          -1077.5,
          -1077.5
         ],
         "yaxis": "y"
        },
        {
         "hoverinfo": "text",
         "marker": {
          "color": "rgb(61,153,112)"
         },
         "mode": "lines",
         "text": [
          "ham_radio_interference_antenna_transmitter",
          "",
          "",
          "amp_audio_asking_stereo_condition"
         ],
         "type": "scatter",
         "x": [
          0,
          0.6369259855613787,
          0.6369259855613787,
          0
         ],
         "xaxis": "x",
         "y": [
          -1105,
          -1105,
          -1115,
          -1115
         ],
         "yaxis": "y"
        },
        {
         "hoverinfo": "text",
         "marker": {
          "color": "rgb(61,153,112)"
         },
         "mode": "lines",
         "text": [
          "amp_audio_radio_stereo_asking",
          "",
          "",
          "sampling_oversampling_filter_rate_frequency"
         ],
         "type": "scatter",
         "x": [
          0.6369259855613787,
          0.7441205727329854,
          0.7441205727329854,
          0
         ],
         "xaxis": "x",
         "y": [
          -1110,
          -1110,
          -1125,
          -1125
         ],
         "yaxis": "y"
        },
        {
         "hoverinfo": "text",
         "marker": {
          "color": "rgb(61,153,112)"
         },
         "mode": "lines",
         "text": [
          "amp_audio_radio_stereo_asking",
          "",
          "",
          "celp_voice_speech_dsp_compression"
         ],
         "type": "scatter",
         "x": [
          0.7441205727329854,
          0.8354217481629315,
          0.8354217481629315,
          0
         ],
         "xaxis": "x",
         "y": [
          -1117.5,
          -1117.5,
          -1135,
          -1135
         ],
         "yaxis": "y"
        },
        {
         "hoverinfo": "text",
         "marker": {
          "color": "rgb(61,153,112)"
         },
         "mode": "lines",
         "text": [
          "scope_scopes_catbyte_dtmedin_b30",
          "",
          "",
          "amp_audio_radio_stereo_asking"
         ],
         "type": "scatter",
         "x": [
          0,
          0.9031012515773993,
          0.9031012515773993,
          0.8354217481629315
         ],
         "xaxis": "x",
         "y": [
          -1095,
          -1095,
          -1126.25,
          -1126.25
         ],
         "yaxis": "y"
        },
        {
         "hoverinfo": "text",
         "marker": {
          "color": "rgb(255,65,54)"
         },
         "mode": "lines",
         "text": [
          "dialing_tone_sweden_phone_germany",
          "",
          "",
          "phone_hook_dial_number_line"
         ],
         "type": "scatter",
         "x": [
          0,
          0.7870056573134638,
          0.7870056573134638,
          0
         ],
         "xaxis": "x",
         "y": [
          -1145,
          -1145,
          -1155,
          -1155
         ],
         "yaxis": "y"
        },
        {
         "hoverinfo": "text",
         "marker": {
          "color": "rgb(255,65,54)"
         },
         "mode": "lines",
         "text": [
          "phone_dialing_tone_hook_dial",
          "",
          "",
          "ground_grounding_neutral_conductor_wire"
         ],
         "type": "scatter",
         "x": [
          0.7870056573134638,
          0.8918882961372598,
          0.8918882961372598,
          0
         ],
         "xaxis": "x",
         "y": [
          -1150,
          -1150,
          -1165,
          -1165
         ],
         "yaxis": "y"
        },
        {
         "hoverinfo": "text",
         "marker": {
          "color": "rgb(0,116,217)"
         },
         "mode": "lines",
         "text": [
          "amp_audio_radio_stereo_asking",
          "",
          "",
          "ground_conductor_grounding_phone_neutral"
         ],
         "type": "scatter",
         "x": [
          0.9031012515773993,
          1.0617348706123968,
          1.0617348706123968,
          0.8918882961372598
         ],
         "xaxis": "x",
         "y": [
          -1110.625,
          -1110.625,
          -1157.5,
          -1157.5
         ],
         "yaxis": "y"
        },
        {
         "hoverinfo": "text",
         "marker": {
          "color": "rgb(0,116,217)"
         },
         "mode": "lines",
         "text": [
          "monitor_monitors_vga_horizontal_nec",
          "",
          "",
          "audio_amp_ground_radio_for"
         ],
         "type": "scatter",
         "x": [
          0.9096770040598735,
          1.1306527627756886,
          1.1306527627756886,
          1.0617348706123968
         ],
         "xaxis": "x",
         "y": [
          -1066.25,
          -1066.25,
          -1134.0625,
          -1134.0625
         ],
         "yaxis": "y"
        },
        {
         "hoverinfo": "text",
         "marker": {
          "color": "rgb(35,205,205)"
         },
         "mode": "lines",
         "text": [
          "games_joystick_sega_cd_game",
          "",
          "",
          "manuals_disks_shipping_sale_price"
         ],
         "type": "scatter",
         "x": [
          0,
          0.6907692149996534,
          0.6907692149996534,
          0
         ],
         "xaxis": "x",
         "y": [
          -1195,
          -1195,
          -1205,
          -1205
         ],
         "yaxis": "y"
        },
        {
         "hoverinfo": "text",
         "marker": {
          "color": "rgb(35,205,205)"
         },
         "mode": "lines",
         "text": [
          "pom_sleeve_picture_cds_dk",
          "",
          "",
          "games_joystick_sale_sega_shipping"
         ],
         "type": "scatter",
         "x": [
          0,
          0.7965966688968309,
          0.7965966688968309,
          0.6907692149996534
         ],
         "xaxis": "x",
         "y": [
          -1185,
          -1185,
          -1200,
          -1200
         ],
         "yaxis": "y"
        },
        {
         "hoverinfo": "text",
         "marker": {
          "color": "rgb(35,205,205)"
         },
         "mode": "lines",
         "text": [
          "hotel_voucher_vacation_package_room",
          "",
          "",
          "drawer_table_tables_sale_dresser"
         ],
         "type": "scatter",
         "x": [
          0,
          0.8465403939585697,
          0.8465403939585697,
          0
         ],
         "xaxis": "x",
         "y": [
          -1215,
          -1215,
          -1225,
          -1225
         ],
         "yaxis": "y"
        },
        {
         "hoverinfo": "text",
         "marker": {
          "color": "rgb(35,205,205)"
         },
         "mode": "lines",
         "text": [
          "sale_games_cd_shipping_pom",
          "",
          "",
          "hotel_voucher_vacation_package_room"
         ],
         "type": "scatter",
         "x": [
          0.7965966688968309,
          0.8827505141040701,
          0.8827505141040701,
          0.8465403939585697
         ],
         "xaxis": "x",
         "y": [
          -1192.5,
          -1192.5,
          -1220,
          -1220
         ],
         "yaxis": "y"
        },
        {
         "hoverinfo": "text",
         "marker": {
          "color": "rgb(35,205,205)"
         },
         "mode": "lines",
         "text": [
          "00_50_1st_wolverine_comics",
          "",
          "",
          "sale_games_cd_offer_shipping"
         ],
         "type": "scatter",
         "x": [
          0,
          0.9119011928248367,
          0.9119011928248367,
          0.8827505141040701
         ],
         "xaxis": "x",
         "y": [
          -1175,
          -1175,
          -1206.25,
          -1206.25
         ],
         "yaxis": "y"
        },
        {
         "hoverinfo": "text",
         "marker": {
          "color": "rgb(35,205,205)"
         },
         "mode": "lines",
         "text": [
          "00_50_1st_wolverine_comics",
          "",
          "",
          "lens_camera_nikon_zoom_pouch"
         ],
         "type": "scatter",
         "x": [
          0.9119011928248367,
          0.9215431424907725,
          0.9215431424907725,
          0
         ],
         "xaxis": "x",
         "y": [
          -1190.625,
          -1190.625,
          -1235,
          -1235
         ],
         "yaxis": "y"
        },
        {
         "hoverinfo": "text",
         "marker": {
          "color": "rgb(0,116,217)"
         },
         "mode": "lines",
         "text": [
          "monitor_ground_audio_monitors_amp",
          "",
          "",
          "00_50_1st_wolverine_10"
         ],
         "type": "scatter",
         "x": [
          1.1306527627756886,
          1.2476333443621102,
          1.2476333443621102,
          0.9215431424907725
         ],
         "xaxis": "x",
         "y": [
          -1100.15625,
          -1100.15625,
          -1212.8125,
          -1212.8125
         ],
         "yaxis": "y"
        },
        {
         "hoverinfo": "text",
         "marker": {
          "color": "rgb(0,116,217)"
         },
         "mode": "lines",
         "text": [
          "ax_max_g9v_b8f_a86",
          "",
          "",
          "00_50_monitor_1st_wolverine"
         ],
         "type": "scatter",
         "x": [
          1.1774075106034636,
          1.3412227090554198,
          1.3412227090554198,
          1.2476333443621102
         ],
         "xaxis": "x",
         "y": [
          -832.24609375,
          -832.24609375,
          -1156.484375,
          -1156.484375
         ],
         "yaxis": "y"
        },
        {
         "hoverinfo": "text",
         "marker": {
          "color": "rgb(0,116,217)"
         },
         "mode": "lines",
         "text": [
          "space_launch_orbit_nasa_moon",
          "",
          "",
          "ax_max_g9v_b8f_a86"
         ],
         "type": "scatter",
         "x": [
          0.872250818599708,
          1.4144357348245784,
          1.4144357348245784,
          1.3412227090554198
         ],
         "xaxis": "x",
         "y": [
          -641.875,
          -641.875,
          -994.365234375,
          -994.365234375
         ],
         "yaxis": "y"
        },
        {
         "hoverinfo": "text",
         "marker": {
          "color": "rgb(61,153,112)"
         },
         "mode": "lines",
         "text": [
          "odometer_sensor_car_gauge_speedo",
          "",
          "",
          "oil_drain_indicators_indicator_service"
         ],
         "type": "scatter",
         "x": [
          0,
          0.7250689795848732,
          0.7250689795848732,
          0
         ],
         "xaxis": "x",
         "y": [
          -1255,
          -1255,
          -1265,
          -1265
         ],
         "yaxis": "y"
        },
        {
         "hoverinfo": "text",
         "marker": {
          "color": "rgb(61,153,112)"
         },
         "mode": "lines",
         "text": [
          "dealer_price_car_invoice_saturn",
          "",
          "",
          "oil_odometer_car_sensor_drain"
         ],
         "type": "scatter",
         "x": [
          0,
          0.8067316826338831,
          0.8067316826338831,
          0.7250689795848732
         ],
         "xaxis": "x",
         "y": [
          -1245,
          -1245,
          -1260,
          -1260
         ],
         "yaxis": "y"
        },
        {
         "hoverinfo": "text",
         "marker": {
          "color": "rgb(61,153,112)"
         },
         "mode": "lines",
         "text": [
          "diesel_diesels_aluminum_emissions_oil",
          "",
          "",
          "wax_paint_plastic_car_scratches"
         ],
         "type": "scatter",
         "x": [
          0,
          0.7764362007525294,
          0.7764362007525294,
          0
         ],
         "xaxis": "x",
         "y": [
          -1275,
          -1275,
          -1285,
          -1285
         ],
         "yaxis": "y"
        },
        {
         "hoverinfo": "text",
         "marker": {
          "color": "rgb(61,153,112)"
         },
         "mode": "lines",
         "text": [
          "oil_dealer_car_odometer_sensor",
          "",
          "",
          "diesel_wax_diesels_paint_plastic"
         ],
         "type": "scatter",
         "x": [
          0.8067316826338831,
          0.8261087587882813,
          0.8261087587882813,
          0.7764362007525294
         ],
         "xaxis": "x",
         "y": [
          -1252.5,
          -1252.5,
          -1280,
          -1280
         ],
         "yaxis": "y"
        },
        {
         "hoverinfo": "text",
         "marker": {
          "color": "rgb(61,153,112)"
         },
         "mode": "lines",
         "text": [
          "lock_locks_kryptonite_cable_bike",
          "",
          "",
          "shaft_wheelie_wheelies_drive_chain"
         ],
         "type": "scatter",
         "x": [
          0,
          0.8658870991964115,
          0.8658870991964115,
          0
         ],
         "xaxis": "x",
         "y": [
          -1295,
          -1295,
          -1305,
          -1305
         ],
         "yaxis": "y"
        },
        {
         "hoverinfo": "text",
         "marker": {
          "color": "rgb(61,153,112)"
         },
         "mode": "lines",
         "text": [
          "tires_tire_fluids_abs_brake",
          "",
          "",
          "radar_detector_detectors_alarm_ka"
         ],
         "type": "scatter",
         "x": [
          0,
          0.7497574748507093,
          0.7497574748507093,
          0
         ],
         "xaxis": "x",
         "y": [
          -1315,
          -1315,
          -1325,
          -1325
         ],
         "yaxis": "y"
        },
        {
         "hoverinfo": "text",
         "marker": {
          "color": "rgb(61,153,112)"
         },
         "mode": "lines",
         "text": [
          "radar_detector_tires_tire_detectors",
          "",
          "",
          "clutch_transmission_shift_gear_shifting"
         ],
         "type": "scatter",
         "x": [
          0.7497574748507093,
          0.7771349225877748,
          0.7771349225877748,
          0
         ],
         "xaxis": "x",
         "y": [
          -1320,
          -1320,
          -1335,
          -1335
         ],
         "yaxis": "y"
        },
        {
         "hoverinfo": "text",
         "marker": {
          "color": "rgb(61,153,112)"
         },
         "mode": "lines",
         "text": [
          "bike_riding_ride_my_car",
          "",
          "",
          "bike_bikes_miles_motorcycle_750"
         ],
         "type": "scatter",
         "x": [
          0,
          0.45994730254583904,
          0.45994730254583904,
          0
         ],
         "xaxis": "x",
         "y": [
          -1355,
          -1355,
          -1365,
          -1365
         ],
         "yaxis": "y"
        },
        {
         "hoverinfo": "text",
         "marker": {
          "color": "rgb(61,153,112)"
         },
         "mode": "lines",
         "text": [
          "car_cars_engine_ford_mustang",
          "",
          "",
          "bike_riding_ride_my_you"
         ],
         "type": "scatter",
         "x": [
          0,
          0.5707367768170926,
          0.5707367768170926,
          0.45994730254583904
         ],
         "xaxis": "x",
         "y": [
          -1345,
          -1345,
          -1360,
          -1360
         ],
         "yaxis": "y"
        },
        {
         "hoverinfo": "text",
         "marker": {
          "color": "rgb(61,153,112)"
         },
         "mode": "lines",
         "text": [
          "car_bike_cars_engine_my",
          "",
          "",
          "countersteering_bike_motorcycle_rider_lean"
         ],
         "type": "scatter",
         "x": [
          0.5707367768170926,
          0.7081982327051194,
          0.7081982327051194,
          0
         ],
         "xaxis": "x",
         "y": [
          -1352.5,
          -1352.5,
          -1375,
          -1375
         ],
         "yaxis": "y"
        },
        {
         "hoverinfo": "text",
         "marker": {
          "color": "rgb(61,153,112)"
         },
         "mode": "lines",
         "text": [
          "radar_detector_car_tires_tire",
          "",
          "",
          "car_bike_cars_engine_my"
         ],
         "type": "scatter",
         "x": [
          0.7771349225877748,
          0.8188755716925978,
          0.8188755716925978,
          0.7081982327051194
         ],
         "xaxis": "x",
         "y": [
          -1327.5,
          -1327.5,
          -1363.75,
          -1363.75
         ],
         "yaxis": "y"
        },
        {
         "hoverinfo": "text",
         "marker": {
          "color": "rgb(61,153,112)"
         },
         "mode": "lines",
         "text": [
          "car_bike_cars_engine_my",
          "",
          "",
          "dog_dogs_bike_trained_chase"
         ],
         "type": "scatter",
         "x": [
          0.8188755716925978,
          0.8788665986889016,
          0.8788665986889016,
          0
         ],
         "xaxis": "x",
         "y": [
          -1345.625,
          -1345.625,
          -1385,
          -1385
         ],
         "yaxis": "y"
        },
        {
         "hoverinfo": "text",
         "marker": {
          "color": "rgb(61,153,112)"
         },
         "mode": "lines",
         "text": [
          "lock_shaft_locks_kryptonite_bike",
          "",
          "",
          "car_bike_cars_my_dog"
         ],
         "type": "scatter",
         "x": [
          0.8658870991964115,
          0.892927579412655,
          0.892927579412655,
          0.8788665986889016
         ],
         "xaxis": "x",
         "y": [
          -1300,
          -1300,
          -1365.3125,
          -1365.3125
         ],
         "yaxis": "y"
        },
        {
         "hoverinfo": "text",
         "marker": {
          "color": "rgb(61,153,112)"
         },
         "mode": "lines",
         "text": [
          "oil_car_dealer_diesel_odometer",
          "",
          "",
          "car_bike_cars_my_dog"
         ],
         "type": "scatter",
         "x": [
          0.8261087587882813,
          0.9855160080269423,
          0.9855160080269423,
          0.892927579412655
         ],
         "xaxis": "x",
         "y": [
          -1266.25,
          -1266.25,
          -1332.65625,
          -1332.65625
         ],
         "yaxis": "y"
        },
        {
         "hoverinfo": "text",
         "marker": {
          "color": "rgb(0,116,217)"
         },
         "mode": "lines",
         "text": [
          "ax_max_g9v_b8f_a86",
          "",
          "",
          "car_bike_cars_my_engine"
         ],
         "type": "scatter",
         "x": [
          1.4144357348245784,
          1.507656606889504,
          1.507656606889504,
          0.9855160080269423
         ],
         "xaxis": "x",
         "y": [
          -818.1201171875,
          -818.1201171875,
          -1299.453125,
          -1299.453125
         ],
         "yaxis": "y"
        },
        {
         "hoverinfo": "text",
         "marker": {
          "color": "rgb(255,65,54)"
         },
         "mode": "lines",
         "text": [
          "com_edu_health_hiv_newsgroup",
          "",
          "",
          "cancer_center_centers_medical_research"
         ],
         "type": "scatter",
         "x": [
          0,
          0.6754648915644601,
          0.6754648915644601,
          0
         ],
         "xaxis": "x",
         "y": [
          -1405,
          -1405,
          -1415,
          -1415
         ],
         "yaxis": "y"
        },
        {
         "hoverinfo": "text",
         "marker": {
          "color": "rgb(255,65,54)"
         },
         "mode": "lines",
         "text": [
          "media_nw_202_212_washington",
          "",
          "",
          "com_edu_cancer_health_medical"
         ],
         "type": "scatter",
         "x": [
          0,
          0.9159170791578426,
          0.9159170791578426,
          0.6754648915644601
         ],
         "xaxis": "x",
         "y": [
          -1395,
          -1395,
          -1410,
          -1410
         ],
         "yaxis": "y"
        },
        {
         "hoverinfo": "text",
         "marker": {
          "color": "rgb(35,205,205)"
         },
         "mode": "lines",
         "text": [
          "insurance_health_private_care_canada",
          "",
          "",
          "insurance_geico_car_accident_rates"
         ],
         "type": "scatter",
         "x": [
          0,
          0.5761224576145737,
          0.5761224576145737,
          0
         ],
         "xaxis": "x",
         "y": [
          -1425,
          -1425,
          -1435,
          -1435
         ],
         "yaxis": "y"
        },
        {
         "hoverinfo": "text",
         "marker": {
          "color": "rgb(0,116,217)"
         },
         "mode": "lines",
         "text": [
          "com_edu_cancer_health_medical",
          "",
          "",
          "insurance_health_private_care_canada"
         ],
         "type": "scatter",
         "x": [
          0.9159170791578426,
          1.0005452237531205,
          1.0005452237531205,
          0.5761224576145737
         ],
         "xaxis": "x",
         "y": [
          -1402.5,
          -1402.5,
          -1430,
          -1430
         ],
         "yaxis": "y"
        },
        {
         "hoverinfo": "text",
         "marker": {
          "color": "rgb(133,20,75)"
         },
         "mode": "lines",
         "text": [
          "placebo_jb_rr_medicine_effect",
          "",
          "",
          "drugs_drug_cocaine_marijuana_graders"
         ],
         "type": "scatter",
         "x": [
          0,
          0.8190572416069393,
          0.8190572416069393,
          0
         ],
         "xaxis": "x",
         "y": [
          -1445,
          -1445,
          -1455,
          -1455
         ],
         "yaxis": "y"
        },
        {
         "hoverinfo": "text",
         "marker": {
          "color": "rgb(133,20,75)"
         },
         "mode": "lines",
         "text": [
          "pain_migraine_drug_diet_cholesterol",
          "",
          "",
          "cancer_doctor_medical_disease_patients"
         ],
         "type": "scatter",
         "x": [
          0,
          0.5110025976708559,
          0.5110025976708559,
          0
         ],
         "xaxis": "x",
         "y": [
          -1475,
          -1475,
          -1485,
          -1485
         ],
         "yaxis": "y"
        },
        {
         "hoverinfo": "text",
         "marker": {
          "color": "rgb(133,20,75)"
         },
         "mode": "lines",
         "text": [
          "cancer_doctor_disease_pain_medical",
          "",
          "",
          "thyroid_polio_depression_prozac_she"
         ],
         "type": "scatter",
         "x": [
          0.5110025976708559,
          0.572393192918655,
          0.572393192918655,
          0
         ],
         "xaxis": "x",
         "y": [
          -1480,
          -1480,
          -1495,
          -1495
         ],
         "yaxis": "y"
        },
        {
         "hoverinfo": "text",
         "marker": {
          "color": "rgb(133,20,75)"
         },
         "mode": "lines",
         "text": [
          "cancer_doctor_patients_medical_disease",
          "",
          "",
          "meningitis_infection_exposure_immune_infectious"
         ],
         "type": "scatter",
         "x": [
          0.572393192918655,
          0.783890028583619,
          0.783890028583619,
          0
         ],
         "xaxis": "x",
         "y": [
          -1487.5,
          -1487.5,
          -1505,
          -1505
         ],
         "yaxis": "y"
        },
        {
         "hoverinfo": "text",
         "marker": {
          "color": "rgb(133,20,75)"
         },
         "mode": "lines",
         "text": [
          "kidney_stones_calcium_b6_magnesium",
          "",
          "",
          "cancer_doctor_patients_medical_disease"
         ],
         "type": "scatter",
         "x": [
          0,
          0.8165436708186579,
          0.8165436708186579,
          0.783890028583619
         ],
         "xaxis": "x",
         "y": [
          -1465,
          -1465,
          -1496.25,
          -1496.25
         ],
         "yaxis": "y"
        },
        {
         "hoverinfo": "text",
         "marker": {
          "color": "rgb(133,20,75)"
         },
         "mode": "lines",
         "text": [
          "cancer_doctor_pain_patients_medical",
          "",
          "",
          "crohn_inflammation_patients_colonics_cleansing"
         ],
         "type": "scatter",
         "x": [
          0.8165436708186579,
          0.8542731501070439,
          0.8542731501070439,
          0
         ],
         "xaxis": "x",
         "y": [
          -1480.625,
          -1480.625,
          -1515,
          -1515
         ],
         "yaxis": "y"
        },
        {
         "hoverinfo": "text",
         "marker": {
          "color": "rgb(133,20,75)"
         },
         "mode": "lines",
         "text": [
          "drugs_drug_cocaine_marijuana_placebo",
          "",
          "",
          "cancer_patients_doctor_pain_disease"
         ],
         "type": "scatter",
         "x": [
          0.8190572416069393,
          0.9108034223204277,
          0.9108034223204277,
          0.8542731501070439
         ],
         "xaxis": "x",
         "y": [
          -1450,
          -1450,
          -1497.8125,
          -1497.8125
         ],
         "yaxis": "y"
        },
        {
         "hoverinfo": "text",
         "marker": {
          "color": "rgb(133,20,75)"
         },
         "mode": "lines",
         "text": [
          "candida_quack_lyme_quacks_bloom",
          "",
          "",
          "candida_yeast_yogurt_infections_acidophilus"
         ],
         "type": "scatter",
         "x": [
          0,
          0.4699278254732503,
          0.4699278254732503,
          0
         ],
         "xaxis": "x",
         "y": [
          -1525,
          -1525,
          -1535,
          -1535
         ],
         "yaxis": "y"
        },
        {
         "hoverinfo": "text",
         "marker": {
          "color": "rgb(133,20,75)"
         },
         "mode": "lines",
         "text": [
          "drug_drugs_cancer_patients_doctor",
          "",
          "",
          "candida_yeast_quack_vaginal_bacteria"
         ],
         "type": "scatter",
         "x": [
          0.9108034223204277,
          0.9500643529013508,
          0.9500643529013508,
          0.4699278254732503
         ],
         "xaxis": "x",
         "y": [
          -1473.90625,
          -1473.90625,
          -1530,
          -1530
         ],
         "yaxis": "y"
        },
        {
         "hoverinfo": "text",
         "marker": {
          "color": "rgb(0,116,217)"
         },
         "mode": "lines",
         "text": [
          "health_insurance_com_edu_cancer",
          "",
          "",
          "drug_drugs_patients_candida_doctor"
         ],
         "type": "scatter",
         "x": [
          1.0005452237531205,
          1.092312666234036,
          1.092312666234036,
          0.9500643529013508
         ],
         "xaxis": "x",
         "y": [
          -1416.25,
          -1416.25,
          -1501.953125,
          -1501.953125
         ],
         "yaxis": "y"
        },
        {
         "hoverinfo": "text",
         "marker": {
          "color": "rgb(0,116,217)"
         },
         "mode": "lines",
         "text": [
          "ax_max_g9v_b8f_a86",
          "",
          "",
          "health_cancer_medical_drug_insurance"
         ],
         "type": "scatter",
         "x": [
          1.507656606889504,
          1.5370655617569813,
          1.5370655617569813,
          1.092312666234036
         ],
         "xaxis": "x",
         "y": [
          -1058.78662109375,
          -1058.78662109375,
          -1459.1015625,
          -1459.1015625
         ],
         "yaxis": "y"
        },
        {
         "hoverinfo": "text",
         "marker": {
          "color": "rgb(255,220,0)"
         },
         "mode": "lines",
         "text": [
          "key_des_crypt_cryptography_cipher",
          "",
          "",
          "key_clipper_encryption_chip_keys"
         ],
         "type": "scatter",
         "x": [
          0,
          0.4896329308829439,
          0.4896329308829439,
          0
         ],
         "xaxis": "x",
         "y": [
          -1555,
          -1555,
          -1565,
          -1565
         ],
         "yaxis": "y"
        },
        {
         "hoverinfo": "text",
         "marker": {
          "color": "rgb(255,220,0)"
         },
         "mode": "lines",
         "text": [
          "key_encryption_clipper_chip_keys",
          "",
          "",
          "anonymous_anonymity_privacy_internet_nist"
         ],
         "type": "scatter",
         "x": [
          0.4896329308829439,
          0.6462948560863563,
          0.6462948560863563,
          0
         ],
         "xaxis": "x",
         "y": [
          -1560,
          -1560,
          -1575,
          -1575
         ],
         "yaxis": "y"
        },
        {
         "hoverinfo": "text",
         "marker": {
          "color": "rgb(255,220,0)"
         },
         "mode": "lines",
         "text": [
          "pgp_public_keys_source_rsa",
          "",
          "",
          "key_encryption_clipper_chip_keys"
         ],
         "type": "scatter",
         "x": [
          0,
          0.7872998428794855,
          0.7872998428794855,
          0.6462948560863563
         ],
         "xaxis": "x",
         "y": [
          -1545,
          -1545,
          -1567.5,
          -1567.5
         ],
         "yaxis": "y"
        },
        {
         "hoverinfo": "text",
         "marker": {
          "color": "rgb(40,35,35)"
         },
         "mode": "lines",
         "text": [
          "data_ftp_image_sgi_edu",
          "",
          "",
          "graphics_pub_edu_ray_128"
         ],
         "type": "scatter",
         "x": [
          0,
          0.4839968309004119,
          0.4839968309004119,
          0
         ],
         "xaxis": "x",
         "y": [
          -1595,
          -1595,
          -1605,
          -1605
         ],
         "yaxis": "y"
        },
        {
         "hoverinfo": "text",
         "marker": {
          "color": "rgb(40,35,35)"
         },
         "mode": "lines",
         "text": [
          "image_processing_plplot_analysis_tools",
          "",
          "",
          "graphics_edu_pub_ftp_data"
         ],
         "type": "scatter",
         "x": [
          0,
          0.5183116757169499,
          0.5183116757169499,
          0.4839968309004119
         ],
         "xaxis": "x",
         "y": [
          -1585,
          -1585,
          -1600,
          -1600
         ],
         "yaxis": "y"
        },
        {
         "hoverinfo": "text",
         "marker": {
          "color": "rgb(40,35,35)"
         },
         "mode": "lines",
         "text": [
          "image_edu_graphics_pub_data",
          "",
          "",
          "graphics_3d_conference_nok_visualization"
         ],
         "type": "scatter",
         "x": [
          0.5183116757169499,
          0.6826334498637245,
          0.6826334498637245,
          0
         ],
         "xaxis": "x",
         "y": [
          -1592.5,
          -1592.5,
          -1615,
          -1615
         ],
         "yaxis": "y"
        },
        {
         "hoverinfo": "text",
         "marker": {
          "color": "rgb(0,116,217)"
         },
         "mode": "lines",
         "text": [
          "key_encryption_clipper_chip_keys",
          "",
          "",
          "graphics_image_edu_pub_data"
         ],
         "type": "scatter",
         "x": [
          0.7872998428794855,
          1.11480394314028,
          1.11480394314028,
          0.6826334498637245
         ],
         "xaxis": "x",
         "y": [
          -1556.25,
          -1556.25,
          -1603.75,
          -1603.75
         ],
         "yaxis": "y"
        },
        {
         "hoverinfo": "text",
         "marker": {
          "color": "rgb(61,153,112)"
         },
         "mode": "lines",
         "text": [
          "font_fonts_8514_characters_window",
          "",
          "",
          "font_fonts_tt_truetype_atm"
         ],
         "type": "scatter",
         "x": [
          0,
          0.5576086765848836,
          0.5576086765848836,
          0
         ],
         "xaxis": "x",
         "y": [
          -1625,
          -1625,
          -1635,
          -1635
         ],
         "yaxis": "y"
        },
        {
         "hoverinfo": "text",
         "marker": {
          "color": "rgb(61,153,112)"
         },
         "mode": "lines",
         "text": [
          "font_fonts_tt_truetype_atm",
          "",
          "",
          "xterm_characters_title_echo_bold"
         ],
         "type": "scatter",
         "x": [
          0.5576086765848836,
          0.8333583211354477,
          0.8333583211354477,
          0
         ],
         "xaxis": "x",
         "y": [
          -1630,
          -1630,
          -1645,
          -1645
         ],
         "yaxis": "y"
        },
        {
         "hoverinfo": "text",
         "marker": {
          "color": "rgb(255,65,54)"
         },
         "mode": "lines",
         "text": [
          "window_widget_application_event_expose",
          "",
          "",
          "openwindows_motif_xview_olit_usr"
         ],
         "type": "scatter",
         "x": [
          0,
          0.6406090800740916,
          0.6406090800740916,
          0
         ],
         "xaxis": "x",
         "y": [
          -1665,
          -1665,
          -1675,
          -1675
         ],
         "yaxis": "y"
        },
        {
         "hoverinfo": "text",
         "marker": {
          "color": "rgb(255,65,54)"
         },
         "mode": "lines",
         "text": [
          "window_motif_openwindows_widget_application",
          "",
          "",
          "xdm_login_server_error_sunos"
         ],
         "type": "scatter",
         "x": [
          0.6406090800740916,
          0.7027881345092042,
          0.7027881345092042,
          0
         ],
         "xaxis": "x",
         "y": [
          -1670,
          -1670,
          -1685,
          -1685
         ],
         "yaxis": "y"
        },
        {
         "hoverinfo": "text",
         "marker": {
          "color": "rgb(255,65,54)"
         },
         "mode": "lines",
         "text": [
          "window_openwindows_motif_widget_application",
          "",
          "",
          "xkernel_r5_x11r5_installed_sun"
         ],
         "type": "scatter",
         "x": [
          0.7027881345092042,
          0.8266066865745149,
          0.8266066865745149,
          0
         ],
         "xaxis": "x",
         "y": [
          -1677.5,
          -1677.5,
          -1695,
          -1695
         ],
         "yaxis": "y"
        },
        {
         "hoverinfo": "text",
         "marker": {
          "color": "rgb(255,65,54)"
         },
         "mode": "lines",
         "text": [
          "lib_ndet_loop_libxmu_xmu_symbol",
          "",
          "",
          "window_openwindows_motif_widget_application"
         ],
         "type": "scatter",
         "x": [
          0,
          0.8630860741827732,
          0.8630860741827732,
          0.8266066865745149
         ],
         "xaxis": "x",
         "y": [
          -1655,
          -1655,
          -1686.25,
          -1686.25
         ],
         "yaxis": "y"
        },
        {
         "hoverinfo": "text",
         "marker": {
          "color": "rgb(35,205,205)"
         },
         "mode": "lines",
         "text": [
          "dpy_gc_xclrp_mydisplay_color",
          "",
          "",
          "colormap_lut_index_hardwarecolor_colormaps_lut"
         ],
         "type": "scatter",
         "x": [
          0,
          0.7012906218208383,
          0.7012906218208383,
          0
         ],
         "xaxis": "x",
         "y": [
          -1705,
          -1705,
          -1715,
          -1715
         ],
         "yaxis": "y"
        },
        {
         "hoverinfo": "text",
         "marker": {
          "color": "rgb(0,116,217)"
         },
         "mode": "lines",
         "text": [
          "window_lib_openwindows_motif_widget",
          "",
          "",
          "dpy_colormap_color_gc_xclrp"
         ],
         "type": "scatter",
         "x": [
          0.8630860741827732,
          1.0622733050568314,
          1.0622733050568314,
          0.7012906218208383
         ],
         "xaxis": "x",
         "y": [
          -1670.625,
          -1670.625,
          -1710,
          -1710
         ],
         "yaxis": "y"
        },
        {
         "hoverinfo": "text",
         "marker": {
          "color": "rgb(0,116,217)"
         },
         "mode": "lines",
         "text": [
          "font_fonts_tt_truetype_atm",
          "",
          "",
          "window_lib_openwindows_widget_motif"
         ],
         "type": "scatter",
         "x": [
          0.8333583211354477,
          1.1303019458891268,
          1.1303019458891268,
          1.0622733050568314
         ],
         "xaxis": "x",
         "y": [
          -1637.5,
          -1637.5,
          -1690.3125,
          -1690.3125
         ],
         "yaxis": "y"
        },
        {
         "hoverinfo": "text",
         "marker": {
          "color": "rgb(61,153,112)"
         },
         "mode": "lines",
         "text": [
          "board_card_connector_pin_motherboard",
          "",
          "",
          "duo_bios_keyboard_date_clock"
         ],
         "type": "scatter",
         "x": [
          0,
          0.6820496373168325,
          0.6820496373168325,
          0
         ],
         "xaxis": "x",
         "y": [
          -1735,
          -1735,
          -1745,
          -1745
         ],
         "yaxis": "y"
        },
        {
         "hoverinfo": "text",
         "marker": {
          "color": "rgb(61,153,112)"
         },
         "mode": "lines",
         "text": [
          "duo_bios_keyboard_date_board",
          "",
          "",
          "keyboard_rsi_typing_pc_exercises"
         ],
         "type": "scatter",
         "x": [
          0.6820496373168325,
          0.7765553392016471,
          0.7765553392016471,
          0
         ],
         "xaxis": "x",
         "y": [
          -1740,
          -1740,
          -1755,
          -1755
         ],
         "yaxis": "y"
        },
        {
         "hoverinfo": "text",
         "marker": {
          "color": "rgb(61,153,112)"
         },
         "mode": "lines",
         "text": [
          "mac_stuffit_comp_system_sys",
          "",
          "",
          "copy_protection_program_backup_disk"
         ],
         "type": "scatter",
         "x": [
          0,
          0.6466096510404318,
          0.6466096510404318,
          0
         ],
         "xaxis": "x",
         "y": [
          -1765,
          -1765,
          -1775,
          -1775
         ],
         "yaxis": "y"
        },
        {
         "hoverinfo": "text",
         "marker": {
          "color": "rgb(61,153,112)"
         },
         "mode": "lines",
         "text": [
          "keyboard_rsi_typing_duo_mac",
          "",
          "",
          "copy_disk_mac_software_stuffit"
         ],
         "type": "scatter",
         "x": [
          0.7765553392016471,
          0.7877689056862126,
          0.7877689056862126,
          0.6466096510404318
         ],
         "xaxis": "x",
         "y": [
          -1747.5,
          -1747.5,
          -1770,
          -1770
         ],
         "yaxis": "y"
        },
        {
         "hoverinfo": "text",
         "marker": {
          "color": "rgb(61,153,112)"
         },
         "mode": "lines",
         "text": [
          "keyboard_mac_system_copy_software",
          "",
          "",
          "mouse_driver_mice_ball_apple"
         ],
         "type": "scatter",
         "x": [
          0.7877689056862126,
          0.8658113153059666,
          0.8658113153059666,
          0
         ],
         "xaxis": "x",
         "y": [
          -1758.75,
          -1758.75,
          -1785,
          -1785
         ],
         "yaxis": "y"
        },
        {
         "hoverinfo": "text",
         "marker": {
          "color": "rgb(61,153,112)"
         },
         "mode": "lines",
         "text": [
          "vv_mac_disks_apple_disk",
          "",
          "",
          "mouse_keyboard_mac_system_copy"
         ],
         "type": "scatter",
         "x": [
          0,
          0.8866971569701312,
          0.8866971569701312,
          0.8658113153059666
         ],
         "xaxis": "x",
         "y": [
          -1725,
          -1725,
          -1771.875,
          -1771.875
         ],
         "yaxis": "y"
        },
        {
         "hoverinfo": "text",
         "marker": {
          "color": "rgb(255,65,54)"
         },
         "mode": "lines",
         "text": [
          "irq_port_com3_modem_com1",
          "",
          "",
          "modem_fax_modems_courier_32bis"
         ],
         "type": "scatter",
         "x": [
          0,
          0.7189319309197306,
          0.7189319309197306,
          0
         ],
         "xaxis": "x",
         "y": [
          -1795,
          -1795,
          -1805,
          -1805
         ],
         "yaxis": "y"
        },
        {
         "hoverinfo": "text",
         "marker": {
          "color": "rgb(255,65,54)"
         },
         "mode": "lines",
         "text": [
          "modem_fax_irq_modems_port",
          "",
          "",
          "dtr_dce_cts_rts_dte"
         ],
         "type": "scatter",
         "x": [
          0.7189319309197306,
          0.808066099184248,
          0.808066099184248,
          0
         ],
         "xaxis": "x",
         "y": [
          -1800,
          -1800,
          -1815,
          -1815
         ],
         "yaxis": "y"
        },
        {
         "hoverinfo": "text",
         "marker": {
          "color": "rgb(0,116,217)"
         },
         "mode": "lines",
         "text": [
          "mouse_keyboard_mac_system_disk",
          "",
          "",
          "modem_fax_irq_modems_port"
         ],
         "type": "scatter",
         "x": [
          0.8866971569701312,
          1.0231392347002726,
          1.0231392347002726,
          0.808066099184248
         ],
         "xaxis": "x",
         "y": [
          -1748.4375,
          -1748.4375,
          -1807.5,
          -1807.5
         ],
         "yaxis": "y"
        },
        {
         "hoverinfo": "text",
         "marker": {
          "color": "rgb(35,205,205)"
         },
         "mode": "lines",
         "text": [
          "ghostscript_postscript_ghostview_pageview_dsc",
          "",
          "",
          "printer_print_deskjet_hp_printers"
         ],
         "type": "scatter",
         "x": [
          0,
          0.7908692557221171,
          0.7908692557221171,
          0
         ],
         "xaxis": "x",
         "y": [
          -1825,
          -1825,
          -1835,
          -1835
         ],
         "yaxis": "y"
        },
        {
         "hoverinfo": "text",
         "marker": {
          "color": "rgb(35,205,205)"
         },
         "mode": "lines",
         "text": [
          "printer_print_postscript_deskjet_hp",
          "",
          "",
          "scanner_logitech_ocr_scanners_dpi"
         ],
         "type": "scatter",
         "x": [
          0.7908692557221171,
          0.8784152542785032,
          0.8784152542785032,
          0
         ],
         "xaxis": "x",
         "y": [
          -1830,
          -1830,
          -1845,
          -1845
         ],
         "yaxis": "y"
        },
        {
         "hoverinfo": "text",
         "marker": {
          "color": "rgb(35,205,205)"
         },
         "mode": "lines",
         "text": [
          "colors_color_colour_icon_colours",
          "",
          "",
          "jpeg_image_gif_format_file"
         ],
         "type": "scatter",
         "x": [
          0,
          0.7271475220768726,
          0.7271475220768726,
          0
         ],
         "xaxis": "x",
         "y": [
          -1855,
          -1855,
          -1865,
          -1865
         ],
         "yaxis": "y"
        },
        {
         "hoverinfo": "text",
         "marker": {
          "color": "rgb(35,205,205)"
         },
         "mode": "lines",
         "text": [
          "jpeg_image_gif_format_file",
          "",
          "",
          "xv_copyright_donation_shareware_author"
         ],
         "type": "scatter",
         "x": [
          0.7271475220768726,
          0.8454210880702169,
          0.8454210880702169,
          0
         ],
         "xaxis": "x",
         "y": [
          -1860,
          -1860,
          -1875,
          -1875
         ],
         "yaxis": "y"
        },
        {
         "hoverinfo": "text",
         "marker": {
          "color": "rgb(35,205,205)"
         },
         "mode": "lines",
         "text": [
          "printer_print_postscript_deskjet_hp",
          "",
          "",
          "jpeg_image_gif_format_file"
         ],
         "type": "scatter",
         "x": [
          0.8784152542785032,
          0.9545018156364072,
          0.9545018156364072,
          0.8454210880702169
         ],
         "xaxis": "x",
         "y": [
          -1837.5,
          -1837.5,
          -1867.5,
          -1867.5
         ],
         "yaxis": "y"
        },
        {
         "hoverinfo": "text",
         "marker": {
          "color": "rgb(35,205,205)"
         },
         "mode": "lines",
         "text": [
          "mode_modes_vga_svga_tiang",
          "",
          "",
          "db_mov_bh_windows_si"
         ],
         "type": "scatter",
         "x": [
          0,
          0.8651775058356282,
          0.8651775058356282,
          0
         ],
         "xaxis": "x",
         "y": [
          -1895,
          -1895,
          -1905,
          -1905
         ],
         "yaxis": "y"
        },
        {
         "hoverinfo": "text",
         "marker": {
          "color": "rgb(35,205,205)"
         },
         "mode": "lines",
         "text": [
          "68040_cycle_instruction_timing_68070",
          "",
          "",
          "db_mov_bh_windows_si"
         ],
         "type": "scatter",
         "x": [
          0,
          0.9153891238832488,
          0.9153891238832488,
          0.8651775058356282
         ],
         "xaxis": "x",
         "y": [
          -1885,
          -1885,
          -1900,
          -1900
         ],
         "yaxis": "y"
        },
        {
         "hoverinfo": "text",
         "marker": {
          "color": "rgb(35,205,205)"
         },
         "mode": "lines",
         "text": [
          "db_mov_bh_windows_si",
          "",
          "",
          "xman_xservers_winkler_andrea_winter"
         ],
         "type": "scatter",
         "x": [
          0.9153891238832488,
          0.9241149340514698,
          0.9241149340514698,
          0
         ],
         "xaxis": "x",
         "y": [
          -1892.5,
          -1892.5,
          -1915,
          -1915
         ],
         "yaxis": "y"
        },
        {
         "hoverinfo": "text",
         "marker": {
          "color": "rgb(35,205,205)"
         },
         "mode": "lines",
         "text": [
          "jpeg_image_gif_file_format",
          "",
          "",
          "db_mov_bh_windows_si"
         ],
         "type": "scatter",
         "x": [
          0.9545018156364072,
          0.9836015986316657,
          0.9836015986316657,
          0.9241149340514698
         ],
         "xaxis": "x",
         "y": [
          -1852.5,
          -1852.5,
          -1903.75,
          -1903.75
         ],
         "yaxis": "y"
        },
        {
         "hoverinfo": "text",
         "marker": {
          "color": "rgb(0,116,217)"
         },
         "mode": "lines",
         "text": [
          "modem_mouse_keyboard_mac_software",
          "",
          "",
          "jpeg_db_image_gif_file"
         ],
         "type": "scatter",
         "x": [
          1.0231392347002726,
          1.0961728006723157,
          1.0961728006723157,
          0.9836015986316657
         ],
         "xaxis": "x",
         "y": [
          -1777.96875,
          -1777.96875,
          -1878.125,
          -1878.125
         ],
         "yaxis": "y"
        },
        {
         "hoverinfo": "text",
         "marker": {
          "color": "rgb(133,20,75)"
         },
         "mode": "lines",
         "text": [
          "dos_windows_microsoft_tcp_mbytes",
          "",
          "",
          "dos_windows_file_doublespace_path"
         ],
         "type": "scatter",
         "x": [
          0,
          0.5258353400252505,
          0.5258353400252505,
          0
         ],
         "xaxis": "x",
         "y": [
          -1935,
          -1935,
          -1945,
          -1945
         ],
         "yaxis": "y"
        },
        {
         "hoverinfo": "text",
         "marker": {
          "color": "rgb(133,20,75)"
         },
         "mode": "lines",
         "text": [
          "os_windows_nt_apps_dos",
          "",
          "",
          "dos_windows_microsoft_tcp_ms"
         ],
         "type": "scatter",
         "x": [
          0,
          0.6349521715862627,
          0.6349521715862627,
          0.5258353400252505
         ],
         "xaxis": "x",
         "y": [
          -1925,
          -1925,
          -1940,
          -1940
         ],
         "yaxis": "y"
        },
        {
         "hoverinfo": "text",
         "marker": {
          "color": "rgb(133,20,75)"
         },
         "mode": "lines",
         "text": [
          "slip_packet_slipper_driver_0x60",
          "",
          "",
          "ini_spss_autoexec_windows_bat"
         ],
         "type": "scatter",
         "x": [
          0,
          0.7990750152869122,
          0.7990750152869122,
          0
         ],
         "xaxis": "x",
         "y": [
          -1965,
          -1965,
          -1975,
          -1975
         ],
         "yaxis": "y"
        },
        {
         "hoverinfo": "text",
         "marker": {
          "color": "rgb(133,20,75)"
         },
         "mode": "lines",
         "text": [
          "midi_sound_driver_blaster_soundblaster",
          "",
          "",
          "slip_packet_slipper_windows_driver"
         ],
         "type": "scatter",
         "x": [
          0,
          0.8288527388836391,
          0.8288527388836391,
          0.7990750152869122
         ],
         "xaxis": "x",
         "y": [
          -1955,
          -1955,
          -1970,
          -1970
         ],
         "yaxis": "y"
        },
        {
         "hoverinfo": "text",
         "marker": {
          "color": "rgb(133,20,75)"
         },
         "mode": "lines",
         "text": [
          "slip_driver_windows_midi_packet",
          "",
          "",
          "cview_temp_directory_files_file"
         ],
         "type": "scatter",
         "x": [
          0.8288527388836391,
          0.9318326731230631,
          0.9318326731230631,
          0
         ],
         "xaxis": "x",
         "y": [
          -1962.5,
          -1962.5,
          -1985,
          -1985
         ],
         "yaxis": "y"
        },
        {
         "hoverinfo": "text",
         "marker": {
          "color": "rgb(133,20,75)"
         },
         "mode": "lines",
         "text": [
          "dos_windows_microsoft_os_tcp",
          "",
          "",
          "slip_cview_driver_windows_files"
         ],
         "type": "scatter",
         "x": [
          0.6349521715862627,
          0.9736037058208652,
          0.9736037058208652,
          0.9318326731230631
         ],
         "xaxis": "x",
         "y": [
          -1932.5,
          -1932.5,
          -1973.75,
          -1973.75
         ],
         "yaxis": "y"
        },
        {
         "hoverinfo": "text",
         "marker": {
          "color": "rgb(0,116,217)"
         },
         "mode": "lines",
         "text": [
          "jpeg_db_image_gif_file",
          "",
          "",
          "dos_windows_microsoft_os_tcp"
         ],
         "type": "scatter",
         "x": [
          1.0961728006723157,
          1.1397638137993948,
          1.1397638137993948,
          0.9736037058208652
         ],
         "xaxis": "x",
         "y": [
          -1828.046875,
          -1828.046875,
          -1953.125,
          -1953.125
         ],
         "yaxis": "y"
        },
        {
         "hoverinfo": "text",
         "marker": {
          "color": "rgb(0,116,217)"
         },
         "mode": "lines",
         "text": [
          "window_lib_openwindows_widget_motif",
          "",
          "",
          "jpeg_dos_windows_db_file"
         ],
         "type": "scatter",
         "x": [
          1.1303019458891268,
          1.2657547970499023,
          1.2657547970499023,
          1.1397638137993948
         ],
         "xaxis": "x",
         "y": [
          -1663.90625,
          -1663.90625,
          -1890.5859375,
          -1890.5859375
         ],
         "yaxis": "y"
        },
        {
         "hoverinfo": "text",
         "marker": {
          "color": "rgb(0,116,217)"
         },
         "mode": "lines",
         "text": [
          "key_encryption_clipper_chip_data",
          "",
          "",
          "windows_jpeg_dos_db_file"
         ],
         "type": "scatter",
         "x": [
          1.11480394314028,
          1.3083653507784834,
          1.3083653507784834,
          1.2657547970499023
         ],
         "xaxis": "x",
         "y": [
          -1580,
          -1580,
          -1777.24609375,
          -1777.24609375
         ],
         "yaxis": "y"
        },
        {
         "hoverinfo": "text",
         "marker": {
          "color": "rgb(255,220,0)"
         },
         "mode": "lines",
         "text": [
          "pds_lc_nubus_slot_lciii",
          "",
          "",
          "powerpc_apple_macs_powerbook_dock"
         ],
         "type": "scatter",
         "x": [
          0,
          0.7950319607647703,
          0.7950319607647703,
          0
         ],
         "xaxis": "x",
         "y": [
          -1995,
          -1995,
          -2005,
          -2005
         ],
         "yaxis": "y"
        },
        {
         "hoverinfo": "text",
         "marker": {
          "color": "rgb(255,220,0)"
         },
         "mode": "lines",
         "text": [
          "mhz_fpu_clock_cpu_operational",
          "",
          "",
          "mhz_486dx2_50_bus_66"
         ],
         "type": "scatter",
         "x": [
          0,
          0.6125790565522691,
          0.6125790565522691,
          0
         ],
         "xaxis": "x",
         "y": [
          -2025,
          -2025,
          -2035,
          -2035
         ],
         "yaxis": "y"
        },
        {
         "hoverinfo": "text",
         "marker": {
          "color": "rgb(255,220,0)"
         },
         "mode": "lines",
         "text": [
          "fan_cpu_heat_sink_fans",
          "",
          "",
          "mhz_fpu_cpu_clock_speed"
         ],
         "type": "scatter",
         "x": [
          0,
          0.7829495995070707,
          0.7829495995070707,
          0.6125790565522691
         ],
         "xaxis": "x",
         "y": [
          -2015,
          -2015,
          -2030,
          -2030
         ],
         "yaxis": "y"
        },
        {
         "hoverinfo": "text",
         "marker": {
          "color": "rgb(255,220,0)"
         },
         "mode": "lines",
         "text": [
          "mhz_cpu_fan_heat_fpu",
          "",
          "",
          "eisa_isa_bus_motherboard_vl"
         ],
         "type": "scatter",
         "x": [
          0.7829495995070707,
          0.9101417476901911,
          0.9101417476901911,
          0
         ],
         "xaxis": "x",
         "y": [
          -2022.5,
          -2022.5,
          -2045,
          -2045
         ],
         "yaxis": "y"
        },
        {
         "hoverinfo": "text",
         "marker": {
          "color": "rgb(255,220,0)"
         },
         "mode": "lines",
         "text": [
          "pds_lc_nubus_slot_lciii",
          "",
          "",
          "mhz_cpu_fan_heat_fpu"
         ],
         "type": "scatter",
         "x": [
          0.7950319607647703,
          0.9890369640024822,
          0.9890369640024822,
          0.9101417476901911
         ],
         "xaxis": "x",
         "y": [
          -2000,
          -2000,
          -2033.75,
          -2033.75
         ],
         "yaxis": "y"
        },
        {
         "hoverinfo": "text",
         "marker": {
          "color": "rgb(40,35,35)"
         },
         "mode": "lines",
         "text": [
          "card_ati_cards_s3_orchid",
          "",
          "",
          "drivers_card_driver_diamond_windows"
         ],
         "type": "scatter",
         "x": [
          0,
          0.5387896943861423,
          0.5387896943861423,
          0
         ],
         "xaxis": "x",
         "y": [
          -2055,
          -2055,
          -2065,
          -2065
         ],
         "yaxis": "y"
        },
        {
         "hoverinfo": "text",
         "marker": {
          "color": "rgb(40,35,35)"
         },
         "mode": "lines",
         "text": [
          "card_drivers_driver_diamond_ati",
          "",
          "",
          "winbench_vlb_graphite_winmarks_stealth"
         ],
         "type": "scatter",
         "x": [
          0.5387896943861423,
          0.6209018478600729,
          0.6209018478600729,
          0
         ],
         "xaxis": "x",
         "y": [
          -2060,
          -2060,
          -2075,
          -2075
         ],
         "yaxis": "y"
        },
        {
         "hoverinfo": "text",
         "marker": {
          "color": "rgb(0,116,217)"
         },
         "mode": "lines",
         "text": [
          "mhz_cpu_fpu_fan_heat",
          "",
          "",
          "card_drivers_diamond_driver_ati"
         ],
         "type": "scatter",
         "x": [
          0.9890369640024822,
          1.2114733632789085,
          1.2114733632789085,
          0.6209018478600729
         ],
         "xaxis": "x",
         "y": [
          -2016.875,
          -2016.875,
          -2067.5,
          -2067.5
         ],
         "yaxis": "y"
        },
        {
         "hoverinfo": "text",
         "marker": {
          "color": "rgb(61,153,112)"
         },
         "mode": "lines",
         "text": [
          "motherboard_ram_bios_mb_486",
          "",
          "",
          "drive_meg_ram_sale_serial"
         ],
         "type": "scatter",
         "x": [
          0,
          0.5597549237287538,
          0.5597549237287538,
          0
         ],
         "xaxis": "x",
         "y": [
          -2095,
          -2095,
          -2105,
          -2105
         ],
         "yaxis": "y"
        },
        {
         "hoverinfo": "text",
         "marker": {
          "color": "rgb(61,153,112)"
         },
         "mode": "lines",
         "text": [
          "simms_simm_vram_ram_meg",
          "",
          "",
          "ram_meg_drive_sale_motherboard"
         ],
         "type": "scatter",
         "x": [
          0,
          0.7439885905082181,
          0.7439885905082181,
          0.5597549237287538
         ],
         "xaxis": "x",
         "y": [
          -2085,
          -2085,
          -2100,
          -2100
         ],
         "yaxis": "y"
        },
        {
         "hoverinfo": "text",
         "marker": {
          "color": "rgb(61,153,112)"
         },
         "mode": "lines",
         "text": [
          "drive_drives_cd_scsi_disks",
          "",
          "",
          "drive_drives_disk_controller_bios"
         ],
         "type": "scatter",
         "x": [
          0,
          0.41611783997744245,
          0.41611783997744245,
          0
         ],
         "xaxis": "x",
         "y": [
          -2125,
          -2125,
          -2135,
          -2135
         ],
         "yaxis": "y"
        },
        {
         "hoverinfo": "text",
         "marker": {
          "color": "rgb(61,153,112)"
         },
         "mode": "lines",
         "text": [
          "scsi_ide_controller_drive_sec",
          "",
          "",
          "drive_drives_disk_controller_hard"
         ],
         "type": "scatter",
         "x": [
          0,
          0.6846278132151037,
          0.6846278132151037,
          0.41611783997744245
         ],
         "xaxis": "x",
         "y": [
          -2115,
          -2115,
          -2130,
          -2130
         ],
         "yaxis": "y"
        },
        {
         "hoverinfo": "text",
         "marker": {
          "color": "rgb(61,153,112)"
         },
         "mode": "lines",
         "text": [
          "scsi_drive_drives_ide_controller",
          "",
          "",
          "tape_backup_tapes_munroe_drive"
         ],
         "type": "scatter",
         "x": [
          0.6846278132151037,
          0.867666895743823,
          0.867666895743823,
          0
         ],
         "xaxis": "x",
         "y": [
          -2122.5,
          -2122.5,
          -2145,
          -2145
         ],
         "yaxis": "y"
        },
        {
         "hoverinfo": "text",
         "marker": {
          "color": "rgb(61,153,112)"
         },
         "mode": "lines",
         "text": [
          "simms_ram_meg_simm_drive",
          "",
          "",
          "scsi_drive_drives_ide_controller"
         ],
         "type": "scatter",
         "x": [
          0.7439885905082181,
          0.9363255991605695,
          0.9363255991605695,
          0.867666895743823
         ],
         "xaxis": "x",
         "y": [
          -2092.5,
          -2092.5,
          -2133.75,
          -2133.75
         ],
         "yaxis": "y"
        },
        {
         "hoverinfo": "text",
         "marker": {
          "color": "rgb(0,116,217)"
         },
         "mode": "lines",
         "text": [
          "mhz_card_cpu_drivers_fpu",
          "",
          "",
          "scsi_drive_drives_ide_controller"
         ],
         "type": "scatter",
         "x": [
          1.2114733632789085,
          1.2307960867733694,
          1.2307960867733694,
          0.9363255991605695
         ],
         "xaxis": "x",
         "y": [
          -2042.1875,
          -2042.1875,
          -2113.125,
          -2113.125
         ],
         "yaxis": "y"
        },
        {
         "hoverinfo": "text",
         "marker": {
          "color": "rgb(0,116,217)"
         },
         "mode": "lines",
         "text": [
          "image_key_windows_file_jpeg",
          "",
          "",
          "scsi_drive_drives_card_ide"
         ],
         "type": "scatter",
         "x": [
          1.3083653507784834,
          1.5811976688349618,
          1.5811976688349618,
          1.2307960867733694
         ],
         "xaxis": "x",
         "y": [
          -1678.623046875,
          -1678.623046875,
          -2077.65625,
          -2077.65625
         ],
         "yaxis": "y"
        },
        {
         "hoverinfo": "text",
         "marker": {
          "color": "rgb(0,116,217)"
         },
         "mode": "lines",
         "text": [
          "ax_max_g9v_b8f_a86",
          "",
          "",
          "windows_for_image_key_is"
         ],
         "type": "scatter",
         "x": [
          1.5370655617569813,
          1.9577671691217826,
          1.9577671691217826,
          1.5811976688349618
         ],
         "xaxis": "x",
         "y": [
          -1258.944091796875,
          -1258.944091796875,
          -1878.1396484375,
          -1878.1396484375
         ],
         "yaxis": "y"
        },
        {
         "hoverinfo": "text",
         "marker": {
          "color": "rgb(0,116,217)"
         },
         "mode": "lines",
         "text": [
          "he_that_the_of_was",
          "",
          "",
          "ax_max_for_the_is"
         ],
         "type": "scatter",
         "x": [
          1.511929226116291,
          2.617147628676078,
          2.617147628676078,
          1.9577671691217826
         ],
         "xaxis": "x",
         "y": [
          -262.88818359375,
          -262.88818359375,
          -1568.5418701171875,
          -1568.5418701171875
         ],
         "yaxis": "y"
        },
        {
         "hoverinfo": "text",
         "hovertext": [
          "islam_rushdie_islamic_qur_book",
          "hell_eternal_god_jesus_heaven",
          "ra_god_bible_satan_truth",
          "god_hell_jesus_eternal_he",
          "church_islam_pope_marriage_of",
          "god_jesus_jehovah_church_of",
          "law_sabbath_easter_jesus_god",
          "religion_schools_religious_moment_silence",
          "religion_christian_schools_religious_christianity",
          "atheism_god_atheists_atheist_existence",
          "religion_christian_rosicrucian_order_reuss",
          "atheism_god_atheists_is_that",
          "israel_israeli_arab_jews_arabs",
          "stephanopoulos_president_mr_myers_ms",
          "game_team_he_games_season",
          "militia_amendment_government_arms_right",
          "blacks_penalty_cruel_death_african",
          "gun_militia_amendment_guns_government",
          "he_game_team_was_the",
          "hacker_computer_hackers_ms_ethic",
          "he_game_the_team_that",
          "armenian_armenians_were_turkish_they",
          "god_homosexual_that_is_atheism",
          "batf_koresh_fbi_compound_warrant",
          "he_the_that_was_of",
          "god_jesus_church_of_christ",
          "space_launch_shuttle_nasa_orbit",
          "ax_max_g9v_b8f_a86",
          "book_chemistry_books_paperback_spice",
          "clinton_bush_duke_quayle_gritz",
          "deleted_freedom_motto_stuff_speech",
          "clinton_bill_bush_professors_s414",
          "book_books_chemistry_paperback_guide",
          "ax_max_g9v_b8f_a86",
          "den_p3_p1_p2_oort",
          "battery_kirlian_photography_batteries_discharge",
          "battery_den_kirlian_p3_p1",
          "uv_blue_leds_boards_light",
          "helmet_liner_piece_jacket_clothing",
          "helmet_eye_liner_piece_jacket",
          "battery_den_kirlian_p3_p1",
          "msg_food_chinese_foods_glutamate",
          "battery_helmet_den_kirlian_p3",
          "water_mwra_nuclear_energy_cooling",
          "ax_max_g9v_b8f_a86",
          "monitor_monitors_vga_horizontal_nec",
          "amp_audio_radio_stereo_asking",
          "amp_audio_radio_stereo_asking",
          "phone_dialing_tone_hook_dial",
          "amp_audio_radio_stereo_asking",
          "monitor_monitors_vga_horizontal_nec",
          "sale_games_cd_shipping_pom",
          "00_50_1st_wolverine_comics",
          "monitor_ground_audio_monitors_amp",
          "ax_max_g9v_b8f_a86",
          "space_launch_orbit_nasa_moon",
          "oil_dealer_car_odometer_sensor",
          "radar_detector_tires_tire_detectors",
          "car_bike_cars_engine_my",
          "radar_detector_car_tires_tire",
          "car_bike_cars_engine_my",
          "lock_shaft_locks_kryptonite_bike",
          "oil_car_dealer_diesel_odometer",
          "ax_max_g9v_b8f_a86",
          "com_edu_cancer_health_medical",
          "cancer_doctor_disease_pain_medical",
          "cancer_doctor_patients_medical_disease",
          "cancer_doctor_pain_patients_medical",
          "drugs_drug_cocaine_marijuana_placebo",
          "drug_drugs_cancer_patients_doctor",
          "health_insurance_com_edu_cancer",
          "ax_max_g9v_b8f_a86",
          "key_encryption_clipper_chip_keys",
          "image_edu_graphics_pub_data",
          "key_encryption_clipper_chip_keys",
          "font_fonts_tt_truetype_atm",
          "window_motif_openwindows_widget_application",
          "window_openwindows_motif_widget_application",
          "window_lib_openwindows_motif_widget",
          "font_fonts_tt_truetype_atm",
          "duo_bios_keyboard_date_board",
          "keyboard_rsi_typing_duo_mac",
          "keyboard_mac_system_copy_software",
          "modem_fax_irq_modems_port",
          "mouse_keyboard_mac_system_disk",
          "printer_print_postscript_deskjet_hp",
          "jpeg_image_gif_format_file",
          "printer_print_postscript_deskjet_hp",
          "db_mov_bh_windows_si",
          "jpeg_image_gif_file_format",
          "modem_mouse_keyboard_mac_software",
          "slip_driver_windows_midi_packet",
          "dos_windows_microsoft_os_tcp",
          "jpeg_db_image_gif_file",
          "window_lib_openwindows_widget_motif",
          "key_encryption_clipper_chip_data",
          "mhz_cpu_fan_heat_fpu",
          "pds_lc_nubus_slot_lciii",
          "card_drivers_driver_diamond_ati",
          "mhz_cpu_fpu_fan_heat",
          "scsi_drive_drives_ide_controller",
          "simms_ram_meg_simm_drive",
          "mhz_card_cpu_drivers_fpu",
          "image_key_windows_file_jpeg",
          "ax_max_g9v_b8f_a86",
          "he_that_the_of_was"
         ],
         "marker": {
          "color": "black"
         },
         "mode": "markers",
         "showlegend": false,
         "type": "scatter",
         "x": [
          0.6821878976280821,
          0.4930395651355629,
          0.5455843344007901,
          0.6510143187107542,
          0.7888919759546399,
          0.8150677764571428,
          0.8539243326633789,
          0.6966729495437894,
          0.7271131434393198,
          0.5225413069377647,
          0.8812921074613126,
          0.9306460190743013,
          0.743188127128221,
          0.679810795739792,
          0.7817093145839047,
          0.6626884475949322,
          0.7695601564108505,
          0.7704748972887077,
          0.8595494755722465,
          0.7531017021945564,
          0.9336017240241435,
          0.6913440150621522,
          0.980428718569011,
          0.46796585038571364,
          1.128332945309322,
          0.9831895528479687,
          0.797055487022896,
          0.9978956598333532,
          0.8072424430678599,
          0.7482726917089486,
          0.8935792213662994,
          0.9255494365175931,
          0.959134777066464,
          1.016834109771401,
          0.8272424334713324,
          0.8941556818382085,
          0.9284237378410266,
          0.8910541991427238,
          0.904309977554437,
          0.9261629366138804,
          0.9819070090073757,
          0.8013062155520825,
          0.9833710992280005,
          0.8288591615607052,
          1.1299705710044468,
          0.4622958045288731,
          0.6369259855613787,
          0.7441205727329854,
          0.7870056573134638,
          0.9031012515773993,
          0.9096770040598735,
          0.7965966688968309,
          0.9119011928248367,
          1.1306527627756886,
          1.1774075106034636,
          0.872250818599708,
          0.8067316826338831,
          0.7497574748507093,
          0.5707367768170926,
          0.7771349225877748,
          0.8188755716925978,
          0.8658870991964115,
          0.8261087587882813,
          1.4144357348245784,
          0.9159170791578426,
          0.5110025976708559,
          0.572393192918655,
          0.8165436708186579,
          0.8190572416069393,
          0.9108034223204277,
          1.0005452237531205,
          1.507656606889504,
          0.4896329308829439,
          0.5183116757169499,
          0.7872998428794855,
          0.5576086765848836,
          0.6406090800740916,
          0.7027881345092042,
          0.8630860741827732,
          0.8333583211354477,
          0.6820496373168325,
          0.7765553392016471,
          0.7877689056862126,
          0.7189319309197306,
          0.8866971569701312,
          0.7908692557221171,
          0.7271475220768726,
          0.8784152542785032,
          0.9153891238832488,
          0.9545018156364072,
          1.0231392347002726,
          0.8288527388836391,
          0.6349521715862627,
          1.0961728006723157,
          1.1303019458891268,
          1.11480394314028,
          0.7829495995070707,
          0.7950319607647703,
          0.5387896943861423,
          0.9890369640024822,
          0.6846278132151037,
          0.7439885905082181,
          1.2114733632789085,
          1.3083653507784834,
          1.5370655617569813,
          1.511929226116291
         ],
         "y": [
          -52.5,
          -100,
          -130,
          -96.25,
          -49.375,
          -83.125,
          -12.5,
          -200,
          -207.5,
          -242.5,
          -200.625,
          -228.4375,
          -442.5,
          -412.5,
          -373.75,
          -480,
          -520,
          -490,
          -403.4375,
          -350,
          -403.046875,
          -322.5,
          -260.46875,
          -572.5,
          -329.990234375,
          -67.65625,
          -623.75,
          -682.5,
          -730,
          -780,
          -820,
          -777.5,
          -740,
          -696.25,
          -930,
          -910,
          -923.75,
          -890,
          -980,
          -990,
          -915.9375,
          -1030,
          -959.21875,
          -862.5,
          -734.0625,
          -1070,
          -1110,
          -1117.5,
          -1150,
          -1110.625,
          -1066.25,
          -1192.5,
          -1190.625,
          -1100.15625,
          -832.24609375,
          -641.875,
          -1252.5,
          -1320,
          -1352.5,
          -1327.5,
          -1345.625,
          -1300,
          -1266.25,
          -818.1201171875,
          -1402.5,
          -1480,
          -1487.5,
          -1480.625,
          -1450,
          -1473.90625,
          -1416.25,
          -1058.78662109375,
          -1560,
          -1592.5,
          -1556.25,
          -1630,
          -1670,
          -1677.5,
          -1670.625,
          -1637.5,
          -1740,
          -1747.5,
          -1758.75,
          -1800,
          -1748.4375,
          -1830,
          -1860,
          -1837.5,
          -1892.5,
          -1852.5,
          -1777.96875,
          -1962.5,
          -1932.5,
          -1828.046875,
          -1663.90625,
          -1580,
          -2022.5,
          -2000,
          -2060,
          -2016.875,
          -2122.5,
          -2092.5,
          -2042.1875,
          -1678.623046875,
          -1258.944091796875,
          -262.88818359375
         ]
        },
        {
         "hoverinfo": "text",
         "hovertext": [
          "law_sabbath_jesus_ceremonial_god",
          "scripture_books_canon_church_bible",
          "islam_church_pope_rushdie_of",
          "hell_jesus_god_eternal_heaven",
          "jehovah_elohim_god_lord_mormon",
          "god_jehovah_jesus_elohim_lord",
          "sin_baptism_aaron_hate_god",
          "mary_sin_her_she_god",
          "god_jesus_church_of_he",
          "religion_christian_religious_silence_schools",
          "atheism_atheists_god_atheist_belief",
          "moral_objective_morality_science_is",
          "atheism_god_atheists_moral_atheist",
          "homosexual_homosexuality_sex_gay_men",
          "homosexual_homosexuality_sex_gay_homosexuals",
          "armenian_armenians_were_they_armenia",
          "you_jim_your_context_post",
          "game_team_he_games_season",
          "stephanopoulos_president_mr_myers_ms",
          "israel_israeli_jews_arab_arabs",
          "israel_israeli_arab_jews_arabs",
          "israel_stephanopoulos_president_mr_israeli",
          "gun_guns_deaths_000_homicides",
          "blacks_abortion_penalty_cruel_death",
          "gun_militia_amendment_guns_people",
          "he_game_the_team_was",
          "revolver_semi_auto_gun_safety",
          "he_game_the_team_that",
          "he_was_the_in_they",
          "batf_koresh_fbi_compound_warrant",
          "fire_fbi_gas_tear_bd",
          "batf_fbi_fire_koresh_compound",
          "he_the_was_that_they",
          "space_launch_nasa_moon_station",
          "space_launch_shuttle_nasa_orbit",
          "spacecraft_earth_solar_planet_orbit",
          "ca_bbs_manhattan_bobbe_queens",
          "test_hello_uckers_dank_idjits",
          "ks_42_tea_book_question",
          "professors_s414_bill_bills_brady",
          "clinton_bill_bush_professors_s414",
          "article_quoting_edu_sktb_intercon",
          "deleted_freedom_motto_article_stuff",
          "clinton_bill_bush_deleted_professors",
          "book_books_clinton_chemistry_paperback",
          "water_mwra_cooling_steam_energy",
          "den_p3_p1_p2_oort",
          "moscow_aviation_su_kaliningrad_russian",
          "battery_den_kirlian_p3_p1",
          "eye_prk_wasps_cornea_centipedes",
          "helmet_needles_eye_liner_piece",
          "msg_food_chinese_foods_taste",
          "msg_battery_food_helmet_it",
          "msg_water_battery_food_energy",
          "monitor_monitors_vga_horizontal_nec",
          "amp_audio_radio_stereo_asking",
          "ground_conductor_grounding_phone_neutral",
          "audio_amp_ground_radio_for",
          "games_joystick_sale_sega_shipping",
          "hotel_voucher_vacation_package_room",
          "sale_games_cd_offer_shipping",
          "00_50_1st_wolverine_10",
          "00_50_monitor_1st_wolverine",
          "ax_max_g9v_b8f_a86",
          "oil_odometer_car_sensor_drain",
          "diesel_wax_diesels_paint_plastic",
          "bike_riding_ride_my_you",
          "car_bike_cars_engine_my",
          "car_bike_cars_my_dog",
          "car_bike_cars_my_dog",
          "car_bike_cars_my_engine",
          "com_edu_cancer_health_medical",
          "insurance_health_private_care_canada",
          "cancer_doctor_patients_medical_disease",
          "cancer_patients_doctor_pain_disease",
          "candida_yeast_quack_vaginal_bacteria",
          "drug_drugs_patients_candida_doctor",
          "health_cancer_medical_drug_insurance",
          "key_encryption_clipper_chip_keys",
          "graphics_edu_pub_ftp_data",
          "graphics_image_edu_pub_data",
          "window_openwindows_motif_widget_application",
          "dpy_colormap_color_gc_xclrp",
          "window_lib_openwindows_widget_motif",
          "copy_disk_mac_software_stuffit",
          "mouse_keyboard_mac_system_copy",
          "modem_fax_irq_modems_port",
          "jpeg_image_gif_format_file",
          "db_mov_bh_windows_si",
          "db_mov_bh_windows_si",
          "jpeg_db_image_gif_file",
          "dos_windows_microsoft_tcp_ms",
          "slip_packet_slipper_windows_driver",
          "slip_cview_driver_windows_files",
          "dos_windows_microsoft_os_tcp",
          "jpeg_dos_windows_db_file",
          "windows_jpeg_dos_db_file",
          "mhz_fpu_cpu_clock_speed",
          "mhz_cpu_fan_heat_fpu",
          "card_drivers_diamond_driver_ati",
          "ram_meg_drive_sale_motherboard",
          "drive_drives_disk_controller_hard",
          "scsi_drive_drives_ide_controller",
          "scsi_drive_drives_ide_controller",
          "scsi_drive_drives_card_ide",
          "windows_for_image_key_is",
          "ax_max_for_the_is"
         ],
         "marker": {
          "color": "black"
         },
         "mode": "markers",
         "showlegend": false,
         "type": "scatter",
         "x": [
          0.5678499998691526,
          0.6003392080216641,
          0.7588450864087323,
          0.5960737206077231,
          0.694867290867371,
          0.7078551478588289,
          0.6290488577333028,
          0.6948912412109716,
          0.8468808245155791,
          0.8263928634922844,
          0.47188002791814687,
          0.5874572242863105,
          0.68179732102791,
          0.4880774637127151,
          0.6149715052882077,
          0.5045390616424037,
          0.5621637123661083,
          0.7088245685193189,
          0.3763314334779544,
          0.48906738344679546,
          0.8183650431609456,
          0.8511980764270387,
          0.6618520127107312,
          0.8146132706710685,
          0.8351478328324371,
          0.9136494546337767,
          0.7797818120112824,
          0.9772621469024322,
          1.0255022086245036,
          0.376703714738574,
          0.47465023710305454,
          0.5487024323320251,
          1.3558361800160355,
          0.5432626052960021,
          0.722476401937514,
          0.3942685052292699,
          0.9930200530734596,
          0.9638595349257402,
          0.8324507080007966,
          0.8931607347747281,
          0.9071128942525388,
          0.9618979033429867,
          0.9720296249030606,
          1.0469383443300329,
          1.111808638300135,
          0.7381532713119277,
          0.903451066816851,
          0.9270657522680088,
          0.9614735375643214,
          0.8968653114173265,
          0.9628682124726838,
          0.9254203333469931,
          1.0200059625311229,
          1.0598448749122855,
          0.7484385380449481,
          0.8354217481629315,
          0.8918882961372598,
          1.0617348706123968,
          0.6907692149996534,
          0.8465403939585697,
          0.8827505141040701,
          0.9215431424907725,
          1.2476333443621102,
          1.3412227090554198,
          0.7250689795848732,
          0.7764362007525294,
          0.45994730254583904,
          0.7081982327051194,
          0.8788665986889016,
          0.892927579412655,
          0.9855160080269423,
          0.6754648915644601,
          0.5761224576145737,
          0.783890028583619,
          0.8542731501070439,
          0.4699278254732503,
          0.9500643529013508,
          1.092312666234036,
          0.6462948560863563,
          0.4839968309004119,
          0.6826334498637245,
          0.8266066865745149,
          0.7012906218208383,
          1.0622733050568314,
          0.6466096510404318,
          0.8658113153059666,
          0.808066099184248,
          0.8454210880702169,
          0.8651775058356282,
          0.9241149340514698,
          0.9836015986316657,
          0.5258353400252505,
          0.7990750152869122,
          0.9318326731230631,
          0.9736037058208652,
          1.1397638137993948,
          1.2657547970499023,
          0.6125790565522691,
          0.9101417476901911,
          0.6209018478600729,
          0.5597549237287538,
          0.41611783997744245,
          0.867666895743823,
          0.9363255991605695,
          1.2307960867733694,
          1.5811976688349618,
          1.9577671691217826
         ],
         "y": [
          -20,
          -60,
          -63.75,
          -107.5,
          -137.5,
          -116.875,
          -170,
          -162.5,
          -122.8125,
          -216.25,
          -250,
          -270,
          -256.25,
          -300,
          -292.5,
          -330,
          -390,
          -382.5,
          -420,
          -450,
          -453.75,
          -433.125,
          -500,
          -527.5,
          -508.75,
          -456.09375,
          -550,
          -476.5234375,
          -399.51171875,
          -580,
          -600,
          -586.25,
          -458.1201171875,
          -640,
          -632.5,
          -660,
          -690,
          -710,
          -750,
          -800,
          -790,
          -840,
          -830,
          -803.75,
          -771.875,
          -870,
          -937.5,
          -960,
          -941.875,
          -1000,
          -1002.5,
          -1037.5,
          -998.359375,
          -930.4296875,
          -1077.5,
          -1126.25,
          -1157.5,
          -1134.0625,
          -1200,
          -1220,
          -1206.25,
          -1212.8125,
          -1156.484375,
          -994.365234375,
          -1260,
          -1280,
          -1360,
          -1363.75,
          -1365.3125,
          -1332.65625,
          -1299.453125,
          -1410,
          -1430,
          -1496.25,
          -1497.8125,
          -1530,
          -1501.953125,
          -1459.1015625,
          -1567.5,
          -1600,
          -1603.75,
          -1686.25,
          -1710,
          -1690.3125,
          -1770,
          -1771.875,
          -1807.5,
          -1867.5,
          -1900,
          -1903.75,
          -1878.125,
          -1940,
          -1970,
          -1973.75,
          -1953.125,
          -1890.5859375,
          -1777.24609375,
          -2030,
          -2033.75,
          -2067.5,
          -2100,
          -2130,
          -2133.75,
          -2113.125,
          -2077.65625,
          -1878.1396484375,
          -1568.5418701171875
         ]
        }
       ],
       "layout": {
        "autosize": false,
        "height": 3425,
        "hoverlabel": {
         "bgcolor": "white",
         "font": {
          "family": "Rockwell",
          "size": 16
         }
        },
        "hovermode": "closest",
        "plot_bgcolor": "#ECEFF1",
        "showlegend": false,
        "template": {
         "data": {
          "bar": [
           {
            "error_x": {
             "color": "#2a3f5f"
            },
            "error_y": {
             "color": "#2a3f5f"
            },
            "marker": {
             "line": {
              "color": "white",
              "width": 0.5
             },
             "pattern": {
              "fillmode": "overlay",
              "size": 10,
              "solidity": 0.2
             }
            },
            "type": "bar"
           }
          ],
          "barpolar": [
           {
            "marker": {
             "line": {
              "color": "white",
              "width": 0.5
             },
             "pattern": {
              "fillmode": "overlay",
              "size": 10,
              "solidity": 0.2
             }
            },
            "type": "barpolar"
           }
          ],
          "carpet": [
           {
            "aaxis": {
             "endlinecolor": "#2a3f5f",
             "gridcolor": "#C8D4E3",
             "linecolor": "#C8D4E3",
             "minorgridcolor": "#C8D4E3",
             "startlinecolor": "#2a3f5f"
            },
            "baxis": {
             "endlinecolor": "#2a3f5f",
             "gridcolor": "#C8D4E3",
             "linecolor": "#C8D4E3",
             "minorgridcolor": "#C8D4E3",
             "startlinecolor": "#2a3f5f"
            },
            "type": "carpet"
           }
          ],
          "choropleth": [
           {
            "colorbar": {
             "outlinewidth": 0,
             "ticks": ""
            },
            "type": "choropleth"
           }
          ],
          "contour": [
           {
            "colorbar": {
             "outlinewidth": 0,
             "ticks": ""
            },
            "colorscale": [
             [
              0,
              "#0d0887"
             ],
             [
              0.1111111111111111,
              "#46039f"
             ],
             [
              0.2222222222222222,
              "#7201a8"
             ],
             [
              0.3333333333333333,
              "#9c179e"
             ],
             [
              0.4444444444444444,
              "#bd3786"
             ],
             [
              0.5555555555555556,
              "#d8576b"
             ],
             [
              0.6666666666666666,
              "#ed7953"
             ],
             [
              0.7777777777777778,
              "#fb9f3a"
             ],
             [
              0.8888888888888888,
              "#fdca26"
             ],
             [
              1,
              "#f0f921"
             ]
            ],
            "type": "contour"
           }
          ],
          "contourcarpet": [
           {
            "colorbar": {
             "outlinewidth": 0,
             "ticks": ""
            },
            "type": "contourcarpet"
           }
          ],
          "heatmap": [
           {
            "colorbar": {
             "outlinewidth": 0,
             "ticks": ""
            },
            "colorscale": [
             [
              0,
              "#0d0887"
             ],
             [
              0.1111111111111111,
              "#46039f"
             ],
             [
              0.2222222222222222,
              "#7201a8"
             ],
             [
              0.3333333333333333,
              "#9c179e"
             ],
             [
              0.4444444444444444,
              "#bd3786"
             ],
             [
              0.5555555555555556,
              "#d8576b"
             ],
             [
              0.6666666666666666,
              "#ed7953"
             ],
             [
              0.7777777777777778,
              "#fb9f3a"
             ],
             [
              0.8888888888888888,
              "#fdca26"
             ],
             [
              1,
              "#f0f921"
             ]
            ],
            "type": "heatmap"
           }
          ],
          "heatmapgl": [
           {
            "colorbar": {
             "outlinewidth": 0,
             "ticks": ""
            },
            "colorscale": [
             [
              0,
              "#0d0887"
             ],
             [
              0.1111111111111111,
              "#46039f"
             ],
             [
              0.2222222222222222,
              "#7201a8"
             ],
             [
              0.3333333333333333,
              "#9c179e"
             ],
             [
              0.4444444444444444,
              "#bd3786"
             ],
             [
              0.5555555555555556,
              "#d8576b"
             ],
             [
              0.6666666666666666,
              "#ed7953"
             ],
             [
              0.7777777777777778,
              "#fb9f3a"
             ],
             [
              0.8888888888888888,
              "#fdca26"
             ],
             [
              1,
              "#f0f921"
             ]
            ],
            "type": "heatmapgl"
           }
          ],
          "histogram": [
           {
            "marker": {
             "pattern": {
              "fillmode": "overlay",
              "size": 10,
              "solidity": 0.2
             }
            },
            "type": "histogram"
           }
          ],
          "histogram2d": [
           {
            "colorbar": {
             "outlinewidth": 0,
             "ticks": ""
            },
            "colorscale": [
             [
              0,
              "#0d0887"
             ],
             [
              0.1111111111111111,
              "#46039f"
             ],
             [
              0.2222222222222222,
              "#7201a8"
             ],
             [
              0.3333333333333333,
              "#9c179e"
             ],
             [
              0.4444444444444444,
              "#bd3786"
             ],
             [
              0.5555555555555556,
              "#d8576b"
             ],
             [
              0.6666666666666666,
              "#ed7953"
             ],
             [
              0.7777777777777778,
              "#fb9f3a"
             ],
             [
              0.8888888888888888,
              "#fdca26"
             ],
             [
              1,
              "#f0f921"
             ]
            ],
            "type": "histogram2d"
           }
          ],
          "histogram2dcontour": [
           {
            "colorbar": {
             "outlinewidth": 0,
             "ticks": ""
            },
            "colorscale": [
             [
              0,
              "#0d0887"
             ],
             [
              0.1111111111111111,
              "#46039f"
             ],
             [
              0.2222222222222222,
              "#7201a8"
             ],
             [
              0.3333333333333333,
              "#9c179e"
             ],
             [
              0.4444444444444444,
              "#bd3786"
             ],
             [
              0.5555555555555556,
              "#d8576b"
             ],
             [
              0.6666666666666666,
              "#ed7953"
             ],
             [
              0.7777777777777778,
              "#fb9f3a"
             ],
             [
              0.8888888888888888,
              "#fdca26"
             ],
             [
              1,
              "#f0f921"
             ]
            ],
            "type": "histogram2dcontour"
           }
          ],
          "mesh3d": [
           {
            "colorbar": {
             "outlinewidth": 0,
             "ticks": ""
            },
            "type": "mesh3d"
           }
          ],
          "parcoords": [
           {
            "line": {
             "colorbar": {
              "outlinewidth": 0,
              "ticks": ""
             }
            },
            "type": "parcoords"
           }
          ],
          "pie": [
           {
            "automargin": true,
            "type": "pie"
           }
          ],
          "scatter": [
           {
            "fillpattern": {
             "fillmode": "overlay",
             "size": 10,
             "solidity": 0.2
            },
            "type": "scatter"
           }
          ],
          "scatter3d": [
           {
            "line": {
             "colorbar": {
              "outlinewidth": 0,
              "ticks": ""
             }
            },
            "marker": {
             "colorbar": {
              "outlinewidth": 0,
              "ticks": ""
             }
            },
            "type": "scatter3d"
           }
          ],
          "scattercarpet": [
           {
            "marker": {
             "colorbar": {
              "outlinewidth": 0,
              "ticks": ""
             }
            },
            "type": "scattercarpet"
           }
          ],
          "scattergeo": [
           {
            "marker": {
             "colorbar": {
              "outlinewidth": 0,
              "ticks": ""
             }
            },
            "type": "scattergeo"
           }
          ],
          "scattergl": [
           {
            "marker": {
             "colorbar": {
              "outlinewidth": 0,
              "ticks": ""
             }
            },
            "type": "scattergl"
           }
          ],
          "scattermapbox": [
           {
            "marker": {
             "colorbar": {
              "outlinewidth": 0,
              "ticks": ""
             }
            },
            "type": "scattermapbox"
           }
          ],
          "scatterpolar": [
           {
            "marker": {
             "colorbar": {
              "outlinewidth": 0,
              "ticks": ""
             }
            },
            "type": "scatterpolar"
           }
          ],
          "scatterpolargl": [
           {
            "marker": {
             "colorbar": {
              "outlinewidth": 0,
              "ticks": ""
             }
            },
            "type": "scatterpolargl"
           }
          ],
          "scatterternary": [
           {
            "marker": {
             "colorbar": {
              "outlinewidth": 0,
              "ticks": ""
             }
            },
            "type": "scatterternary"
           }
          ],
          "surface": [
           {
            "colorbar": {
             "outlinewidth": 0,
             "ticks": ""
            },
            "colorscale": [
             [
              0,
              "#0d0887"
             ],
             [
              0.1111111111111111,
              "#46039f"
             ],
             [
              0.2222222222222222,
              "#7201a8"
             ],
             [
              0.3333333333333333,
              "#9c179e"
             ],
             [
              0.4444444444444444,
              "#bd3786"
             ],
             [
              0.5555555555555556,
              "#d8576b"
             ],
             [
              0.6666666666666666,
              "#ed7953"
             ],
             [
              0.7777777777777778,
              "#fb9f3a"
             ],
             [
              0.8888888888888888,
              "#fdca26"
             ],
             [
              1,
              "#f0f921"
             ]
            ],
            "type": "surface"
           }
          ],
          "table": [
           {
            "cells": {
             "fill": {
              "color": "#EBF0F8"
             },
             "line": {
              "color": "white"
             }
            },
            "header": {
             "fill": {
              "color": "#C8D4E3"
             },
             "line": {
              "color": "white"
             }
            },
            "type": "table"
           }
          ]
         },
         "layout": {
          "annotationdefaults": {
           "arrowcolor": "#2a3f5f",
           "arrowhead": 0,
           "arrowwidth": 1
          },
          "autotypenumbers": "strict",
          "coloraxis": {
           "colorbar": {
            "outlinewidth": 0,
            "ticks": ""
           }
          },
          "colorscale": {
           "diverging": [
            [
             0,
             "#8e0152"
            ],
            [
             0.1,
             "#c51b7d"
            ],
            [
             0.2,
             "#de77ae"
            ],
            [
             0.3,
             "#f1b6da"
            ],
            [
             0.4,
             "#fde0ef"
            ],
            [
             0.5,
             "#f7f7f7"
            ],
            [
             0.6,
             "#e6f5d0"
            ],
            [
             0.7,
             "#b8e186"
            ],
            [
             0.8,
             "#7fbc41"
            ],
            [
             0.9,
             "#4d9221"
            ],
            [
             1,
             "#276419"
            ]
           ],
           "sequential": [
            [
             0,
             "#0d0887"
            ],
            [
             0.1111111111111111,
             "#46039f"
            ],
            [
             0.2222222222222222,
             "#7201a8"
            ],
            [
             0.3333333333333333,
             "#9c179e"
            ],
            [
             0.4444444444444444,
             "#bd3786"
            ],
            [
             0.5555555555555556,
             "#d8576b"
            ],
            [
             0.6666666666666666,
             "#ed7953"
            ],
            [
             0.7777777777777778,
             "#fb9f3a"
            ],
            [
             0.8888888888888888,
             "#fdca26"
            ],
            [
             1,
             "#f0f921"
            ]
           ],
           "sequentialminus": [
            [
             0,
             "#0d0887"
            ],
            [
             0.1111111111111111,
             "#46039f"
            ],
            [
             0.2222222222222222,
             "#7201a8"
            ],
            [
             0.3333333333333333,
             "#9c179e"
            ],
            [
             0.4444444444444444,
             "#bd3786"
            ],
            [
             0.5555555555555556,
             "#d8576b"
            ],
            [
             0.6666666666666666,
             "#ed7953"
            ],
            [
             0.7777777777777778,
             "#fb9f3a"
            ],
            [
             0.8888888888888888,
             "#fdca26"
            ],
            [
             1,
             "#f0f921"
            ]
           ]
          },
          "colorway": [
           "#636efa",
           "#EF553B",
           "#00cc96",
           "#ab63fa",
           "#FFA15A",
           "#19d3f3",
           "#FF6692",
           "#B6E880",
           "#FF97FF",
           "#FECB52"
          ],
          "font": {
           "color": "#2a3f5f"
          },
          "geo": {
           "bgcolor": "white",
           "lakecolor": "white",
           "landcolor": "white",
           "showlakes": true,
           "showland": true,
           "subunitcolor": "#C8D4E3"
          },
          "hoverlabel": {
           "align": "left"
          },
          "hovermode": "closest",
          "mapbox": {
           "style": "light"
          },
          "paper_bgcolor": "white",
          "plot_bgcolor": "white",
          "polar": {
           "angularaxis": {
            "gridcolor": "#EBF0F8",
            "linecolor": "#EBF0F8",
            "ticks": ""
           },
           "bgcolor": "white",
           "radialaxis": {
            "gridcolor": "#EBF0F8",
            "linecolor": "#EBF0F8",
            "ticks": ""
           }
          },
          "scene": {
           "xaxis": {
            "backgroundcolor": "white",
            "gridcolor": "#DFE8F3",
            "gridwidth": 2,
            "linecolor": "#EBF0F8",
            "showbackground": true,
            "ticks": "",
            "zerolinecolor": "#EBF0F8"
           },
           "yaxis": {
            "backgroundcolor": "white",
            "gridcolor": "#DFE8F3",
            "gridwidth": 2,
            "linecolor": "#EBF0F8",
            "showbackground": true,
            "ticks": "",
            "zerolinecolor": "#EBF0F8"
           },
           "zaxis": {
            "backgroundcolor": "white",
            "gridcolor": "#DFE8F3",
            "gridwidth": 2,
            "linecolor": "#EBF0F8",
            "showbackground": true,
            "ticks": "",
            "zerolinecolor": "#EBF0F8"
           }
          },
          "shapedefaults": {
           "line": {
            "color": "#2a3f5f"
           }
          },
          "ternary": {
           "aaxis": {
            "gridcolor": "#DFE8F3",
            "linecolor": "#A2B1C6",
            "ticks": ""
           },
           "baxis": {
            "gridcolor": "#DFE8F3",
            "linecolor": "#A2B1C6",
            "ticks": ""
           },
           "bgcolor": "white",
           "caxis": {
            "gridcolor": "#DFE8F3",
            "linecolor": "#A2B1C6",
            "ticks": ""
           }
          },
          "title": {
           "x": 0.05
          },
          "xaxis": {
           "automargin": true,
           "gridcolor": "#EBF0F8",
           "linecolor": "#EBF0F8",
           "ticks": "",
           "title": {
            "standoff": 15
           },
           "zerolinecolor": "#EBF0F8",
           "zerolinewidth": 2
          },
          "yaxis": {
           "automargin": true,
           "gridcolor": "#EBF0F8",
           "linecolor": "#EBF0F8",
           "ticks": "",
           "title": {
            "standoff": 15
           },
           "zerolinecolor": "#EBF0F8",
           "zerolinewidth": 2
          }
         }
        },
        "title": {
         "font": {
          "color": "Black",
          "size": 22
         },
         "text": "<b>Hierarchical Clustering</b>",
         "x": 0.5,
         "xanchor": "center",
         "yanchor": "top"
        },
        "width": 1000,
        "xaxis": {
         "mirror": "allticks",
         "rangemode": "tozero",
         "showgrid": false,
         "showline": true,
         "showticklabels": true,
         "ticks": "outside",
         "type": "linear",
         "zeroline": false
        },
        "yaxis": {
         "mirror": "allticks",
         "range": [
          -2150,
          0
         ],
         "rangemode": "tozero",
         "showgrid": false,
         "showline": true,
         "showticklabels": true,
         "tickmode": "array",
         "ticks": "outside",
         "ticktext": [
          "172_easter_resurrection_pagan",
          "197_law_jesus_god",
          "165_sabbath_commandments_mo...",
          "94_marriage_married_marry",
          "29_islam_rushdie_islamic",
          "45_books_scripture_canon",
          "193_prophecies_prophecy_lord",
          "100_pope_church_schism",
          "158_god_son_father",
          "55_hell_eternal_god",
          "83_christ_god_jesus",
          "87_tomb_jesus_resurrection",
          "124_truth_absolute_bible",
          "77_ra_satan_god",
          "75_jehovah_elohim_lord",
          "53_mary_her_she",
          "109_aaron_baptism_sin",
          "159_sin_hate_love",
          "176_rosicrucian_reuss_order",
          "157_religion_religious_crus...",
          "96_schools_moment_silence",
          "161_christian_oo_christianity",
          "203_taize_book_community",
          "123_spiritual_god_life",
          "14_atheism_atheists_god",
          "119_existence_god_exist",
          "59_science_methodology_scie...",
          "16_moral_morality_objective",
          "114_enviroleague_homosexual...",
          "34_homosexuality_homosexual...",
          "32_kinsey_men_homosexual",
          "62_greek_greece_turkish",
          "20_armenian_armenians_turkish",
          "63_were_they_armenians",
          "162_ms_survey_microsoft",
          "99_hacker_computer_hackers",
          "152_weick_ups_him",
          "0_game_team_he",
          "7_you_flame_post",
          "144_jim_context_you",
          "44_tax_income_taxes",
          "27_serbs_bosnia_muslims",
          "127_myers_stephanopoulos_pr...",
          "78_kuwait_iran_iraq",
          "4_israel_israeli_arab",
          "25_jews_nazi_nazis",
          "61_weaver_trial_spence",
          "58_militia_amendment_arms",
          "92_government_libertarians_...",
          "31_gun_guns_deaths",
          "147_nra_hci_gun",
          "167_blacks_african_white",
          "101_penalty_cruel_death",
          "181_abortion_abortions_women",
          "151_revolver_semi_auto",
          "188_concealed_carry_weapon",
          "68_reno_waco_clinton",
          "46_koresh_batf_fbi",
          "41_batf_warrant_fbi",
          "12_fire_fbi_gas",
          "208_bd_atf_fbi",
          "168_shuttle_software_000",
          "67_hst_mission_shuttle",
          "10_space_launch_station",
          "39_sky_advertising_billboard",
          "54_earth_planet_spacecraft",
          "86_spacecraft_probe_mission",
          "115_ax_max_g9v",
          "204_ca_bbs_818",
          "163_manhattan_beauchaine_bo...",
          "194_test_uckers_urn",
          "2_idjits_vielen_dank",
          "182_chemistry_paperback_book",
          "143_books_gre_cover",
          "156_ks_book_piper",
          "183_42_tea_question",
          "212_white_mci_house",
          "137_duke_quayle_gritz",
          "177_clinton_bush_privacy",
          "190_s414_bill_bills",
          "120_professors_university_s...",
          "201_freedom_speech_motto",
          "102_deleted_stuff_motto",
          "134_deane_colorado_binah",
          "133_article_quoting_sktb",
          "146_weapons_nuclear_weapon",
          "148_water_cooling_steam",
          "73_water_mwra_dept",
          "199_boards_solder_mask",
          "125_uv_leds_blue",
          "65_battery_batteries_concrete",
          "88_kirlian_photography_leaf",
          "74_oort_cloud_gamma",
          "21_den_p3_p1",
          "192_accelerations_lines_air...",
          "200_wings_aircraft_sweep",
          "209_moscow_aviation_su",
          "117_helmet_liner_foam",
          "160_piece_jacket_clothing",
          "185_wasps_centipedes_chiggers",
          "141_eye_prk_cornea",
          "186_needles_acupuncture_nee...",
          "210_carcinogenic_meat_smoke",
          "43_msg_food_chinese",
          "207_recipe_gyro_sauce",
          "166_tempest_equipment_emiss...",
          "19_monitor_vga_monitors",
          "128_monitor_problem_apple",
          "112_monitor_off_turn",
          "135_scope_scopes_catbyte",
          "35_ham_radio_interference",
          "9_amp_audio_asking",
          "153_sampling_oversampling_f...",
          "113_celp_voice_speech",
          "154_dialing_tone_sweden",
          "76_phone_hook_dial",
          "184_ground_grounding_neutral",
          "108_00_50_1st",
          "36_pom_sleeve_picture",
          "28_games_joystick_sega",
          "97_manuals_disks_shipping",
          "64_hotel_voucher_vacation",
          "149_drawer_table_tables",
          "116_lens_camera_nikon",
          "126_dealer_price_car",
          "103_odometer_sensor_car",
          "93_oil_drain_indicators",
          "49_diesel_diesels_aluminum",
          "56_wax_paint_plastic",
          "121_lock_locks_kryptonite",
          "95_shaft_wheelie_wheelies",
          "206_tires_tire_fluids",
          "38_radar_detector_detectors",
          "82_clutch_transmission_shift",
          "3_car_cars_engine",
          "6_bike_riding_ride",
          "17_bike_bikes_miles",
          "90_countersteering_bike_mot...",
          "79_dog_dogs_bike",
          "191_media_nw_202",
          "5_com_edu_health",
          "142_cancer_center_centers",
          "89_insurance_health_private",
          "71_insurance_geico_car",
          "213_placebo_jb_rr",
          "70_drugs_drug_cocaine",
          "130_kidney_stones_calcium",
          "26_pain_migraine_drug",
          "42_cancer_doctor_medical",
          "40_thyroid_polio_depression",
          "198_meningitis_infection_ex...",
          "169_crohn_inflammation_pati...",
          "174_candida_quack_lyme",
          "105_candida_yeast_yogurt",
          "170_pgp_public_keys",
          "106_key_des_crypt",
          "1_key_clipper_encryption",
          "189_anonymous_anonymity_pri...",
          "196_image_processing_plplot",
          "107_data_ftp_image",
          "98_graphics_pub_edu",
          "18_graphics_3d_conference",
          "136_font_fonts_8514",
          "84_font_fonts_tt",
          "202_xterm_characters_title",
          "52_lib_ndet_loop_libxmu",
          "13_window_widget_application",
          "72_openwindows_motif_xview",
          "140_xdm_login_server",
          "171_xkernel_r5_x11r5",
          "132_dpy_gc_xclrp",
          "173_colormap_lut_index_hard...",
          "195_vv_mac_disks",
          "60_board_card_connector",
          "47_duo_bios_keyboard",
          "187_keyboard_rsi_typing",
          "131_mac_stuffit_comp",
          "50_copy_protection_program",
          "66_mouse_driver_mice",
          "91_irq_port_com3",
          "33_modem_fax_modems",
          "178_dtr_dce_cts",
          "111_ghostscript_postscript_...",
          "11_printer_print_deskjet",
          "110_scanner_logitech_ocr",
          "145_colors_color_colour",
          "8_jpeg_image_gif",
          "129_xv_copyright_donation",
          "205_68040_cycle_instruction",
          "180_mode_modes_vga",
          "23_db_mov_bh",
          "164_xman_xservers_winkler",
          "37_os_windows_nt",
          "69_dos_windows_microsoft",
          "104_dos_windows_file",
          "139_midi_sound_driver",
          "175_slip_packet_slipper",
          "155_ini_spss_autoexec",
          "179_cview_temp_directory",
          "118_pds_lc_nubus",
          "211_powerpc_apple_macs",
          "85_fan_cpu_heat",
          "81_mhz_fpu_clock",
          "122_mhz_486dx2_50",
          "214_eisa_isa_bus",
          "150_card_ati_cards",
          "30_drivers_card_driver",
          "138_winbench_vlb_graphite",
          "24_simms_simm_vram",
          "57_motherboard_ram_bios",
          "48_drive_meg_ram",
          "51_scsi_ide_controller",
          "22_drive_drives_cd",
          "15_drive_drives_disk",
          "80_tape_backup_tapes"
         ],
         "tickvals": [
          -5,
          -15,
          -25,
          -35,
          -45,
          -55,
          -65,
          -75,
          -85,
          -95,
          -105,
          -115,
          -125,
          -135,
          -145,
          -155,
          -165,
          -175,
          -185,
          -195,
          -205,
          -215,
          -225,
          -235,
          -245,
          -255,
          -265,
          -275,
          -285,
          -295,
          -305,
          -315,
          -325,
          -335,
          -345,
          -355,
          -365,
          -375,
          -385,
          -395,
          -405,
          -415,
          -425,
          -435,
          -445,
          -455,
          -465,
          -475,
          -485,
          -495,
          -505,
          -515,
          -525,
          -535,
          -545,
          -555,
          -565,
          -575,
          -585,
          -595,
          -605,
          -615,
          -625,
          -635,
          -645,
          -655,
          -665,
          -675,
          -685,
          -695,
          -705,
          -715,
          -725,
          -735,
          -745,
          -755,
          -765,
          -775,
          -785,
          -795,
          -805,
          -815,
          -825,
          -835,
          -845,
          -855,
          -865,
          -875,
          -885,
          -895,
          -905,
          -915,
          -925,
          -935,
          -945,
          -955,
          -965,
          -975,
          -985,
          -995,
          -1005,
          -1015,
          -1025,
          -1035,
          -1045,
          -1055,
          -1065,
          -1075,
          -1085,
          -1095,
          -1105,
          -1115,
          -1125,
          -1135,
          -1145,
          -1155,
          -1165,
          -1175,
          -1185,
          -1195,
          -1205,
          -1215,
          -1225,
          -1235,
          -1245,
          -1255,
          -1265,
          -1275,
          -1285,
          -1295,
          -1305,
          -1315,
          -1325,
          -1335,
          -1345,
          -1355,
          -1365,
          -1375,
          -1385,
          -1395,
          -1405,
          -1415,
          -1425,
          -1435,
          -1445,
          -1455,
          -1465,
          -1475,
          -1485,
          -1495,
          -1505,
          -1515,
          -1525,
          -1535,
          -1545,
          -1555,
          -1565,
          -1575,
          -1585,
          -1595,
          -1605,
          -1615,
          -1625,
          -1635,
          -1645,
          -1655,
          -1665,
          -1675,
          -1685,
          -1695,
          -1705,
          -1715,
          -1725,
          -1735,
          -1745,
          -1755,
          -1765,
          -1775,
          -1785,
          -1795,
          -1805,
          -1815,
          -1825,
          -1835,
          -1845,
          -1855,
          -1865,
          -1875,
          -1885,
          -1895,
          -1905,
          -1915,
          -1925,
          -1935,
          -1945,
          -1955,
          -1965,
          -1975,
          -1985,
          -1995,
          -2005,
          -2015,
          -2025,
          -2035,
          -2045,
          -2055,
          -2065,
          -2075,
          -2085,
          -2095,
          -2105,
          -2115,
          -2125,
          -2135,
          -2145
         ],
         "type": "linear",
         "zeroline": false
        }
       }
      }
     },
     "metadata": {},
     "output_type": "display_data"
    }
   ],
   "source": [
    "embedding_model = SentenceTransformer(\"all-MiniLM-L6-v2\")\n",
    "embeddings = embedding_model.encode(docs, show_progress_bar=True)\n",
    "\n",
    "topic_model = BERTopic(embedding_model=embedding_model)\n",
    "topics, probs = topic_model.fit_transform(docs, embeddings)\n",
    "\n",
    "hierarchical_topics = topic_model.hierarchical_topics(docs)\n",
    "\n",
    "fig = topic_model.visualize_hierarchy(hierarchical_topics=hierarchical_topics)\n",
    "fig.show()"
   ]
  },
  {
   "cell_type": "markdown",
   "metadata": {},
   "source": [
    "## SciPy Hierarchy"
   ]
  },
  {
   "cell_type": "code",
   "execution_count": 8,
   "metadata": {},
   "outputs": [
    {
     "name": "stdout",
     "output_type": "stream",
     "text": [
      "Labels are the same!\n"
     ]
    }
   ],
   "source": [
    "# Select topics based on top_n and topics args\n",
    "freq_df = topic_model.get_topic_freq()\n",
    "freq_df = freq_df.loc[freq_df.Topic != -1, :]\n",
    "topics = sorted(freq_df.Topic.to_list())\n",
    "\n",
    "# labels and linkage function as in _hierarchy\n",
    "new_labels = [[[str(topics[int(x)]), None]] +\n",
    "              topic_model.get_topic(topics[int(x)])\n",
    "              for x in range(len(topics))]\n",
    "new_labels = [\n",
    "    \"_\".join([label[0] for label in labels[:4]]) for labels in new_labels\n",
    "]\n",
    "new_labels = [\n",
    "    label if len(label) < 30 else label[:27] + \"...\" for label in new_labels\n",
    "]\n",
    "\n",
    "distance_function = lambda X: 1 - cosine_similarity(X)\n",
    "linkage_function = lambda X: hierarchy.linkage(\n",
    "    X, 'ward', optimal_ordering=True)\n",
    "\n",
    "# scipy linkage\n",
    "embeddings = topic_model.c_tf_idf_[1:]\n",
    "d = distance_function(embeddings)\n",
    "np.fill_diagonal(d, 0)\n",
    "d = squareform(d)\n",
    "Z = linkage_function(d)\n",
    "leaves = hierarchy.leaves_list(Z)\n",
    "scipy_labels = [new_labels[i] for i in leaves]\n",
    "\n",
    "# assert they are the same\n",
    "bertopic_labels = [label for label in fig.layout[\"yaxis\"][\"ticktext\"]]\n",
    "assert scipy_labels == bertopic_labels\n",
    "print(\"Labels are the same!\")"
   ]
  },
  {
   "cell_type": "code",
   "execution_count": null,
   "metadata": {},
   "outputs": [],
   "source": []
  },
  {
   "attachments": {},
   "cell_type": "markdown",
   "metadata": {},
   "source": [
    "# 1021"
   ]
  },
  {
   "cell_type": "code",
   "execution_count": 9,
   "metadata": {},
   "outputs": [
    {
     "data": {
      "application/vnd.jupyter.widget-view+json": {
       "model_id": "08bdc57667804730b39dfe1c4554541f",
       "version_major": 2,
       "version_minor": 0
      },
      "text/plain": [
       "Batches:   0%|          | 0/589 [00:00<?, ?it/s]"
      ]
     },
     "metadata": {},
     "output_type": "display_data"
    },
    {
     "name": "stderr",
     "output_type": "stream",
     "text": [
      "2023-04-08 18:27:20,197 - BERTopic - Transformed documents to Embeddings\n",
      "2023-04-08 18:27:28,017 - BERTopic - Reduced dimensionality\n",
      "2023-04-08 18:27:29,188 - BERTopic - Clustered reduced embeddings\n",
      "100%|██████████| 213/213 [00:02<00:00, 94.22it/s] \n"
     ]
    },
    {
     "data": {
      "application/vnd.plotly.v1+json": {
       "config": {
        "plotlyServerURL": "https://plot.ly"
       },
       "data": [
        {
         "hoverinfo": "text",
         "marker": {
          "color": "rgb(61,153,112)"
         },
         "mode": "lines",
         "text": [
          "law_jesus_sabbath_paul_god",
          "",
          "",
          "sabbath_moses_tablets_commandments_ten"
         ],
         "type": "scatter",
         "x": [
          0,
          0.5841499765461772,
          0.5841499765461772,
          0
         ],
         "xaxis": "x",
         "y": [
          -15,
          -15,
          -25,
          -25
         ],
         "yaxis": "y"
        },
        {
         "hoverinfo": "text",
         "marker": {
          "color": "rgb(61,153,112)"
         },
         "mode": "lines",
         "text": [
          "easter_resurrection_pagan_goddess_celebration",
          "",
          "",
          "sabbath_moses_tablets_commandments_ten"
         ],
         "type": "scatter",
         "x": [
          0,
          0.858123330444075,
          0.858123330444075,
          0.5841499765461772
         ],
         "xaxis": "x",
         "y": [
          -5,
          -5,
          -20,
          -20
         ],
         "yaxis": "y"
        },
        {
         "hoverinfo": "text",
         "marker": {
          "color": "rgb(61,153,112)"
         },
         "mode": "lines",
         "text": [
          "sin_hate_love_sinner_hating",
          "",
          "",
          "aaron_baptism_sin_faith_infants"
         ],
         "type": "scatter",
         "x": [
          0,
          0.6735890812779861,
          0.6735890812779861,
          0
         ],
         "xaxis": "x",
         "y": [
          -35,
          -35,
          -45,
          -45
         ],
         "yaxis": "y"
        },
        {
         "hoverinfo": "text",
         "marker": {
          "color": "rgb(61,153,112)"
         },
         "mode": "lines",
         "text": [
          "sin_hate_love_sinner_hating",
          "",
          "",
          "mary_her_she_bernadette_sin"
         ],
         "type": "scatter",
         "x": [
          0.6735890812779861,
          0.7054418165860521,
          0.7054418165860521,
          0
         ],
         "xaxis": "x",
         "y": [
          -40,
          -40,
          -55,
          -55
         ],
         "yaxis": "y"
        },
        {
         "hoverinfo": "text",
         "marker": {
          "color": "rgb(61,153,112)"
         },
         "mode": "lines",
         "text": [
          "god_christ_faith_jesus_psalm",
          "",
          "",
          "hell_eternal_god_heaven_jesus"
         ],
         "type": "scatter",
         "x": [
          0,
          0.47814974006313005,
          0.47814974006313005,
          0
         ],
         "xaxis": "x",
         "y": [
          -105,
          -105,
          -115,
          -115
         ],
         "yaxis": "y"
        },
        {
         "hoverinfo": "text",
         "marker": {
          "color": "rgb(61,153,112)"
         },
         "mode": "lines",
         "text": [
          "prophecies_prophecy_revelation_scripture_his",
          "",
          "",
          "hell_god_eternal_jesus_heaven"
         ],
         "type": "scatter",
         "x": [
          0,
          0.5700785784255157,
          0.5700785784255157,
          0.47814974006313005
         ],
         "xaxis": "x",
         "y": [
          -95,
          -95,
          -110,
          -110
         ],
         "yaxis": "y"
        },
        {
         "hoverinfo": "text",
         "marker": {
          "color": "rgb(61,153,112)"
         },
         "mode": "lines",
         "text": [
          "faith_zane_2ti_church_christian",
          "",
          "",
          "hell_god_eternal_jesus_christ"
         ],
         "type": "scatter",
         "x": [
          0,
          0.6398227982553549,
          0.6398227982553549,
          0.5700785784255157
         ],
         "xaxis": "x",
         "y": [
          -85,
          -85,
          -102.5,
          -102.5
         ],
         "yaxis": "y"
        },
        {
         "hoverinfo": "text",
         "marker": {
          "color": "rgb(61,153,112)"
         },
         "mode": "lines",
         "text": [
          "faith_zane_2ti_church_christian",
          "",
          "",
          "tomb_resurrection_jesus_disciples_empty"
         ],
         "type": "scatter",
         "x": [
          0.6398227982553549,
          0.6707717464198747,
          0.6707717464198747,
          0
         ],
         "xaxis": "x",
         "y": [
          -93.75,
          -93.75,
          -125,
          -125
         ],
         "yaxis": "y"
        },
        {
         "hoverinfo": "text",
         "marker": {
          "color": "rgb(61,153,112)"
         },
         "mode": "lines",
         "text": [
          "books_scripture_canon_bible_hebrew",
          "",
          "",
          "tomb_resurrection_jesus_disciples_empty"
         ],
         "type": "scatter",
         "x": [
          0,
          0.6969444827014845,
          0.6969444827014845,
          0.6707717464198747
         ],
         "xaxis": "x",
         "y": [
          -75,
          -75,
          -109.375,
          -109.375
         ],
         "yaxis": "y"
        },
        {
         "hoverinfo": "text",
         "marker": {
          "color": "rgb(61,153,112)"
         },
         "mode": "lines",
         "text": [
          "ra_satan_god_thou_lucifer",
          "",
          "",
          "jehovah_elohim_lord_mormon_mcconkie"
         ],
         "type": "scatter",
         "x": [
          0,
          0.6752511267480139,
          0.6752511267480139,
          0
         ],
         "xaxis": "x",
         "y": [
          -135,
          -135,
          -145,
          -145
         ],
         "yaxis": "y"
        },
        {
         "hoverinfo": "text",
         "marker": {
          "color": "rgb(61,153,112)"
         },
         "mode": "lines",
         "text": [
          "ra_satan_god_thou_lucifer",
          "",
          "",
          "jehovah_elohim_lord_mormon_mcconkie"
         ],
         "type": "scatter",
         "x": [
          0.6969444827014845,
          0.7896784947567643,
          0.7896784947567643,
          0.6752511267480139
         ],
         "xaxis": "x",
         "y": [
          -92.1875,
          -92.1875,
          -140,
          -140
         ],
         "yaxis": "y"
        },
        {
         "hoverinfo": "text",
         "marker": {
          "color": "rgb(61,153,112)"
         },
         "mode": "lines",
         "text": [
          "marriage_married_marry_ceremony_marriages",
          "",
          "",
          "jehovah_elohim_lord_mormon_mcconkie"
         ],
         "type": "scatter",
         "x": [
          0,
          0.8152265920678171,
          0.8152265920678171,
          0.7896784947567643
         ],
         "xaxis": "x",
         "y": [
          -65,
          -65,
          -116.09375,
          -116.09375
         ],
         "yaxis": "y"
        },
        {
         "hoverinfo": "text",
         "marker": {
          "color": "rgb(61,153,112)"
         },
         "mode": "lines",
         "text": [
          "marriage_married_marry_ceremony_marriages",
          "",
          "",
          "jehovah_elohim_lord_mormon_mcconkie"
         ],
         "type": "scatter",
         "x": [
          0.7054418165860521,
          0.8477410332814708,
          0.8477410332814708,
          0.8152265920678171
         ],
         "xaxis": "x",
         "y": [
          -47.5,
          -47.5,
          -90.546875,
          -90.546875
         ],
         "yaxis": "y"
        },
        {
         "hoverinfo": "text",
         "marker": {
          "color": "rgb(61,153,112)"
         },
         "mode": "lines",
         "text": [
          "pope_church_schism_creed_catholic",
          "",
          "",
          "god_father_son_holy_trinity"
         ],
         "type": "scatter",
         "x": [
          0,
          0.6725723019599457,
          0.6725723019599457,
          0
         ],
         "xaxis": "x",
         "y": [
          -155,
          -155,
          -165,
          -165
         ],
         "yaxis": "y"
        },
        {
         "hoverinfo": "text",
         "marker": {
          "color": "rgb(61,153,112)"
         },
         "mode": "lines",
         "text": [
          "pope_church_schism_creed_catholic",
          "",
          "",
          "tongues_language_speak_tounges_languages"
         ],
         "type": "scatter",
         "x": [
          0.6725723019599457,
          0.8288525020810974,
          0.8288525020810974,
          0
         ],
         "xaxis": "x",
         "y": [
          -160,
          -160,
          -175,
          -175
         ],
         "yaxis": "y"
        },
        {
         "hoverinfo": "text",
         "marker": {
          "color": "rgb(61,153,112)"
         },
         "mode": "lines",
         "text": [
          "pope_church_schism_creed_catholic",
          "",
          "",
          "tongues_language_speak_tounges_languages"
         ],
         "type": "scatter",
         "x": [
          0.8477410332814708,
          0.8857911305336352,
          0.8857911305336352,
          0.8288525020810974
         ],
         "xaxis": "x",
         "y": [
          -69.0234375,
          -69.0234375,
          -167.5,
          -167.5
         ],
         "yaxis": "y"
        },
        {
         "hoverinfo": "text",
         "marker": {
          "color": "rgb(61,153,112)"
         },
         "mode": "lines",
         "text": [
          "pope_church_schism_creed_catholic",
          "",
          "",
          "tongues_language_speak_tounges_languages"
         ],
         "type": "scatter",
         "x": [
          0.858123330444075,
          0.9916703232102901,
          0.9916703232102901,
          0.8857911305336352
         ],
         "xaxis": "x",
         "y": [
          -12.5,
          -12.5,
          -118.26171875,
          -118.26171875
         ],
         "yaxis": "y"
        },
        {
         "hoverinfo": "text",
         "marker": {
          "color": "rgb(255,65,54)"
         },
         "mode": "lines",
         "text": [
          "gay_homosexual_homosexuals_sexual_cramer",
          "",
          "",
          "homosexuality_homosexual_homosexuals_paul_sex"
         ],
         "type": "scatter",
         "x": [
          0,
          0.38866410330920187,
          0.38866410330920187,
          0
         ],
         "xaxis": "x",
         "y": [
          -195,
          -195,
          -205,
          -205
         ],
         "yaxis": "y"
        },
        {
         "hoverinfo": "text",
         "marker": {
          "color": "rgb(255,65,54)"
         },
         "mode": "lines",
         "text": [
          "kinsey_sex_men_gay_sexual",
          "",
          "",
          "homosexual_homosexuality_homosexuals_gay_sex"
         ],
         "type": "scatter",
         "x": [
          0,
          0.5074208723039848,
          0.5074208723039848,
          0.38866410330920187
         ],
         "xaxis": "x",
         "y": [
          -185,
          -185,
          -200,
          -200
         ],
         "yaxis": "y"
        },
        {
         "hoverinfo": "text",
         "marker": {
          "color": "rgb(35,205,205)"
         },
         "mode": "lines",
         "text": [
          "moral_morality_objective_immoral_hudson",
          "",
          "",
          "science_methodology_scientific_empirical_theory"
         ],
         "type": "scatter",
         "x": [
          0,
          0.5875406671567488,
          0.5875406671567488,
          0
         ],
         "xaxis": "x",
         "y": [
          -215,
          -215,
          -225,
          -225
         ],
         "yaxis": "y"
        },
        {
         "hoverinfo": "text",
         "marker": {
          "color": "rgb(35,205,205)"
         },
         "mode": "lines",
         "text": [
          "life_you_do_my_your",
          "",
          "",
          "truth_absolute_bible_arrogance_god"
         ],
         "type": "scatter",
         "x": [
          0,
          0.5562234232743827,
          0.5562234232743827,
          0
         ],
         "xaxis": "x",
         "y": [
          -235,
          -235,
          -245,
          -245
         ],
         "yaxis": "y"
        },
        {
         "hoverinfo": "text",
         "marker": {
          "color": "rgb(35,205,205)"
         },
         "mode": "lines",
         "text": [
          "atheists_atheism_god_atheist_argument",
          "",
          "",
          "existence_god_exist_why_exists"
         ],
         "type": "scatter",
         "x": [
          0,
          0.37543404698328975,
          0.37543404698328975,
          0
         ],
         "xaxis": "x",
         "y": [
          -255,
          -255,
          -265,
          -265
         ],
         "yaxis": "y"
        },
        {
         "hoverinfo": "text",
         "marker": {
          "color": "rgb(35,205,205)"
         },
         "mode": "lines",
         "text": [
          "atheists_atheism_god_atheist_argument",
          "",
          "",
          "god_atheists_atheism_atheist_existence"
         ],
         "type": "scatter",
         "x": [
          0.5562234232743827,
          0.5706247725044863,
          0.5706247725044863,
          0.37543404698328975
         ],
         "xaxis": "x",
         "y": [
          -240,
          -240,
          -260,
          -260
         ],
         "yaxis": "y"
        },
        {
         "hoverinfo": "text",
         "marker": {
          "color": "rgb(35,205,205)"
         },
         "mode": "lines",
         "text": [
          "god_atheists_atheism_atheist_existence",
          "",
          "",
          "islam_quran_islamic_rushdie_muslims"
         ],
         "type": "scatter",
         "x": [
          0.5706247725044863,
          0.6630035065423984,
          0.6630035065423984,
          0
         ],
         "xaxis": "x",
         "y": [
          -250,
          -250,
          -275,
          -275
         ],
         "yaxis": "y"
        },
        {
         "hoverinfo": "text",
         "marker": {
          "color": "rgb(35,205,205)"
         },
         "mode": "lines",
         "text": [
          "god_atheists_atheism_atheist_existence",
          "",
          "",
          "islam_quran_islamic_rushdie_muslims"
         ],
         "type": "scatter",
         "x": [
          0.5875406671567488,
          0.6964284469570521,
          0.6964284469570521,
          0.6630035065423984
         ],
         "xaxis": "x",
         "y": [
          -220,
          -220,
          -262.5,
          -262.5
         ],
         "yaxis": "y"
        },
        {
         "hoverinfo": "text",
         "marker": {
          "color": "rgb(35,205,205)"
         },
         "mode": "lines",
         "text": [
          "religion_justifiable_war_motivated_religious",
          "",
          "",
          "schools_moment_silence_cult_religion"
         ],
         "type": "scatter",
         "x": [
          0,
          0.7009698690846597,
          0.7009698690846597,
          0
         ],
         "xaxis": "x",
         "y": [
          -285,
          -285,
          -295,
          -295
         ],
         "yaxis": "y"
        },
        {
         "hoverinfo": "text",
         "marker": {
          "color": "rgb(35,205,205)"
         },
         "mode": "lines",
         "text": [
          "religion_justifiable_war_motivated_religious",
          "",
          "",
          "schools_moment_silence_cult_religion"
         ],
         "type": "scatter",
         "x": [
          0.6964284469570521,
          0.835676666806322,
          0.835676666806322,
          0.7009698690846597
         ],
         "xaxis": "x",
         "y": [
          -241.25,
          -241.25,
          -290,
          -290
         ],
         "yaxis": "y"
        },
        {
         "hoverinfo": "text",
         "marker": {
          "color": "rgb(0,116,217)"
         },
         "mode": "lines",
         "text": [
          "homosexual_homosexuality_sex_gay_homosexuals",
          "",
          "",
          "schools_moment_silence_cult_religion"
         ],
         "type": "scatter",
         "x": [
          0.5074208723039848,
          1.0087764324410835,
          1.0087764324410835,
          0.835676666806322
         ],
         "xaxis": "x",
         "y": [
          -192.5,
          -192.5,
          -265.625,
          -265.625
         ],
         "yaxis": "y"
        },
        {
         "hoverinfo": "text",
         "marker": {
          "color": "rgb(133,20,75)"
         },
         "mode": "lines",
         "text": [
          "government_libertarians_libertarian_regulation_libertarianism",
          "",
          "",
          "militia_amendment_arms_bear_right"
         ],
         "type": "scatter",
         "x": [
          0,
          0.7031892095043397,
          0.7031892095043397,
          0
         ],
         "xaxis": "x",
         "y": [
          -315,
          -315,
          -325,
          -325
         ],
         "yaxis": "y"
        },
        {
         "hoverinfo": "text",
         "marker": {
          "color": "rgb(133,20,75)"
         },
         "mode": "lines",
         "text": [
          "government_libertarians_libertarian_regulation_libertarianism",
          "",
          "",
          "rights_right_capital_foa_slaves"
         ],
         "type": "scatter",
         "x": [
          0.7031892095043397,
          0.7159779308946294,
          0.7159779308946294,
          0
         ],
         "xaxis": "x",
         "y": [
          -320,
          -320,
          -335,
          -335
         ],
         "yaxis": "y"
        },
        {
         "hoverinfo": "text",
         "marker": {
          "color": "rgb(133,20,75)"
         },
         "mode": "lines",
         "text": [
          "freedom_motto_speech_morally_incorrect",
          "",
          "",
          "rights_right_capital_foa_slaves"
         ],
         "type": "scatter",
         "x": [
          0,
          0.7825389027132447,
          0.7825389027132447,
          0.7159779308946294
         ],
         "xaxis": "x",
         "y": [
          -305,
          -305,
          -327.5,
          -327.5
         ],
         "yaxis": "y"
        },
        {
         "hoverinfo": "text",
         "marker": {
          "color": "rgb(133,20,75)"
         },
         "mode": "lines",
         "text": [
          "serbs_muslims_stephanopoulos_mr_bosnia",
          "",
          "",
          "myers_stephanopoulos_president_ms_mr"
         ],
         "type": "scatter",
         "x": [
          0,
          0.3861893138669573,
          0.3861893138669573,
          0
         ],
         "xaxis": "x",
         "y": [
          -365,
          -365,
          -375,
          -375
         ],
         "yaxis": "y"
        },
        {
         "hoverinfo": "text",
         "marker": {
          "color": "rgb(133,20,75)"
         },
         "mode": "lines",
         "text": [
          "tax_administration_senior_russia_taxes",
          "",
          "",
          "stephanopoulos_president_mr_myers_ms"
         ],
         "type": "scatter",
         "x": [
          0,
          0.5814595567194377,
          0.5814595567194377,
          0.3861893138669573
         ],
         "xaxis": "x",
         "y": [
          -355,
          -355,
          -370,
          -370
         ],
         "yaxis": "y"
        },
        {
         "hoverinfo": "text",
         "marker": {
          "color": "rgb(133,20,75)"
         },
         "mode": "lines",
         "text": [
          "clinton_panicking_bush_quayle_duke",
          "",
          "",
          "stephanopoulos_president_mr_myers_ms"
         ],
         "type": "scatter",
         "x": [
          0,
          0.7790945375759062,
          0.7790945375759062,
          0.5814595567194377
         ],
         "xaxis": "x",
         "y": [
          -345,
          -345,
          -362.5,
          -362.5
         ],
         "yaxis": "y"
        },
        {
         "hoverinfo": "text",
         "marker": {
          "color": "rgb(133,20,75)"
         },
         "mode": "lines",
         "text": [
          "kuwait_iraq_iran_gulf_arabia",
          "",
          "",
          "phd_environmental_meteorologist_atmospheric_atmosphere"
         ],
         "type": "scatter",
         "x": [
          0,
          0.7973527262920166,
          0.7973527262920166,
          0
         ],
         "xaxis": "x",
         "y": [
          -385,
          -385,
          -395,
          -395
         ],
         "yaxis": "y"
        },
        {
         "hoverinfo": "text",
         "marker": {
          "color": "rgb(133,20,75)"
         },
         "mode": "lines",
         "text": [
          "kuwait_iraq_iran_gulf_arabia",
          "",
          "",
          "abortion_abortions_women_choice_pregnancy"
         ],
         "type": "scatter",
         "x": [
          0.7973527262920166,
          0.8191998074098086,
          0.8191998074098086,
          0
         ],
         "xaxis": "x",
         "y": [
          -390,
          -390,
          -405,
          -405
         ],
         "yaxis": "y"
        },
        {
         "hoverinfo": "text",
         "marker": {
          "color": "rgb(133,20,75)"
         },
         "mode": "lines",
         "text": [
          "penalty_cruel_death_punishment_crime",
          "",
          "",
          "blacks_african_white_culture_americans"
         ],
         "type": "scatter",
         "x": [
          0,
          0.7588951232833198,
          0.7588951232833198,
          0
         ],
         "xaxis": "x",
         "y": [
          -415,
          -415,
          -425,
          -425
         ],
         "yaxis": "y"
        },
        {
         "hoverinfo": "text",
         "marker": {
          "color": "rgb(133,20,75)"
         },
         "mode": "lines",
         "text": [
          "penalty_cruel_death_punishment_crime",
          "",
          "",
          "blacks_african_white_culture_americans"
         ],
         "type": "scatter",
         "x": [
          0.8191998074098086,
          0.8570350223369956,
          0.8570350223369956,
          0.7588951232833198
         ],
         "xaxis": "x",
         "y": [
          -397.5,
          -397.5,
          -420,
          -420
         ],
         "yaxis": "y"
        },
        {
         "hoverinfo": "text",
         "marker": {
          "color": "rgb(133,20,75)"
         },
         "mode": "lines",
         "text": [
          "fbi_batf_koresh_fire_compound",
          "",
          "",
          "gun_guns_firearms_deaths_weapons"
         ],
         "type": "scatter",
         "x": [
          0,
          0.49057581492424684,
          0.49057581492424684,
          0
         ],
         "xaxis": "x",
         "y": [
          -475,
          -475,
          -485,
          -485
         ],
         "yaxis": "y"
        },
        {
         "hoverinfo": "text",
         "marker": {
          "color": "rgb(133,20,75)"
         },
         "mode": "lines",
         "text": [
          "israel_israeli_jews_arab_jewish",
          "",
          "",
          "fbi_gun_batf_koresh_fire"
         ],
         "type": "scatter",
         "x": [
          0,
          0.5333809199498396,
          0.5333809199498396,
          0.49057581492424684
         ],
         "xaxis": "x",
         "y": [
          -465,
          -465,
          -480,
          -480
         ],
         "yaxis": "y"
        },
        {
         "hoverinfo": "text",
         "marker": {
          "color": "rgb(133,20,75)"
         },
         "mode": "lines",
         "text": [
          "ted_post_you_your_teel",
          "",
          "",
          "israel_israeli_fbi_they_jews"
         ],
         "type": "scatter",
         "x": [
          0,
          0.6208034035759092,
          0.6208034035759092,
          0.5333809199498396
         ],
         "xaxis": "x",
         "y": [
          -455,
          -455,
          -472.5,
          -472.5
         ],
         "yaxis": "y"
        },
        {
         "hoverinfo": "text",
         "marker": {
          "color": "rgb(133,20,75)"
         },
         "mode": "lines",
         "text": [
          "ted_post_you_your_teel",
          "",
          "",
          "game_team_games_he_players"
         ],
         "type": "scatter",
         "x": [
          0.6208034035759092,
          0.6726456285180579,
          0.6726456285180579,
          0
         ],
         "xaxis": "x",
         "y": [
          -463.75,
          -463.75,
          -495,
          -495
         ],
         "yaxis": "y"
        },
        {
         "hoverinfo": "text",
         "marker": {
          "color": "rgb(133,20,75)"
         },
         "mode": "lines",
         "text": [
          "trial_cooper_spence_witnesses_king",
          "",
          "",
          "game_team_games_he_players"
         ],
         "type": "scatter",
         "x": [
          0,
          0.7624465163724757,
          0.7624465163724757,
          0.6726456285180579
         ],
         "xaxis": "x",
         "y": [
          -445,
          -445,
          -479.375,
          -479.375
         ],
         "yaxis": "y"
        },
        {
         "hoverinfo": "text",
         "marker": {
          "color": "rgb(133,20,75)"
         },
         "mode": "lines",
         "text": [
          "trial_cooper_spence_witnesses_king",
          "",
          "",
          "him_ups_check_weick_he"
         ],
         "type": "scatter",
         "x": [
          0.7624465163724757,
          0.7754547218879361,
          0.7754547218879361,
          0
         ],
         "xaxis": "x",
         "y": [
          -462.1875,
          -462.1875,
          -505,
          -505
         ],
         "yaxis": "y"
        },
        {
         "hoverinfo": "text",
         "marker": {
          "color": "rgb(133,20,75)"
         },
         "mode": "lines",
         "text": [
          "jim_context_articles_fred_weiss",
          "",
          "",
          "him_ups_check_weick_he"
         ],
         "type": "scatter",
         "x": [
          0,
          0.7812955968821655,
          0.7812955968821655,
          0.7754547218879361
         ],
         "xaxis": "x",
         "y": [
          -435,
          -435,
          -483.59375,
          -483.59375
         ],
         "yaxis": "y"
        },
        {
         "hoverinfo": "text",
         "marker": {
          "color": "rgb(133,20,75)"
         },
         "mode": "lines",
         "text": [
          "jim_context_articles_fred_weiss",
          "",
          "",
          "revolver_kratz_gun_safety_glock"
         ],
         "type": "scatter",
         "x": [
          0.7812955968821655,
          0.8454144414612644,
          0.8454144414612644,
          0
         ],
         "xaxis": "x",
         "y": [
          -459.296875,
          -459.296875,
          -515,
          -515
         ],
         "yaxis": "y"
        },
        {
         "hoverinfo": "text",
         "marker": {
          "color": "rgb(133,20,75)"
         },
         "mode": "lines",
         "text": [
          "jim_context_articles_fred_weiss",
          "",
          "",
          "revolver_kratz_gun_safety_glock"
         ],
         "type": "scatter",
         "x": [
          0.8570350223369956,
          0.8634113878593517,
          0.8634113878593517,
          0.8454144414612644
         ],
         "xaxis": "x",
         "y": [
          -408.75,
          -408.75,
          -487.1484375,
          -487.1484375
         ],
         "yaxis": "y"
        },
        {
         "hoverinfo": "text",
         "marker": {
          "color": "rgb(133,20,75)"
         },
         "mode": "lines",
         "text": [
          "jim_context_articles_fred_weiss",
          "",
          "",
          "revolver_kratz_gun_safety_glock"
         ],
         "type": "scatter",
         "x": [
          0.7790945375759062,
          0.9192343931888293,
          0.9192343931888293,
          0.8634113878593517
         ],
         "xaxis": "x",
         "y": [
          -353.75,
          -353.75,
          -447.94921875,
          -447.94921875
         ],
         "yaxis": "y"
        },
        {
         "hoverinfo": "text",
         "marker": {
          "color": "rgb(133,20,75)"
         },
         "mode": "lines",
         "text": [
          "jim_context_articles_fred_weiss",
          "",
          "",
          "revolver_kratz_gun_safety_glock"
         ],
         "type": "scatter",
         "x": [
          0.7825389027132447,
          0.9603338719384665,
          0.9603338719384665,
          0.9192343931888293
         ],
         "xaxis": "x",
         "y": [
          -316.25,
          -316.25,
          -400.849609375,
          -400.849609375
         ],
         "yaxis": "y"
        },
        {
         "hoverinfo": "text",
         "marker": {
          "color": "rgb(255,220,0)"
         },
         "mode": "lines",
         "text": [
          "were_they_armenians_azerbaijan_her",
          "",
          "",
          "armenian_turkish_armenians_genocide_turkey"
         ],
         "type": "scatter",
         "x": [
          0,
          0.5189055508858423,
          0.5189055508858423,
          0
         ],
         "xaxis": "x",
         "y": [
          -525,
          -525,
          -535,
          -535
         ],
         "yaxis": "y"
        },
        {
         "hoverinfo": "text",
         "marker": {
          "color": "rgb(255,220,0)"
         },
         "mode": "lines",
         "text": [
          "were_they_armenians_azerbaijan_her",
          "",
          "",
          "greek_greece_turkish_greeks_cyprus"
         ],
         "type": "scatter",
         "x": [
          0.5189055508858423,
          0.6810393951346609,
          0.6810393951346609,
          0
         ],
         "xaxis": "x",
         "y": [
          -530,
          -530,
          -545,
          -545
         ],
         "yaxis": "y"
        },
        {
         "hoverinfo": "text",
         "marker": {
          "color": "rgb(0,116,217)"
         },
         "mode": "lines",
         "text": [
          "were_they_armenians_azerbaijan_her",
          "",
          "",
          "greek_greece_turkish_greeks_cyprus"
         ],
         "type": "scatter",
         "x": [
          0.9603338719384665,
          1.0190888237475628,
          1.0190888237475628,
          0.6810393951346609
         ],
         "xaxis": "x",
         "y": [
          -358.5498046875,
          -358.5498046875,
          -537.5,
          -537.5
         ],
         "yaxis": "y"
        },
        {
         "hoverinfo": "text",
         "marker": {
          "color": "rgb(0,116,217)"
         },
         "mode": "lines",
         "text": [
          "were_they_armenians_azerbaijan_her",
          "",
          "",
          "greek_greece_turkish_greeks_cyprus"
         ],
         "type": "scatter",
         "x": [
          1.0087764324410835,
          1.1529587520674975,
          1.1529587520674975,
          1.0190888237475628
         ],
         "xaxis": "x",
         "y": [
          -229.0625,
          -229.0625,
          -448.02490234375,
          -448.02490234375
         ],
         "yaxis": "y"
        },
        {
         "hoverinfo": "text",
         "marker": {
          "color": "rgb(0,116,217)"
         },
         "mode": "lines",
         "text": [
          "were_they_armenians_azerbaijan_her",
          "",
          "",
          "greek_greece_turkish_greeks_cyprus"
         ],
         "type": "scatter",
         "x": [
          0.9916703232102901,
          1.5022221760419365,
          1.5022221760419365,
          1.1529587520674975
         ],
         "xaxis": "x",
         "y": [
          -65.380859375,
          -65.380859375,
          -338.543701171875,
          -338.543701171875
         ],
         "yaxis": "y"
        },
        {
         "hoverinfo": "text",
         "marker": {
          "color": "rgb(40,35,35)"
         },
         "mode": "lines",
         "text": [
          "8177_techniciandr_dod_student_alcoholic",
          "",
          "",
          "dod_denizens_doom_motorcycle_muck"
         ],
         "type": "scatter",
         "x": [
          0,
          0.7803510186444178,
          0.7803510186444178,
          0
         ],
         "xaxis": "x",
         "y": [
          -555,
          -555,
          -565,
          -565
         ],
         "yaxis": "y"
        },
        {
         "hoverinfo": "text",
         "marker": {
          "color": "rgb(61,153,112)"
         },
         "mode": "lines",
         "text": [
          "countersteering_bike_motorcycle_lean_rider",
          "",
          "",
          "passenger_bike_her_ride_riding"
         ],
         "type": "scatter",
         "x": [
          0,
          0.6148200246509568,
          0.6148200246509568,
          0
         ],
         "xaxis": "x",
         "y": [
          -595,
          -595,
          -605,
          -605
         ],
         "yaxis": "y"
        },
        {
         "hoverinfo": "text",
         "marker": {
          "color": "rgb(61,153,112)"
         },
         "mode": "lines",
         "text": [
          "countersteering_bike_motorcycle_lean_rider",
          "",
          "",
          "wave_bikers_waving_cage_ride"
         ],
         "type": "scatter",
         "x": [
          0.6148200246509568,
          0.76057626212666,
          0.76057626212666,
          0
         ],
         "xaxis": "x",
         "y": [
          -600,
          -600,
          -615,
          -615
         ],
         "yaxis": "y"
        },
        {
         "hoverinfo": "text",
         "marker": {
          "color": "rgb(61,153,112)"
         },
         "mode": "lines",
         "text": [
          "motorcycles_bikes_rode_bike_muzzah",
          "",
          "",
          "wave_bikers_waving_cage_ride"
         ],
         "type": "scatter",
         "x": [
          0,
          0.819437488871312,
          0.819437488871312,
          0.76057626212666
         ],
         "xaxis": "x",
         "y": [
          -585,
          -585,
          -607.5,
          -607.5
         ],
         "yaxis": "y"
        },
        {
         "hoverinfo": "text",
         "marker": {
          "color": "rgb(61,153,112)"
         },
         "mode": "lines",
         "text": [
          "motorcycles_bikes_rode_bike_muzzah",
          "",
          "",
          "dog_dogs_bike_chase_trained"
         ],
         "type": "scatter",
         "x": [
          0.819437488871312,
          0.8654217377946987,
          0.8654217377946987,
          0
         ],
         "xaxis": "x",
         "y": [
          -596.25,
          -596.25,
          -625,
          -625
         ],
         "yaxis": "y"
        },
        {
         "hoverinfo": "text",
         "marker": {
          "color": "rgb(61,153,112)"
         },
         "mode": "lines",
         "text": [
          "helmet_liner_foam_cb_helmets",
          "",
          "",
          "dog_dogs_bike_chase_trained"
         ],
         "type": "scatter",
         "x": [
          0,
          0.9092602635230999,
          0.9092602635230999,
          0.8654217377946987
         ],
         "xaxis": "x",
         "y": [
          -575,
          -575,
          -610.625,
          -610.625
         ],
         "yaxis": "y"
        },
        {
         "hoverinfo": "text",
         "marker": {
          "color": "rgb(61,153,112)"
         },
         "mode": "lines",
         "text": [
          "shaft_wheelie_wheelies_wheel_shaftdrive",
          "",
          "",
          "lock_kryptonite_cable_locks_bike"
         ],
         "type": "scatter",
         "x": [
          0,
          0.8921783368110466,
          0.8921783368110466,
          0
         ],
         "xaxis": "x",
         "y": [
          -635,
          -635,
          -645,
          -645
         ],
         "yaxis": "y"
        },
        {
         "hoverinfo": "text",
         "marker": {
          "color": "rgb(61,153,112)"
         },
         "mode": "lines",
         "text": [
          "shaft_wheelie_wheelies_wheel_shaftdrive",
          "",
          "",
          "lock_kryptonite_cable_locks_bike"
         ],
         "type": "scatter",
         "x": [
          0.9092602635230999,
          0.9298168252893635,
          0.9298168252893635,
          0.8921783368110466
         ],
         "xaxis": "x",
         "y": [
          -592.8125,
          -592.8125,
          -640,
          -640
         ],
         "yaxis": "y"
        },
        {
         "hoverinfo": "text",
         "marker": {
          "color": "rgb(0,116,217)"
         },
         "mode": "lines",
         "text": [
          "dod_denizens_doom_motorcycle_muck",
          "",
          "",
          "lock_kryptonite_cable_locks_bike"
         ],
         "type": "scatter",
         "x": [
          0.7803510186444178,
          1.0277665620558658,
          1.0277665620558658,
          0.9298168252893635
         ],
         "xaxis": "x",
         "y": [
          -560,
          -560,
          -616.40625,
          -616.40625
         ],
         "yaxis": "y"
        },
        {
         "hoverinfo": "text",
         "marker": {
          "color": "rgb(255,65,54)"
         },
         "mode": "lines",
         "text": [
          "insurance_health_private_care_canada",
          "",
          "",
          "insurance_geico_car_accident_rates"
         ],
         "type": "scatter",
         "x": [
          0,
          0.5771484985090758,
          0.5771484985090758,
          0
         ],
         "xaxis": "x",
         "y": [
          -655,
          -655,
          -665,
          -665
         ],
         "yaxis": "y"
        },
        {
         "hoverinfo": "text",
         "marker": {
          "color": "rgb(35,205,205)"
         },
         "mode": "lines",
         "text": [
          "bike_tires_tire_bikes_miles",
          "",
          "",
          "car_cars_mustang_engine_ford"
         ],
         "type": "scatter",
         "x": [
          0,
          0.5552291100986521,
          0.5552291100986521,
          0
         ],
         "xaxis": "x",
         "y": [
          -695,
          -695,
          -705,
          -705
         ],
         "yaxis": "y"
        },
        {
         "hoverinfo": "text",
         "marker": {
          "color": "rgb(35,205,205)"
         },
         "mode": "lines",
         "text": [
          "car_bike_cars_engine_tires",
          "",
          "",
          "dealer_saturn_price_car_invoice"
         ],
         "type": "scatter",
         "x": [
          0.5552291100986521,
          0.714343914252763,
          0.714343914252763,
          0
         ],
         "xaxis": "x",
         "y": [
          -700,
          -700,
          -715,
          -715
         ],
         "yaxis": "y"
        },
        {
         "hoverinfo": "text",
         "marker": {
          "color": "rgb(35,205,205)"
         },
         "mode": "lines",
         "text": [
          "clutch_shift_gear_transmission_shifting",
          "",
          "",
          "dealer_saturn_price_car_invoice"
         ],
         "type": "scatter",
         "x": [
          0,
          0.7490089045527335,
          0.7490089045527335,
          0.714343914252763
         ],
         "xaxis": "x",
         "y": [
          -685,
          -685,
          -707.5,
          -707.5
         ],
         "yaxis": "y"
        },
        {
         "hoverinfo": "text",
         "marker": {
          "color": "rgb(35,205,205)"
         },
         "mode": "lines",
         "text": [
          "clutch_shift_gear_transmission_shifting",
          "",
          "",
          "odometer_sensor_speedo_mileage_gauge"
         ],
         "type": "scatter",
         "x": [
          0.7490089045527335,
          0.7859129698370807,
          0.7859129698370807,
          0
         ],
         "xaxis": "x",
         "y": [
          -696.25,
          -696.25,
          -725,
          -725
         ],
         "yaxis": "y"
        },
        {
         "hoverinfo": "text",
         "marker": {
          "color": "rgb(35,205,205)"
         },
         "mode": "lines",
         "text": [
          "miles_condition_toyota_car_amfm",
          "",
          "",
          "odometer_sensor_speedo_mileage_gauge"
         ],
         "type": "scatter",
         "x": [
          0,
          0.8119322477448285,
          0.8119322477448285,
          0.7859129698370807
         ],
         "xaxis": "x",
         "y": [
          -675,
          -675,
          -710.625,
          -710.625
         ],
         "yaxis": "y"
        },
        {
         "hoverinfo": "text",
         "marker": {
          "color": "rgb(35,205,205)"
         },
         "mode": "lines",
         "text": [
          "cop_ticket_driving_drunk_court",
          "",
          "",
          "lane_car_behind_bike_lanes"
         ],
         "type": "scatter",
         "x": [
          0,
          0.6355489771000478,
          0.6355489771000478,
          0
         ],
         "xaxis": "x",
         "y": [
          -735,
          -735,
          -745,
          -745
         ],
         "yaxis": "y"
        },
        {
         "hoverinfo": "text",
         "marker": {
          "color": "rgb(35,205,205)"
         },
         "mode": "lines",
         "text": [
          "cop_ticket_driving_drunk_court",
          "",
          "",
          "radar_detector_detectors_ka_traffic"
         ],
         "type": "scatter",
         "x": [
          0.6355489771000478,
          0.788439241574011,
          0.788439241574011,
          0
         ],
         "xaxis": "x",
         "y": [
          -740,
          -740,
          -755,
          -755
         ],
         "yaxis": "y"
        },
        {
         "hoverinfo": "text",
         "marker": {
          "color": "rgb(35,205,205)"
         },
         "mode": "lines",
         "text": [
          "cop_ticket_driving_drunk_court",
          "",
          "",
          "radar_detector_detectors_ka_traffic"
         ],
         "type": "scatter",
         "x": [
          0.8119322477448285,
          0.9040055368944175,
          0.9040055368944175,
          0.788439241574011
         ],
         "xaxis": "x",
         "y": [
          -692.8125,
          -692.8125,
          -747.5,
          -747.5
         ],
         "yaxis": "y"
        },
        {
         "hoverinfo": "text",
         "marker": {
          "color": "rgb(35,205,205)"
         },
         "mode": "lines",
         "text": [
          "oil_drain_car_indicators_miles",
          "",
          "",
          "diesel_diesels_fuel_emissions_oil"
         ],
         "type": "scatter",
         "x": [
          0,
          0.7210311041507163,
          0.7210311041507163,
          0
         ],
         "xaxis": "x",
         "y": [
          -765,
          -765,
          -775,
          -775
         ],
         "yaxis": "y"
        },
        {
         "hoverinfo": "text",
         "marker": {
          "color": "rgb(35,205,205)"
         },
         "mode": "lines",
         "text": [
          "oil_drain_car_indicators_miles",
          "",
          "",
          "paint_wax_plastic_scratches_car"
         ],
         "type": "scatter",
         "x": [
          0.7210311041507163,
          0.7923280580723049,
          0.7923280580723049,
          0
         ],
         "xaxis": "x",
         "y": [
          -770,
          -770,
          -785,
          -785
         ],
         "yaxis": "y"
        },
        {
         "hoverinfo": "text",
         "marker": {
          "color": "rgb(35,205,205)"
         },
         "mode": "lines",
         "text": [
          "oil_drain_car_indicators_miles",
          "",
          "",
          "ear_wax_ears_syringe_widex"
         ],
         "type": "scatter",
         "x": [
          0.7923280580723049,
          0.8713868022910609,
          0.8713868022910609,
          0
         ],
         "xaxis": "x",
         "y": [
          -777.5,
          -777.5,
          -795,
          -795
         ],
         "yaxis": "y"
        },
        {
         "hoverinfo": "text",
         "marker": {
          "color": "rgb(35,205,205)"
         },
         "mode": "lines",
         "text": [
          "oil_drain_car_indicators_miles",
          "",
          "",
          "ear_wax_ears_syringe_widex"
         ],
         "type": "scatter",
         "x": [
          0.9040055368944175,
          0.9869036752449809,
          0.9869036752449809,
          0.8713868022910609
         ],
         "xaxis": "x",
         "y": [
          -720.15625,
          -720.15625,
          -786.25,
          -786.25
         ],
         "yaxis": "y"
        },
        {
         "hoverinfo": "text",
         "marker": {
          "color": "rgb(0,116,217)"
         },
         "mode": "lines",
         "text": [
          "insurance_health_private_care_geico",
          "",
          "",
          "ear_wax_ears_syringe_widex"
         ],
         "type": "scatter",
         "x": [
          0.5771484985090758,
          1.0279554141824347,
          1.0279554141824347,
          0.9869036752449809
         ],
         "xaxis": "x",
         "y": [
          -660,
          -660,
          -753.203125,
          -753.203125
         ],
         "yaxis": "y"
        },
        {
         "hoverinfo": "text",
         "marker": {
          "color": "rgb(0,116,217)"
         },
         "mode": "lines",
         "text": [
          "insurance_health_private_care_geico",
          "",
          "",
          "ear_wax_ears_syringe_widex"
         ],
         "type": "scatter",
         "x": [
          1.0277665620558658,
          1.2414361966822072,
          1.2414361966822072,
          1.0279554141824347
         ],
         "xaxis": "x",
         "y": [
          -588.203125,
          -588.203125,
          -706.6015625,
          -706.6015625
         ],
         "yaxis": "y"
        },
        {
         "hoverinfo": "text",
         "marker": {
          "color": "rgb(61,153,112)"
         },
         "mode": "lines",
         "text": [
          "meat_carcinogenic_smoke_carcinogens_charcoal",
          "",
          "",
          "msg_food_chinese_foods_taste"
         ],
         "type": "scatter",
         "x": [
          0,
          0.7841091196923412,
          0.7841091196923412,
          0
         ],
         "xaxis": "x",
         "y": [
          -805,
          -805,
          -815,
          -815
         ],
         "yaxis": "y"
        },
        {
         "hoverinfo": "text",
         "marker": {
          "color": "rgb(61,153,112)"
         },
         "mode": "lines",
         "text": [
          "meat_carcinogenic_smoke_carcinogens_charcoal",
          "",
          "",
          "crohns_inflammation_colonics_cleansing_fatty"
         ],
         "type": "scatter",
         "x": [
          0.7841091196923412,
          0.8723867431918818,
          0.8723867431918818,
          0
         ],
         "xaxis": "x",
         "y": [
          -810,
          -810,
          -825,
          -825
         ],
         "yaxis": "y"
        },
        {
         "hoverinfo": "text",
         "marker": {
          "color": "rgb(255,65,54)"
         },
         "mode": "lines",
         "text": [
          "candida_yeast_infection_infections_yogurt",
          "",
          "",
          "lyme_candida_quack_quacks_patients"
         ],
         "type": "scatter",
         "x": [
          0,
          0.44389398254778367,
          0.44389398254778367,
          0
         ],
         "xaxis": "x",
         "y": [
          -845,
          -845,
          -855,
          -855
         ],
         "yaxis": "y"
        },
        {
         "hoverinfo": "text",
         "marker": {
          "color": "rgb(255,65,54)"
         },
         "mode": "lines",
         "text": [
          "doctor_gr_medicine_radiologist_homeopathy",
          "",
          "",
          "pain_migraine_disease_diet_cancer"
         ],
         "type": "scatter",
         "x": [
          0,
          0.5799173004946012,
          0.5799173004946012,
          0
         ],
         "xaxis": "x",
         "y": [
          -865,
          -865,
          -875,
          -875
         ],
         "yaxis": "y"
        },
        {
         "hoverinfo": "text",
         "marker": {
          "color": "rgb(255,65,54)"
         },
         "mode": "lines",
         "text": [
          "candida_yeast_infection_bacteria_infections",
          "",
          "",
          "pain_migraine_disease_diet_cancer"
         ],
         "type": "scatter",
         "x": [
          0.44389398254778367,
          0.7037760907555481,
          0.7037760907555481,
          0.5799173004946012
         ],
         "xaxis": "x",
         "y": [
          -850,
          -850,
          -870,
          -870
         ],
         "yaxis": "y"
        },
        {
         "hoverinfo": "text",
         "marker": {
          "color": "rgb(255,65,54)"
         },
         "mode": "lines",
         "text": [
          "candida_patients_yeast_doctor_disease",
          "",
          "",
          "medical_schools_surgery_hospital_admissions"
         ],
         "type": "scatter",
         "x": [
          0.7037760907555481,
          0.7824035001288882,
          0.7824035001288882,
          0
         ],
         "xaxis": "x",
         "y": [
          -860,
          -860,
          -885,
          -885
         ],
         "yaxis": "y"
        },
        {
         "hoverinfo": "text",
         "marker": {
          "color": "rgb(255,65,54)"
         },
         "mode": "lines",
         "text": [
          "kidney_stones_b6_calcium_vitamin",
          "",
          "",
          "medical_schools_surgery_hospital_admissions"
         ],
         "type": "scatter",
         "x": [
          0,
          0.9059475273638014,
          0.9059475273638014,
          0.7824035001288882
         ],
         "xaxis": "x",
         "y": [
          -835,
          -835,
          -872.5,
          -872.5
         ],
         "yaxis": "y"
        },
        {
         "hoverinfo": "text",
         "marker": {
          "color": "rgb(255,65,54)"
         },
         "mode": "lines",
         "text": [
          "prozac_drugs_haldol_effects_drug",
          "",
          "",
          "drugs_drug_marijuana_cocaine_lsd"
         ],
         "type": "scatter",
         "x": [
          0,
          0.6392681023820337,
          0.6392681023820337,
          0
         ],
         "xaxis": "x",
         "y": [
          -895,
          -895,
          -905,
          -905
         ],
         "yaxis": "y"
        },
        {
         "hoverinfo": "text",
         "marker": {
          "color": "rgb(255,65,54)"
         },
         "mode": "lines",
         "text": [
          "prozac_drugs_haldol_effects_drug",
          "",
          "",
          "drugs_drug_marijuana_cocaine_prozac"
         ],
         "type": "scatter",
         "x": [
          0.9059475273638014,
          0.9838403542253659,
          0.9838403542253659,
          0.6392681023820337
         ],
         "xaxis": "x",
         "y": [
          -853.75,
          -853.75,
          -900,
          -900
         ],
         "yaxis": "y"
        },
        {
         "hoverinfo": "text",
         "marker": {
          "color": "rgb(0,116,217)"
         },
         "mode": "lines",
         "text": [
          "prozac_drugs_haldol_effects_drug",
          "",
          "",
          "drugs_drug_marijuana_cocaine_prozac"
         ],
         "type": "scatter",
         "x": [
          0.8723867431918818,
          1.0053887873215996,
          1.0053887873215996,
          0.9838403542253659
         ],
         "xaxis": "x",
         "y": [
          -817.5,
          -817.5,
          -876.875,
          -876.875
         ],
         "yaxis": "y"
        },
        {
         "hoverinfo": "text",
         "marker": {
          "color": "rgb(35,205,205)"
         },
         "mode": "lines",
         "text": [
          "cancer_burzynskis_a10_tumor_cell",
          "",
          "",
          "cancer_medical_center_centers_research"
         ],
         "type": "scatter",
         "x": [
          0,
          0.680090860007956,
          0.680090860007956,
          0
         ],
         "xaxis": "x",
         "y": [
          -915,
          -915,
          -925,
          -925
         ],
         "yaxis": "y"
        },
        {
         "hoverinfo": "text",
         "marker": {
          "color": "rgb(0,116,217)"
         },
         "mode": "lines",
         "text": [
          "cancer_burzynskis_a10_tumor_cell",
          "",
          "",
          "cancer_medical_research_center_centers"
         ],
         "type": "scatter",
         "x": [
          1.0053887873215996,
          1.0434566565308343,
          1.0434566565308343,
          0.680090860007956
         ],
         "xaxis": "x",
         "y": [
          -847.1875,
          -847.1875,
          -920,
          -920
         ],
         "yaxis": "y"
        },
        {
         "hoverinfo": "text",
         "marker": {
          "color": "rgb(133,20,75)"
         },
         "mode": "lines",
         "text": [
          "probe_spacecraft_mars_mission_orbit",
          "",
          "",
          "launch_km_orbit_astronomy_earth"
         ],
         "type": "scatter",
         "x": [
          0,
          0.6498376256813831,
          0.6498376256813831,
          0
         ],
         "xaxis": "x",
         "y": [
          -945,
          -945,
          -955,
          -955
         ],
         "yaxis": "y"
        },
        {
         "hoverinfo": "text",
         "marker": {
          "color": "rgb(133,20,75)"
         },
         "mode": "lines",
         "text": [
          "space_spaceship_exploration_mars_science",
          "",
          "",
          "orbit_mars_launch_probe_mission"
         ],
         "type": "scatter",
         "x": [
          0,
          0.8460784409168719,
          0.8460784409168719,
          0.6498376256813831
         ],
         "xaxis": "x",
         "y": [
          -935,
          -935,
          -950,
          -950
         ],
         "yaxis": "y"
        },
        {
         "hoverinfo": "text",
         "marker": {
          "color": "rgb(133,20,75)"
         },
         "mode": "lines",
         "text": [
          "space_station_nasa_dcx_shuttle",
          "",
          "",
          "moon_lunar_prize_billion_kc"
         ],
         "type": "scatter",
         "x": [
          0,
          0.6389158007348827,
          0.6389158007348827,
          0
         ],
         "xaxis": "x",
         "y": [
          -975,
          -975,
          -985,
          -985
         ],
         "yaxis": "y"
        },
        {
         "hoverinfo": "text",
         "marker": {
          "color": "rgb(133,20,75)"
         },
         "mode": "lines",
         "text": [
          "sky_advertising_billboard_billboards_light",
          "",
          "",
          "moon_space_nasa_station_lunar"
         ],
         "type": "scatter",
         "x": [
          0,
          0.6744723576911755,
          0.6744723576911755,
          0.6389158007348827
         ],
         "xaxis": "x",
         "y": [
          -965,
          -965,
          -980,
          -980
         ],
         "yaxis": "y"
        },
        {
         "hoverinfo": "text",
         "marker": {
          "color": "rgb(133,20,75)"
         },
         "mode": "lines",
         "text": [
          "sky_advertising_billboard_billboards_light",
          "",
          "",
          "hst_reboost_mission_shuttle_orbit"
         ],
         "type": "scatter",
         "x": [
          0.6744723576911755,
          0.78246031739271,
          0.78246031739271,
          0
         ],
         "xaxis": "x",
         "y": [
          -972.5,
          -972.5,
          -995,
          -995
         ],
         "yaxis": "y"
        },
        {
         "hoverinfo": "text",
         "marker": {
          "color": "rgb(133,20,75)"
         },
         "mode": "lines",
         "text": [
          "sky_advertising_billboard_billboards_light",
          "",
          "",
          "hst_reboost_mission_shuttle_orbit"
         ],
         "type": "scatter",
         "x": [
          0.8460784409168719,
          0.895228721864832,
          0.895228721864832,
          0.78246031739271
         ],
         "xaxis": "x",
         "y": [
          -942.5,
          -942.5,
          -983.75,
          -983.75
         ],
         "yaxis": "y"
        },
        {
         "hoverinfo": "text",
         "marker": {
          "color": "rgb(255,220,0)"
         },
         "mode": "lines",
         "text": [
          "boards_solder_mask_green_board",
          "",
          "",
          "uv_leds_blue_light_bulb"
         ],
         "type": "scatter",
         "x": [
          0,
          0.9007292457028865,
          0.9007292457028865,
          0
         ],
         "xaxis": "x",
         "y": [
          -1005,
          -1005,
          -1015,
          -1015
         ],
         "yaxis": "y"
        },
        {
         "hoverinfo": "text",
         "marker": {
          "color": "rgb(255,220,0)"
         },
         "mode": "lines",
         "text": [
          "phone_onhook_tip_ring_led",
          "",
          "",
          "ground_grounding_conductor_neutral_wire"
         ],
         "type": "scatter",
         "x": [
          0,
          0.7665946929305084,
          0.7665946929305084,
          0
         ],
         "xaxis": "x",
         "y": [
          -1035,
          -1035,
          -1045,
          -1045
         ],
         "yaxis": "y"
        },
        {
         "hoverinfo": "text",
         "marker": {
          "color": "rgb(255,220,0)"
         },
         "mode": "lines",
         "text": [
          "voltage_generator_current_resistor_output",
          "",
          "",
          "ground_conductor_grounding_neutral_wire"
         ],
         "type": "scatter",
         "x": [
          0,
          0.8651043489415908,
          0.8651043489415908,
          0.7665946929305084
         ],
         "xaxis": "x",
         "y": [
          -1025,
          -1025,
          -1040,
          -1040
         ],
         "yaxis": "y"
        },
        {
         "hoverinfo": "text",
         "marker": {
          "color": "rgb(255,220,0)"
         },
         "mode": "lines",
         "text": [
          "voltage_generator_current_resistor_output",
          "",
          "",
          "ground_conductor_grounding_neutral_wire"
         ],
         "type": "scatter",
         "x": [
          0.9007292457028865,
          0.9813465249096586,
          0.9813465249096586,
          0.8651043489415908
         ],
         "xaxis": "x",
         "y": [
          -1010,
          -1010,
          -1032.5,
          -1032.5
         ],
         "yaxis": "y"
        },
        {
         "hoverinfo": "text",
         "marker": {
          "color": "rgb(40,35,35)"
         },
         "mode": "lines",
         "text": [
          "dial_number_phone_call_line",
          "",
          "",
          "dialing_tone_sweden_phone_germany"
         ],
         "type": "scatter",
         "x": [
          0,
          0.8152624597694021,
          0.8152624597694021,
          0
         ],
         "xaxis": "x",
         "y": [
          -1055,
          -1055,
          -1065,
          -1065
         ],
         "yaxis": "y"
        },
        {
         "hoverinfo": "text",
         "marker": {
          "color": "rgb(0,116,217)"
         },
         "mode": "lines",
         "text": [
          "dial_number_phone_call_line",
          "",
          "",
          "dialing_tone_sweden_phone_germany"
         ],
         "type": "scatter",
         "x": [
          0.9813465249096586,
          1.0175337381763412,
          1.0175337381763412,
          0.8152624597694021
         ],
         "xaxis": "x",
         "y": [
          -1021.25,
          -1021.25,
          -1060,
          -1060
         ],
         "yaxis": "y"
        },
        {
         "hoverinfo": "text",
         "marker": {
          "color": "rgb(61,153,112)"
         },
         "mode": "lines",
         "text": [
          "antenna_design_cable_mixer_receiver",
          "",
          "",
          "amp_audio_condition_asking_stereo"
         ],
         "type": "scatter",
         "x": [
          0,
          0.656960842764281,
          0.656960842764281,
          0
         ],
         "xaxis": "x",
         "y": [
          -1085,
          -1085,
          -1095,
          -1095
         ],
         "yaxis": "y"
        },
        {
         "hoverinfo": "text",
         "marker": {
          "color": "rgb(61,153,112)"
         },
         "mode": "lines",
         "text": [
          "ham_interference_radio_rf_watts",
          "",
          "",
          "amp_audio_condition_asking_stereo"
         ],
         "type": "scatter",
         "x": [
          0,
          0.7429469603948223,
          0.7429469603948223,
          0.656960842764281
         ],
         "xaxis": "x",
         "y": [
          -1075,
          -1075,
          -1090,
          -1090
         ],
         "yaxis": "y"
        },
        {
         "hoverinfo": "text",
         "marker": {
          "color": "rgb(61,153,112)"
         },
         "mode": "lines",
         "text": [
          "sampling_oversampling_filter_rate_frequency",
          "",
          "",
          "celp_speech_dsp_voice_4800"
         ],
         "type": "scatter",
         "x": [
          0,
          0.7964746413107883,
          0.7964746413107883,
          0
         ],
         "xaxis": "x",
         "y": [
          -1105,
          -1105,
          -1115,
          -1115
         ],
         "yaxis": "y"
        },
        {
         "hoverinfo": "text",
         "marker": {
          "color": "rgb(61,153,112)"
         },
         "mode": "lines",
         "text": [
          "sampling_oversampling_filter_rate_frequency",
          "",
          "",
          "celp_speech_dsp_voice_4800"
         ],
         "type": "scatter",
         "x": [
          0.7429469603948223,
          0.8773613495490651,
          0.8773613495490651,
          0.7964746413107883
         ],
         "xaxis": "x",
         "y": [
          -1082.5,
          -1082.5,
          -1110,
          -1110
         ],
         "yaxis": "y"
        },
        {
         "hoverinfo": "text",
         "marker": {
          "color": "rgb(61,153,112)"
         },
         "mode": "lines",
         "text": [
          "scope_scopes_oscilloscope_tektronix_probes",
          "",
          "",
          "meter_8060a_fluke_8060_electricians"
         ],
         "type": "scatter",
         "x": [
          0,
          0.8473365628929714,
          0.8473365628929714,
          0
         ],
         "xaxis": "x",
         "y": [
          -1125,
          -1125,
          -1135,
          -1135
         ],
         "yaxis": "y"
        },
        {
         "hoverinfo": "text",
         "marker": {
          "color": "rgb(61,153,112)"
         },
         "mode": "lines",
         "text": [
          "scope_scopes_oscilloscope_tektronix_probes",
          "",
          "",
          "meter_8060a_fluke_8060_electricians"
         ],
         "type": "scatter",
         "x": [
          0.8773613495490651,
          0.9907825554383385,
          0.9907825554383385,
          0.8473365628929714
         ],
         "xaxis": "x",
         "y": [
          -1096.25,
          -1096.25,
          -1130,
          -1130
         ],
         "yaxis": "y"
        },
        {
         "hoverinfo": "text",
         "marker": {
          "color": "rgb(0,116,217)"
         },
         "mode": "lines",
         "text": [
          "scope_scopes_oscilloscope_tektronix_probes",
          "",
          "",
          "meter_8060a_fluke_8060_electricians"
         ],
         "type": "scatter",
         "x": [
          1.0175337381763412,
          1.0832838813697283,
          1.0832838813697283,
          0.9907825554383385
         ],
         "xaxis": "x",
         "y": [
          -1040.625,
          -1040.625,
          -1113.125,
          -1113.125
         ],
         "yaxis": "y"
        },
        {
         "hoverinfo": "text",
         "marker": {
          "color": "rgb(255,65,54)"
         },
         "mode": "lines",
         "text": [
          "games_joystick_sega_game_arcade",
          "",
          "",
          "pom_cds_cd_picture_sale"
         ],
         "type": "scatter",
         "x": [
          0,
          0.7707871225696036,
          0.7707871225696036,
          0
         ],
         "xaxis": "x",
         "y": [
          -1165,
          -1165,
          -1175,
          -1175
         ],
         "yaxis": "y"
        },
        {
         "hoverinfo": "text",
         "marker": {
          "color": "rgb(255,65,54)"
         },
         "mode": "lines",
         "text": [
          "hotel_voucher_package_vacation_room",
          "",
          "",
          "pom_cds_cd_picture_sale"
         ],
         "type": "scatter",
         "x": [
          0,
          0.8747048317879063,
          0.8747048317879063,
          0.7707871225696036
         ],
         "xaxis": "x",
         "y": [
          -1155,
          -1155,
          -1170,
          -1170
         ],
         "yaxis": "y"
        },
        {
         "hoverinfo": "text",
         "marker": {
          "color": "rgb(255,65,54)"
         },
         "mode": "lines",
         "text": [
          "hotel_voucher_package_vacation_room",
          "",
          "",
          "table_drawer_sale_tables_chairs"
         ],
         "type": "scatter",
         "x": [
          0.8747048317879063,
          0.8965816355210444,
          0.8965816355210444,
          0
         ],
         "xaxis": "x",
         "y": [
          -1162.5,
          -1162.5,
          -1185,
          -1185
         ],
         "yaxis": "y"
        },
        {
         "hoverinfo": "text",
         "marker": {
          "color": "rgb(255,65,54)"
         },
         "mode": "lines",
         "text": [
          "lens_camera_nikon_zoom_flash",
          "",
          "",
          "table_drawer_sale_tables_chairs"
         ],
         "type": "scatter",
         "x": [
          0,
          0.92796481972729,
          0.92796481972729,
          0.8965816355210444
         ],
         "xaxis": "x",
         "y": [
          -1145,
          -1145,
          -1173.75,
          -1173.75
         ],
         "yaxis": "y"
        },
        {
         "hoverinfo": "text",
         "marker": {
          "color": "rgb(255,65,54)"
         },
         "mode": "lines",
         "text": [
          "horses_ed_hardcover_1000_painting",
          "",
          "",
          "1st_wolverine_comics_hulk_art"
         ],
         "type": "scatter",
         "x": [
          0,
          0.8920018906204128,
          0.8920018906204128,
          0
         ],
         "xaxis": "x",
         "y": [
          -1195,
          -1195,
          -1205,
          -1205
         ],
         "yaxis": "y"
        },
        {
         "hoverinfo": "text",
         "marker": {
          "color": "rgb(255,65,54)"
         },
         "mode": "lines",
         "text": [
          "horses_ed_hardcover_1000_painting",
          "",
          "",
          "1st_wolverine_comics_hulk_art"
         ],
         "type": "scatter",
         "x": [
          0.92796481972729,
          0.980078818450974,
          0.980078818450974,
          0.8920018906204128
         ],
         "xaxis": "x",
         "y": [
          -1159.375,
          -1159.375,
          -1200,
          -1200
         ],
         "yaxis": "y"
        },
        {
         "hoverinfo": "text",
         "marker": {
          "color": "rgb(35,205,205)"
         },
         "mode": "lines",
         "text": [
          "scrolls_books_qumran_symposium_book",
          "",
          "",
          "anania_shirak_orbeli_book_ks"
         ],
         "type": "scatter",
         "x": [
          0,
          0.8229706488866355,
          0.8229706488866355,
          0
         ],
         "xaxis": "x",
         "y": [
          -1225,
          -1225,
          -1235,
          -1235
         ],
         "yaxis": "y"
        },
        {
         "hoverinfo": "text",
         "marker": {
          "color": "rgb(35,205,205)"
         },
         "mode": "lines",
         "text": [
          "chemistry_paperback_book_spice_guide",
          "",
          "",
          "anania_shirak_orbeli_book_ks"
         ],
         "type": "scatter",
         "x": [
          0,
          0.8756194513232632,
          0.8756194513232632,
          0.8229706488866355
         ],
         "xaxis": "x",
         "y": [
          -1215,
          -1215,
          -1230,
          -1230
         ],
         "yaxis": "y"
        },
        {
         "hoverinfo": "text",
         "marker": {
          "color": "rgb(0,116,217)"
         },
         "mode": "lines",
         "text": [
          "chemistry_paperback_book_spice_guide",
          "",
          "",
          "anania_shirak_orbeli_book_ks"
         ],
         "type": "scatter",
         "x": [
          0.980078818450974,
          1.0569107173187373,
          1.0569107173187373,
          0.8756194513232632
         ],
         "xaxis": "x",
         "y": [
          -1179.6875,
          -1179.6875,
          -1222.5,
          -1222.5
         ],
         "yaxis": "y"
        },
        {
         "hoverinfo": "text",
         "marker": {
          "color": "rgb(61,153,112)"
         },
         "mode": "lines",
         "text": [
          "cooling_water_steam_towers_plants",
          "",
          "",
          "plutonium_nuclear_clancy_reactors_bomb"
         ],
         "type": "scatter",
         "x": [
          0,
          0.8076063498539267,
          0.8076063498539267,
          0
         ],
         "xaxis": "x",
         "y": [
          -1245,
          -1245,
          -1255,
          -1255
         ],
         "yaxis": "y"
        },
        {
         "hoverinfo": "text",
         "marker": {
          "color": "rgb(255,65,54)"
         },
         "mode": "lines",
         "text": [
          "smiley_godless_nickname_karla_smileys",
          "",
          "",
          "moscow_aviation_russian_kaliningrad_institute"
         ],
         "type": "scatter",
         "x": [
          0,
          0.9415098715664705,
          0.9415098715664705,
          0
         ],
         "xaxis": "x",
         "y": [
          -1265,
          -1265,
          -1275,
          -1275
         ],
         "yaxis": "y"
        },
        {
         "hoverinfo": "text",
         "marker": {
          "color": "rgb(255,65,54)"
         },
         "mode": "lines",
         "text": [
          "professors_university_schools_class_partying",
          "",
          "",
          "bill_s414_bills_brady_senate"
         ],
         "type": "scatter",
         "x": [
          0,
          0.8891410613699683,
          0.8891410613699683,
          0
         ],
         "xaxis": "x",
         "y": [
          -1285,
          -1285,
          -1295,
          -1295
         ],
         "yaxis": "y"
        },
        {
         "hoverinfo": "text",
         "marker": {
          "color": "rgb(255,65,54)"
         },
         "mode": "lines",
         "text": [
          "professors_university_schools_class_partying",
          "",
          "",
          "contains_tune_dykstra_chorus_chrysler"
         ],
         "type": "scatter",
         "x": [
          0.8891410613699683,
          0.9326447493983352,
          0.9326447493983352,
          0
         ],
         "xaxis": "x",
         "y": [
          -1290,
          -1290,
          -1305,
          -1305
         ],
         "yaxis": "y"
        },
        {
         "hoverinfo": "text",
         "marker": {
          "color": "rgb(255,65,54)"
         },
         "mode": "lines",
         "text": [
          "professors_university_schools_class_partying",
          "",
          "",
          "contains_tune_dykstra_chorus_chrysler"
         ],
         "type": "scatter",
         "x": [
          0.9415098715664705,
          0.9561545856008327,
          0.9561545856008327,
          0.9326447493983352
         ],
         "xaxis": "x",
         "y": [
          -1270,
          -1270,
          -1297.5,
          -1297.5
         ],
         "yaxis": "y"
        },
        {
         "hoverinfo": "text",
         "marker": {
          "color": "rgb(255,65,54)"
         },
         "mode": "lines",
         "text": [
          "ms_survey_microsoft_msdos_marketing",
          "",
          "",
          "hacker_computer_hackers_ethic_cs"
         ],
         "type": "scatter",
         "x": [
          0,
          0.8053324724452928,
          0.8053324724452928,
          0
         ],
         "xaxis": "x",
         "y": [
          -1315,
          -1315,
          -1325,
          -1325
         ],
         "yaxis": "y"
        },
        {
         "hoverinfo": "text",
         "marker": {
          "color": "rgb(255,65,54)"
         },
         "mode": "lines",
         "text": [
          "ms_survey_microsoft_msdos_marketing",
          "",
          "",
          "software_process_level_shuttle_wingert"
         ],
         "type": "scatter",
         "x": [
          0.8053324724452928,
          0.8825625686852787,
          0.8825625686852787,
          0
         ],
         "xaxis": "x",
         "y": [
          -1320,
          -1320,
          -1335,
          -1335
         ],
         "yaxis": "y"
        },
        {
         "hoverinfo": "text",
         "marker": {
          "color": "rgb(255,65,54)"
         },
         "mode": "lines",
         "text": [
          "ms_survey_microsoft_msdos_marketing",
          "",
          "",
          "software_process_level_shuttle_wingert"
         ],
         "type": "scatter",
         "x": [
          0.9561545856008327,
          0.9677049321363063,
          0.9677049321363063,
          0.8825625686852787
         ],
         "xaxis": "x",
         "y": [
          -1283.75,
          -1283.75,
          -1327.5,
          -1327.5
         ],
         "yaxis": "y"
        },
        {
         "hoverinfo": "text",
         "marker": {
          "color": "rgb(255,65,54)"
         },
         "mode": "lines",
         "text": [
          "kirlian_photography_leaf_pictures_krillean",
          "",
          "",
          "tempest_monitor_equipment_emissions_crts"
         ],
         "type": "scatter",
         "x": [
          0,
          0.928619956886393,
          0.928619956886393,
          0
         ],
         "xaxis": "x",
         "y": [
          -1345,
          -1345,
          -1355,
          -1355
         ],
         "yaxis": "y"
        },
        {
         "hoverinfo": "text",
         "marker": {
          "color": "rgb(255,65,54)"
         },
         "mode": "lines",
         "text": [
          "wasps_centipedes_chiggers_millipedes_polish",
          "",
          "",
          "media_publications_news_spiking_digging"
         ],
         "type": "scatter",
         "x": [
          0,
          0.9015471339376324,
          0.9015471339376324,
          0
         ],
         "xaxis": "x",
         "y": [
          -1375,
          -1375,
          -1385,
          -1385
         ],
         "yaxis": "y"
        },
        {
         "hoverinfo": "text",
         "marker": {
          "color": "rgb(255,65,54)"
         },
         "mode": "lines",
         "text": [
          "jacket_clothing_pants_aerostitch_piece",
          "",
          "",
          "media_publications_news_spiking_digging"
         ],
         "type": "scatter",
         "x": [
          0,
          0.9203319687423677,
          0.9203319687423677,
          0.9015471339376324
         ],
         "xaxis": "x",
         "y": [
          -1365,
          -1365,
          -1380,
          -1380
         ],
         "yaxis": "y"
        },
        {
         "hoverinfo": "text",
         "marker": {
          "color": "rgb(255,65,54)"
         },
         "mode": "lines",
         "text": [
          "den_polygon_points_algorithm_xxxx",
          "",
          "",
          "oort_cloud_grbs_gamma_burst"
         ],
         "type": "scatter",
         "x": [
          0,
          0.8241650127529212,
          0.8241650127529212,
          0
         ],
         "xaxis": "x",
         "y": [
          -1405,
          -1405,
          -1415,
          -1415
         ],
         "yaxis": "y"
        },
        {
         "hoverinfo": "text",
         "marker": {
          "color": "rgb(255,65,54)"
         },
         "mode": "lines",
         "text": [
          "eye_prk_cornea_rk_vision",
          "",
          "",
          "oort_cloud_grbs_gamma_burst"
         ],
         "type": "scatter",
         "x": [
          0,
          0.9084843339500235,
          0.9084843339500235,
          0.8241650127529212
         ],
         "xaxis": "x",
         "y": [
          -1395,
          -1395,
          -1410,
          -1410
         ],
         "yaxis": "y"
        },
        {
         "hoverinfo": "text",
         "marker": {
          "color": "rgb(255,65,54)"
         },
         "mode": "lines",
         "text": [
          "eye_prk_cornea_rk_vision",
          "",
          "",
          "42_tea_question_answer_universe"
         ],
         "type": "scatter",
         "x": [
          0.9084843339500235,
          0.9251530180824012,
          0.9251530180824012,
          0
         ],
         "xaxis": "x",
         "y": [
          -1402.5,
          -1402.5,
          -1425,
          -1425
         ],
         "yaxis": "y"
        },
        {
         "hoverinfo": "text",
         "marker": {
          "color": "rgb(255,65,54)"
         },
         "mode": "lines",
         "text": [
          "eye_prk_cornea_rk_vision",
          "",
          "",
          "42_tea_question_answer_universe"
         ],
         "type": "scatter",
         "x": [
          0.9203319687423677,
          0.9383053792559164,
          0.9383053792559164,
          0.9251530180824012
         ],
         "xaxis": "x",
         "y": [
          -1372.5,
          -1372.5,
          -1413.75,
          -1413.75
         ],
         "yaxis": "y"
        },
        {
         "hoverinfo": "text",
         "marker": {
          "color": "rgb(255,65,54)"
         },
         "mode": "lines",
         "text": [
          "eye_prk_cornea_rk_vision",
          "",
          "",
          "42_tea_question_answer_universe"
         ],
         "type": "scatter",
         "x": [
          0.928619956886393,
          0.9512403628224262,
          0.9512403628224262,
          0.9383053792559164
         ],
         "xaxis": "x",
         "y": [
          -1350,
          -1350,
          -1393.125,
          -1393.125
         ],
         "yaxis": "y"
        },
        {
         "hoverinfo": "text",
         "marker": {
          "color": "rgb(255,65,54)"
         },
         "mode": "lines",
         "text": [
          "eye_prk_cornea_rk_vision",
          "",
          "",
          "needles_acupuncture_needle_syringe_hypodermic"
         ],
         "type": "scatter",
         "x": [
          0.9512403628224262,
          0.9600978871085146,
          0.9600978871085146,
          0
         ],
         "xaxis": "x",
         "y": [
          -1371.5625,
          -1371.5625,
          -1435,
          -1435
         ],
         "yaxis": "y"
        },
        {
         "hoverinfo": "text",
         "marker": {
          "color": "rgb(255,65,54)"
         },
         "mode": "lines",
         "text": [
          "eye_prk_cornea_rk_vision",
          "",
          "",
          "needles_acupuncture_needle_syringe_hypodermic"
         ],
         "type": "scatter",
         "x": [
          0.9677049321363063,
          0.977918270957708,
          0.977918270957708,
          0.9600978871085146
         ],
         "xaxis": "x",
         "y": [
          -1305.625,
          -1305.625,
          -1403.28125,
          -1403.28125
         ],
         "yaxis": "y"
        },
        {
         "hoverinfo": "text",
         "marker": {
          "color": "rgb(0,116,217)"
         },
         "mode": "lines",
         "text": [
          "eye_prk_cornea_rk_vision",
          "",
          "",
          "needles_acupuncture_needle_syringe_hypodermic"
         ],
         "type": "scatter",
         "x": [
          0.8076063498539267,
          1.019977908076799,
          1.019977908076799,
          0.977918270957708
         ],
         "xaxis": "x",
         "y": [
          -1250,
          -1250,
          -1354.453125,
          -1354.453125
         ],
         "yaxis": "y"
        },
        {
         "hoverinfo": "text",
         "marker": {
          "color": "rgb(35,205,205)"
         },
         "mode": "lines",
         "text": [
          "rosicrucian_rosicrucians_amorc_lectorium_crucis",
          "",
          "",
          "quoting_article_amorc_ericksonazurenmtedu_1rn1b3khbnewsinterconcom"
         ],
         "type": "scatter",
         "x": [
          0,
          0.8500083537011602,
          0.8500083537011602,
          0
         ],
         "xaxis": "x",
         "y": [
          -1445,
          -1445,
          -1455,
          -1455
         ],
         "yaxis": "y"
        },
        {
         "hoverinfo": "text",
         "marker": {
          "color": "rgb(35,205,205)"
         },
         "mode": "lines",
         "text": [
          "rosicrucian_rosicrucians_amorc_lectorium_crucis",
          "",
          "",
          "geeky_news_biscayne_ios_pins"
         ],
         "type": "scatter",
         "x": [
          0.8500083537011602,
          0.948506917067767,
          0.948506917067767,
          0
         ],
         "xaxis": "x",
         "y": [
          -1450,
          -1450,
          -1465,
          -1465
         ],
         "yaxis": "y"
        },
        {
         "hoverinfo": "text",
         "marker": {
          "color": "rgb(0,116,217)"
         },
         "mode": "lines",
         "text": [
          "rosicrucian_rosicrucians_amorc_lectorium_crucis",
          "",
          "",
          "geeky_news_biscayne_ios_pins"
         ],
         "type": "scatter",
         "x": [
          1.019977908076799,
          1.0319371820029104,
          1.0319371820029104,
          0.948506917067767
         ],
         "xaxis": "x",
         "y": [
          -1302.2265625,
          -1302.2265625,
          -1457.5,
          -1457.5
         ],
         "yaxis": "y"
        },
        {
         "hoverinfo": "text",
         "marker": {
          "color": "rgb(133,20,75)"
         },
         "mode": "lines",
         "text": [
          "abo_uckers_b4_urn_davewoodcscoloradoedu",
          "",
          "",
          "deleted_stuff_hurts_deletion_7080"
         ],
         "type": "scatter",
         "x": [
          0,
          0.9810230478519418,
          0.9810230478519418,
          0
         ],
         "xaxis": "x",
         "y": [
          -1485,
          -1485,
          -1495,
          -1495
         ],
         "yaxis": "y"
        },
        {
         "hoverinfo": "text",
         "marker": {
          "color": "rgb(133,20,75)"
         },
         "mode": "lines",
         "text": [
          "abo_uckers_b4_urn_davewoodcscoloradoedu",
          "",
          "",
          "ca_bbs_818_805_408"
         ],
         "type": "scatter",
         "x": [
          0.9810230478519418,
          0.9982956505718358,
          0.9982956505718358,
          0
         ],
         "xaxis": "x",
         "y": [
          -1490,
          -1490,
          -1505,
          -1505
         ],
         "yaxis": "y"
        },
        {
         "hoverinfo": "text",
         "marker": {
          "color": "rgb(0,116,217)"
         },
         "mode": "lines",
         "text": [
          "maxaxaxaxaxaxaxaxaxaxaxaxaxaxax_mg9vg9vg9vg9vg9vg9vg9vg9vg9vg9vg9vg9vg9vg9vg9v_14_m4_mp",
          "",
          "",
          "ca_bbs_818_805_408"
         ],
         "type": "scatter",
         "x": [
          0,
          1.0036726661155186,
          1.0036726661155186,
          0.9982956505718358
         ],
         "xaxis": "x",
         "y": [
          -1475,
          -1475,
          -1497.5,
          -1497.5
         ],
         "yaxis": "y"
        },
        {
         "hoverinfo": "text",
         "marker": {
          "color": "rgb(255,220,0)"
         },
         "mode": "lines",
         "text": [
          "gre_test_explanations_economics_ets",
          "",
          "",
          "ites_hello_cheek_hi_yep"
         ],
         "type": "scatter",
         "x": [
          0,
          0.979781368176538,
          0.979781368176538,
          0
         ],
         "xaxis": "x",
         "y": [
          -1515,
          -1515,
          -1525,
          -1525
         ],
         "yaxis": "y"
        },
        {
         "hoverinfo": "text",
         "marker": {
          "color": "rgb(0,116,217)"
         },
         "mode": "lines",
         "text": [
          "gre_test_explanations_economics_ets",
          "",
          "",
          "ites_hello_cheek_hi_yep"
         ],
         "type": "scatter",
         "x": [
          1.0036726661155186,
          1.012993930968677,
          1.012993930968677,
          0.979781368176538
         ],
         "xaxis": "x",
         "y": [
          -1486.25,
          -1486.25,
          -1520,
          -1520
         ],
         "yaxis": "y"
        },
        {
         "hoverinfo": "text",
         "marker": {
          "color": "rgb(0,116,217)"
         },
         "mode": "lines",
         "text": [
          "gre_test_explanations_economics_ets",
          "",
          "",
          "ites_hello_cheek_hi_yep"
         ],
         "type": "scatter",
         "x": [
          1.0319371820029104,
          1.174301476252104,
          1.174301476252104,
          1.012993930968677
         ],
         "xaxis": "x",
         "y": [
          -1379.86328125,
          -1379.86328125,
          -1503.125,
          -1503.125
         ],
         "yaxis": "y"
        },
        {
         "hoverinfo": "text",
         "marker": {
          "color": "rgb(0,116,217)"
         },
         "mode": "lines",
         "text": [
          "gre_test_explanations_economics_ets",
          "",
          "",
          "ites_hello_cheek_hi_yep"
         ],
         "type": "scatter",
         "x": [
          1.0569107173187373,
          1.2281975429895426,
          1.2281975429895426,
          1.174301476252104
         ],
         "xaxis": "x",
         "y": [
          -1201.09375,
          -1201.09375,
          -1441.494140625,
          -1441.494140625
         ],
         "yaxis": "y"
        },
        {
         "hoverinfo": "text",
         "marker": {
          "color": "rgb(0,116,217)"
         },
         "mode": "lines",
         "text": [
          "gre_test_explanations_economics_ets",
          "",
          "",
          "ites_hello_cheek_hi_yep"
         ],
         "type": "scatter",
         "x": [
          1.0832838813697283,
          1.2659372145949352,
          1.2659372145949352,
          1.2281975429895426
         ],
         "xaxis": "x",
         "y": [
          -1076.875,
          -1076.875,
          -1321.2939453125,
          -1321.2939453125
         ],
         "yaxis": "y"
        },
        {
         "hoverinfo": "text",
         "marker": {
          "color": "rgb(0,116,217)"
         },
         "mode": "lines",
         "text": [
          "gre_test_explanations_economics_ets",
          "",
          "",
          "ites_hello_cheek_hi_yep"
         ],
         "type": "scatter",
         "x": [
          0.895228721864832,
          1.3772412966494514,
          1.3772412966494514,
          1.2659372145949352
         ],
         "xaxis": "x",
         "y": [
          -963.125,
          -963.125,
          -1199.08447265625,
          -1199.08447265625
         ],
         "yaxis": "y"
        },
        {
         "hoverinfo": "text",
         "marker": {
          "color": "rgb(0,116,217)"
         },
         "mode": "lines",
         "text": [
          "gre_test_explanations_economics_ets",
          "",
          "",
          "ites_hello_cheek_hi_yep"
         ],
         "type": "scatter",
         "x": [
          1.0434566565308343,
          1.5241906332758088,
          1.5241906332758088,
          1.3772412966494514
         ],
         "xaxis": "x",
         "y": [
          -883.59375,
          -883.59375,
          -1081.104736328125,
          -1081.104736328125
         ],
         "yaxis": "y"
        },
        {
         "hoverinfo": "text",
         "marker": {
          "color": "rgb(0,116,217)"
         },
         "mode": "lines",
         "text": [
          "gre_test_explanations_economics_ets",
          "",
          "",
          "ites_hello_cheek_hi_yep"
         ],
         "type": "scatter",
         "x": [
          1.2414361966822072,
          1.5709696219088316,
          1.5709696219088316,
          1.5241906332758088
         ],
         "xaxis": "x",
         "y": [
          -647.40234375,
          -647.40234375,
          -982.3492431640625,
          -982.3492431640625
         ],
         "yaxis": "y"
        },
        {
         "hoverinfo": "text",
         "marker": {
          "color": "rgb(40,35,35)"
         },
         "mode": "lines",
         "text": [
          "ghostscript_postscript_pageview_ghostview_dsc",
          "",
          "",
          "cview_temp_files_disk_directory"
         ],
         "type": "scatter",
         "x": [
          0,
          0.9109520658764728,
          0.9109520658764728,
          0
         ],
         "xaxis": "x",
         "y": [
          -1535,
          -1535,
          -1545,
          -1545
         ],
         "yaxis": "y"
        },
        {
         "hoverinfo": "text",
         "marker": {
          "color": "rgb(40,35,35)"
         },
         "mode": "lines",
         "text": [
          "copy_protection_program_backup_software",
          "",
          "",
          "stuffit_files_system_disk_macintosh"
         ],
         "type": "scatter",
         "x": [
          0,
          0.6315148689999468,
          0.6315148689999468,
          0
         ],
         "xaxis": "x",
         "y": [
          -1565,
          -1565,
          -1575,
          -1575
         ],
         "yaxis": "y"
        },
        {
         "hoverinfo": "text",
         "marker": {
          "color": "rgb(40,35,35)"
         },
         "mode": "lines",
         "text": [
          "dos_cluster_doubledisk_join_fat",
          "",
          "",
          "stuffit_files_system_disk_macintosh"
         ],
         "type": "scatter",
         "x": [
          0,
          0.7326476360754351,
          0.7326476360754351,
          0.6315148689999468
         ],
         "xaxis": "x",
         "y": [
          -1555,
          -1555,
          -1570,
          -1570
         ],
         "yaxis": "y"
        },
        {
         "hoverinfo": "text",
         "marker": {
          "color": "rgb(40,35,35)"
         },
         "mode": "lines",
         "text": [
          "xfree86_server_mbytes_dos_ms",
          "",
          "",
          "paradox_windows_borland_sql_engine"
         ],
         "type": "scatter",
         "x": [
          0,
          0.6918161118258069,
          0.6918161118258069,
          0
         ],
         "xaxis": "x",
         "y": [
          -1585,
          -1585,
          -1595,
          -1595
         ],
         "yaxis": "y"
        },
        {
         "hoverinfo": "text",
         "marker": {
          "color": "rgb(40,35,35)"
         },
         "mode": "lines",
         "text": [
          "xfree86_server_mbytes_dos_ms",
          "",
          "",
          "keyboard_rsi_scanner_typing_pc"
         ],
         "type": "scatter",
         "x": [
          0.6918161118258069,
          0.7488309250087253,
          0.7488309250087253,
          0
         ],
         "xaxis": "x",
         "y": [
          -1590,
          -1590,
          -1605,
          -1605
         ],
         "yaxis": "y"
        },
        {
         "hoverinfo": "text",
         "marker": {
          "color": "rgb(40,35,35)"
         },
         "mode": "lines",
         "text": [
          "xfree86_server_mbytes_dos_ms",
          "",
          "",
          "keyboard_rsi_scanner_typing_pc"
         ],
         "type": "scatter",
         "x": [
          0.7326476360754351,
          0.8125221625814606,
          0.8125221625814606,
          0.7488309250087253
         ],
         "xaxis": "x",
         "y": [
          -1562.5,
          -1562.5,
          -1597.5,
          -1597.5
         ],
         "yaxis": "y"
        },
        {
         "hoverinfo": "text",
         "marker": {
          "color": "rgb(40,35,35)"
         },
         "mode": "lines",
         "text": [
          "mouse_driver_mice_ball_problem",
          "",
          "",
          "midi_sound_driver_blaster_play"
         ],
         "type": "scatter",
         "x": [
          0,
          0.8479312224828413,
          0.8479312224828413,
          0
         ],
         "xaxis": "x",
         "y": [
          -1615,
          -1615,
          -1625,
          -1625
         ],
         "yaxis": "y"
        },
        {
         "hoverinfo": "text",
         "marker": {
          "color": "rgb(40,35,35)"
         },
         "mode": "lines",
         "text": [
          "mouse_driver_mice_ball_problem",
          "",
          "",
          "midi_sound_driver_blaster_play"
         ],
         "type": "scatter",
         "x": [
          0.8125221625814606,
          0.8957107158204491,
          0.8957107158204491,
          0.8479312224828413
         ],
         "xaxis": "x",
         "y": [
          -1580,
          -1580,
          -1620,
          -1620
         ],
         "yaxis": "y"
        },
        {
         "hoverinfo": "text",
         "marker": {
          "color": "rgb(40,35,35)"
         },
         "mode": "lines",
         "text": [
          "mouse_driver_mice_ball_problem",
          "",
          "",
          "midi_sound_driver_blaster_play"
         ],
         "type": "scatter",
         "x": [
          0.9109520658764728,
          0.94444305939897,
          0.94444305939897,
          0.8957107158204491
         ],
         "xaxis": "x",
         "y": [
          -1540,
          -1540,
          -1600,
          -1600
         ],
         "yaxis": "y"
        },
        {
         "hoverinfo": "text",
         "marker": {
          "color": "rgb(61,153,112)"
         },
         "mode": "lines",
         "text": [
          "windows_os2_nt_apps_dos",
          "",
          "",
          "memory_windows_emm386_swap_running"
         ],
         "type": "scatter",
         "x": [
          0,
          0.5624132953930245,
          0.5624132953930245,
          0
         ],
         "xaxis": "x",
         "y": [
          -1645,
          -1645,
          -1655,
          -1655
         ],
         "yaxis": "y"
        },
        {
         "hoverinfo": "text",
         "marker": {
          "color": "rgb(61,153,112)"
         },
         "mode": "lines",
         "text": [
          "sas_windows_nt_fullpath_batch",
          "",
          "",
          "windows_os2_nt_apps_memory"
         ],
         "type": "scatter",
         "x": [
          0,
          0.6512352846480561,
          0.6512352846480561,
          0.5624132953930245
         ],
         "xaxis": "x",
         "y": [
          -1635,
          -1635,
          -1650,
          -1650
         ],
         "yaxis": "y"
        },
        {
         "hoverinfo": "text",
         "marker": {
          "color": "rgb(61,153,112)"
         },
         "mode": "lines",
         "text": [
          "windows_os2_nt_dos_apps",
          "",
          "",
          "desktop_program_uninstall_windows_norton"
         ],
         "type": "scatter",
         "x": [
          0.6512352846480561,
          0.7724762006141017,
          0.7724762006141017,
          0
         ],
         "xaxis": "x",
         "y": [
          -1642.5,
          -1642.5,
          -1665,
          -1665
         ],
         "yaxis": "y"
        },
        {
         "hoverinfo": "text",
         "marker": {
          "color": "rgb(61,153,112)"
         },
         "mode": "lines",
         "text": [
          "windows_os2_nt_dos_apps",
          "",
          "",
          "icon_icons_click_manager_box"
         ],
         "type": "scatter",
         "x": [
          0.7724762006141017,
          0.9411370890257226,
          0.9411370890257226,
          0
         ],
         "xaxis": "x",
         "y": [
          -1653.75,
          -1653.75,
          -1675,
          -1675
         ],
         "yaxis": "y"
        },
        {
         "hoverinfo": "text",
         "marker": {
          "color": "rgb(0,116,217)"
         },
         "mode": "lines",
         "text": [
          "windows_os2_nt_dos_apps",
          "",
          "",
          "icon_icons_click_manager_box"
         ],
         "type": "scatter",
         "x": [
          0.94444305939897,
          1.003859432240096,
          1.003859432240096,
          0.9411370890257226
         ],
         "xaxis": "x",
         "y": [
          -1570,
          -1570,
          -1664.375,
          -1664.375
         ],
         "yaxis": "y"
        },
        {
         "hoverinfo": "text",
         "marker": {
          "color": "rgb(255,65,54)"
         },
         "mode": "lines",
         "text": [
          "font_fonts_windows_window_select",
          "",
          "",
          "fonts_font_tt_truetype_atm"
         ],
         "type": "scatter",
         "x": [
          0,
          0.5344082905284301,
          0.5344082905284301,
          0
         ],
         "xaxis": "x",
         "y": [
          -1685,
          -1685,
          -1695,
          -1695
         ],
         "yaxis": "y"
        },
        {
         "hoverinfo": "text",
         "marker": {
          "color": "rgb(0,116,217)"
         },
         "mode": "lines",
         "text": [
          "font_fonts_windows_window_select",
          "",
          "",
          "font_fonts_tt_truetype_atm"
         ],
         "type": "scatter",
         "x": [
          1.003859432240096,
          1.0996248129191322,
          1.0996248129191322,
          0.5344082905284301
         ],
         "xaxis": "x",
         "y": [
          -1617.1875,
          -1617.1875,
          -1690,
          -1690
         ],
         "yaxis": "y"
        },
        {
         "hoverinfo": "text",
         "marker": {
          "color": "rgb(35,205,205)"
         },
         "mode": "lines",
         "text": [
          "openwindows_motif_xview_olit_sun",
          "",
          "",
          "server_00_xdm_error_x11r5"
         ],
         "type": "scatter",
         "x": [
          0,
          0.645925924154461,
          0.645925924154461,
          0
         ],
         "xaxis": "x",
         "y": [
          -1715,
          -1715,
          -1725,
          -1725
         ],
         "yaxis": "y"
        },
        {
         "hoverinfo": "text",
         "marker": {
          "color": "rgb(35,205,205)"
         },
         "mode": "lines",
         "text": [
          "openwindows_motif_xview_olit_sun",
          "",
          "",
          "symbol_error_undefined_libxmulibxmuso_doug"
         ],
         "type": "scatter",
         "x": [
          0.645925924154461,
          0.7915015989723654,
          0.7915015989723654,
          0
         ],
         "xaxis": "x",
         "y": [
          -1720,
          -1720,
          -1735,
          -1735
         ],
         "yaxis": "y"
        },
        {
         "hoverinfo": "text",
         "marker": {
          "color": "rgb(35,205,205)"
         },
         "mode": "lines",
         "text": [
          "keycode_key_xtermmap_keymapnonen_definekey",
          "",
          "",
          "symbol_error_undefined_libxmulibxmuso_doug"
         ],
         "type": "scatter",
         "x": [
          0,
          0.86130784874059,
          0.86130784874059,
          0.7915015989723654
         ],
         "xaxis": "x",
         "y": [
          -1705,
          -1705,
          -1727.5,
          -1727.5
         ],
         "yaxis": "y"
        },
        {
         "hoverinfo": "text",
         "marker": {
          "color": "rgb(35,205,205)"
         },
         "mode": "lines",
         "text": [
          "keycode_key_xtermmap_keymapnonen_definekey",
          "",
          "",
          "memory_shared_server_graphicdisplay_pixmaps"
         ],
         "type": "scatter",
         "x": [
          0.86130784874059,
          0.8910036415863878,
          0.8910036415863878,
          0
         ],
         "xaxis": "x",
         "y": [
          -1716.25,
          -1716.25,
          -1745,
          -1745
         ],
         "yaxis": "y"
        },
        {
         "hoverinfo": "text",
         "marker": {
          "color": "rgb(35,205,205)"
         },
         "mode": "lines",
         "text": [
          "colormap_gc_window_color_lutindex",
          "",
          "",
          "window_widget_application_event_program"
         ],
         "type": "scatter",
         "x": [
          0,
          0.580668781156223,
          0.580668781156223,
          0
         ],
         "xaxis": "x",
         "y": [
          -1755,
          -1755,
          -1765,
          -1765
         ],
         "yaxis": "y"
        },
        {
         "hoverinfo": "text",
         "marker": {
          "color": "rgb(35,205,205)"
         },
         "mode": "lines",
         "text": [
          "window_widget_colormap_application_event",
          "",
          "",
          "multicolumn_widgets_motif_widget_list"
         ],
         "type": "scatter",
         "x": [
          0.580668781156223,
          0.8406487238481787,
          0.8406487238481787,
          0
         ],
         "xaxis": "x",
         "y": [
          -1760,
          -1760,
          -1775,
          -1775
         ],
         "yaxis": "y"
        },
        {
         "hoverinfo": "text",
         "marker": {
          "color": "rgb(35,205,205)"
         },
         "mode": "lines",
         "text": [
          "window_widget_colormap_application_event",
          "",
          "",
          "multicolumn_widgets_motif_widget_list"
         ],
         "type": "scatter",
         "x": [
          0.8910036415863878,
          0.9341722692677713,
          0.9341722692677713,
          0.8406487238481787
         ],
         "xaxis": "x",
         "y": [
          -1730.625,
          -1730.625,
          -1767.5,
          -1767.5
         ],
         "yaxis": "y"
        },
        {
         "hoverinfo": "text",
         "marker": {
          "color": "rgb(61,153,112)"
         },
         "mode": "lines",
         "text": [
          "data_ftp_available_image_images",
          "",
          "",
          "image_processing_analysis_tools_data"
         ],
         "type": "scatter",
         "x": [
          0,
          0.48599945282845847,
          0.48599945282845847,
          0
         ],
         "xaxis": "x",
         "y": [
          -1805,
          -1805,
          -1815,
          -1815
         ],
         "yaxis": "y"
        },
        {
         "hoverinfo": "text",
         "marker": {
          "color": "rgb(61,153,112)"
         },
         "mode": "lines",
         "text": [
          "graphics_ray_3d_widget_rayshade",
          "",
          "",
          "image_data_available_images_ftp"
         ],
         "type": "scatter",
         "x": [
          0,
          0.5348091198833623,
          0.5348091198833623,
          0.48599945282845847
         ],
         "xaxis": "x",
         "y": [
          -1795,
          -1795,
          -1810,
          -1810
         ],
         "yaxis": "y"
        },
        {
         "hoverinfo": "text",
         "marker": {
          "color": "rgb(61,153,112)"
         },
         "mode": "lines",
         "text": [
          "image_data_available_ftp_graphics",
          "",
          "",
          "image_jpeg_gif_format_images"
         ],
         "type": "scatter",
         "x": [
          0.5348091198833623,
          0.624233295208471,
          0.624233295208471,
          0
         ],
         "xaxis": "x",
         "y": [
          -1802.5,
          -1802.5,
          -1825,
          -1825
         ],
         "yaxis": "y"
        },
        {
         "hoverinfo": "text",
         "marker": {
          "color": "rgb(61,153,112)"
         },
         "mode": "lines",
         "text": [
          "3d_graphics_conference_nok_opcols",
          "",
          "",
          "image_jpeg_gif_format_images"
         ],
         "type": "scatter",
         "x": [
          0,
          0.6552992046906381,
          0.6552992046906381,
          0.624233295208471
         ],
         "xaxis": "x",
         "y": [
          -1785,
          -1785,
          -1813.75,
          -1813.75
         ],
         "yaxis": "y"
        },
        {
         "hoverinfo": "text",
         "marker": {
          "color": "rgb(255,65,54)"
         },
         "mode": "lines",
         "text": [
          "24bit_xv_bit_24_image",
          "",
          "",
          "xv_copyright_donation_shareware_vue"
         ],
         "type": "scatter",
         "x": [
          0,
          0.6026456891189838,
          0.6026456891189838,
          0
         ],
         "xaxis": "x",
         "y": [
          -1835,
          -1835,
          -1845,
          -1845
         ],
         "yaxis": "y"
        },
        {
         "hoverinfo": "text",
         "marker": {
          "color": "rgb(0,116,217)"
         },
         "mode": "lines",
         "text": [
          "image_images_data_graphics_format",
          "",
          "",
          "xv_24bit_bit_copyright_24"
         ],
         "type": "scatter",
         "x": [
          0.6552992046906381,
          1.0724682156012786,
          1.0724682156012786,
          0.6026456891189838
         ],
         "xaxis": "x",
         "y": [
          -1799.375,
          -1799.375,
          -1840,
          -1840
         ],
         "yaxis": "y"
        },
        {
         "hoverinfo": "text",
         "marker": {
          "color": "rgb(0,116,217)"
         },
         "mode": "lines",
         "text": [
          "image_images_data_graphics_format",
          "",
          "",
          "image_images_data_graphics_format"
         ],
         "type": "scatter",
         "x": [
          0.9341722692677713,
          1.1819882948011273,
          1.1819882948011273,
          1.0724682156012786
         ],
         "xaxis": "x",
         "y": [
          -1749.0625,
          -1749.0625,
          -1819.6875,
          -1819.6875
         ],
         "yaxis": "y"
        },
        {
         "hoverinfo": "text",
         "marker": {
          "color": "rgb(35,205,205)"
         },
         "mode": "lines",
         "text": [
          "agrep_pgp_code_source_encryption",
          "",
          "",
          "entry_oname_file_entries_char"
         ],
         "type": "scatter",
         "x": [
          0,
          0.7402036264878649,
          0.7402036264878649,
          0
         ],
         "xaxis": "x",
         "y": [
          -1855,
          -1855,
          -1865,
          -1865
         ],
         "yaxis": "y"
        },
        {
         "hoverinfo": "text",
         "marker": {
          "color": "rgb(35,205,205)"
         },
         "mode": "lines",
         "text": [
          "anonymous_anonymity_privacy_internet_encryption",
          "",
          "",
          "key_clipper_chip_encryption_keys"
         ],
         "type": "scatter",
         "x": [
          0,
          0.48162807388126316,
          0.48162807388126316,
          0
         ],
         "xaxis": "x",
         "y": [
          -1875,
          -1875,
          -1885,
          -1885
         ],
         "yaxis": "y"
        },
        {
         "hoverinfo": "text",
         "marker": {
          "color": "rgb(35,205,205)"
         },
         "mode": "lines",
         "text": [
          "key_encryption_clipper_chip_keys",
          "",
          "",
          "usenet_junk_internet_net_advertising"
         ],
         "type": "scatter",
         "x": [
          0.48162807388126316,
          0.7183209876506035,
          0.7183209876506035,
          0
         ],
         "xaxis": "x",
         "y": [
          -1880,
          -1880,
          -1895,
          -1895
         ],
         "yaxis": "y"
        },
        {
         "hoverinfo": "text",
         "marker": {
          "color": "rgb(35,205,205)"
         },
         "mode": "lines",
         "text": [
          "key_encryption_clipper_chip_keys",
          "",
          "",
          "usenet_junk_internet_net_advertising"
         ],
         "type": "scatter",
         "x": [
          0.7402036264878649,
          0.8278150637546364,
          0.8278150637546364,
          0.7183209876506035
         ],
         "xaxis": "x",
         "y": [
          -1860,
          -1860,
          -1887.5,
          -1887.5
         ],
         "yaxis": "y"
        },
        {
         "hoverinfo": "text",
         "marker": {
          "color": "rgb(35,205,205)"
         },
         "mode": "lines",
         "text": [
          "sco_newsgroup_group_newsgroups_liefting",
          "",
          "",
          "lyme_votes_newsgroup_disease_ahmadiyya"
         ],
         "type": "scatter",
         "x": [
          0,
          0.7769703808174695,
          0.7769703808174695,
          0
         ],
         "xaxis": "x",
         "y": [
          -1905,
          -1905,
          -1915,
          -1915
         ],
         "yaxis": "y"
        },
        {
         "hoverinfo": "text",
         "marker": {
          "color": "rgb(35,205,205)"
         },
         "mode": "lines",
         "text": [
          "sco_newsgroup_group_newsgroups_liefting",
          "",
          "",
          "health_tobacco_cesarean_smokeless_malaria"
         ],
         "type": "scatter",
         "x": [
          0.7769703808174695,
          0.8509810125950213,
          0.8509810125950213,
          0
         ],
         "xaxis": "x",
         "y": [
          -1910,
          -1910,
          -1925,
          -1925
         ],
         "yaxis": "y"
        },
        {
         "hoverinfo": "text",
         "marker": {
          "color": "rgb(35,205,205)"
         },
         "mode": "lines",
         "text": [
          "sco_newsgroup_group_newsgroups_liefting",
          "",
          "",
          "health_tobacco_cesarean_smokeless_malaria"
         ],
         "type": "scatter",
         "x": [
          0.8278150637546364,
          0.983734476496059,
          0.983734476496059,
          0.8509810125950213
         ],
         "xaxis": "x",
         "y": [
          -1873.75,
          -1873.75,
          -1917.5,
          -1917.5
         ],
         "yaxis": "y"
        },
        {
         "hoverinfo": "text",
         "marker": {
          "color": "rgb(0,116,217)"
         },
         "mode": "lines",
         "text": [
          "sco_newsgroup_group_newsgroups_liefting",
          "",
          "",
          "health_tobacco_cesarean_smokeless_malaria"
         ],
         "type": "scatter",
         "x": [
          1.1819882948011273,
          1.236374259353507,
          1.236374259353507,
          0.983734476496059
         ],
         "xaxis": "x",
         "y": [
          -1784.375,
          -1784.375,
          -1895.625,
          -1895.625
         ],
         "yaxis": "y"
        },
        {
         "hoverinfo": "text",
         "marker": {
          "color": "rgb(0,116,217)"
         },
         "mode": "lines",
         "text": [
          "sco_newsgroup_group_newsgroups_liefting",
          "",
          "",
          "health_tobacco_cesarean_smokeless_malaria"
         ],
         "type": "scatter",
         "x": [
          1.0996248129191322,
          1.301108086759199,
          1.301108086759199,
          1.236374259353507
         ],
         "xaxis": "x",
         "y": [
          -1653.59375,
          -1653.59375,
          -1840,
          -1840
         ],
         "yaxis": "y"
        },
        {
         "hoverinfo": "text",
         "marker": {
          "color": "rgb(133,20,75)"
         },
         "mode": "lines",
         "text": [
          "modem_fax_modems_courier_v32bis",
          "",
          "",
          "modem_port_irq_serial_ports"
         ],
         "type": "scatter",
         "x": [
          0,
          0.5552633478621523,
          0.5552633478621523,
          0
         ],
         "xaxis": "x",
         "y": [
          -1935,
          -1935,
          -1945,
          -1945
         ],
         "yaxis": "y"
        },
        {
         "hoverinfo": "text",
         "marker": {
          "color": "rgb(133,20,75)"
         },
         "mode": "lines",
         "text": [
          "connector_board_fuse_card_chip",
          "",
          "",
          "board_latch_pin_pins_switches"
         ],
         "type": "scatter",
         "x": [
          0,
          0.7540793008759041,
          0.7540793008759041,
          0
         ],
         "xaxis": "x",
         "y": [
          -1955,
          -1955,
          -1965,
          -1965
         ],
         "yaxis": "y"
        },
        {
         "hoverinfo": "text",
         "marker": {
          "color": "rgb(133,20,75)"
         },
         "mode": "lines",
         "text": [
          "modem_port_irq_serial_fax",
          "",
          "",
          "board_latch_pin_pins_switches"
         ],
         "type": "scatter",
         "x": [
          0.5552633478621523,
          0.9063215906153538,
          0.9063215906153538,
          0.7540793008759041
         ],
         "xaxis": "x",
         "y": [
          -1940,
          -1940,
          -1960,
          -1960
         ],
         "yaxis": "y"
        },
        {
         "hoverinfo": "text",
         "marker": {
          "color": "rgb(133,20,75)"
         },
         "mode": "lines",
         "text": [
          "ram_sale_os_price_monitor",
          "",
          "",
          "drive_scsi_drives_ide_disk"
         ],
         "type": "scatter",
         "x": [
          0,
          0.4781616685487101,
          0.4781616685487101,
          0
         ],
         "xaxis": "x",
         "y": [
          -2005,
          -2005,
          -2015,
          -2015
         ],
         "yaxis": "y"
        },
        {
         "hoverinfo": "text",
         "marker": {
          "color": "rgb(133,20,75)"
         },
         "mode": "lines",
         "text": [
          "card_monitor_video_drivers_vga",
          "",
          "",
          "drive_scsi_drives_disk_ide"
         ],
         "type": "scatter",
         "x": [
          0,
          0.5699234802881873,
          0.5699234802881873,
          0.4781616685487101
         ],
         "xaxis": "x",
         "y": [
          -1995,
          -1995,
          -2010,
          -2010
         ],
         "yaxis": "y"
        },
        {
         "hoverinfo": "text",
         "marker": {
          "color": "rgb(133,20,75)"
         },
         "mode": "lines",
         "text": [
          "printer_print_hp_deskjet_ink",
          "",
          "",
          "drive_scsi_card_drives_disk"
         ],
         "type": "scatter",
         "x": [
          0,
          0.7958347315520111,
          0.7958347315520111,
          0.5699234802881873
         ],
         "xaxis": "x",
         "y": [
          -1985,
          -1985,
          -2002.5,
          -2002.5
         ],
         "yaxis": "y"
        },
        {
         "hoverinfo": "text",
         "marker": {
          "color": "rgb(133,20,75)"
         },
         "mode": "lines",
         "text": [
          "memory_error_machine_beeps_simm",
          "",
          "",
          "simms_simm_vram_ram_meg"
         ],
         "type": "scatter",
         "x": [
          0,
          0.7167954160616328,
          0.7167954160616328,
          0
         ],
         "xaxis": "x",
         "y": [
          -2025,
          -2025,
          -2035,
          -2035
         ],
         "yaxis": "y"
        },
        {
         "hoverinfo": "text",
         "marker": {
          "color": "rgb(133,20,75)"
         },
         "mode": "lines",
         "text": [
          "memory_error_machine_beeps_simm",
          "",
          "",
          "simms_simm_vram_ram_meg"
         ],
         "type": "scatter",
         "x": [
          0.7958347315520111,
          0.8354481216728935,
          0.8354481216728935,
          0.7167954160616328
         ],
         "xaxis": "x",
         "y": [
          -1993.75,
          -1993.75,
          -2030,
          -2030
         ],
         "yaxis": "y"
        },
        {
         "hoverinfo": "text",
         "marker": {
          "color": "rgb(133,20,75)"
         },
         "mode": "lines",
         "text": [
          "tape_backup_drive_tapes_munroe",
          "",
          "",
          "simms_simm_vram_ram_meg"
         ],
         "type": "scatter",
         "x": [
          0,
          0.894076392011636,
          0.894076392011636,
          0.8354481216728935
         ],
         "xaxis": "x",
         "y": [
          -1975,
          -1975,
          -2011.875,
          -2011.875
         ],
         "yaxis": "y"
        },
        {
         "hoverinfo": "text",
         "marker": {
          "color": "rgb(133,20,75)"
         },
         "mode": "lines",
         "text": [
          "pds_nubus_lc_slot_card",
          "",
          "",
          "iivx_610_c610_centris_apple"
         ],
         "type": "scatter",
         "x": [
          0,
          0.8314234390417763,
          0.8314234390417763,
          0
         ],
         "xaxis": "x",
         "y": [
          -2045,
          -2045,
          -2055,
          -2055
         ],
         "yaxis": "y"
        },
        {
         "hoverinfo": "text",
         "marker": {
          "color": "rgb(133,20,75)"
         },
         "mode": "lines",
         "text": [
          "pds_nubus_lc_slot_card",
          "",
          "",
          "iivx_610_c610_centris_apple"
         ],
         "type": "scatter",
         "x": [
          0.894076392011636,
          0.9340469788232295,
          0.9340469788232295,
          0.8314234390417763
         ],
         "xaxis": "x",
         "y": [
          -1993.4375,
          -1993.4375,
          -2050,
          -2050
         ],
         "yaxis": "y"
        },
        {
         "hoverinfo": "text",
         "marker": {
          "color": "rgb(133,20,75)"
         },
         "mode": "lines",
         "text": [
          "pds_nubus_lc_slot_card",
          "",
          "",
          "iivx_610_c610_centris_apple"
         ],
         "type": "scatter",
         "x": [
          0.9063215906153538,
          0.97380345967108,
          0.97380345967108,
          0.9340469788232295
         ],
         "xaxis": "x",
         "y": [
          -1950,
          -1950,
          -2021.71875,
          -2021.71875
         ],
         "yaxis": "y"
        },
        {
         "hoverinfo": "text",
         "marker": {
          "color": "rgb(255,220,0)"
         },
         "mode": "lines",
         "text": [
          "mhz_bus_486dx250_speed_50mhz",
          "",
          "",
          "mhz_clock_fpu_cpu_operational"
         ],
         "type": "scatter",
         "x": [
          0,
          0.5955964416229719,
          0.5955964416229719,
          0
         ],
         "xaxis": "x",
         "y": [
          -2065,
          -2065,
          -2075,
          -2075
         ],
         "yaxis": "y"
        },
        {
         "hoverinfo": "text",
         "marker": {
          "color": "rgb(255,220,0)"
         },
         "mode": "lines",
         "text": [
          "fan_cpu_heat_sink_fans",
          "",
          "",
          "monitor_off_turn_computer_electricity"
         ],
         "type": "scatter",
         "x": [
          0,
          0.7828347281240957,
          0.7828347281240957,
          0
         ],
         "xaxis": "x",
         "y": [
          -2085,
          -2085,
          -2095,
          -2095
         ],
         "yaxis": "y"
        },
        {
         "hoverinfo": "text",
         "marker": {
          "color": "rgb(255,220,0)"
         },
         "mode": "lines",
         "text": [
          "fan_cpu_heat_sink_fans",
          "",
          "",
          "battery_batteries_concrete_discharge_temperature"
         ],
         "type": "scatter",
         "x": [
          0.7828347281240957,
          0.8692043492937809,
          0.8692043492937809,
          0
         ],
         "xaxis": "x",
         "y": [
          -2090,
          -2090,
          -2105,
          -2105
         ],
         "yaxis": "y"
        },
        {
         "hoverinfo": "text",
         "marker": {
          "color": "rgb(255,220,0)"
         },
         "mode": "lines",
         "text": [
          "duo_clock_date_bios_battery",
          "",
          "",
          "apple_dock_macs_duo_powerpc"
         ],
         "type": "scatter",
         "x": [
          0,
          0.7355312796188281,
          0.7355312796188281,
          0
         ],
         "xaxis": "x",
         "y": [
          -2115,
          -2115,
          -2125,
          -2125
         ],
         "yaxis": "y"
        },
        {
         "hoverinfo": "text",
         "marker": {
          "color": "rgb(255,220,0)"
         },
         "mode": "lines",
         "text": [
          "duo_clock_date_bios_battery",
          "",
          "",
          "apple_dock_macs_duo_powerpc"
         ],
         "type": "scatter",
         "x": [
          0.8692043492937809,
          0.8823707249033339,
          0.8823707249033339,
          0.7355312796188281
         ],
         "xaxis": "x",
         "y": [
          -2097.5,
          -2097.5,
          -2120,
          -2120
         ],
         "yaxis": "y"
        },
        {
         "hoverinfo": "text",
         "marker": {
          "color": "rgb(255,220,0)"
         },
         "mode": "lines",
         "text": [
          "duo_clock_date_bios_battery",
          "",
          "",
          "68070_timing_68040_motorola_instruction"
         ],
         "type": "scatter",
         "x": [
          0.8823707249033339,
          0.9288147104505603,
          0.9288147104505603,
          0
         ],
         "xaxis": "x",
         "y": [
          -2108.75,
          -2108.75,
          -2135,
          -2135
         ],
         "yaxis": "y"
        },
        {
         "hoverinfo": "text",
         "marker": {
          "color": "rgb(255,220,0)"
         },
         "mode": "lines",
         "text": [
          "mhz_clock_cpu_fpu_speed",
          "",
          "",
          "68070_timing_68040_motorola_instruction"
         ],
         "type": "scatter",
         "x": [
          0.5955964416229719,
          0.9977605711171953,
          0.9977605711171953,
          0.9288147104505603
         ],
         "xaxis": "x",
         "y": [
          -2070,
          -2070,
          -2121.875,
          -2121.875
         ],
         "yaxis": "y"
        },
        {
         "hoverinfo": "text",
         "marker": {
          "color": "rgb(0,116,217)"
         },
         "mode": "lines",
         "text": [
          "mhz_clock_cpu_fpu_speed",
          "",
          "",
          "68070_timing_68040_motorola_instruction"
         ],
         "type": "scatter",
         "x": [
          0.97380345967108,
          1.1488941379398157,
          1.1488941379398157,
          0.9977605711171953
         ],
         "xaxis": "x",
         "y": [
          -1985.859375,
          -1985.859375,
          -2095.9375,
          -2095.9375
         ],
         "yaxis": "y"
        },
        {
         "hoverinfo": "text",
         "marker": {
          "color": "rgb(0,116,217)"
         },
         "mode": "lines",
         "text": [
          "mhz_clock_cpu_fpu_speed",
          "",
          "",
          "68070_timing_68040_motorola_instruction"
         ],
         "type": "scatter",
         "x": [
          1.301108086759199,
          1.5648961478988446,
          1.5648961478988446,
          1.1488941379398157
         ],
         "xaxis": "x",
         "y": [
          -1746.796875,
          -1746.796875,
          -2040.8984375,
          -2040.8984375
         ],
         "yaxis": "y"
        },
        {
         "hoverinfo": "text",
         "marker": {
          "color": "rgb(0,116,217)"
         },
         "mode": "lines",
         "text": [
          "mhz_clock_cpu_fpu_speed",
          "",
          "",
          "68070_timing_68040_motorola_instruction"
         ],
         "type": "scatter",
         "x": [
          1.5709696219088316,
          1.9911468507049994,
          1.9911468507049994,
          1.5648961478988446
         ],
         "xaxis": "x",
         "y": [
          -814.8757934570312,
          -814.8757934570312,
          -1893.84765625,
          -1893.84765625
         ],
         "yaxis": "y"
        },
        {
         "hoverinfo": "text",
         "marker": {
          "color": "rgb(0,116,217)"
         },
         "mode": "lines",
         "text": [
          "mhz_clock_cpu_fpu_speed",
          "",
          "",
          "68070_timing_68040_motorola_instruction"
         ],
         "type": "scatter",
         "x": [
          1.5022221760419365,
          2.5135337560470496,
          2.5135337560470496,
          1.9911468507049994
         ],
         "xaxis": "x",
         "y": [
          -201.9622802734375,
          -201.9622802734375,
          -1354.3617248535156,
          -1354.3617248535156
         ],
         "yaxis": "y"
        },
        {
         "hoverinfo": "text",
         "hovertext": [
          "sin_hate_love_sinner_hating",
          "faith_zane_2ti_church_christian",
          "ra_satan_god_thou_lucifer",
          "marriage_married_marry_ceremony_marriages",
          "pope_church_schism_creed_catholic",
          "pope_church_schism_creed_catholic",
          "pope_church_schism_creed_catholic",
          "atheists_atheism_god_atheist_argument",
          "god_atheists_atheism_atheist_existence",
          "god_atheists_atheism_atheist_existence",
          "religion_justifiable_war_motivated_religious",
          "homosexual_homosexuality_sex_gay_homosexuals",
          "government_libertarians_libertarian_regulation_libertarianism",
          "kuwait_iraq_iran_gulf_arabia",
          "penalty_cruel_death_punishment_crime",
          "ted_post_you_your_teel",
          "trial_cooper_spence_witnesses_king",
          "jim_context_articles_fred_weiss",
          "jim_context_articles_fred_weiss",
          "jim_context_articles_fred_weiss",
          "jim_context_articles_fred_weiss",
          "were_they_armenians_azerbaijan_her",
          "were_they_armenians_azerbaijan_her",
          "were_they_armenians_azerbaijan_her",
          "were_they_armenians_azerbaijan_her",
          "countersteering_bike_motorcycle_lean_rider",
          "motorcycles_bikes_rode_bike_muzzah",
          "shaft_wheelie_wheelies_wheel_shaftdrive",
          "dod_denizens_doom_motorcycle_muck",
          "car_bike_cars_engine_tires",
          "clutch_shift_gear_transmission_shifting",
          "cop_ticket_driving_drunk_court",
          "cop_ticket_driving_drunk_court",
          "oil_drain_car_indicators_miles",
          "oil_drain_car_indicators_miles",
          "oil_drain_car_indicators_miles",
          "insurance_health_private_care_geico",
          "insurance_health_private_care_geico",
          "meat_carcinogenic_smoke_carcinogens_charcoal",
          "candida_yeast_infection_bacteria_infections",
          "candida_patients_yeast_doctor_disease",
          "prozac_drugs_haldol_effects_drug",
          "prozac_drugs_haldol_effects_drug",
          "cancer_burzynskis_a10_tumor_cell",
          "sky_advertising_billboard_billboards_light",
          "sky_advertising_billboard_billboards_light",
          "voltage_generator_current_resistor_output",
          "dial_number_phone_call_line",
          "sampling_oversampling_filter_rate_frequency",
          "scope_scopes_oscilloscope_tektronix_probes",
          "scope_scopes_oscilloscope_tektronix_probes",
          "hotel_voucher_package_vacation_room",
          "horses_ed_hardcover_1000_painting",
          "chemistry_paperback_book_spice_guide",
          "professors_university_schools_class_partying",
          "professors_university_schools_class_partying",
          "ms_survey_microsoft_msdos_marketing",
          "ms_survey_microsoft_msdos_marketing",
          "eye_prk_cornea_rk_vision",
          "eye_prk_cornea_rk_vision",
          "eye_prk_cornea_rk_vision",
          "eye_prk_cornea_rk_vision",
          "eye_prk_cornea_rk_vision",
          "eye_prk_cornea_rk_vision",
          "rosicrucian_rosicrucians_amorc_lectorium_crucis",
          "rosicrucian_rosicrucians_amorc_lectorium_crucis",
          "abo_uckers_b4_urn_davewoodcscoloradoedu",
          "gre_test_explanations_economics_ets",
          "gre_test_explanations_economics_ets",
          "gre_test_explanations_economics_ets",
          "gre_test_explanations_economics_ets",
          "gre_test_explanations_economics_ets",
          "gre_test_explanations_economics_ets",
          "gre_test_explanations_economics_ets",
          "xfree86_server_mbytes_dos_ms",
          "xfree86_server_mbytes_dos_ms",
          "mouse_driver_mice_ball_problem",
          "mouse_driver_mice_ball_problem",
          "windows_os2_nt_dos_apps",
          "windows_os2_nt_dos_apps",
          "windows_os2_nt_dos_apps",
          "font_fonts_windows_window_select",
          "openwindows_motif_xview_olit_sun",
          "keycode_key_xtermmap_keymapnonen_definekey",
          "window_widget_colormap_application_event",
          "window_widget_colormap_application_event",
          "image_data_available_ftp_graphics",
          "image_images_data_graphics_format",
          "image_images_data_graphics_format",
          "key_encryption_clipper_chip_keys",
          "key_encryption_clipper_chip_keys",
          "sco_newsgroup_group_newsgroups_liefting",
          "sco_newsgroup_group_newsgroups_liefting",
          "sco_newsgroup_group_newsgroups_liefting",
          "sco_newsgroup_group_newsgroups_liefting",
          "modem_port_irq_serial_fax",
          "memory_error_machine_beeps_simm",
          "pds_nubus_lc_slot_card",
          "pds_nubus_lc_slot_card",
          "fan_cpu_heat_sink_fans",
          "duo_clock_date_bios_battery",
          "duo_clock_date_bios_battery",
          "mhz_clock_cpu_fpu_speed",
          "mhz_clock_cpu_fpu_speed",
          "mhz_clock_cpu_fpu_speed",
          "mhz_clock_cpu_fpu_speed",
          "mhz_clock_cpu_fpu_speed"
         ],
         "marker": {
          "color": "black"
         },
         "mode": "markers",
         "showlegend": false,
         "type": "scatter",
         "x": [
          0.6735890812779861,
          0.6398227982553549,
          0.6969444827014845,
          0.7054418165860521,
          0.6725723019599457,
          0.8477410332814708,
          0.858123330444075,
          0.5562234232743827,
          0.5706247725044863,
          0.5875406671567488,
          0.6964284469570521,
          0.5074208723039848,
          0.7031892095043397,
          0.7973527262920166,
          0.8191998074098086,
          0.6208034035759092,
          0.7624465163724757,
          0.7812955968821655,
          0.8570350223369956,
          0.7790945375759062,
          0.7825389027132447,
          0.5189055508858423,
          0.9603338719384665,
          1.0087764324410835,
          0.9916703232102901,
          0.6148200246509568,
          0.819437488871312,
          0.9092602635230999,
          0.7803510186444178,
          0.5552291100986521,
          0.7490089045527335,
          0.6355489771000478,
          0.8119322477448285,
          0.7210311041507163,
          0.7923280580723049,
          0.9040055368944175,
          0.5771484985090758,
          1.0277665620558658,
          0.7841091196923412,
          0.44389398254778367,
          0.7037760907555481,
          0.9059475273638014,
          0.8723867431918818,
          1.0053887873215996,
          0.6744723576911755,
          0.8460784409168719,
          0.9007292457028865,
          0.9813465249096586,
          0.7429469603948223,
          0.8773613495490651,
          1.0175337381763412,
          0.8747048317879063,
          0.92796481972729,
          0.980078818450974,
          0.8891410613699683,
          0.9415098715664705,
          0.8053324724452928,
          0.9561545856008327,
          0.9084843339500235,
          0.9203319687423677,
          0.928619956886393,
          0.9512403628224262,
          0.9677049321363063,
          0.8076063498539267,
          0.8500083537011602,
          1.019977908076799,
          0.9810230478519418,
          1.0036726661155186,
          1.0319371820029104,
          1.0569107173187373,
          1.0832838813697283,
          0.895228721864832,
          1.0434566565308343,
          1.2414361966822072,
          0.6918161118258069,
          0.7326476360754351,
          0.8125221625814606,
          0.9109520658764728,
          0.6512352846480561,
          0.7724762006141017,
          0.94444305939897,
          1.003859432240096,
          0.645925924154461,
          0.86130784874059,
          0.580668781156223,
          0.8910036415863878,
          0.5348091198833623,
          0.6552992046906381,
          0.9341722692677713,
          0.48162807388126316,
          0.7402036264878649,
          0.7769703808174695,
          0.8278150637546364,
          1.1819882948011273,
          1.0996248129191322,
          0.5552633478621523,
          0.7958347315520111,
          0.894076392011636,
          0.9063215906153538,
          0.7828347281240957,
          0.8692043492937809,
          0.8823707249033339,
          0.5955964416229719,
          0.97380345967108,
          1.301108086759199,
          1.5709696219088316,
          1.5022221760419365
         ],
         "y": [
          -40,
          -93.75,
          -92.1875,
          -47.5,
          -160,
          -69.0234375,
          -12.5,
          -240,
          -250,
          -220,
          -241.25,
          -192.5,
          -320,
          -390,
          -397.5,
          -463.75,
          -462.1875,
          -459.296875,
          -408.75,
          -353.75,
          -316.25,
          -530,
          -358.5498046875,
          -229.0625,
          -65.380859375,
          -600,
          -596.25,
          -592.8125,
          -560,
          -700,
          -696.25,
          -740,
          -692.8125,
          -770,
          -777.5,
          -720.15625,
          -660,
          -588.203125,
          -810,
          -850,
          -860,
          -853.75,
          -817.5,
          -847.1875,
          -972.5,
          -942.5,
          -1010,
          -1021.25,
          -1082.5,
          -1096.25,
          -1040.625,
          -1162.5,
          -1159.375,
          -1179.6875,
          -1290,
          -1270,
          -1320,
          -1283.75,
          -1402.5,
          -1372.5,
          -1350,
          -1371.5625,
          -1305.625,
          -1250,
          -1450,
          -1302.2265625,
          -1490,
          -1486.25,
          -1379.86328125,
          -1201.09375,
          -1076.875,
          -963.125,
          -883.59375,
          -647.40234375,
          -1590,
          -1562.5,
          -1580,
          -1540,
          -1642.5,
          -1653.75,
          -1570,
          -1617.1875,
          -1720,
          -1716.25,
          -1760,
          -1730.625,
          -1802.5,
          -1799.375,
          -1749.0625,
          -1880,
          -1860,
          -1910,
          -1873.75,
          -1784.375,
          -1653.59375,
          -1940,
          -1993.75,
          -1993.4375,
          -1950,
          -2090,
          -2097.5,
          -2108.75,
          -2070,
          -1985.859375,
          -1746.796875,
          -814.8757934570312,
          -201.9622802734375
         ]
        },
        {
         "hoverinfo": "text",
         "hovertext": [
          "sabbath_moses_tablets_commandments_ten",
          "hell_god_eternal_jesus_heaven",
          "hell_god_eternal_jesus_christ",
          "tomb_resurrection_jesus_disciples_empty",
          "jehovah_elohim_lord_mormon_mcconkie",
          "jehovah_elohim_lord_mormon_mcconkie",
          "jehovah_elohim_lord_mormon_mcconkie",
          "tongues_language_speak_tounges_languages",
          "tongues_language_speak_tounges_languages",
          "homosexual_homosexuality_homosexuals_gay_sex",
          "god_atheists_atheism_atheist_existence",
          "islam_quran_islamic_rushdie_muslims",
          "schools_moment_silence_cult_religion",
          "schools_moment_silence_cult_religion",
          "rights_right_capital_foa_slaves",
          "stephanopoulos_president_mr_myers_ms",
          "stephanopoulos_president_mr_myers_ms",
          "blacks_african_white_culture_americans",
          "fbi_gun_batf_koresh_fire",
          "israel_israeli_fbi_they_jews",
          "game_team_games_he_players",
          "him_ups_check_weick_he",
          "revolver_kratz_gun_safety_glock",
          "revolver_kratz_gun_safety_glock",
          "revolver_kratz_gun_safety_glock",
          "greek_greece_turkish_greeks_cyprus",
          "greek_greece_turkish_greeks_cyprus",
          "greek_greece_turkish_greeks_cyprus",
          "wave_bikers_waving_cage_ride",
          "dog_dogs_bike_chase_trained",
          "lock_kryptonite_cable_locks_bike",
          "lock_kryptonite_cable_locks_bike",
          "dealer_saturn_price_car_invoice",
          "odometer_sensor_speedo_mileage_gauge",
          "radar_detector_detectors_ka_traffic",
          "ear_wax_ears_syringe_widex",
          "ear_wax_ears_syringe_widex",
          "ear_wax_ears_syringe_widex",
          "pain_migraine_disease_diet_cancer",
          "medical_schools_surgery_hospital_admissions",
          "drugs_drug_marijuana_cocaine_prozac",
          "drugs_drug_marijuana_cocaine_prozac",
          "cancer_medical_research_center_centers",
          "orbit_mars_launch_probe_mission",
          "moon_space_nasa_station_lunar",
          "hst_reboost_mission_shuttle_orbit",
          "ground_conductor_grounding_neutral_wire",
          "ground_conductor_grounding_neutral_wire",
          "dialing_tone_sweden_phone_germany",
          "amp_audio_condition_asking_stereo",
          "celp_speech_dsp_voice_4800",
          "meter_8060a_fluke_8060_electricians",
          "meter_8060a_fluke_8060_electricians",
          "pom_cds_cd_picture_sale",
          "table_drawer_sale_tables_chairs",
          "1st_wolverine_comics_hulk_art",
          "anania_shirak_orbeli_book_ks",
          "anania_shirak_orbeli_book_ks",
          "contains_tune_dykstra_chorus_chrysler",
          "software_process_level_shuttle_wingert",
          "media_publications_news_spiking_digging",
          "oort_cloud_grbs_gamma_burst",
          "42_tea_question_answer_universe",
          "42_tea_question_answer_universe",
          "needles_acupuncture_needle_syringe_hypodermic",
          "needles_acupuncture_needle_syringe_hypodermic",
          "geeky_news_biscayne_ios_pins",
          "ca_bbs_818_805_408",
          "ites_hello_cheek_hi_yep",
          "ites_hello_cheek_hi_yep",
          "ites_hello_cheek_hi_yep",
          "ites_hello_cheek_hi_yep",
          "ites_hello_cheek_hi_yep",
          "ites_hello_cheek_hi_yep",
          "ites_hello_cheek_hi_yep",
          "stuffit_files_system_disk_macintosh",
          "keyboard_rsi_scanner_typing_pc",
          "midi_sound_driver_blaster_play",
          "midi_sound_driver_blaster_play",
          "windows_os2_nt_apps_memory",
          "icon_icons_click_manager_box",
          "font_fonts_tt_truetype_atm",
          "symbol_error_undefined_libxmulibxmuso_doug",
          "multicolumn_widgets_motif_widget_list",
          "image_data_available_images_ftp",
          "image_jpeg_gif_format_images",
          "xv_24bit_bit_copyright_24",
          "image_images_data_graphics_format",
          "usenet_junk_internet_net_advertising",
          "health_tobacco_cesarean_smokeless_malaria",
          "health_tobacco_cesarean_smokeless_malaria",
          "health_tobacco_cesarean_smokeless_malaria",
          "board_latch_pin_pins_switches",
          "drive_scsi_drives_disk_ide",
          "drive_scsi_card_drives_disk",
          "simms_simm_vram_ram_meg",
          "simms_simm_vram_ram_meg",
          "iivx_610_c610_centris_apple",
          "iivx_610_c610_centris_apple",
          "apple_dock_macs_duo_powerpc",
          "68070_timing_68040_motorola_instruction",
          "68070_timing_68040_motorola_instruction",
          "68070_timing_68040_motorola_instruction",
          "68070_timing_68040_motorola_instruction",
          "68070_timing_68040_motorola_instruction"
         ],
         "marker": {
          "color": "black"
         },
         "mode": "markers",
         "showlegend": false,
         "type": "scatter",
         "x": [
          0.5841499765461772,
          0.47814974006313005,
          0.5700785784255157,
          0.6707717464198747,
          0.6752511267480139,
          0.7896784947567643,
          0.8152265920678171,
          0.8288525020810974,
          0.8857911305336352,
          0.38866410330920187,
          0.37543404698328975,
          0.6630035065423984,
          0.7009698690846597,
          0.835676666806322,
          0.7159779308946294,
          0.3861893138669573,
          0.5814595567194377,
          0.7588951232833198,
          0.49057581492424684,
          0.5333809199498396,
          0.6726456285180579,
          0.7754547218879361,
          0.8454144414612644,
          0.8634113878593517,
          0.9192343931888293,
          0.6810393951346609,
          1.0190888237475628,
          1.1529587520674975,
          0.76057626212666,
          0.8654217377946987,
          0.8921783368110466,
          0.9298168252893635,
          0.714343914252763,
          0.7859129698370807,
          0.788439241574011,
          0.8713868022910609,
          0.9869036752449809,
          1.0279554141824347,
          0.5799173004946012,
          0.7824035001288882,
          0.6392681023820337,
          0.9838403542253659,
          0.680090860007956,
          0.6498376256813831,
          0.6389158007348827,
          0.78246031739271,
          0.7665946929305084,
          0.8651043489415908,
          0.8152624597694021,
          0.656960842764281,
          0.7964746413107883,
          0.8473365628929714,
          0.9907825554383385,
          0.7707871225696036,
          0.8965816355210444,
          0.8920018906204128,
          0.8229706488866355,
          0.8756194513232632,
          0.9326447493983352,
          0.8825625686852787,
          0.9015471339376324,
          0.8241650127529212,
          0.9251530180824012,
          0.9383053792559164,
          0.9600978871085146,
          0.977918270957708,
          0.948506917067767,
          0.9982956505718358,
          0.979781368176538,
          1.012993930968677,
          1.174301476252104,
          1.2281975429895426,
          1.2659372145949352,
          1.3772412966494514,
          1.5241906332758088,
          0.6315148689999468,
          0.7488309250087253,
          0.8479312224828413,
          0.8957107158204491,
          0.5624132953930245,
          0.9411370890257226,
          0.5344082905284301,
          0.7915015989723654,
          0.8406487238481787,
          0.48599945282845847,
          0.624233295208471,
          0.6026456891189838,
          1.0724682156012786,
          0.7183209876506035,
          0.8509810125950213,
          0.983734476496059,
          1.236374259353507,
          0.7540793008759041,
          0.4781616685487101,
          0.5699234802881873,
          0.7167954160616328,
          0.8354481216728935,
          0.8314234390417763,
          0.9340469788232295,
          0.7355312796188281,
          0.9288147104505603,
          0.9977605711171953,
          1.1488941379398157,
          1.5648961478988446,
          1.9911468507049994
         ],
         "y": [
          -20,
          -110,
          -102.5,
          -109.375,
          -140,
          -116.09375,
          -90.546875,
          -167.5,
          -118.26171875,
          -200,
          -260,
          -262.5,
          -290,
          -265.625,
          -327.5,
          -370,
          -362.5,
          -420,
          -480,
          -472.5,
          -479.375,
          -483.59375,
          -487.1484375,
          -447.94921875,
          -400.849609375,
          -537.5,
          -448.02490234375,
          -338.543701171875,
          -607.5,
          -610.625,
          -640,
          -616.40625,
          -707.5,
          -710.625,
          -747.5,
          -786.25,
          -753.203125,
          -706.6015625,
          -870,
          -872.5,
          -900,
          -876.875,
          -920,
          -950,
          -980,
          -983.75,
          -1040,
          -1032.5,
          -1060,
          -1090,
          -1110,
          -1130,
          -1113.125,
          -1170,
          -1173.75,
          -1200,
          -1230,
          -1222.5,
          -1297.5,
          -1327.5,
          -1380,
          -1410,
          -1413.75,
          -1393.125,
          -1403.28125,
          -1354.453125,
          -1457.5,
          -1497.5,
          -1520,
          -1503.125,
          -1441.494140625,
          -1321.2939453125,
          -1199.08447265625,
          -1081.104736328125,
          -982.3492431640625,
          -1570,
          -1597.5,
          -1620,
          -1600,
          -1650,
          -1664.375,
          -1690,
          -1727.5,
          -1767.5,
          -1810,
          -1813.75,
          -1840,
          -1819.6875,
          -1887.5,
          -1917.5,
          -1895.625,
          -1840,
          -1960,
          -2010,
          -2002.5,
          -2030,
          -2011.875,
          -2050,
          -2021.71875,
          -2120,
          -2121.875,
          -2095.9375,
          -2040.8984375,
          -1893.84765625,
          -1354.3617248535156
         ]
        }
       ],
       "layout": {
        "autosize": false,
        "height": 3410,
        "hoverlabel": {
         "bgcolor": "white",
         "font": {
          "family": "Rockwell",
          "size": 16
         }
        },
        "hovermode": "closest",
        "plot_bgcolor": "#ECEFF1",
        "showlegend": false,
        "template": {
         "data": {
          "bar": [
           {
            "error_x": {
             "color": "#2a3f5f"
            },
            "error_y": {
             "color": "#2a3f5f"
            },
            "marker": {
             "line": {
              "color": "white",
              "width": 0.5
             },
             "pattern": {
              "fillmode": "overlay",
              "size": 10,
              "solidity": 0.2
             }
            },
            "type": "bar"
           }
          ],
          "barpolar": [
           {
            "marker": {
             "line": {
              "color": "white",
              "width": 0.5
             },
             "pattern": {
              "fillmode": "overlay",
              "size": 10,
              "solidity": 0.2
             }
            },
            "type": "barpolar"
           }
          ],
          "carpet": [
           {
            "aaxis": {
             "endlinecolor": "#2a3f5f",
             "gridcolor": "#C8D4E3",
             "linecolor": "#C8D4E3",
             "minorgridcolor": "#C8D4E3",
             "startlinecolor": "#2a3f5f"
            },
            "baxis": {
             "endlinecolor": "#2a3f5f",
             "gridcolor": "#C8D4E3",
             "linecolor": "#C8D4E3",
             "minorgridcolor": "#C8D4E3",
             "startlinecolor": "#2a3f5f"
            },
            "type": "carpet"
           }
          ],
          "choropleth": [
           {
            "colorbar": {
             "outlinewidth": 0,
             "ticks": ""
            },
            "type": "choropleth"
           }
          ],
          "contour": [
           {
            "colorbar": {
             "outlinewidth": 0,
             "ticks": ""
            },
            "colorscale": [
             [
              0,
              "#0d0887"
             ],
             [
              0.1111111111111111,
              "#46039f"
             ],
             [
              0.2222222222222222,
              "#7201a8"
             ],
             [
              0.3333333333333333,
              "#9c179e"
             ],
             [
              0.4444444444444444,
              "#bd3786"
             ],
             [
              0.5555555555555556,
              "#d8576b"
             ],
             [
              0.6666666666666666,
              "#ed7953"
             ],
             [
              0.7777777777777778,
              "#fb9f3a"
             ],
             [
              0.8888888888888888,
              "#fdca26"
             ],
             [
              1,
              "#f0f921"
             ]
            ],
            "type": "contour"
           }
          ],
          "contourcarpet": [
           {
            "colorbar": {
             "outlinewidth": 0,
             "ticks": ""
            },
            "type": "contourcarpet"
           }
          ],
          "heatmap": [
           {
            "colorbar": {
             "outlinewidth": 0,
             "ticks": ""
            },
            "colorscale": [
             [
              0,
              "#0d0887"
             ],
             [
              0.1111111111111111,
              "#46039f"
             ],
             [
              0.2222222222222222,
              "#7201a8"
             ],
             [
              0.3333333333333333,
              "#9c179e"
             ],
             [
              0.4444444444444444,
              "#bd3786"
             ],
             [
              0.5555555555555556,
              "#d8576b"
             ],
             [
              0.6666666666666666,
              "#ed7953"
             ],
             [
              0.7777777777777778,
              "#fb9f3a"
             ],
             [
              0.8888888888888888,
              "#fdca26"
             ],
             [
              1,
              "#f0f921"
             ]
            ],
            "type": "heatmap"
           }
          ],
          "heatmapgl": [
           {
            "colorbar": {
             "outlinewidth": 0,
             "ticks": ""
            },
            "colorscale": [
             [
              0,
              "#0d0887"
             ],
             [
              0.1111111111111111,
              "#46039f"
             ],
             [
              0.2222222222222222,
              "#7201a8"
             ],
             [
              0.3333333333333333,
              "#9c179e"
             ],
             [
              0.4444444444444444,
              "#bd3786"
             ],
             [
              0.5555555555555556,
              "#d8576b"
             ],
             [
              0.6666666666666666,
              "#ed7953"
             ],
             [
              0.7777777777777778,
              "#fb9f3a"
             ],
             [
              0.8888888888888888,
              "#fdca26"
             ],
             [
              1,
              "#f0f921"
             ]
            ],
            "type": "heatmapgl"
           }
          ],
          "histogram": [
           {
            "marker": {
             "pattern": {
              "fillmode": "overlay",
              "size": 10,
              "solidity": 0.2
             }
            },
            "type": "histogram"
           }
          ],
          "histogram2d": [
           {
            "colorbar": {
             "outlinewidth": 0,
             "ticks": ""
            },
            "colorscale": [
             [
              0,
              "#0d0887"
             ],
             [
              0.1111111111111111,
              "#46039f"
             ],
             [
              0.2222222222222222,
              "#7201a8"
             ],
             [
              0.3333333333333333,
              "#9c179e"
             ],
             [
              0.4444444444444444,
              "#bd3786"
             ],
             [
              0.5555555555555556,
              "#d8576b"
             ],
             [
              0.6666666666666666,
              "#ed7953"
             ],
             [
              0.7777777777777778,
              "#fb9f3a"
             ],
             [
              0.8888888888888888,
              "#fdca26"
             ],
             [
              1,
              "#f0f921"
             ]
            ],
            "type": "histogram2d"
           }
          ],
          "histogram2dcontour": [
           {
            "colorbar": {
             "outlinewidth": 0,
             "ticks": ""
            },
            "colorscale": [
             [
              0,
              "#0d0887"
             ],
             [
              0.1111111111111111,
              "#46039f"
             ],
             [
              0.2222222222222222,
              "#7201a8"
             ],
             [
              0.3333333333333333,
              "#9c179e"
             ],
             [
              0.4444444444444444,
              "#bd3786"
             ],
             [
              0.5555555555555556,
              "#d8576b"
             ],
             [
              0.6666666666666666,
              "#ed7953"
             ],
             [
              0.7777777777777778,
              "#fb9f3a"
             ],
             [
              0.8888888888888888,
              "#fdca26"
             ],
             [
              1,
              "#f0f921"
             ]
            ],
            "type": "histogram2dcontour"
           }
          ],
          "mesh3d": [
           {
            "colorbar": {
             "outlinewidth": 0,
             "ticks": ""
            },
            "type": "mesh3d"
           }
          ],
          "parcoords": [
           {
            "line": {
             "colorbar": {
              "outlinewidth": 0,
              "ticks": ""
             }
            },
            "type": "parcoords"
           }
          ],
          "pie": [
           {
            "automargin": true,
            "type": "pie"
           }
          ],
          "scatter": [
           {
            "fillpattern": {
             "fillmode": "overlay",
             "size": 10,
             "solidity": 0.2
            },
            "type": "scatter"
           }
          ],
          "scatter3d": [
           {
            "line": {
             "colorbar": {
              "outlinewidth": 0,
              "ticks": ""
             }
            },
            "marker": {
             "colorbar": {
              "outlinewidth": 0,
              "ticks": ""
             }
            },
            "type": "scatter3d"
           }
          ],
          "scattercarpet": [
           {
            "marker": {
             "colorbar": {
              "outlinewidth": 0,
              "ticks": ""
             }
            },
            "type": "scattercarpet"
           }
          ],
          "scattergeo": [
           {
            "marker": {
             "colorbar": {
              "outlinewidth": 0,
              "ticks": ""
             }
            },
            "type": "scattergeo"
           }
          ],
          "scattergl": [
           {
            "marker": {
             "colorbar": {
              "outlinewidth": 0,
              "ticks": ""
             }
            },
            "type": "scattergl"
           }
          ],
          "scattermapbox": [
           {
            "marker": {
             "colorbar": {
              "outlinewidth": 0,
              "ticks": ""
             }
            },
            "type": "scattermapbox"
           }
          ],
          "scatterpolar": [
           {
            "marker": {
             "colorbar": {
              "outlinewidth": 0,
              "ticks": ""
             }
            },
            "type": "scatterpolar"
           }
          ],
          "scatterpolargl": [
           {
            "marker": {
             "colorbar": {
              "outlinewidth": 0,
              "ticks": ""
             }
            },
            "type": "scatterpolargl"
           }
          ],
          "scatterternary": [
           {
            "marker": {
             "colorbar": {
              "outlinewidth": 0,
              "ticks": ""
             }
            },
            "type": "scatterternary"
           }
          ],
          "surface": [
           {
            "colorbar": {
             "outlinewidth": 0,
             "ticks": ""
            },
            "colorscale": [
             [
              0,
              "#0d0887"
             ],
             [
              0.1111111111111111,
              "#46039f"
             ],
             [
              0.2222222222222222,
              "#7201a8"
             ],
             [
              0.3333333333333333,
              "#9c179e"
             ],
             [
              0.4444444444444444,
              "#bd3786"
             ],
             [
              0.5555555555555556,
              "#d8576b"
             ],
             [
              0.6666666666666666,
              "#ed7953"
             ],
             [
              0.7777777777777778,
              "#fb9f3a"
             ],
             [
              0.8888888888888888,
              "#fdca26"
             ],
             [
              1,
              "#f0f921"
             ]
            ],
            "type": "surface"
           }
          ],
          "table": [
           {
            "cells": {
             "fill": {
              "color": "#EBF0F8"
             },
             "line": {
              "color": "white"
             }
            },
            "header": {
             "fill": {
              "color": "#C8D4E3"
             },
             "line": {
              "color": "white"
             }
            },
            "type": "table"
           }
          ]
         },
         "layout": {
          "annotationdefaults": {
           "arrowcolor": "#2a3f5f",
           "arrowhead": 0,
           "arrowwidth": 1
          },
          "autotypenumbers": "strict",
          "coloraxis": {
           "colorbar": {
            "outlinewidth": 0,
            "ticks": ""
           }
          },
          "colorscale": {
           "diverging": [
            [
             0,
             "#8e0152"
            ],
            [
             0.1,
             "#c51b7d"
            ],
            [
             0.2,
             "#de77ae"
            ],
            [
             0.3,
             "#f1b6da"
            ],
            [
             0.4,
             "#fde0ef"
            ],
            [
             0.5,
             "#f7f7f7"
            ],
            [
             0.6,
             "#e6f5d0"
            ],
            [
             0.7,
             "#b8e186"
            ],
            [
             0.8,
             "#7fbc41"
            ],
            [
             0.9,
             "#4d9221"
            ],
            [
             1,
             "#276419"
            ]
           ],
           "sequential": [
            [
             0,
             "#0d0887"
            ],
            [
             0.1111111111111111,
             "#46039f"
            ],
            [
             0.2222222222222222,
             "#7201a8"
            ],
            [
             0.3333333333333333,
             "#9c179e"
            ],
            [
             0.4444444444444444,
             "#bd3786"
            ],
            [
             0.5555555555555556,
             "#d8576b"
            ],
            [
             0.6666666666666666,
             "#ed7953"
            ],
            [
             0.7777777777777778,
             "#fb9f3a"
            ],
            [
             0.8888888888888888,
             "#fdca26"
            ],
            [
             1,
             "#f0f921"
            ]
           ],
           "sequentialminus": [
            [
             0,
             "#0d0887"
            ],
            [
             0.1111111111111111,
             "#46039f"
            ],
            [
             0.2222222222222222,
             "#7201a8"
            ],
            [
             0.3333333333333333,
             "#9c179e"
            ],
            [
             0.4444444444444444,
             "#bd3786"
            ],
            [
             0.5555555555555556,
             "#d8576b"
            ],
            [
             0.6666666666666666,
             "#ed7953"
            ],
            [
             0.7777777777777778,
             "#fb9f3a"
            ],
            [
             0.8888888888888888,
             "#fdca26"
            ],
            [
             1,
             "#f0f921"
            ]
           ]
          },
          "colorway": [
           "#636efa",
           "#EF553B",
           "#00cc96",
           "#ab63fa",
           "#FFA15A",
           "#19d3f3",
           "#FF6692",
           "#B6E880",
           "#FF97FF",
           "#FECB52"
          ],
          "font": {
           "color": "#2a3f5f"
          },
          "geo": {
           "bgcolor": "white",
           "lakecolor": "white",
           "landcolor": "white",
           "showlakes": true,
           "showland": true,
           "subunitcolor": "#C8D4E3"
          },
          "hoverlabel": {
           "align": "left"
          },
          "hovermode": "closest",
          "mapbox": {
           "style": "light"
          },
          "paper_bgcolor": "white",
          "plot_bgcolor": "white",
          "polar": {
           "angularaxis": {
            "gridcolor": "#EBF0F8",
            "linecolor": "#EBF0F8",
            "ticks": ""
           },
           "bgcolor": "white",
           "radialaxis": {
            "gridcolor": "#EBF0F8",
            "linecolor": "#EBF0F8",
            "ticks": ""
           }
          },
          "scene": {
           "xaxis": {
            "backgroundcolor": "white",
            "gridcolor": "#DFE8F3",
            "gridwidth": 2,
            "linecolor": "#EBF0F8",
            "showbackground": true,
            "ticks": "",
            "zerolinecolor": "#EBF0F8"
           },
           "yaxis": {
            "backgroundcolor": "white",
            "gridcolor": "#DFE8F3",
            "gridwidth": 2,
            "linecolor": "#EBF0F8",
            "showbackground": true,
            "ticks": "",
            "zerolinecolor": "#EBF0F8"
           },
           "zaxis": {
            "backgroundcolor": "white",
            "gridcolor": "#DFE8F3",
            "gridwidth": 2,
            "linecolor": "#EBF0F8",
            "showbackground": true,
            "ticks": "",
            "zerolinecolor": "#EBF0F8"
           }
          },
          "shapedefaults": {
           "line": {
            "color": "#2a3f5f"
           }
          },
          "ternary": {
           "aaxis": {
            "gridcolor": "#DFE8F3",
            "linecolor": "#A2B1C6",
            "ticks": ""
           },
           "baxis": {
            "gridcolor": "#DFE8F3",
            "linecolor": "#A2B1C6",
            "ticks": ""
           },
           "bgcolor": "white",
           "caxis": {
            "gridcolor": "#DFE8F3",
            "linecolor": "#A2B1C6",
            "ticks": ""
           }
          },
          "title": {
           "x": 0.05
          },
          "xaxis": {
           "automargin": true,
           "gridcolor": "#EBF0F8",
           "linecolor": "#EBF0F8",
           "ticks": "",
           "title": {
            "standoff": 15
           },
           "zerolinecolor": "#EBF0F8",
           "zerolinewidth": 2
          },
          "yaxis": {
           "automargin": true,
           "gridcolor": "#EBF0F8",
           "linecolor": "#EBF0F8",
           "ticks": "",
           "title": {
            "standoff": 15
           },
           "zerolinecolor": "#EBF0F8",
           "zerolinewidth": 2
          }
         }
        },
        "title": {
         "font": {
          "color": "Black",
          "size": 22
         },
         "text": "<b>Hierarchical Clustering</b>",
         "x": 0.5,
         "xanchor": "center",
         "yanchor": "top"
        },
        "width": 1000,
        "xaxis": {
         "mirror": "allticks",
         "rangemode": "tozero",
         "showgrid": false,
         "showline": true,
         "showticklabels": true,
         "ticks": "outside",
         "type": "linear",
         "zeroline": false
        },
        "yaxis": {
         "mirror": "allticks",
         "range": [
          -2140,
          0
         ],
         "rangemode": "tozero",
         "showgrid": false,
         "showline": true,
         "showticklabels": true,
         "tickmode": "array",
         "ticks": "outside",
         "ticktext": [
          "161_easter_resurrection_pagan",
          "194_law_jesus_sabbath",
          "160_sabbath_moses_tablets",
          "167_sin_hate_love",
          "111_aaron_baptism_sin",
          "53_mary_her_she",
          "91_marriage_married_marry",
          "61_books_scripture_canon",
          "199_faith_zane_2ti",
          "98_prophecies_prophecy_reve...",
          "43_god_christ_faith",
          "47_hell_eternal_god",
          "122_tomb_resurrection_jesus",
          "75_ra_satan_god",
          "66_jehovah_elohim_lord",
          "139_pope_church_schism",
          "150_god_father_son",
          "175_tongues_language_speak",
          "28_kinsey_sex_men",
          "41_gay_homosexual_homosexuals",
          "33_homosexuality_homosexual...",
          "17_moral_morality_objective",
          "57_science_methodology_scie...",
          "131_life_you_do",
          "134_truth_absolute_bible",
          "14_atheists_atheism_god",
          "72_existence_god_exist",
          "24_islam_quran_islamic",
          "172_religion_justifiable_war",
          "81_schools_moment_silence",
          "147_freedom_motto_speech",
          "80_government_libertarians_...",
          "38_militia_amendment_arms",
          "149_rights_right_capital",
          "51_clinton_panicking_bush",
          "31_tax_administration_senior",
          "29_serbs_muslims_stephanopo...",
          "135_myers_stephanopoulos_pr...",
          "71_kuwait_iraq_iran",
          "102_phd_environmental_meteo...",
          "157_abortion_abortions_women",
          "95_penalty_cruel_death",
          "195_blacks_african_white",
          "188_jim_context_articles",
          "77_trial_cooper_spence",
          "22_ted_post_you",
          "4_israel_israeli_jews",
          "3_fbi_batf_koresh",
          "10_gun_guns_firearms",
          "0_game_team_games",
          "118_him_ups_check",
          "155_revolver_kratz_gun",
          "49_were_they_armenians",
          "18_armenian_turkish_armenians",
          "62_greek_greece_turkish",
          "209_8177_techniciandr_dod",
          "196_dod_denizens_doom",
          "116_helmet_liner_foam",
          "186_motorcycles_bikes_rode",
          "82_countersteering_bike_mot...",
          "127_passenger_bike_her",
          "142_wave_bikers_waving",
          "73_dog_dogs_bike",
          "125_shaft_wheelie_wheelies",
          "145_lock_kryptonite_cable",
          "99_insurance_health_private",
          "58_insurance_geico_car",
          "63_miles_condition_toyota",
          "69_clutch_shift_gear",
          "11_bike_tires_tire",
          "7_car_cars_mustang",
          "97_dealer_saturn_price",
          "109_odometer_sensor_speedo",
          "78_cop_ticket_driving",
          "89_lane_car_behind",
          "46_radar_detector_detectors",
          "76_oil_drain_car",
          "42_diesel_diesels_fuel",
          "48_paint_wax_plastic",
          "177_ear_wax_ears",
          "205_meat_carcinogenic_smoke",
          "30_msg_food_chinese",
          "176_crohns_inflammation_col...",
          "165_kidney_stones_b6",
          "39_candida_yeast_infection",
          "163_lyme_candida_quack",
          "101_doctor_gr_medicine",
          "20_pain_migraine_disease",
          "138_medical_schools_surgery",
          "121_prozac_drugs_haldol",
          "60_drugs_drug_marijuana",
          "206_cancer_burzynskis_a10",
          "112_cancer_medical_center",
          "143_space_spaceship_explora...",
          "96_probe_spacecraft_mars",
          "50_launch_km_orbit",
          "40_sky_advertising_billboard",
          "55_space_station_nasa",
          "52_moon_lunar_prize",
          "59_hst_reboost_mission",
          "207_boards_solder_mask",
          "123_uv_leds_blue",
          "212_voltage_generator_current",
          "202_phone_onhook_tip",
          "184_ground_grounding_conduc...",
          "113_dial_number_phone",
          "148_dialing_tone_sweden",
          "146_ham_interference_radio",
          "67_antenna_design_cable",
          "9_amp_audio_condition",
          "151_sampling_oversampling_f...",
          "106_celp_speech_dsp",
          "133_scope_scopes_oscilloscope",
          "201_meter_8060a_fluke",
          "130_lens_camera_nikon",
          "64_hotel_voucher_package",
          "25_games_joystick_sega",
          "37_pom_cds_cd",
          "187_table_drawer_sale",
          "211_horses_ed_hardcover",
          "103_1st_wolverine_comics",
          "162_chemistry_paperback_book",
          "124_scrolls_books_qumran",
          "193_anania_shirak_orbeli",
          "144_cooling_water_steam",
          "190_plutonium_nuclear_clancy",
          "100_smiley_godless_nickname",
          "208_moscow_aviation_russian",
          "156_professors_university_s...",
          "173_bill_s414_bills",
          "197_contains_tune_dykstra",
          "170_ms_survey_microsoft",
          "107_hacker_computer_hackers",
          "200_software_process_level",
          "83_kirlian_photography_leaf",
          "168_tempest_monitor_equipment",
          "154_jacket_clothing_pants",
          "182_wasps_centipedes_chiggers",
          "213_media_publications_news",
          "140_eye_prk_cornea",
          "21_den_polygon_points",
          "70_oort_cloud_grbs",
          "169_42_tea_question",
          "153_needles_acupuncture_nee...",
          "174_rosicrucian_rosicrucian...",
          "166_quoting_article_amorc",
          "159_geeky_news_biscayne",
          "108_maxaxaxaxaxaxaxaxaxaxax...",
          "129_abo_uckers_b4",
          "87_deleted_stuff_hurts",
          "203_ca_bbs_818",
          "185_gre_test_explanations",
          "2_ites_hello_cheek",
          "115_ghostscript_postscript_...",
          "179_cview_temp_files",
          "132_dos_cluster_doubledisk",
          "44_copy_protection_program",
          "141_stuffit_files_system",
          "36_xfree86_server_mbytes",
          "32_paradox_windows_borland",
          "74_keyboard_rsi_scanner",
          "56_mouse_driver_mice",
          "105_midi_sound_driver",
          "210_sas_windows_nt",
          "35_windows_os2_nt",
          "54_memory_windows_emm386",
          "158_desktop_program_uninstall",
          "204_icon_icons_click",
          "136_font_fonts_windows",
          "86_fonts_font_tt",
          "128_keycode_key_xtermmap",
          "137_openwindows_motif_xview",
          "79_server_00_xdm",
          "34_symbol_error_undefined",
          "181_memory_shared_server",
          "45_colormap_gc_window",
          "15_window_widget_application",
          "192_multicolumn_widgets_motif",
          "16_3d_graphics_conference",
          "104_graphics_ray_3d",
          "90_data_ftp_available",
          "171_image_processing_analysis",
          "13_image_jpeg_gif",
          "178_24bit_xv_bit",
          "93_xv_copyright_donation",
          "152_agrep_pgp_code",
          "68_entry_oname_file",
          "189_anonymous_anonymity_pri...",
          "1_key_clipper_chip",
          "85_usenet_junk_internet",
          "117_sco_newsgroup_group",
          "110_lyme_votes_newsgroup",
          "19_health_tobacco_cesarean",
          "26_modem_fax_modems",
          "27_modem_port_irq",
          "126_connector_board_fuse",
          "183_board_latch_pin",
          "119_tape_backup_drive",
          "12_printer_print_hp",
          "6_card_monitor_video",
          "8_ram_sale_os",
          "5_drive_scsi_drives",
          "164_memory_error_machine",
          "23_simms_simm_vram",
          "120_pds_nubus_lc",
          "191_iivx_610_c610",
          "92_mhz_bus_486dx250",
          "88_mhz_clock_fpu",
          "84_fan_cpu_heat",
          "114_monitor_off_turn",
          "65_battery_batteries_concrete",
          "94_duo_clock_date",
          "180_apple_dock_macs",
          "198_68070_timing_68040"
         ],
         "tickvals": [
          -5,
          -15,
          -25,
          -35,
          -45,
          -55,
          -65,
          -75,
          -85,
          -95,
          -105,
          -115,
          -125,
          -135,
          -145,
          -155,
          -165,
          -175,
          -185,
          -195,
          -205,
          -215,
          -225,
          -235,
          -245,
          -255,
          -265,
          -275,
          -285,
          -295,
          -305,
          -315,
          -325,
          -335,
          -345,
          -355,
          -365,
          -375,
          -385,
          -395,
          -405,
          -415,
          -425,
          -435,
          -445,
          -455,
          -465,
          -475,
          -485,
          -495,
          -505,
          -515,
          -525,
          -535,
          -545,
          -555,
          -565,
          -575,
          -585,
          -595,
          -605,
          -615,
          -625,
          -635,
          -645,
          -655,
          -665,
          -675,
          -685,
          -695,
          -705,
          -715,
          -725,
          -735,
          -745,
          -755,
          -765,
          -775,
          -785,
          -795,
          -805,
          -815,
          -825,
          -835,
          -845,
          -855,
          -865,
          -875,
          -885,
          -895,
          -905,
          -915,
          -925,
          -935,
          -945,
          -955,
          -965,
          -975,
          -985,
          -995,
          -1005,
          -1015,
          -1025,
          -1035,
          -1045,
          -1055,
          -1065,
          -1075,
          -1085,
          -1095,
          -1105,
          -1115,
          -1125,
          -1135,
          -1145,
          -1155,
          -1165,
          -1175,
          -1185,
          -1195,
          -1205,
          -1215,
          -1225,
          -1235,
          -1245,
          -1255,
          -1265,
          -1275,
          -1285,
          -1295,
          -1305,
          -1315,
          -1325,
          -1335,
          -1345,
          -1355,
          -1365,
          -1375,
          -1385,
          -1395,
          -1405,
          -1415,
          -1425,
          -1435,
          -1445,
          -1455,
          -1465,
          -1475,
          -1485,
          -1495,
          -1505,
          -1515,
          -1525,
          -1535,
          -1545,
          -1555,
          -1565,
          -1575,
          -1585,
          -1595,
          -1605,
          -1615,
          -1625,
          -1635,
          -1645,
          -1655,
          -1665,
          -1675,
          -1685,
          -1695,
          -1705,
          -1715,
          -1725,
          -1735,
          -1745,
          -1755,
          -1765,
          -1775,
          -1785,
          -1795,
          -1805,
          -1815,
          -1825,
          -1835,
          -1845,
          -1855,
          -1865,
          -1875,
          -1885,
          -1895,
          -1905,
          -1915,
          -1925,
          -1935,
          -1945,
          -1955,
          -1965,
          -1975,
          -1985,
          -1995,
          -2005,
          -2015,
          -2025,
          -2035,
          -2045,
          -2055,
          -2065,
          -2075,
          -2085,
          -2095,
          -2105,
          -2115,
          -2125,
          -2135
         ],
         "type": "linear",
         "zeroline": false
        }
       }
      }
     },
     "metadata": {},
     "output_type": "display_data"
    }
   ],
   "source": [
    "\n",
    "topic_model = BERTopic(verbose=True)\n",
    "topics, probs = topic_model.fit_transform(docs)\n",
    "\n",
    "linkage_function = lambda x: sch.linkage(x, 'single', optimal_ordering=True)\n",
    "hierarchical_topics = topic_model.hierarchical_topics(\n",
    "    docs, linkage_function=linkage_function)\n",
    "\n",
    "fig = topic_model.visualize_hierarchy(hierarchical_topics=hierarchical_topics)\n",
    "\n",
    "fig.show()"
   ]
  },
  {
   "cell_type": "markdown",
   "metadata": {},
   "source": [
    "## SciPy Hierarchy"
   ]
  },
  {
   "cell_type": "code",
   "execution_count": 10,
   "metadata": {},
   "outputs": [
    {
     "name": "stdout",
     "output_type": "stream",
     "text": [
      "Labels are the same!\n"
     ]
    }
   ],
   "source": [
    "# Select topics based on top_n and topics args\n",
    "freq_df = topic_model.get_topic_freq()\n",
    "freq_df = freq_df.loc[freq_df.Topic != -1, :]\n",
    "topics = sorted(freq_df.Topic.to_list())\n",
    "\n",
    "# labels and linkage function as in _hierarchy\n",
    "new_labels = [[[str(topics[int(x)]), None]] +\n",
    "              topic_model.get_topic(topics[int(x)])\n",
    "              for x in range(len(topics))]\n",
    "new_labels = [\"_\".join([label[0] for label in labels[:4]]) for labels in new_labels]\n",
    "new_labels = [label if len(label) < 30 else label[:27] + \"...\" for label in new_labels]\n",
    "\n",
    "distance_function = lambda X: 1 - cosine_similarity(X)\n",
    "linkage_function = lambda X: hierarchy.linkage(\n",
    "    X, 'ward', optimal_ordering=True)\n",
    "\n",
    "# scipy linkage\n",
    "embeddings = topic_model.c_tf_idf_[1:]\n",
    "d = distance_function(embeddings)\n",
    "np.fill_diagonal(d, 0)\n",
    "d = squareform(d)\n",
    "Z = linkage_function(d)\n",
    "leaves = hierarchy.leaves_list(Z)\n",
    "scipy_labels = [new_labels[i] for i in leaves]\n",
    "\n",
    "# assert they are the same\n",
    "bertopic_labels = [label for label in fig.layout[\"yaxis\"][\"ticktext\"]]\n",
    "assert scipy_labels == bertopic_labels\n",
    "print(\"Labels are the same!\")"
   ]
  },
  {
   "cell_type": "code",
   "execution_count": null,
   "metadata": {},
   "outputs": [],
   "source": []
  },
  {
   "cell_type": "code",
   "execution_count": null,
   "metadata": {},
   "outputs": [],
   "source": []
  }
 ],
 "metadata": {
  "kernelspec": {
   "display_name": "bertopic",
   "language": "python",
   "name": "python3"
  },
  "language_info": {
   "codemirror_mode": {
    "name": "ipython",
    "version": 3
   },
   "file_extension": ".py",
   "mimetype": "text/x-python",
   "name": "python",
   "nbconvert_exporter": "python",
   "pygments_lexer": "ipython3",
   "version": "3.9.16"
  },
  "orig_nbformat": 4
 },
 "nbformat": 4,
 "nbformat_minor": 2
}
